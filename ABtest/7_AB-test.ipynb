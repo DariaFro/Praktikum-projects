{
 "cells": [
  {
   "cell_type": "markdown",
   "metadata": {},
   "source": [
    "# Гипотезы и А/В-тест для интернет-магазина"
   ]
  },
  {
   "cell_type": "markdown",
   "metadata": {},
   "source": [
    "В крупном интернет-магазине появился запрос на аналитику. Отделы маркетинга и аналитики подготовили список гипотез для увеличения выручки. Нужно приоритизировать гипотезы и проанализировать результаты уже проведенного А/В теста"
   ]
  },
  {
   "cell_type": "markdown",
   "metadata": {},
   "source": [
    "###### Цель работы"
   ]
  },
  {
   "cell_type": "markdown",
   "metadata": {},
   "source": [
    "1. Приоретизировать гипотезы\n",
    "2. Проанализировать результат А/В теста и вынести решение относительно его продолжения "
   ]
  },
  {
   "cell_type": "markdown",
   "metadata": {},
   "source": [
    "###### План работы"
   ]
  },
  {
   "cell_type": "markdown",
   "metadata": {},
   "source": [
    "1. Общая информация\n",
    "2. Предобработка данных\n",
    "3. Приоритезация гипотез\n",
    "4. Анализ А/В теста: \n",
    " - Создание сводной таблицы с кумулятивными показателями\n",
    " - Визуализация ключевых метрик\n",
    " - Определение аномалий\n",
    " - Сравнение статистической значимости по сырым и отфильтрованным данным \n",
    " - Вывод\n",
    "5. Выводы по проекту"
   ]
  },
  {
   "cell_type": "markdown",
   "metadata": {},
   "source": [
    "## Общая информация"
   ]
  },
  {
   "cell_type": "code",
   "execution_count": 1,
   "metadata": {},
   "outputs": [],
   "source": [
    "#импортируем все необходимые библиотеки \n",
    "import pandas as pd\n",
    "from IPython.display import display\n",
    "import matplotlib.pyplot as plt \n",
    "import scipy.stats as stats\n",
    "import numpy as np\n",
    "import seaborn as sns\n",
    "\n",
    "import warnings\n",
    "warnings.filterwarnings('ignore')"
   ]
  },
  {
   "cell_type": "code",
   "execution_count": 2,
   "metadata": {},
   "outputs": [
    {
     "data": {
      "text/html": [
       "<div>\n",
       "<style scoped>\n",
       "    .dataframe tbody tr th:only-of-type {\n",
       "        vertical-align: middle;\n",
       "    }\n",
       "\n",
       "    .dataframe tbody tr th {\n",
       "        vertical-align: top;\n",
       "    }\n",
       "\n",
       "    .dataframe thead th {\n",
       "        text-align: right;\n",
       "    }\n",
       "</style>\n",
       "<table border=\"1\" class=\"dataframe\">\n",
       "  <thead>\n",
       "    <tr style=\"text-align: right;\">\n",
       "      <th></th>\n",
       "      <th>Hypothesis</th>\n",
       "      <th>Reach</th>\n",
       "      <th>Impact</th>\n",
       "      <th>Confidence</th>\n",
       "      <th>Efforts</th>\n",
       "    </tr>\n",
       "  </thead>\n",
       "  <tbody>\n",
       "    <tr>\n",
       "      <th>0</th>\n",
       "      <td>Добавить два новых канала привлечения трафика,...</td>\n",
       "      <td>3</td>\n",
       "      <td>10</td>\n",
       "      <td>8</td>\n",
       "      <td>6</td>\n",
       "    </tr>\n",
       "    <tr>\n",
       "      <th>1</th>\n",
       "      <td>Запустить собственную службу доставки, что сок...</td>\n",
       "      <td>2</td>\n",
       "      <td>5</td>\n",
       "      <td>4</td>\n",
       "      <td>10</td>\n",
       "    </tr>\n",
       "    <tr>\n",
       "      <th>2</th>\n",
       "      <td>Добавить блоки рекомендаций товаров на сайт ин...</td>\n",
       "      <td>8</td>\n",
       "      <td>3</td>\n",
       "      <td>7</td>\n",
       "      <td>3</td>\n",
       "    </tr>\n",
       "    <tr>\n",
       "      <th>3</th>\n",
       "      <td>Изменить структура категорий, что увеличит кон...</td>\n",
       "      <td>8</td>\n",
       "      <td>3</td>\n",
       "      <td>3</td>\n",
       "      <td>8</td>\n",
       "    </tr>\n",
       "    <tr>\n",
       "      <th>4</th>\n",
       "      <td>Изменить цвет фона главной страницы, чтобы уве...</td>\n",
       "      <td>3</td>\n",
       "      <td>1</td>\n",
       "      <td>1</td>\n",
       "      <td>1</td>\n",
       "    </tr>\n",
       "    <tr>\n",
       "      <th>5</th>\n",
       "      <td>Добавить страницу отзывов клиентов о магазине,...</td>\n",
       "      <td>3</td>\n",
       "      <td>2</td>\n",
       "      <td>2</td>\n",
       "      <td>3</td>\n",
       "    </tr>\n",
       "    <tr>\n",
       "      <th>6</th>\n",
       "      <td>Показать на главной странице баннеры с актуаль...</td>\n",
       "      <td>5</td>\n",
       "      <td>3</td>\n",
       "      <td>8</td>\n",
       "      <td>3</td>\n",
       "    </tr>\n",
       "    <tr>\n",
       "      <th>7</th>\n",
       "      <td>Добавить форму подписки на все основные страни...</td>\n",
       "      <td>10</td>\n",
       "      <td>7</td>\n",
       "      <td>8</td>\n",
       "      <td>5</td>\n",
       "    </tr>\n",
       "    <tr>\n",
       "      <th>8</th>\n",
       "      <td>Запустить акцию, дающую скидку на товар в день...</td>\n",
       "      <td>1</td>\n",
       "      <td>9</td>\n",
       "      <td>9</td>\n",
       "      <td>5</td>\n",
       "    </tr>\n",
       "  </tbody>\n",
       "</table>\n",
       "</div>"
      ],
      "text/plain": [
       "                                          Hypothesis  Reach  Impact  \\\n",
       "0  Добавить два новых канала привлечения трафика,...      3      10   \n",
       "1  Запустить собственную службу доставки, что сок...      2       5   \n",
       "2  Добавить блоки рекомендаций товаров на сайт ин...      8       3   \n",
       "3  Изменить структура категорий, что увеличит кон...      8       3   \n",
       "4  Изменить цвет фона главной страницы, чтобы уве...      3       1   \n",
       "5  Добавить страницу отзывов клиентов о магазине,...      3       2   \n",
       "6  Показать на главной странице баннеры с актуаль...      5       3   \n",
       "7  Добавить форму подписки на все основные страни...     10       7   \n",
       "8  Запустить акцию, дающую скидку на товар в день...      1       9   \n",
       "\n",
       "   Confidence  Efforts  \n",
       "0           8        6  \n",
       "1           4       10  \n",
       "2           7        3  \n",
       "3           3        8  \n",
       "4           1        1  \n",
       "5           2        3  \n",
       "6           8        3  \n",
       "7           8        5  \n",
       "8           9        5  "
      ]
     },
     "metadata": {},
     "output_type": "display_data"
    },
    {
     "name": "stdout",
     "output_type": "stream",
     "text": [
      "<class 'pandas.core.frame.DataFrame'>\n",
      "RangeIndex: 9 entries, 0 to 8\n",
      "Data columns (total 5 columns):\n",
      " #   Column      Non-Null Count  Dtype \n",
      "---  ------      --------------  ----- \n",
      " 0   Hypothesis  9 non-null      object\n",
      " 1   Reach       9 non-null      int64 \n",
      " 2   Impact      9 non-null      int64 \n",
      " 3   Confidence  9 non-null      int64 \n",
      " 4   Efforts     9 non-null      int64 \n",
      "dtypes: int64(4), object(1)\n",
      "memory usage: 488.0+ bytes\n"
     ]
    },
    {
     "data": {
      "text/plain": [
       "None"
      ]
     },
     "metadata": {},
     "output_type": "display_data"
    },
    {
     "data": {
      "text/html": [
       "<div>\n",
       "<style scoped>\n",
       "    .dataframe tbody tr th:only-of-type {\n",
       "        vertical-align: middle;\n",
       "    }\n",
       "\n",
       "    .dataframe tbody tr th {\n",
       "        vertical-align: top;\n",
       "    }\n",
       "\n",
       "    .dataframe thead th {\n",
       "        text-align: right;\n",
       "    }\n",
       "</style>\n",
       "<table border=\"1\" class=\"dataframe\">\n",
       "  <thead>\n",
       "    <tr style=\"text-align: right;\">\n",
       "      <th></th>\n",
       "      <th>date</th>\n",
       "      <th>group</th>\n",
       "      <th>visitors</th>\n",
       "    </tr>\n",
       "  </thead>\n",
       "  <tbody>\n",
       "    <tr>\n",
       "      <th>0</th>\n",
       "      <td>2019-08-01</td>\n",
       "      <td>A</td>\n",
       "      <td>719</td>\n",
       "    </tr>\n",
       "    <tr>\n",
       "      <th>1</th>\n",
       "      <td>2019-08-02</td>\n",
       "      <td>A</td>\n",
       "      <td>619</td>\n",
       "    </tr>\n",
       "    <tr>\n",
       "      <th>2</th>\n",
       "      <td>2019-08-03</td>\n",
       "      <td>A</td>\n",
       "      <td>507</td>\n",
       "    </tr>\n",
       "    <tr>\n",
       "      <th>3</th>\n",
       "      <td>2019-08-04</td>\n",
       "      <td>A</td>\n",
       "      <td>717</td>\n",
       "    </tr>\n",
       "    <tr>\n",
       "      <th>4</th>\n",
       "      <td>2019-08-05</td>\n",
       "      <td>A</td>\n",
       "      <td>756</td>\n",
       "    </tr>\n",
       "  </tbody>\n",
       "</table>\n",
       "</div>"
      ],
      "text/plain": [
       "         date group  visitors\n",
       "0  2019-08-01     A       719\n",
       "1  2019-08-02     A       619\n",
       "2  2019-08-03     A       507\n",
       "3  2019-08-04     A       717\n",
       "4  2019-08-05     A       756"
      ]
     },
     "metadata": {},
     "output_type": "display_data"
    },
    {
     "name": "stdout",
     "output_type": "stream",
     "text": [
      "<class 'pandas.core.frame.DataFrame'>\n",
      "RangeIndex: 62 entries, 0 to 61\n",
      "Data columns (total 3 columns):\n",
      " #   Column    Non-Null Count  Dtype \n",
      "---  ------    --------------  ----- \n",
      " 0   date      62 non-null     object\n",
      " 1   group     62 non-null     object\n",
      " 2   visitors  62 non-null     int64 \n",
      "dtypes: int64(1), object(2)\n",
      "memory usage: 1.6+ KB\n"
     ]
    },
    {
     "data": {
      "text/plain": [
       "None"
      ]
     },
     "metadata": {},
     "output_type": "display_data"
    },
    {
     "data": {
      "text/html": [
       "<div>\n",
       "<style scoped>\n",
       "    .dataframe tbody tr th:only-of-type {\n",
       "        vertical-align: middle;\n",
       "    }\n",
       "\n",
       "    .dataframe tbody tr th {\n",
       "        vertical-align: top;\n",
       "    }\n",
       "\n",
       "    .dataframe thead th {\n",
       "        text-align: right;\n",
       "    }\n",
       "</style>\n",
       "<table border=\"1\" class=\"dataframe\">\n",
       "  <thead>\n",
       "    <tr style=\"text-align: right;\">\n",
       "      <th></th>\n",
       "      <th>transactionId</th>\n",
       "      <th>visitorId</th>\n",
       "      <th>date</th>\n",
       "      <th>revenue</th>\n",
       "      <th>group</th>\n",
       "    </tr>\n",
       "  </thead>\n",
       "  <tbody>\n",
       "    <tr>\n",
       "      <th>0</th>\n",
       "      <td>3667963787</td>\n",
       "      <td>3312258926</td>\n",
       "      <td>2019-08-15</td>\n",
       "      <td>1650</td>\n",
       "      <td>B</td>\n",
       "    </tr>\n",
       "    <tr>\n",
       "      <th>1</th>\n",
       "      <td>2804400009</td>\n",
       "      <td>3642806036</td>\n",
       "      <td>2019-08-15</td>\n",
       "      <td>730</td>\n",
       "      <td>B</td>\n",
       "    </tr>\n",
       "    <tr>\n",
       "      <th>2</th>\n",
       "      <td>2961555356</td>\n",
       "      <td>4069496402</td>\n",
       "      <td>2019-08-15</td>\n",
       "      <td>400</td>\n",
       "      <td>A</td>\n",
       "    </tr>\n",
       "    <tr>\n",
       "      <th>3</th>\n",
       "      <td>3797467345</td>\n",
       "      <td>1196621759</td>\n",
       "      <td>2019-08-15</td>\n",
       "      <td>9759</td>\n",
       "      <td>B</td>\n",
       "    </tr>\n",
       "    <tr>\n",
       "      <th>4</th>\n",
       "      <td>2282983706</td>\n",
       "      <td>2322279887</td>\n",
       "      <td>2019-08-15</td>\n",
       "      <td>2308</td>\n",
       "      <td>B</td>\n",
       "    </tr>\n",
       "  </tbody>\n",
       "</table>\n",
       "</div>"
      ],
      "text/plain": [
       "   transactionId   visitorId        date  revenue group\n",
       "0     3667963787  3312258926  2019-08-15     1650     B\n",
       "1     2804400009  3642806036  2019-08-15      730     B\n",
       "2     2961555356  4069496402  2019-08-15      400     A\n",
       "3     3797467345  1196621759  2019-08-15     9759     B\n",
       "4     2282983706  2322279887  2019-08-15     2308     B"
      ]
     },
     "metadata": {},
     "output_type": "display_data"
    },
    {
     "name": "stdout",
     "output_type": "stream",
     "text": [
      "<class 'pandas.core.frame.DataFrame'>\n",
      "RangeIndex: 1197 entries, 0 to 1196\n",
      "Data columns (total 5 columns):\n",
      " #   Column         Non-Null Count  Dtype \n",
      "---  ------         --------------  ----- \n",
      " 0   transactionId  1197 non-null   int64 \n",
      " 1   visitorId      1197 non-null   int64 \n",
      " 2   date           1197 non-null   object\n",
      " 3   revenue        1197 non-null   int64 \n",
      " 4   group          1197 non-null   object\n",
      "dtypes: int64(3), object(2)\n",
      "memory usage: 46.9+ KB\n"
     ]
    }
   ],
   "source": [
    "#выведем первые строки датасетов и информацию о таблицах\n",
    "hypothesis = pd.read_csv('C:/Users/alfro/Documents/Daria_Jupyter/Datasets/hypothesis.csv')\n",
    "visitors = pd.read_csv('C:/Users/alfro/Documents/Daria_Jupyter/Datasets/visitors.csv')\n",
    "orders = pd.read_csv('C:/Users/alfro/Documents/Daria_Jupyter/Datasets/orders.csv')\n",
    "\n",
    "\n",
    "display(hypothesis)\n",
    "display(hypothesis.info())\n",
    "\n",
    "display(visitors.head())\n",
    "display(visitors.info())\n",
    "display(orders.head())\n",
    "orders.info()"
   ]
  },
  {
   "cell_type": "markdown",
   "metadata": {},
   "source": [
    "Для первой части работы нам потребуются данные по гипотезам, которые сохранены в таблице hypothesis. Всего дано 9 гипотез по увеличению выручки интернет-магазина с указанными параметрами (Reach, Impact, Confidence, Effort), распределенными по столбцам. Параметры оценены по десятибальной шкале.\n",
    "Типы данных корректы - для описания используется object, для и оцеки по шкалам int64. Дубликатов, пропусков и нулевых значени нет, что видно невооруженным глазом. В названиях присутсвуют заглавные буквы "
   ]
  },
  {
   "cell_type": "markdown",
   "metadata": {},
   "source": [
    "Для второй части есть данные по А/В-тесту, которые хранятся в 2х таблицах: orders и visitors. В таблице orders следующие столбцы:\n",
    "\n",
    "- transactionId — идентификатор заказа;\n",
    "- visitorId — идентификатор пользователя, совершившего заказ;\n",
    "- date — дата, когда был совершён заказ;\n",
    "- revenue — выручка заказа;\n",
    "- group — группа A/B-теста, в которую попал заказ.\n",
    "\n",
    "В таблице visitors:\n",
    "\n",
    "- date — дата;\n",
    "- group — группа A/B-теста;\n",
    "- visitors — количество пользователей в указанную дату в указанной группе A/B-теста"
   ]
  },
  {
   "cell_type": "code",
   "execution_count": 3,
   "metadata": {},
   "outputs": [
    {
     "data": {
      "text/plain": [
       "'2019-08-31'"
      ]
     },
     "metadata": {},
     "output_type": "display_data"
    },
    {
     "data": {
      "text/plain": [
       "'2019-08-01'"
      ]
     },
     "execution_count": 3,
     "metadata": {},
     "output_type": "execute_result"
    }
   ],
   "source": [
    "display(visitors['date'].max())\n",
    "visitors['date'].min()"
   ]
  },
  {
   "cell_type": "code",
   "execution_count": 4,
   "metadata": {},
   "outputs": [
    {
     "data": {
      "text/plain": [
       "'2019-08-31'"
      ]
     },
     "metadata": {},
     "output_type": "display_data"
    },
    {
     "data": {
      "text/plain": [
       "'2019-08-01'"
      ]
     },
     "execution_count": 4,
     "metadata": {},
     "output_type": "execute_result"
    }
   ],
   "source": [
    "display(visitors['date'].max())\n",
    "visitors['date'].min()"
   ]
  },
  {
   "cell_type": "markdown",
   "metadata": {},
   "source": [
    "Временные рамки обоих таблиц совпадают и видно, что А/B тест продолжался с 1-го по 31-ое августа 2019 года. За это время было сделано 1197 заказов. Проверим не получилось ли так, что один и тот же пользователь попал в разнве группы "
   ]
  },
  {
   "cell_type": "code",
   "execution_count": 5,
   "metadata": {},
   "outputs": [],
   "source": [
    "group_a = orders.query('group == \"A\"')\n",
    "group_b = orders.query('group == \"B\"')\n",
    "\n",
    "#group_a"
   ]
  },
  {
   "cell_type": "code",
   "execution_count": 6,
   "metadata": {},
   "outputs": [
    {
     "name": "stdout",
     "output_type": "stream",
     "text": [
      "Количество пользователе, которые попали в обе группы:  58\n"
     ]
    }
   ],
   "source": [
    "flickers_check = [x for x in list(group_b['visitorId']) if x in list(group_a['visitorId'])]\n",
    "\n",
    "print('Количество пользователе, которые попали в обе группы: ', \n",
    "        len(set(flickers_check)))"
   ]
  },
  {
   "cell_type": "code",
   "execution_count": 7,
   "metadata": {},
   "outputs": [
    {
     "data": {
      "text/html": [
       "<div>\n",
       "<style scoped>\n",
       "    .dataframe tbody tr th:only-of-type {\n",
       "        vertical-align: middle;\n",
       "    }\n",
       "\n",
       "    .dataframe tbody tr th {\n",
       "        vertical-align: top;\n",
       "    }\n",
       "\n",
       "    .dataframe thead th {\n",
       "        text-align: right;\n",
       "    }\n",
       "</style>\n",
       "<table border=\"1\" class=\"dataframe\">\n",
       "  <thead>\n",
       "    <tr style=\"text-align: right;\">\n",
       "      <th></th>\n",
       "      <th>transactionId</th>\n",
       "      <th>visitorId</th>\n",
       "      <th>date</th>\n",
       "      <th>revenue</th>\n",
       "      <th>group</th>\n",
       "    </tr>\n",
       "  </thead>\n",
       "  <tbody>\n",
       "    <tr>\n",
       "      <td>269</td>\n",
       "      <td>1067267410</td>\n",
       "      <td>3957174400</td>\n",
       "      <td>2019-08-18</td>\n",
       "      <td>2480</td>\n",
       "      <td>A</td>\n",
       "    </tr>\n",
       "    <tr>\n",
       "      <td>561</td>\n",
       "      <td>3241914033</td>\n",
       "      <td>3957174400</td>\n",
       "      <td>2019-08-26</td>\n",
       "      <td>2480</td>\n",
       "      <td>B</td>\n",
       "    </tr>\n",
       "  </tbody>\n",
       "</table>\n",
       "</div>"
      ],
      "text/plain": [
       "     transactionId   visitorId        date  revenue group\n",
       "269     1067267410  3957174400  2019-08-18     2480     A\n",
       "561     3241914033  3957174400  2019-08-26     2480     B"
      ]
     },
     "execution_count": 7,
     "metadata": {},
     "output_type": "execute_result"
    }
   ],
   "source": [
    "#list(set(flickers_check))\n",
    "orders.query('visitorId == 3957174400')"
   ]
  },
  {
   "cell_type": "code",
   "execution_count": 8,
   "metadata": {},
   "outputs": [
    {
     "name": "stdout",
     "output_type": "stream",
     "text": [
      "Процент пользователей, попавших в обе группы: 5.6%\n"
     ]
    }
   ],
   "source": [
    "print('Процент пользователей, попавших в обе группы: {:.1%}'.format(\n",
    "            len(set(flickers_check)) / len(orders['visitorId'].unique())\n",
    "            ))"
   ]
  },
  {
   "cell_type": "markdown",
   "metadata": {},
   "source": [
    "В таблицу попало 58 пользователей, которые по какой-то причине попали в две группы одновременно, при этом таких пользователей около 5%. Возможно, так получилось потому, что пользователь заходил с двух разных устройств или если даты совпадают то пользователь мог провести часть времени на одной верии сайта, а потом оказаться на другой. Возможно, стоит проверить как работает разделение пользователей на группы и посмотреть нет ли там технических неполадок. В любом случае, такие пользователи могут оказать влияние на результат теста и стоит их исключить из анализа"
   ]
  },
  {
   "cell_type": "code",
   "execution_count": 9,
   "metadata": {},
   "outputs": [],
   "source": [
    "flickers_check = list(set(flickers_check))\n",
    "orders = orders.query('visitorId != @flickers_check')"
   ]
  },
  {
   "cell_type": "markdown",
   "metadata": {},
   "source": [
    "###### Вывод"
   ]
  },
  {
   "cell_type": "markdown",
   "metadata": {},
   "source": [
    "В обоих таблицах нет пропусков и мы отобрали лишь тех пользователей, которые попадают строго в одну группу. Типы данных по id, доходам и группам пригодны для работы (хотя стоит заметить, что id закодированы типом int64), однако в обоих таблицах есть указания дат, которые необходиом привести к типу datetime. Также можно приветси названия таблиц к едниному виду, так как сейчас некторые из них содержат большие буквы"
   ]
  },
  {
   "cell_type": "markdown",
   "metadata": {},
   "source": [
    "## Предобработка"
   ]
  },
  {
   "cell_type": "code",
   "execution_count": 10,
   "metadata": {},
   "outputs": [],
   "source": [
    "#изменим тип данных у дат\n",
    "visitors['date'] = pd.to_datetime(visitors['date'], format='%Y-%m-%d')\n",
    "orders['date'] = pd.to_datetime(orders['date'],format='%Y-%m-%d')\n"
   ]
  },
  {
   "cell_type": "code",
   "execution_count": 11,
   "metadata": {},
   "outputs": [
    {
     "name": "stdout",
     "output_type": "stream",
     "text": [
      "Колличество дубликатов в таблице orders: 0\n",
      "Колличество дубликатов в таблице visitors: 0\n"
     ]
    }
   ],
   "source": [
    "#проверим на дубликаты \n",
    "print(\"Колличество дубликатов в таблице orders:\", orders.duplicated().sum())\n",
    "print(\"Колличество дубликатов в таблице visitors:\", visitors.duplicated().sum())"
   ]
  },
  {
   "cell_type": "code",
   "execution_count": 12,
   "metadata": {},
   "outputs": [
    {
     "data": {
      "text/plain": [
       "Index(['Hypothesis', 'Reach', 'Impact', 'Confidence', 'Efforts'], dtype='object')"
      ]
     },
     "metadata": {},
     "output_type": "display_data"
    },
    {
     "data": {
      "text/plain": [
       "Index(['transactionId', 'visitorId', 'date', 'revenue', 'group'], dtype='object')"
      ]
     },
     "execution_count": 12,
     "metadata": {},
     "output_type": "execute_result"
    }
   ],
   "source": [
    "display(hypothesis.columns)\n",
    "orders.columns"
   ]
  },
  {
   "cell_type": "code",
   "execution_count": 13,
   "metadata": {},
   "outputs": [],
   "source": [
    "#приведем все колонки к одному виду\n",
    "hypothesis.columns = [name.lower() for name in hypothesis.columns]\n",
    "orders.columns = ['transaction_id', 'visitor_id', 'date', 'revenue', 'group']"
   ]
  },
  {
   "cell_type": "markdown",
   "metadata": {},
   "source": [
    "Названия всех столбцов выглядят одинаково и данные, котрые нам нужны для работы, приведены к корректным типам - можно приступать к анализу "
   ]
  },
  {
   "cell_type": "markdown",
   "metadata": {},
   "source": [
    "## Приоритезация гипотез "
   ]
  },
  {
   "cell_type": "code",
   "execution_count": 14,
   "metadata": {},
   "outputs": [
    {
     "data": {
      "text/html": [
       "<div>\n",
       "<style scoped>\n",
       "    .dataframe tbody tr th:only-of-type {\n",
       "        vertical-align: middle;\n",
       "    }\n",
       "\n",
       "    .dataframe tbody tr th {\n",
       "        vertical-align: top;\n",
       "    }\n",
       "\n",
       "    .dataframe thead th {\n",
       "        text-align: right;\n",
       "    }\n",
       "</style>\n",
       "<table border=\"1\" class=\"dataframe\">\n",
       "  <thead>\n",
       "    <tr style=\"text-align: right;\">\n",
       "      <th></th>\n",
       "      <th>hypothesis</th>\n",
       "      <th>ICE</th>\n",
       "    </tr>\n",
       "  </thead>\n",
       "  <tbody>\n",
       "    <tr>\n",
       "      <td>8</td>\n",
       "      <td>Запустить акцию, дающую скидку на товар в день...</td>\n",
       "      <td>16.2</td>\n",
       "    </tr>\n",
       "    <tr>\n",
       "      <td>0</td>\n",
       "      <td>Добавить два новых канала привлечения трафика,...</td>\n",
       "      <td>13.3</td>\n",
       "    </tr>\n",
       "    <tr>\n",
       "      <td>7</td>\n",
       "      <td>Добавить форму подписки на все основные страни...</td>\n",
       "      <td>11.2</td>\n",
       "    </tr>\n",
       "    <tr>\n",
       "      <td>6</td>\n",
       "      <td>Показать на главной странице баннеры с актуаль...</td>\n",
       "      <td>8.0</td>\n",
       "    </tr>\n",
       "    <tr>\n",
       "      <td>2</td>\n",
       "      <td>Добавить блоки рекомендаций товаров на сайт ин...</td>\n",
       "      <td>7.0</td>\n",
       "    </tr>\n",
       "    <tr>\n",
       "      <td>1</td>\n",
       "      <td>Запустить собственную службу доставки, что сок...</td>\n",
       "      <td>2.0</td>\n",
       "    </tr>\n",
       "    <tr>\n",
       "      <td>5</td>\n",
       "      <td>Добавить страницу отзывов клиентов о магазине,...</td>\n",
       "      <td>1.3</td>\n",
       "    </tr>\n",
       "    <tr>\n",
       "      <td>3</td>\n",
       "      <td>Изменить структура категорий, что увеличит кон...</td>\n",
       "      <td>1.1</td>\n",
       "    </tr>\n",
       "    <tr>\n",
       "      <td>4</td>\n",
       "      <td>Изменить цвет фона главной страницы, чтобы уве...</td>\n",
       "      <td>1.0</td>\n",
       "    </tr>\n",
       "  </tbody>\n",
       "</table>\n",
       "</div>"
      ],
      "text/plain": [
       "                                          hypothesis   ICE\n",
       "8  Запустить акцию, дающую скидку на товар в день...  16.2\n",
       "0  Добавить два новых канала привлечения трафика,...  13.3\n",
       "7  Добавить форму подписки на все основные страни...  11.2\n",
       "6  Показать на главной странице баннеры с актуаль...   8.0\n",
       "2  Добавить блоки рекомендаций товаров на сайт ин...   7.0\n",
       "1  Запустить собственную службу доставки, что сок...   2.0\n",
       "5  Добавить страницу отзывов клиентов о магазине,...   1.3\n",
       "3  Изменить структура категорий, что увеличит кон...   1.1\n",
       "4  Изменить цвет фона главной страницы, чтобы уве...   1.0"
      ]
     },
     "execution_count": 14,
     "metadata": {},
     "output_type": "execute_result"
    }
   ],
   "source": [
    "hypothesis['ICE'] = (hypothesis['impact'] * hypothesis['confidence'] / hypothesis['efforts']).round(1)\n",
    "hypothesis[['hypothesis', 'ICE']].sort_values(by='ICE', ascending=False)"
   ]
  },
  {
   "cell_type": "code",
   "execution_count": 15,
   "metadata": {
    "scrolled": true
   },
   "outputs": [
    {
     "data": {
      "text/html": [
       "<div>\n",
       "<style scoped>\n",
       "    .dataframe tbody tr th:only-of-type {\n",
       "        vertical-align: middle;\n",
       "    }\n",
       "\n",
       "    .dataframe tbody tr th {\n",
       "        vertical-align: top;\n",
       "    }\n",
       "\n",
       "    .dataframe thead th {\n",
       "        text-align: right;\n",
       "    }\n",
       "</style>\n",
       "<table border=\"1\" class=\"dataframe\">\n",
       "  <thead>\n",
       "    <tr style=\"text-align: right;\">\n",
       "      <th></th>\n",
       "      <th>hypothesis</th>\n",
       "      <th>RICE</th>\n",
       "    </tr>\n",
       "  </thead>\n",
       "  <tbody>\n",
       "    <tr>\n",
       "      <td>7</td>\n",
       "      <td>Добавить форму подписки на все основные страни...</td>\n",
       "      <td>112.0</td>\n",
       "    </tr>\n",
       "    <tr>\n",
       "      <td>2</td>\n",
       "      <td>Добавить блоки рекомендаций товаров на сайт ин...</td>\n",
       "      <td>56.0</td>\n",
       "    </tr>\n",
       "    <tr>\n",
       "      <td>0</td>\n",
       "      <td>Добавить два новых канала привлечения трафика,...</td>\n",
       "      <td>40.0</td>\n",
       "    </tr>\n",
       "    <tr>\n",
       "      <td>6</td>\n",
       "      <td>Показать на главной странице баннеры с актуаль...</td>\n",
       "      <td>40.0</td>\n",
       "    </tr>\n",
       "    <tr>\n",
       "      <td>8</td>\n",
       "      <td>Запустить акцию, дающую скидку на товар в день...</td>\n",
       "      <td>16.2</td>\n",
       "    </tr>\n",
       "    <tr>\n",
       "      <td>3</td>\n",
       "      <td>Изменить структура категорий, что увеличит кон...</td>\n",
       "      <td>9.0</td>\n",
       "    </tr>\n",
       "    <tr>\n",
       "      <td>1</td>\n",
       "      <td>Запустить собственную службу доставки, что сок...</td>\n",
       "      <td>4.0</td>\n",
       "    </tr>\n",
       "    <tr>\n",
       "      <td>5</td>\n",
       "      <td>Добавить страницу отзывов клиентов о магазине,...</td>\n",
       "      <td>4.0</td>\n",
       "    </tr>\n",
       "    <tr>\n",
       "      <td>4</td>\n",
       "      <td>Изменить цвет фона главной страницы, чтобы уве...</td>\n",
       "      <td>3.0</td>\n",
       "    </tr>\n",
       "  </tbody>\n",
       "</table>\n",
       "</div>"
      ],
      "text/plain": [
       "                                          hypothesis   RICE\n",
       "7  Добавить форму подписки на все основные страни...  112.0\n",
       "2  Добавить блоки рекомендаций товаров на сайт ин...   56.0\n",
       "0  Добавить два новых канала привлечения трафика,...   40.0\n",
       "6  Показать на главной странице баннеры с актуаль...   40.0\n",
       "8  Запустить акцию, дающую скидку на товар в день...   16.2\n",
       "3  Изменить структура категорий, что увеличит кон...    9.0\n",
       "1  Запустить собственную службу доставки, что сок...    4.0\n",
       "5  Добавить страницу отзывов клиентов о магазине,...    4.0\n",
       "4  Изменить цвет фона главной страницы, чтобы уве...    3.0"
      ]
     },
     "execution_count": 15,
     "metadata": {},
     "output_type": "execute_result"
    }
   ],
   "source": [
    "hypothesis['RICE'] = (hypothesis['reach'] * hypothesis['impact'] * hypothesis['confidence'] / hypothesis['efforts']).round(1)\n",
    "hypothesis[['hypothesis', 'RICE']].sort_values(by='RICE', ascending=False)"
   ]
  },
  {
   "cell_type": "markdown",
   "metadata": {},
   "source": [
    "Не так важно какие именно цифры мы получили после применения фреймворков, а важно именно место гипотез среди остальных. По фреймврорку ICE приоритет отдается гипотезам про скидку на день рождение,про привлечение новых каналов трафика и про сбор базы для email-рассылки. \n",
    "\n",
    "По феймворку RICE - лидирует гипотеза про базу для email рассылки, вместе с ней гипотеза про реккомедации и новые каналы трафика. "
   ]
  },
  {
   "cell_type": "markdown",
   "metadata": {},
   "source": [
    "Так получилось потому что модифкация RICE учитывает то, скольких пльзователей затронет нововведение. Так, самая перспективная по ICE гипотеза про акцию на день рождения затронет очень мало пользователей - ведь эта скидка актуальна только для тех, кто будет что-то покупать в свой день рождения. Однако судя по другим параметрам можно уверенно утверждать, что это не самое трудоемкое нововведение повлияет довольно сильно на пользователей. Поэтому стоит уточнить у заказчика какие зоны роста его интересуют - эту гипотезу имеет смысл тестировать, если заказчик, например, хочет выделиться среди конкурентов. Сравнимые параметры есть у гипотезы по привлечению новых каналов тарфика - она также подействует не на много людей, но подействет сильно. Но к ее тестированию следует обращаться, если заказчик нацелен на привлечение новых пользователей. "
   ]
  },
  {
   "cell_type": "markdown",
   "metadata": {},
   "source": [
    "Гипотеза про сбор базы для email-рассылки, самая приорететная по RICE и одна из приоритетных по ICE, довольно сильно затронет всех пользователей. Если заказчик, хочет улучшать метрики, связанные сразу со всеми ползователями (например, повышать конверсию или сохранять текущих пользователей), то имеет смысл тестрировать эту гипотезу и/или гипотезу про добаление рекомендаций - она тоже затронет довольно много пользователей, но не так сильно, к тому же она легче в исполнении. "
   ]
  },
  {
   "cell_type": "code",
   "execution_count": 16,
   "metadata": {},
   "outputs": [
    {
     "data": {
      "text/html": [
       "<style  type=\"text/css\" >\n",
       "    #T_6dfcc7fe_7ff3_11eb_a843_02420a39366drow0_col1 {\n",
       "            background-color:  #ffa500;\n",
       "            color:  #000000;\n",
       "        }    #T_6dfcc7fe_7ff3_11eb_a843_02420a39366drow0_col2 {\n",
       "            background-color:  #ffc04d;\n",
       "            color:  #000000;\n",
       "        }    #T_6dfcc7fe_7ff3_11eb_a843_02420a39366drow0_col3 {\n",
       "            background-color:  #ffaf1c;\n",
       "            color:  #000000;\n",
       "        }    #T_6dfcc7fe_7ff3_11eb_a843_02420a39366drow0_col4 {\n",
       "            background-color:  #ffd280;\n",
       "            color:  #000000;\n",
       "        }    #T_6dfcc7fe_7ff3_11eb_a843_02420a39366drow0_col5 {\n",
       "            background-color:  #ffc04c;\n",
       "            color:  #000000;\n",
       "        }    #T_6dfcc7fe_7ff3_11eb_a843_02420a39366drow0_col6 {\n",
       "            background-color:  #ffa500;\n",
       "            color:  #000000;\n",
       "        }    #T_6dfcc7fe_7ff3_11eb_a843_02420a39366drow1_col1 {\n",
       "            background-color:  #ffb732;\n",
       "            color:  #000000;\n",
       "        }    #T_6dfcc7fe_7ff3_11eb_a843_02420a39366drow1_col2 {\n",
       "            background-color:  #ffe4b3;\n",
       "            color:  #000000;\n",
       "        }    #T_6dfcc7fe_7ff3_11eb_a843_02420a39366drow1_col3 {\n",
       "            background-color:  #ffb939;\n",
       "            color:  #000000;\n",
       "        }    #T_6dfcc7fe_7ff3_11eb_a843_02420a39366drow1_col4 {\n",
       "            background-color:  #ffe4b3;\n",
       "            color:  #000000;\n",
       "        }    #T_6dfcc7fe_7ff3_11eb_a843_02420a39366drow1_col5 {\n",
       "            background-color:  #ffd68b;\n",
       "            color:  #000000;\n",
       "        }    #T_6dfcc7fe_7ff3_11eb_a843_02420a39366drow1_col6 {\n",
       "            background-color:  #ffcf76;\n",
       "            color:  #000000;\n",
       "        }    #T_6dfcc7fe_7ff3_11eb_a843_02420a39366drow2_col1 {\n",
       "            background-color:  #ffe4b3;\n",
       "            color:  #000000;\n",
       "        }    #T_6dfcc7fe_7ff3_11eb_a843_02420a39366drow2_col2 {\n",
       "            background-color:  #ffa500;\n",
       "            color:  #000000;\n",
       "        }    #T_6dfcc7fe_7ff3_11eb_a843_02420a39366drow2_col3 {\n",
       "            background-color:  #ffaf1c;\n",
       "            color:  #000000;\n",
       "        }    #T_6dfcc7fe_7ff3_11eb_a843_02420a39366drow2_col4 {\n",
       "            background-color:  #ffc966;\n",
       "            color:  #000000;\n",
       "        }    #T_6dfcc7fe_7ff3_11eb_a843_02420a39366drow2_col5 {\n",
       "            background-color:  #ffb42b;\n",
       "            color:  #000000;\n",
       "        }    #T_6dfcc7fe_7ff3_11eb_a843_02420a39366drow2_col6 {\n",
       "            background-color:  #ffdb98;\n",
       "            color:  #000000;\n",
       "        }    #T_6dfcc7fe_7ff3_11eb_a843_02420a39366drow3_col1 {\n",
       "            background-color:  #ffd280;\n",
       "            color:  #000000;\n",
       "        }    #T_6dfcc7fe_7ff3_11eb_a843_02420a39366drow3_col2 {\n",
       "            background-color:  #ffe4b3;\n",
       "            color:  #000000;\n",
       "        }    #T_6dfcc7fe_7ff3_11eb_a843_02420a39366drow3_col3 {\n",
       "            background-color:  #ffaf1c;\n",
       "            color:  #000000;\n",
       "        }    #T_6dfcc7fe_7ff3_11eb_a843_02420a39366drow3_col4 {\n",
       "            background-color:  #ffe4b3;\n",
       "            color:  #000000;\n",
       "        }    #T_6dfcc7fe_7ff3_11eb_a843_02420a39366drow3_col5 {\n",
       "            background-color:  #ffd17c;\n",
       "            color:  #000000;\n",
       "        }    #T_6dfcc7fe_7ff3_11eb_a843_02420a39366drow3_col6 {\n",
       "            background-color:  #ffdb98;\n",
       "            color:  #000000;\n",
       "        }    #T_6dfcc7fe_7ff3_11eb_a843_02420a39366drow4_col1 {\n",
       "            background-color:  #fff6e5;\n",
       "            color:  #000000;\n",
       "        }    #T_6dfcc7fe_7ff3_11eb_a843_02420a39366drow4_col2 {\n",
       "            background-color:  #ffae19;\n",
       "            color:  #000000;\n",
       "        }    #T_6dfcc7fe_7ff3_11eb_a843_02420a39366drow4_col3 {\n",
       "            background-color:  #ffa500;\n",
       "            color:  #000000;\n",
       "        }    #T_6dfcc7fe_7ff3_11eb_a843_02420a39366drow4_col4 {\n",
       "            background-color:  #ffd280;\n",
       "            color:  #000000;\n",
       "        }    #T_6dfcc7fe_7ff3_11eb_a843_02420a39366drow4_col5 {\n",
       "            background-color:  #ffa500;\n",
       "            color:  #000000;\n",
       "        }    #T_6dfcc7fe_7ff3_11eb_a843_02420a39366drow4_col6 {\n",
       "            background-color:  #ffecca;\n",
       "            color:  #000000;\n",
       "        }    #T_6dfcc7fe_7ff3_11eb_a843_02420a39366drow5_col1 {\n",
       "            background-color:  #ffb732;\n",
       "            color:  #000000;\n",
       "        }    #T_6dfcc7fe_7ff3_11eb_a843_02420a39366drow5_col2 {\n",
       "            background-color:  #ffe4b3;\n",
       "            color:  #000000;\n",
       "        }    #T_6dfcc7fe_7ff3_11eb_a843_02420a39366drow5_col3 {\n",
       "            background-color:  #ffe2ac;\n",
       "            color:  #000000;\n",
       "        }    #T_6dfcc7fe_7ff3_11eb_a843_02420a39366drow5_col4 {\n",
       "            background-color:  #ffb732;\n",
       "            color:  #000000;\n",
       "        }    #T_6dfcc7fe_7ff3_11eb_a843_02420a39366drow5_col5 {\n",
       "            background-color:  #fff6e5;\n",
       "            color:  #000000;\n",
       "        }    #T_6dfcc7fe_7ff3_11eb_a843_02420a39366drow5_col6 {\n",
       "            background-color:  #fff2d9;\n",
       "            color:  #000000;\n",
       "        }    #T_6dfcc7fe_7ff3_11eb_a843_02420a39366drow6_col1 {\n",
       "            background-color:  #ffedcc;\n",
       "            color:  #000000;\n",
       "        }    #T_6dfcc7fe_7ff3_11eb_a843_02420a39366drow6_col2 {\n",
       "            background-color:  #ffd280;\n",
       "            color:  #000000;\n",
       "        }    #T_6dfcc7fe_7ff3_11eb_a843_02420a39366drow6_col3 {\n",
       "            background-color:  #ffd88f;\n",
       "            color:  #000000;\n",
       "        }    #T_6dfcc7fe_7ff3_11eb_a843_02420a39366drow6_col4 {\n",
       "            background-color:  #ffa500;\n",
       "            color:  #000000;\n",
       "        }    #T_6dfcc7fe_7ff3_11eb_a843_02420a39366drow6_col5 {\n",
       "            background-color:  #fff1d7;\n",
       "            color:  #000000;\n",
       "        }    #T_6dfcc7fe_7ff3_11eb_a843_02420a39366drow6_col6 {\n",
       "            background-color:  #fff5e4;\n",
       "            color:  #000000;\n",
       "        }    #T_6dfcc7fe_7ff3_11eb_a843_02420a39366drow7_col1 {\n",
       "            background-color:  #ffe4b3;\n",
       "            color:  #000000;\n",
       "        }    #T_6dfcc7fe_7ff3_11eb_a843_02420a39366drow7_col2 {\n",
       "            background-color:  #ffedcc;\n",
       "            color:  #000000;\n",
       "        }    #T_6dfcc7fe_7ff3_11eb_a843_02420a39366drow7_col3 {\n",
       "            background-color:  #ffecc9;\n",
       "            color:  #000000;\n",
       "        }    #T_6dfcc7fe_7ff3_11eb_a843_02420a39366drow7_col4 {\n",
       "            background-color:  #ffe4b3;\n",
       "            color:  #000000;\n",
       "        }    #T_6dfcc7fe_7ff3_11eb_a843_02420a39366drow7_col5 {\n",
       "            background-color:  #fff4e1;\n",
       "            color:  #000000;\n",
       "        }    #T_6dfcc7fe_7ff3_11eb_a843_02420a39366drow7_col6 {\n",
       "            background-color:  #fff5e4;\n",
       "            color:  #000000;\n",
       "        }    #T_6dfcc7fe_7ff3_11eb_a843_02420a39366drow8_col1 {\n",
       "            background-color:  #ffe4b3;\n",
       "            color:  #000000;\n",
       "        }    #T_6dfcc7fe_7ff3_11eb_a843_02420a39366drow8_col2 {\n",
       "            background-color:  #fff6e5;\n",
       "            color:  #000000;\n",
       "        }    #T_6dfcc7fe_7ff3_11eb_a843_02420a39366drow8_col3 {\n",
       "            background-color:  #fff6e5;\n",
       "            color:  #000000;\n",
       "        }    #T_6dfcc7fe_7ff3_11eb_a843_02420a39366drow8_col4 {\n",
       "            background-color:  #fff6e5;\n",
       "            color:  #000000;\n",
       "        }    #T_6dfcc7fe_7ff3_11eb_a843_02420a39366drow8_col5 {\n",
       "            background-color:  #fff6e5;\n",
       "            color:  #000000;\n",
       "        }    #T_6dfcc7fe_7ff3_11eb_a843_02420a39366drow8_col6 {\n",
       "            background-color:  #fff6e5;\n",
       "            color:  #000000;\n",
       "        }</style><table id=\"T_6dfcc7fe_7ff3_11eb_a843_02420a39366d\" ><thead>    <tr>        <th class=\"blank level0\" ></th>        <th class=\"col_heading level0 col0\" >hypothesis</th>        <th class=\"col_heading level0 col1\" >reach</th>        <th class=\"col_heading level0 col2\" >impact</th>        <th class=\"col_heading level0 col3\" >confidence</th>        <th class=\"col_heading level0 col4\" >efforts</th>        <th class=\"col_heading level0 col5\" >ICE</th>        <th class=\"col_heading level0 col6\" >RICE</th>    </tr></thead><tbody>\n",
       "                <tr>\n",
       "                        <th id=\"T_6dfcc7fe_7ff3_11eb_a843_02420a39366dlevel0_row0\" class=\"row_heading level0 row0\" >7</th>\n",
       "                        <td id=\"T_6dfcc7fe_7ff3_11eb_a843_02420a39366drow0_col0\" class=\"data row0 col0\" >Добавить форму подписки на все основные страницы, чтобы собрать базу клиентов для email-рассылок</td>\n",
       "                        <td id=\"T_6dfcc7fe_7ff3_11eb_a843_02420a39366drow0_col1\" class=\"data row0 col1\" >10</td>\n",
       "                        <td id=\"T_6dfcc7fe_7ff3_11eb_a843_02420a39366drow0_col2\" class=\"data row0 col2\" >7</td>\n",
       "                        <td id=\"T_6dfcc7fe_7ff3_11eb_a843_02420a39366drow0_col3\" class=\"data row0 col3\" >8</td>\n",
       "                        <td id=\"T_6dfcc7fe_7ff3_11eb_a843_02420a39366drow0_col4\" class=\"data row0 col4\" >5</td>\n",
       "                        <td id=\"T_6dfcc7fe_7ff3_11eb_a843_02420a39366drow0_col5\" class=\"data row0 col5\" >11.2</td>\n",
       "                        <td id=\"T_6dfcc7fe_7ff3_11eb_a843_02420a39366drow0_col6\" class=\"data row0 col6\" >112</td>\n",
       "            </tr>\n",
       "            <tr>\n",
       "                        <th id=\"T_6dfcc7fe_7ff3_11eb_a843_02420a39366dlevel0_row1\" class=\"row_heading level0 row1\" >2</th>\n",
       "                        <td id=\"T_6dfcc7fe_7ff3_11eb_a843_02420a39366drow1_col0\" class=\"data row1 col0\" >Добавить блоки рекомендаций товаров на сайт интернет магазина, чтобы повысить конверсию и средний чек заказа</td>\n",
       "                        <td id=\"T_6dfcc7fe_7ff3_11eb_a843_02420a39366drow1_col1\" class=\"data row1 col1\" >8</td>\n",
       "                        <td id=\"T_6dfcc7fe_7ff3_11eb_a843_02420a39366drow1_col2\" class=\"data row1 col2\" >3</td>\n",
       "                        <td id=\"T_6dfcc7fe_7ff3_11eb_a843_02420a39366drow1_col3\" class=\"data row1 col3\" >7</td>\n",
       "                        <td id=\"T_6dfcc7fe_7ff3_11eb_a843_02420a39366drow1_col4\" class=\"data row1 col4\" >3</td>\n",
       "                        <td id=\"T_6dfcc7fe_7ff3_11eb_a843_02420a39366drow1_col5\" class=\"data row1 col5\" >7</td>\n",
       "                        <td id=\"T_6dfcc7fe_7ff3_11eb_a843_02420a39366drow1_col6\" class=\"data row1 col6\" >56</td>\n",
       "            </tr>\n",
       "            <tr>\n",
       "                        <th id=\"T_6dfcc7fe_7ff3_11eb_a843_02420a39366dlevel0_row2\" class=\"row_heading level0 row2\" >0</th>\n",
       "                        <td id=\"T_6dfcc7fe_7ff3_11eb_a843_02420a39366drow2_col0\" class=\"data row2 col0\" >Добавить два новых канала привлечения трафика, что позволит привлекать на 30% больше пользователей</td>\n",
       "                        <td id=\"T_6dfcc7fe_7ff3_11eb_a843_02420a39366drow2_col1\" class=\"data row2 col1\" >3</td>\n",
       "                        <td id=\"T_6dfcc7fe_7ff3_11eb_a843_02420a39366drow2_col2\" class=\"data row2 col2\" >10</td>\n",
       "                        <td id=\"T_6dfcc7fe_7ff3_11eb_a843_02420a39366drow2_col3\" class=\"data row2 col3\" >8</td>\n",
       "                        <td id=\"T_6dfcc7fe_7ff3_11eb_a843_02420a39366drow2_col4\" class=\"data row2 col4\" >6</td>\n",
       "                        <td id=\"T_6dfcc7fe_7ff3_11eb_a843_02420a39366drow2_col5\" class=\"data row2 col5\" >13.3</td>\n",
       "                        <td id=\"T_6dfcc7fe_7ff3_11eb_a843_02420a39366drow2_col6\" class=\"data row2 col6\" >40</td>\n",
       "            </tr>\n",
       "            <tr>\n",
       "                        <th id=\"T_6dfcc7fe_7ff3_11eb_a843_02420a39366dlevel0_row3\" class=\"row_heading level0 row3\" >6</th>\n",
       "                        <td id=\"T_6dfcc7fe_7ff3_11eb_a843_02420a39366drow3_col0\" class=\"data row3 col0\" >Показать на главной странице баннеры с актуальными акциями и распродажами, чтобы увеличить конверсию</td>\n",
       "                        <td id=\"T_6dfcc7fe_7ff3_11eb_a843_02420a39366drow3_col1\" class=\"data row3 col1\" >5</td>\n",
       "                        <td id=\"T_6dfcc7fe_7ff3_11eb_a843_02420a39366drow3_col2\" class=\"data row3 col2\" >3</td>\n",
       "                        <td id=\"T_6dfcc7fe_7ff3_11eb_a843_02420a39366drow3_col3\" class=\"data row3 col3\" >8</td>\n",
       "                        <td id=\"T_6dfcc7fe_7ff3_11eb_a843_02420a39366drow3_col4\" class=\"data row3 col4\" >3</td>\n",
       "                        <td id=\"T_6dfcc7fe_7ff3_11eb_a843_02420a39366drow3_col5\" class=\"data row3 col5\" >8</td>\n",
       "                        <td id=\"T_6dfcc7fe_7ff3_11eb_a843_02420a39366drow3_col6\" class=\"data row3 col6\" >40</td>\n",
       "            </tr>\n",
       "            <tr>\n",
       "                        <th id=\"T_6dfcc7fe_7ff3_11eb_a843_02420a39366dlevel0_row4\" class=\"row_heading level0 row4\" >8</th>\n",
       "                        <td id=\"T_6dfcc7fe_7ff3_11eb_a843_02420a39366drow4_col0\" class=\"data row4 col0\" >Запустить акцию, дающую скидку на товар в день рождения</td>\n",
       "                        <td id=\"T_6dfcc7fe_7ff3_11eb_a843_02420a39366drow4_col1\" class=\"data row4 col1\" >1</td>\n",
       "                        <td id=\"T_6dfcc7fe_7ff3_11eb_a843_02420a39366drow4_col2\" class=\"data row4 col2\" >9</td>\n",
       "                        <td id=\"T_6dfcc7fe_7ff3_11eb_a843_02420a39366drow4_col3\" class=\"data row4 col3\" >9</td>\n",
       "                        <td id=\"T_6dfcc7fe_7ff3_11eb_a843_02420a39366drow4_col4\" class=\"data row4 col4\" >5</td>\n",
       "                        <td id=\"T_6dfcc7fe_7ff3_11eb_a843_02420a39366drow4_col5\" class=\"data row4 col5\" >16.2</td>\n",
       "                        <td id=\"T_6dfcc7fe_7ff3_11eb_a843_02420a39366drow4_col6\" class=\"data row4 col6\" >16.2</td>\n",
       "            </tr>\n",
       "            <tr>\n",
       "                        <th id=\"T_6dfcc7fe_7ff3_11eb_a843_02420a39366dlevel0_row5\" class=\"row_heading level0 row5\" >3</th>\n",
       "                        <td id=\"T_6dfcc7fe_7ff3_11eb_a843_02420a39366drow5_col0\" class=\"data row5 col0\" >Изменить структура категорий, что увеличит конверсию, т.к. пользователи быстрее найдут нужный товар</td>\n",
       "                        <td id=\"T_6dfcc7fe_7ff3_11eb_a843_02420a39366drow5_col1\" class=\"data row5 col1\" >8</td>\n",
       "                        <td id=\"T_6dfcc7fe_7ff3_11eb_a843_02420a39366drow5_col2\" class=\"data row5 col2\" >3</td>\n",
       "                        <td id=\"T_6dfcc7fe_7ff3_11eb_a843_02420a39366drow5_col3\" class=\"data row5 col3\" >3</td>\n",
       "                        <td id=\"T_6dfcc7fe_7ff3_11eb_a843_02420a39366drow5_col4\" class=\"data row5 col4\" >8</td>\n",
       "                        <td id=\"T_6dfcc7fe_7ff3_11eb_a843_02420a39366drow5_col5\" class=\"data row5 col5\" >1.1</td>\n",
       "                        <td id=\"T_6dfcc7fe_7ff3_11eb_a843_02420a39366drow5_col6\" class=\"data row5 col6\" >9</td>\n",
       "            </tr>\n",
       "            <tr>\n",
       "                        <th id=\"T_6dfcc7fe_7ff3_11eb_a843_02420a39366dlevel0_row6\" class=\"row_heading level0 row6\" >1</th>\n",
       "                        <td id=\"T_6dfcc7fe_7ff3_11eb_a843_02420a39366drow6_col0\" class=\"data row6 col0\" >Запустить собственную службу доставки, что сократит срок доставки заказов</td>\n",
       "                        <td id=\"T_6dfcc7fe_7ff3_11eb_a843_02420a39366drow6_col1\" class=\"data row6 col1\" >2</td>\n",
       "                        <td id=\"T_6dfcc7fe_7ff3_11eb_a843_02420a39366drow6_col2\" class=\"data row6 col2\" >5</td>\n",
       "                        <td id=\"T_6dfcc7fe_7ff3_11eb_a843_02420a39366drow6_col3\" class=\"data row6 col3\" >4</td>\n",
       "                        <td id=\"T_6dfcc7fe_7ff3_11eb_a843_02420a39366drow6_col4\" class=\"data row6 col4\" >10</td>\n",
       "                        <td id=\"T_6dfcc7fe_7ff3_11eb_a843_02420a39366drow6_col5\" class=\"data row6 col5\" >2</td>\n",
       "                        <td id=\"T_6dfcc7fe_7ff3_11eb_a843_02420a39366drow6_col6\" class=\"data row6 col6\" >4</td>\n",
       "            </tr>\n",
       "            <tr>\n",
       "                        <th id=\"T_6dfcc7fe_7ff3_11eb_a843_02420a39366dlevel0_row7\" class=\"row_heading level0 row7\" >5</th>\n",
       "                        <td id=\"T_6dfcc7fe_7ff3_11eb_a843_02420a39366drow7_col0\" class=\"data row7 col0\" >Добавить страницу отзывов клиентов о магазине, что позволит увеличить количество заказов</td>\n",
       "                        <td id=\"T_6dfcc7fe_7ff3_11eb_a843_02420a39366drow7_col1\" class=\"data row7 col1\" >3</td>\n",
       "                        <td id=\"T_6dfcc7fe_7ff3_11eb_a843_02420a39366drow7_col2\" class=\"data row7 col2\" >2</td>\n",
       "                        <td id=\"T_6dfcc7fe_7ff3_11eb_a843_02420a39366drow7_col3\" class=\"data row7 col3\" >2</td>\n",
       "                        <td id=\"T_6dfcc7fe_7ff3_11eb_a843_02420a39366drow7_col4\" class=\"data row7 col4\" >3</td>\n",
       "                        <td id=\"T_6dfcc7fe_7ff3_11eb_a843_02420a39366drow7_col5\" class=\"data row7 col5\" >1.3</td>\n",
       "                        <td id=\"T_6dfcc7fe_7ff3_11eb_a843_02420a39366drow7_col6\" class=\"data row7 col6\" >4</td>\n",
       "            </tr>\n",
       "            <tr>\n",
       "                        <th id=\"T_6dfcc7fe_7ff3_11eb_a843_02420a39366dlevel0_row8\" class=\"row_heading level0 row8\" >4</th>\n",
       "                        <td id=\"T_6dfcc7fe_7ff3_11eb_a843_02420a39366drow8_col0\" class=\"data row8 col0\" >Изменить цвет фона главной страницы, чтобы увеличить вовлеченность пользователей</td>\n",
       "                        <td id=\"T_6dfcc7fe_7ff3_11eb_a843_02420a39366drow8_col1\" class=\"data row8 col1\" >3</td>\n",
       "                        <td id=\"T_6dfcc7fe_7ff3_11eb_a843_02420a39366drow8_col2\" class=\"data row8 col2\" >1</td>\n",
       "                        <td id=\"T_6dfcc7fe_7ff3_11eb_a843_02420a39366drow8_col3\" class=\"data row8 col3\" >1</td>\n",
       "                        <td id=\"T_6dfcc7fe_7ff3_11eb_a843_02420a39366drow8_col4\" class=\"data row8 col4\" >1</td>\n",
       "                        <td id=\"T_6dfcc7fe_7ff3_11eb_a843_02420a39366drow8_col5\" class=\"data row8 col5\" >1</td>\n",
       "                        <td id=\"T_6dfcc7fe_7ff3_11eb_a843_02420a39366drow8_col6\" class=\"data row8 col6\" >3</td>\n",
       "            </tr>\n",
       "    </tbody></table>"
      ],
      "text/plain": [
       "<pandas.io.formats.style.Styler at 0x7f9cf832c950>"
      ]
     },
     "execution_count": 16,
     "metadata": {},
     "output_type": "execute_result"
    }
   ],
   "source": [
    "pd.options.display.max_colwidth = 120\n",
    "\n",
    "cm = sns.light_palette(\"orange\", as_cmap=True)\n",
    "\n",
    "hypothesis.sort_values(by='RICE', ascending=False).style.background_gradient(cmap=cm)"
   ]
  },
  {
   "cell_type": "markdown",
   "metadata": {},
   "source": [
    "###### Вывод"
   ]
  },
  {
   "cell_type": "markdown",
   "metadata": {},
   "source": [
    "Приоритезация гипотез показала, что разные гипотезы могут быть в приоритете, исходя из примененного метода. Однако также важно ориентироваться на то, что необходимо получить на выходе. Например, если нужно прилекать новых пользователей, то стоит проверят гипотезу про сбор данных для email-рассылки или гипотезу про привлечение новых каналов трафика. А если цель - повышение конверсии, то стоит проверить гипотезы о добавлении на сайт рекомендаций или баннеров с акциями"
   ]
  },
  {
   "cell_type": "markdown",
   "metadata": {},
   "source": [
    "## Анализ A/B-теста"
   ]
  },
  {
   "cell_type": "markdown",
   "metadata": {},
   "source": [
    "### Создание сводной таблицы для построения графиков "
   ]
  },
  {
   "cell_type": "code",
   "execution_count": 17,
   "metadata": {},
   "outputs": [
    {
     "data": {
      "text/plain": [
       "group\n",
       "A    18736\n",
       "B    18916\n",
       "Name: visitors, dtype: int64"
      ]
     },
     "execution_count": 17,
     "metadata": {},
     "output_type": "execute_result"
    }
   ],
   "source": [
    "visitors.groupby('group')['visitors'].sum()"
   ]
  },
  {
   "cell_type": "markdown",
   "metadata": {},
   "source": [
    "Сплит в группах А и В сделан примерно 50/50. Создадаим одну сводную таблицу, в которой будут посчитаны колличесво поситтелей, количесво заказав и сумма заказов по группам. Также добавим в эту таблицу кумулятивные версии этих показателей"
   ]
  },
  {
   "cell_type": "code",
   "execution_count": 18,
   "metadata": {},
   "outputs": [
    {
     "data": {
      "text/html": [
       "<div>\n",
       "<style scoped>\n",
       "    .dataframe tbody tr th:only-of-type {\n",
       "        vertical-align: middle;\n",
       "    }\n",
       "\n",
       "    .dataframe tbody tr th {\n",
       "        vertical-align: top;\n",
       "    }\n",
       "\n",
       "    .dataframe thead th {\n",
       "        text-align: right;\n",
       "    }\n",
       "</style>\n",
       "<table border=\"1\" class=\"dataframe\">\n",
       "  <thead>\n",
       "    <tr style=\"text-align: right;\">\n",
       "      <th></th>\n",
       "      <th>date</th>\n",
       "      <th>visitors_a_per_date</th>\n",
       "    </tr>\n",
       "  </thead>\n",
       "  <tbody>\n",
       "    <tr>\n",
       "      <td>0</td>\n",
       "      <td>2019-08-01</td>\n",
       "      <td>719</td>\n",
       "    </tr>\n",
       "    <tr>\n",
       "      <td>1</td>\n",
       "      <td>2019-08-02</td>\n",
       "      <td>619</td>\n",
       "    </tr>\n",
       "    <tr>\n",
       "      <td>2</td>\n",
       "      <td>2019-08-03</td>\n",
       "      <td>507</td>\n",
       "    </tr>\n",
       "    <tr>\n",
       "      <td>3</td>\n",
       "      <td>2019-08-04</td>\n",
       "      <td>717</td>\n",
       "    </tr>\n",
       "    <tr>\n",
       "      <td>4</td>\n",
       "      <td>2019-08-05</td>\n",
       "      <td>756</td>\n",
       "    </tr>\n",
       "  </tbody>\n",
       "</table>\n",
       "</div>"
      ],
      "text/plain": [
       "        date  visitors_a_per_date\n",
       "0 2019-08-01                  719\n",
       "1 2019-08-02                  619\n",
       "2 2019-08-03                  507\n",
       "3 2019-08-04                  717\n",
       "4 2019-08-05                  756"
      ]
     },
     "metadata": {},
     "output_type": "display_data"
    },
    {
     "data": {
      "text/html": [
       "<div>\n",
       "<style scoped>\n",
       "    .dataframe tbody tr th:only-of-type {\n",
       "        vertical-align: middle;\n",
       "    }\n",
       "\n",
       "    .dataframe tbody tr th {\n",
       "        vertical-align: top;\n",
       "    }\n",
       "\n",
       "    .dataframe thead th {\n",
       "        text-align: right;\n",
       "    }\n",
       "</style>\n",
       "<table border=\"1\" class=\"dataframe\">\n",
       "  <thead>\n",
       "    <tr style=\"text-align: right;\">\n",
       "      <th></th>\n",
       "      <th>date</th>\n",
       "      <th>visitors_b_per_date</th>\n",
       "    </tr>\n",
       "  </thead>\n",
       "  <tbody>\n",
       "    <tr>\n",
       "      <td>31</td>\n",
       "      <td>2019-08-01</td>\n",
       "      <td>713</td>\n",
       "    </tr>\n",
       "    <tr>\n",
       "      <td>32</td>\n",
       "      <td>2019-08-02</td>\n",
       "      <td>581</td>\n",
       "    </tr>\n",
       "    <tr>\n",
       "      <td>33</td>\n",
       "      <td>2019-08-03</td>\n",
       "      <td>509</td>\n",
       "    </tr>\n",
       "    <tr>\n",
       "      <td>34</td>\n",
       "      <td>2019-08-04</td>\n",
       "      <td>770</td>\n",
       "    </tr>\n",
       "    <tr>\n",
       "      <td>35</td>\n",
       "      <td>2019-08-05</td>\n",
       "      <td>707</td>\n",
       "    </tr>\n",
       "  </tbody>\n",
       "</table>\n",
       "</div>"
      ],
      "text/plain": [
       "         date  visitors_b_per_date\n",
       "31 2019-08-01                  713\n",
       "32 2019-08-02                  581\n",
       "33 2019-08-03                  509\n",
       "34 2019-08-04                  770\n",
       "35 2019-08-05                  707"
      ]
     },
     "execution_count": 18,
     "metadata": {},
     "output_type": "execute_result"
    }
   ],
   "source": [
    "#создадим таблицы для каждой группы, где будет указано количество посетителей за каждую дату\n",
    "visitors_a_daily = visitors.query('group == \"A\"')[['date', 'visitors']]\n",
    "visitors_a_daily.columns = ['date', 'visitors_a_per_date']\n",
    "display(visitors_a_daily.head())\n",
    "\n",
    "visitors_b_daily = visitors.query('group == \"B\"')[['date', 'visitors']]\n",
    "visitors_b_daily.columns = ['date', 'visitors_b_per_date']\n",
    "visitors_b_daily.head()"
   ]
  },
  {
   "cell_type": "code",
   "execution_count": 19,
   "metadata": {},
   "outputs": [
    {
     "data": {
      "text/html": [
       "<div>\n",
       "<style scoped>\n",
       "    .dataframe tbody tr th:only-of-type {\n",
       "        vertical-align: middle;\n",
       "    }\n",
       "\n",
       "    .dataframe tbody tr th {\n",
       "        vertical-align: top;\n",
       "    }\n",
       "\n",
       "    .dataframe thead th {\n",
       "        text-align: right;\n",
       "    }\n",
       "</style>\n",
       "<table border=\"1\" class=\"dataframe\">\n",
       "  <thead>\n",
       "    <tr style=\"text-align: right;\">\n",
       "      <th></th>\n",
       "      <th>date</th>\n",
       "      <th>visitors_a_cum</th>\n",
       "    </tr>\n",
       "  </thead>\n",
       "  <tbody>\n",
       "    <tr>\n",
       "      <td>0</td>\n",
       "      <td>2019-08-01</td>\n",
       "      <td>719</td>\n",
       "    </tr>\n",
       "    <tr>\n",
       "      <td>1</td>\n",
       "      <td>2019-08-02</td>\n",
       "      <td>1338</td>\n",
       "    </tr>\n",
       "    <tr>\n",
       "      <td>2</td>\n",
       "      <td>2019-08-03</td>\n",
       "      <td>1845</td>\n",
       "    </tr>\n",
       "    <tr>\n",
       "      <td>3</td>\n",
       "      <td>2019-08-04</td>\n",
       "      <td>2562</td>\n",
       "    </tr>\n",
       "    <tr>\n",
       "      <td>4</td>\n",
       "      <td>2019-08-05</td>\n",
       "      <td>3318</td>\n",
       "    </tr>\n",
       "  </tbody>\n",
       "</table>\n",
       "</div>"
      ],
      "text/plain": [
       "        date  visitors_a_cum\n",
       "0 2019-08-01             719\n",
       "1 2019-08-02            1338\n",
       "2 2019-08-03            1845\n",
       "3 2019-08-04            2562\n",
       "4 2019-08-05            3318"
      ]
     },
     "metadata": {},
     "output_type": "display_data"
    },
    {
     "data": {
      "text/html": [
       "<div>\n",
       "<style scoped>\n",
       "    .dataframe tbody tr th:only-of-type {\n",
       "        vertical-align: middle;\n",
       "    }\n",
       "\n",
       "    .dataframe tbody tr th {\n",
       "        vertical-align: top;\n",
       "    }\n",
       "\n",
       "    .dataframe thead th {\n",
       "        text-align: right;\n",
       "    }\n",
       "</style>\n",
       "<table border=\"1\" class=\"dataframe\">\n",
       "  <thead>\n",
       "    <tr style=\"text-align: right;\">\n",
       "      <th></th>\n",
       "      <th>date</th>\n",
       "      <th>visitors_b_cum</th>\n",
       "    </tr>\n",
       "  </thead>\n",
       "  <tbody>\n",
       "    <tr>\n",
       "      <td>31</td>\n",
       "      <td>2019-08-01</td>\n",
       "      <td>713</td>\n",
       "    </tr>\n",
       "    <tr>\n",
       "      <td>32</td>\n",
       "      <td>2019-08-02</td>\n",
       "      <td>1294</td>\n",
       "    </tr>\n",
       "    <tr>\n",
       "      <td>33</td>\n",
       "      <td>2019-08-03</td>\n",
       "      <td>1803</td>\n",
       "    </tr>\n",
       "    <tr>\n",
       "      <td>34</td>\n",
       "      <td>2019-08-04</td>\n",
       "      <td>2573</td>\n",
       "    </tr>\n",
       "    <tr>\n",
       "      <td>35</td>\n",
       "      <td>2019-08-05</td>\n",
       "      <td>3280</td>\n",
       "    </tr>\n",
       "  </tbody>\n",
       "</table>\n",
       "</div>"
      ],
      "text/plain": [
       "         date  visitors_b_cum\n",
       "31 2019-08-01             713\n",
       "32 2019-08-02            1294\n",
       "33 2019-08-03            1803\n",
       "34 2019-08-04            2573\n",
       "35 2019-08-05            3280"
      ]
     },
     "execution_count": 19,
     "metadata": {},
     "output_type": "execute_result"
    }
   ],
   "source": [
    "#сделаем куммулятивные версии этих таблиц\n",
    "#теперь в каждой строке есть дата и сумма всех пользователей за эту дату + сумма ползователей за все предыдущие даты\n",
    "\n",
    "visitors_a_cum = visitors_a_daily.apply(lambda x: visitors_a_daily[visitors_a_daily['date'] <= x['date']]\n",
    "    .agg({'date': 'max', 'visitors_a_per_date': 'sum'}),\n",
    "    axis=1,\n",
    ")\n",
    "visitors_a_cum.columns = ['date', 'visitors_a_cum']\n",
    "display(visitors_a_cum.head())\n",
    "\n",
    "visitors_b_cum = visitors_b_daily.apply(lambda x: visitors_b_daily[visitors_b_daily['date'] <= x['date']]\n",
    "    .agg({'date': 'max', 'visitors_b_per_date': 'sum'}),\n",
    "    axis=1,\n",
    ")\n",
    "visitors_b_cum.columns = ['date', 'visitors_b_cum']\n",
    "visitors_b_cum.head()\n"
   ]
  },
  {
   "cell_type": "code",
   "execution_count": 20,
   "metadata": {},
   "outputs": [
    {
     "data": {
      "text/html": [
       "<div>\n",
       "<style scoped>\n",
       "    .dataframe tbody tr th:only-of-type {\n",
       "        vertical-align: middle;\n",
       "    }\n",
       "\n",
       "    .dataframe tbody tr th {\n",
       "        vertical-align: top;\n",
       "    }\n",
       "\n",
       "    .dataframe thead th {\n",
       "        text-align: right;\n",
       "    }\n",
       "</style>\n",
       "<table border=\"1\" class=\"dataframe\">\n",
       "  <thead>\n",
       "    <tr style=\"text-align: right;\">\n",
       "      <th></th>\n",
       "      <th>date</th>\n",
       "      <th>orders_a_per_date</th>\n",
       "      <th>revenue_a_per_date</th>\n",
       "    </tr>\n",
       "  </thead>\n",
       "  <tbody>\n",
       "    <tr>\n",
       "      <td>0</td>\n",
       "      <td>2019-08-01</td>\n",
       "      <td>23</td>\n",
       "      <td>142779</td>\n",
       "    </tr>\n",
       "    <tr>\n",
       "      <td>1</td>\n",
       "      <td>2019-08-02</td>\n",
       "      <td>19</td>\n",
       "      <td>91602</td>\n",
       "    </tr>\n",
       "    <tr>\n",
       "      <td>2</td>\n",
       "      <td>2019-08-03</td>\n",
       "      <td>24</td>\n",
       "      <td>112473</td>\n",
       "    </tr>\n",
       "    <tr>\n",
       "      <td>3</td>\n",
       "      <td>2019-08-04</td>\n",
       "      <td>11</td>\n",
       "      <td>41176</td>\n",
       "    </tr>\n",
       "    <tr>\n",
       "      <td>4</td>\n",
       "      <td>2019-08-05</td>\n",
       "      <td>22</td>\n",
       "      <td>86383</td>\n",
       "    </tr>\n",
       "  </tbody>\n",
       "</table>\n",
       "</div>"
      ],
      "text/plain": [
       "        date  orders_a_per_date  revenue_a_per_date\n",
       "0 2019-08-01                 23              142779\n",
       "1 2019-08-02                 19               91602\n",
       "2 2019-08-03                 24              112473\n",
       "3 2019-08-04                 11               41176\n",
       "4 2019-08-05                 22               86383"
      ]
     },
     "metadata": {},
     "output_type": "display_data"
    },
    {
     "data": {
      "text/html": [
       "<div>\n",
       "<style scoped>\n",
       "    .dataframe tbody tr th:only-of-type {\n",
       "        vertical-align: middle;\n",
       "    }\n",
       "\n",
       "    .dataframe tbody tr th {\n",
       "        vertical-align: top;\n",
       "    }\n",
       "\n",
       "    .dataframe thead th {\n",
       "        text-align: right;\n",
       "    }\n",
       "</style>\n",
       "<table border=\"1\" class=\"dataframe\">\n",
       "  <thead>\n",
       "    <tr style=\"text-align: right;\">\n",
       "      <th></th>\n",
       "      <th>date</th>\n",
       "      <th>orders_b_per_date</th>\n",
       "      <th>revenue_b_per_date</th>\n",
       "    </tr>\n",
       "  </thead>\n",
       "  <tbody>\n",
       "    <tr>\n",
       "      <td>0</td>\n",
       "      <td>2019-08-01</td>\n",
       "      <td>17</td>\n",
       "      <td>59758</td>\n",
       "    </tr>\n",
       "    <tr>\n",
       "      <td>1</td>\n",
       "      <td>2019-08-02</td>\n",
       "      <td>23</td>\n",
       "      <td>162043</td>\n",
       "    </tr>\n",
       "    <tr>\n",
       "      <td>2</td>\n",
       "      <td>2019-08-03</td>\n",
       "      <td>14</td>\n",
       "      <td>67049</td>\n",
       "    </tr>\n",
       "    <tr>\n",
       "      <td>3</td>\n",
       "      <td>2019-08-04</td>\n",
       "      <td>14</td>\n",
       "      <td>96890</td>\n",
       "    </tr>\n",
       "    <tr>\n",
       "      <td>4</td>\n",
       "      <td>2019-08-05</td>\n",
       "      <td>21</td>\n",
       "      <td>89908</td>\n",
       "    </tr>\n",
       "  </tbody>\n",
       "</table>\n",
       "</div>"
      ],
      "text/plain": [
       "        date  orders_b_per_date  revenue_b_per_date\n",
       "0 2019-08-01                 17               59758\n",
       "1 2019-08-02                 23              162043\n",
       "2 2019-08-03                 14               67049\n",
       "3 2019-08-04                 14               96890\n",
       "4 2019-08-05                 21               89908"
      ]
     },
     "execution_count": 20,
     "metadata": {},
     "output_type": "execute_result"
    }
   ],
   "source": [
    "#сделаем тоже самое для заказов - будем считать колличесвто заказов и сумму выручки с них \n",
    "orders_a = orders.query('group == \"A\"')[['date', 'transaction_id', 'visitor_id', 'revenue']]\n",
    "orders_a_daily = (orders_a\n",
    "                  .groupby('date', as_index=False)\n",
    "                  .agg({'transaction_id': pd.Series.nunique, 'revenue': 'sum'}))\n",
    "\n",
    "orders_a_daily.columns = ['date', 'orders_a_per_date', 'revenue_a_per_date']\n",
    "display(orders_a_daily.head())\n",
    "\n",
    "orders_b = orders.query('group == \"B\"')[['date', 'transaction_id', 'visitor_id', 'revenue']]\n",
    "orders_b_daily = (orders_b\n",
    "                  .groupby('date', as_index=False)\n",
    "                  .agg({'transaction_id': pd.Series.nunique, 'revenue': 'sum'}))\n",
    "\n",
    "orders_b_daily.columns = ['date', 'orders_b_per_date', 'revenue_b_per_date']\n",
    "orders_b_daily.head()\n"
   ]
  },
  {
   "cell_type": "code",
   "execution_count": 21,
   "metadata": {},
   "outputs": [
    {
     "data": {
      "text/html": [
       "<div>\n",
       "<style scoped>\n",
       "    .dataframe tbody tr th:only-of-type {\n",
       "        vertical-align: middle;\n",
       "    }\n",
       "\n",
       "    .dataframe tbody tr th {\n",
       "        vertical-align: top;\n",
       "    }\n",
       "\n",
       "    .dataframe thead th {\n",
       "        text-align: right;\n",
       "    }\n",
       "</style>\n",
       "<table border=\"1\" class=\"dataframe\">\n",
       "  <thead>\n",
       "    <tr style=\"text-align: right;\">\n",
       "      <th></th>\n",
       "      <th>date</th>\n",
       "      <th>orders_a_cum</th>\n",
       "      <th>revenue_a_cum</th>\n",
       "    </tr>\n",
       "  </thead>\n",
       "  <tbody>\n",
       "    <tr>\n",
       "      <td>0</td>\n",
       "      <td>2019-08-01</td>\n",
       "      <td>23</td>\n",
       "      <td>142779</td>\n",
       "    </tr>\n",
       "    <tr>\n",
       "      <td>1</td>\n",
       "      <td>2019-08-02</td>\n",
       "      <td>42</td>\n",
       "      <td>234381</td>\n",
       "    </tr>\n",
       "    <tr>\n",
       "      <td>2</td>\n",
       "      <td>2019-08-03</td>\n",
       "      <td>66</td>\n",
       "      <td>346854</td>\n",
       "    </tr>\n",
       "    <tr>\n",
       "      <td>3</td>\n",
       "      <td>2019-08-04</td>\n",
       "      <td>77</td>\n",
       "      <td>388030</td>\n",
       "    </tr>\n",
       "    <tr>\n",
       "      <td>4</td>\n",
       "      <td>2019-08-05</td>\n",
       "      <td>99</td>\n",
       "      <td>474413</td>\n",
       "    </tr>\n",
       "  </tbody>\n",
       "</table>\n",
       "</div>"
      ],
      "text/plain": [
       "        date  orders_a_cum  revenue_a_cum\n",
       "0 2019-08-01            23         142779\n",
       "1 2019-08-02            42         234381\n",
       "2 2019-08-03            66         346854\n",
       "3 2019-08-04            77         388030\n",
       "4 2019-08-05            99         474413"
      ]
     },
     "metadata": {},
     "output_type": "display_data"
    },
    {
     "data": {
      "text/html": [
       "<div>\n",
       "<style scoped>\n",
       "    .dataframe tbody tr th:only-of-type {\n",
       "        vertical-align: middle;\n",
       "    }\n",
       "\n",
       "    .dataframe tbody tr th {\n",
       "        vertical-align: top;\n",
       "    }\n",
       "\n",
       "    .dataframe thead th {\n",
       "        text-align: right;\n",
       "    }\n",
       "</style>\n",
       "<table border=\"1\" class=\"dataframe\">\n",
       "  <thead>\n",
       "    <tr style=\"text-align: right;\">\n",
       "      <th></th>\n",
       "      <th>date</th>\n",
       "      <th>orders_b_cum</th>\n",
       "      <th>revenue_b_cum</th>\n",
       "    </tr>\n",
       "  </thead>\n",
       "  <tbody>\n",
       "    <tr>\n",
       "      <td>0</td>\n",
       "      <td>2019-08-01</td>\n",
       "      <td>17</td>\n",
       "      <td>59758</td>\n",
       "    </tr>\n",
       "    <tr>\n",
       "      <td>1</td>\n",
       "      <td>2019-08-02</td>\n",
       "      <td>40</td>\n",
       "      <td>221801</td>\n",
       "    </tr>\n",
       "    <tr>\n",
       "      <td>2</td>\n",
       "      <td>2019-08-03</td>\n",
       "      <td>54</td>\n",
       "      <td>288850</td>\n",
       "    </tr>\n",
       "    <tr>\n",
       "      <td>3</td>\n",
       "      <td>2019-08-04</td>\n",
       "      <td>68</td>\n",
       "      <td>385740</td>\n",
       "    </tr>\n",
       "    <tr>\n",
       "      <td>4</td>\n",
       "      <td>2019-08-05</td>\n",
       "      <td>89</td>\n",
       "      <td>475648</td>\n",
       "    </tr>\n",
       "  </tbody>\n",
       "</table>\n",
       "</div>"
      ],
      "text/plain": [
       "        date  orders_b_cum  revenue_b_cum\n",
       "0 2019-08-01            17          59758\n",
       "1 2019-08-02            40         221801\n",
       "2 2019-08-03            54         288850\n",
       "3 2019-08-04            68         385740\n",
       "4 2019-08-05            89         475648"
      ]
     },
     "execution_count": 21,
     "metadata": {},
     "output_type": "execute_result"
    }
   ],
   "source": [
    "#куммулятивные версии таблиц с заказами\n",
    "\n",
    "orders_a_cum = orders_a_daily.apply(\n",
    "    lambda x: orders_a_daily[orders_a_daily['date'] <= x['date']]\n",
    "    .agg({'date': 'max', 'orders_a_per_date': 'sum', 'revenue_a_per_date': 'sum'}\n",
    "    ),\n",
    "    axis=1,\n",
    ").sort_values(by=['date'])\n",
    "\n",
    "orders_a_cum.columns = ['date','orders_a_cum','revenue_a_cum']\n",
    "\n",
    "\n",
    "orders_b_cum = orders_b_daily.apply(\n",
    "    lambda x: orders_b_daily[orders_b_daily['date'] <= x['date']]\n",
    "    .agg({'date': 'max', 'orders_b_per_date': 'sum', 'revenue_b_per_date': 'sum'}\n",
    "    ),\n",
    "    axis=1,\n",
    ").sort_values(by=['date'])\n",
    "\n",
    "orders_b_cum.columns = ['date','orders_b_cum','revenue_b_cum']\n",
    "\n",
    "display(orders_a_cum.head())\n",
    "orders_b_cum.head()"
   ]
  },
  {
   "cell_type": "code",
   "execution_count": 22,
   "metadata": {},
   "outputs": [
    {
     "data": {
      "text/html": [
       "<div>\n",
       "<style scoped>\n",
       "    .dataframe tbody tr th:only-of-type {\n",
       "        vertical-align: middle;\n",
       "    }\n",
       "\n",
       "    .dataframe tbody tr th {\n",
       "        vertical-align: top;\n",
       "    }\n",
       "\n",
       "    .dataframe thead th {\n",
       "        text-align: right;\n",
       "    }\n",
       "</style>\n",
       "<table border=\"1\" class=\"dataframe\">\n",
       "  <thead>\n",
       "    <tr style=\"text-align: right;\">\n",
       "      <th></th>\n",
       "      <th>date</th>\n",
       "      <th>orders_a_per_date</th>\n",
       "      <th>revenue_a_per_date</th>\n",
       "      <th>orders_b_per_date</th>\n",
       "      <th>revenue_b_per_date</th>\n",
       "      <th>orders_a_cum</th>\n",
       "      <th>revenue_a_cum</th>\n",
       "      <th>orders_b_cum</th>\n",
       "      <th>revenue_b_cum</th>\n",
       "      <th>visitors_a_per_date</th>\n",
       "      <th>visitors_b_per_date</th>\n",
       "      <th>visitors_a_cum</th>\n",
       "      <th>visitors_b_cum</th>\n",
       "    </tr>\n",
       "  </thead>\n",
       "  <tbody>\n",
       "    <tr>\n",
       "      <td>0</td>\n",
       "      <td>2019-08-01</td>\n",
       "      <td>23</td>\n",
       "      <td>142779</td>\n",
       "      <td>17</td>\n",
       "      <td>59758</td>\n",
       "      <td>23</td>\n",
       "      <td>142779</td>\n",
       "      <td>17</td>\n",
       "      <td>59758</td>\n",
       "      <td>719</td>\n",
       "      <td>713</td>\n",
       "      <td>719</td>\n",
       "      <td>713</td>\n",
       "    </tr>\n",
       "    <tr>\n",
       "      <td>1</td>\n",
       "      <td>2019-08-02</td>\n",
       "      <td>19</td>\n",
       "      <td>91602</td>\n",
       "      <td>23</td>\n",
       "      <td>162043</td>\n",
       "      <td>42</td>\n",
       "      <td>234381</td>\n",
       "      <td>40</td>\n",
       "      <td>221801</td>\n",
       "      <td>619</td>\n",
       "      <td>581</td>\n",
       "      <td>1338</td>\n",
       "      <td>1294</td>\n",
       "    </tr>\n",
       "    <tr>\n",
       "      <td>2</td>\n",
       "      <td>2019-08-03</td>\n",
       "      <td>24</td>\n",
       "      <td>112473</td>\n",
       "      <td>14</td>\n",
       "      <td>67049</td>\n",
       "      <td>66</td>\n",
       "      <td>346854</td>\n",
       "      <td>54</td>\n",
       "      <td>288850</td>\n",
       "      <td>507</td>\n",
       "      <td>509</td>\n",
       "      <td>1845</td>\n",
       "      <td>1803</td>\n",
       "    </tr>\n",
       "    <tr>\n",
       "      <td>3</td>\n",
       "      <td>2019-08-04</td>\n",
       "      <td>11</td>\n",
       "      <td>41176</td>\n",
       "      <td>14</td>\n",
       "      <td>96890</td>\n",
       "      <td>77</td>\n",
       "      <td>388030</td>\n",
       "      <td>68</td>\n",
       "      <td>385740</td>\n",
       "      <td>717</td>\n",
       "      <td>770</td>\n",
       "      <td>2562</td>\n",
       "      <td>2573</td>\n",
       "    </tr>\n",
       "    <tr>\n",
       "      <td>4</td>\n",
       "      <td>2019-08-05</td>\n",
       "      <td>22</td>\n",
       "      <td>86383</td>\n",
       "      <td>21</td>\n",
       "      <td>89908</td>\n",
       "      <td>99</td>\n",
       "      <td>474413</td>\n",
       "      <td>89</td>\n",
       "      <td>475648</td>\n",
       "      <td>756</td>\n",
       "      <td>707</td>\n",
       "      <td>3318</td>\n",
       "      <td>3280</td>\n",
       "    </tr>\n",
       "  </tbody>\n",
       "</table>\n",
       "</div>"
      ],
      "text/plain": [
       "        date  orders_a_per_date  revenue_a_per_date  orders_b_per_date  \\\n",
       "0 2019-08-01                 23              142779                 17   \n",
       "1 2019-08-02                 19               91602                 23   \n",
       "2 2019-08-03                 24              112473                 14   \n",
       "3 2019-08-04                 11               41176                 14   \n",
       "4 2019-08-05                 22               86383                 21   \n",
       "\n",
       "   revenue_b_per_date  orders_a_cum  revenue_a_cum  orders_b_cum  \\\n",
       "0               59758            23         142779            17   \n",
       "1              162043            42         234381            40   \n",
       "2               67049            66         346854            54   \n",
       "3               96890            77         388030            68   \n",
       "4               89908            99         474413            89   \n",
       "\n",
       "   revenue_b_cum  visitors_a_per_date  visitors_b_per_date  visitors_a_cum  \\\n",
       "0          59758                  719                  713             719   \n",
       "1         221801                  619                  581            1338   \n",
       "2         288850                  507                  509            1845   \n",
       "3         385740                  717                  770            2562   \n",
       "4         475648                  756                  707            3318   \n",
       "\n",
       "   visitors_b_cum  \n",
       "0             713  \n",
       "1            1294  \n",
       "2            1803  \n",
       "3            2573  \n",
       "4            3280  "
      ]
     },
     "execution_count": 22,
     "metadata": {},
     "output_type": "execute_result"
    }
   ],
   "source": [
    "#склеиваем все в одну таблицу \n",
    "data = (\n",
    "    orders_a_daily.merge(orders_b_daily, on='date', how='left')\n",
    "    .merge(orders_a_cum, on='date', how='left')\n",
    "    .merge(orders_b_cum, on='date', how='left')\n",
    "    \n",
    "    .merge(visitors_a_daily, on='date', how='left')\n",
    "    .merge(visitors_b_daily, on='date', how='left')\n",
    "    .merge(visitors_a_cum, on='date', how='left')\n",
    "    .merge(visitors_b_cum, on='date', how='left')\n",
    ")\n",
    "data.head()"
   ]
  },
  {
   "cell_type": "markdown",
   "metadata": {},
   "source": [
    "Мы получили таблицу, где каждая строка соотвествует одному дню проведения теста. В строке указано количесво посетителей, количесвто заказов и общая сумма этих заказов для каждой группыю. Тажке все эти метрики присутсвуют и в кумудятивной версии. "
   ]
  },
  {
   "cell_type": "markdown",
   "metadata": {},
   "source": [
    "### Визуализация ключевых метрик"
   ]
  },
  {
   "cell_type": "code",
   "execution_count": 23,
   "metadata": {},
   "outputs": [
    {
     "data": {
      "image/png": "[encoded data removed]",
      "text/plain": [
       "<Figure size 576x432 with 1 Axes>"
      ]
     },
     "metadata": {
      "needs_background": "light"
     },
     "output_type": "display_data"
    }
   ],
   "source": [
    "#график кумулятивной выручки\n",
    "\n",
    "plt.figure(figsize=(8,6))\n",
    "plt.plot(data['date'], data['revenue_a_cum'], label='A')\n",
    "plt.plot(data['date'], data['revenue_b_cum'],  label='B')\n",
    "\n",
    "plt.annotate('скачок', xy=('2019-08-17', 2800000), xytext=('2019-08-10', 3500000),\n",
    "            arrowprops=dict(facecolor='g'))\n",
    "plt.annotate('отрыв', xy=('2019-08-05', 800000), xytext=('2019-08-05', 2000000),\n",
    "            arrowprops=dict(facecolor='g'))\n",
    "\n",
    "plt.legend() \n",
    "plt.title('Кумулятивная выручка в группах А и В')\n",
    "plt.xlabel('дата')\n",
    "plt.ylabel('выручка')\n",
    "plt.xticks(rotation=45) \n",
    "plt.show()\n",
    "\n",
    "\n",
    "  "
   ]
  },
  {
   "cell_type": "markdown",
   "metadata": {},
   "source": [
    "После небольшого периода, когда разницы в выручке не было, группа В начала немного выраваться вперед. По истечении примерно 2х недель группа А ее догнала, однако вскоре группа В сильно вышла вперед - это может сигнализировать о появлении очень дорогих заказов в выборке. Чуть позже посмотрим на выбросы, а пока построим графики среднего чека по группам — разделим кумулятивную выручку на кумулятивное число заказов"
   ]
  },
  {
   "cell_type": "code",
   "execution_count": 24,
   "metadata": {},
   "outputs": [
    {
     "data": {
      "image/png": "[encoded data removed]",
      "text/plain": [
       "<Figure size 576x432 with 1 Axes>"
      ]
     },
     "metadata": {
      "needs_background": "light"
     },
     "output_type": "display_data"
    }
   ],
   "source": [
    "plt.figure(figsize=(8,6))\n",
    "plt.plot(data['date'], data['revenue_a_cum']/data['orders_a_cum'], label='A')\n",
    "plt.plot(data['date'], data['revenue_b_cum']/data['orders_b_cum'], label='B')\n",
    "\n",
    "plt.annotate('отрыв', xy=('2019-08-11', 6500), xytext=('2019-08-11', 7500),\n",
    "            arrowprops=dict(facecolor='g'))\n",
    "plt.annotate('скачок', xy=('2019-08-17', 7200), xytext=('2019-08-13', 8200),\n",
    "            arrowprops=dict(facecolor='g'))\n",
    "\n",
    "plt.legend() \n",
    "plt.title('Средний чек в группах А и В')\n",
    "plt.xlabel('дата')\n",
    "plt.ylabel('средний чек')\n",
    "plt.xticks(rotation=45) \n",
    "plt.show()"
   ]
  },
  {
   "cell_type": "markdown",
   "metadata": {},
   "source": [
    "На графике со средним чеком похожая история: в районе 18 числа видимо произошел силный выброс. До этого выброса был небольшой период, когда средний чек группы А был выше среднего чека группы В - видно, что кумутивное значение среднего чека колеблится вплоть до середины теста, возможно удалив выбросы мы увидим, что метрика устаканивается, но пока об этом говорить рано"
   ]
  },
  {
   "cell_type": "code",
   "execution_count": 25,
   "metadata": {},
   "outputs": [
    {
     "data": {
      "image/png": "[encoded data removed]",
      "text/plain": [
       "<Figure size 576x432 with 1 Axes>"
      ]
     },
     "metadata": {
      "needs_background": "light"
     },
     "output_type": "display_data"
    }
   ],
   "source": [
    "#график относительного различия для среднего чека\n",
    "plt.figure(figsize=(8,6))\n",
    "plt.plot(data['date'], \n",
    "         (data['revenue_b_cum']/data['orders_b_cum'])\n",
    "         /\n",
    "         (data['revenue_a_cum']/data['orders_a_cum'])-1)\n",
    "\n",
    "plt.axhline(y=0, color='black', linestyle='--') \n",
    "plt.title('Относительное различие среднего чека')\n",
    "plt.xlabel('дата')\n",
    "plt.ylabel('отношение разницы среднего чека')\n",
    "plt.xticks(rotation=45) \n",
    "plt.show()"
   ]
  },
  {
   "cell_type": "markdown",
   "metadata": {},
   "source": [
    "Результаты теста значительно и резко поменялись в районе 8го и 20го числа - график различия между сегментами резко «скачет», это гоовроит о присутсвии очень крупных заказов."
   ]
  },
  {
   "cell_type": "code",
   "execution_count": 26,
   "metadata": {},
   "outputs": [],
   "source": [
    "# считаем кумулятивную конверсию\n",
    "data['conversion_a'] = data['orders_a_cum']  / data['visitors_a_cum'] \n",
    "data['conversion_b'] = data['orders_b_cum']  / data['visitors_b_cum'] \n"
   ]
  },
  {
   "cell_type": "code",
   "execution_count": 27,
   "metadata": {},
   "outputs": [
    {
     "data": {
      "text/html": [
       "<div>\n",
       "<style scoped>\n",
       "    .dataframe tbody tr th:only-of-type {\n",
       "        vertical-align: middle;\n",
       "    }\n",
       "\n",
       "    .dataframe tbody tr th {\n",
       "        vertical-align: top;\n",
       "    }\n",
       "\n",
       "    .dataframe thead th {\n",
       "        text-align: right;\n",
       "    }\n",
       "</style>\n",
       "<table border=\"1\" class=\"dataframe\">\n",
       "  <thead>\n",
       "    <tr style=\"text-align: right;\">\n",
       "      <th></th>\n",
       "      <th>date</th>\n",
       "      <th>orders_a_per_date</th>\n",
       "      <th>revenue_a_per_date</th>\n",
       "      <th>orders_b_per_date</th>\n",
       "      <th>revenue_b_per_date</th>\n",
       "      <th>orders_a_cum</th>\n",
       "      <th>revenue_a_cum</th>\n",
       "      <th>orders_b_cum</th>\n",
       "      <th>revenue_b_cum</th>\n",
       "      <th>visitors_a_per_date</th>\n",
       "      <th>visitors_b_per_date</th>\n",
       "      <th>visitors_a_cum</th>\n",
       "      <th>visitors_b_cum</th>\n",
       "      <th>conversion_a</th>\n",
       "      <th>conversion_b</th>\n",
       "    </tr>\n",
       "  </thead>\n",
       "  <tbody>\n",
       "    <tr>\n",
       "      <td>0</td>\n",
       "      <td>2019-08-01</td>\n",
       "      <td>23</td>\n",
       "      <td>142779</td>\n",
       "      <td>17</td>\n",
       "      <td>59758</td>\n",
       "      <td>23</td>\n",
       "      <td>142779</td>\n",
       "      <td>17</td>\n",
       "      <td>59758</td>\n",
       "      <td>719</td>\n",
       "      <td>713</td>\n",
       "      <td>719</td>\n",
       "      <td>713</td>\n",
       "      <td>0.031989</td>\n",
       "      <td>0.023843</td>\n",
       "    </tr>\n",
       "    <tr>\n",
       "      <td>1</td>\n",
       "      <td>2019-08-02</td>\n",
       "      <td>19</td>\n",
       "      <td>91602</td>\n",
       "      <td>23</td>\n",
       "      <td>162043</td>\n",
       "      <td>42</td>\n",
       "      <td>234381</td>\n",
       "      <td>40</td>\n",
       "      <td>221801</td>\n",
       "      <td>619</td>\n",
       "      <td>581</td>\n",
       "      <td>1338</td>\n",
       "      <td>1294</td>\n",
       "      <td>0.031390</td>\n",
       "      <td>0.030912</td>\n",
       "    </tr>\n",
       "    <tr>\n",
       "      <td>2</td>\n",
       "      <td>2019-08-03</td>\n",
       "      <td>24</td>\n",
       "      <td>112473</td>\n",
       "      <td>14</td>\n",
       "      <td>67049</td>\n",
       "      <td>66</td>\n",
       "      <td>346854</td>\n",
       "      <td>54</td>\n",
       "      <td>288850</td>\n",
       "      <td>507</td>\n",
       "      <td>509</td>\n",
       "      <td>1845</td>\n",
       "      <td>1803</td>\n",
       "      <td>0.035772</td>\n",
       "      <td>0.029950</td>\n",
       "    </tr>\n",
       "    <tr>\n",
       "      <td>3</td>\n",
       "      <td>2019-08-04</td>\n",
       "      <td>11</td>\n",
       "      <td>41176</td>\n",
       "      <td>14</td>\n",
       "      <td>96890</td>\n",
       "      <td>77</td>\n",
       "      <td>388030</td>\n",
       "      <td>68</td>\n",
       "      <td>385740</td>\n",
       "      <td>717</td>\n",
       "      <td>770</td>\n",
       "      <td>2562</td>\n",
       "      <td>2573</td>\n",
       "      <td>0.030055</td>\n",
       "      <td>0.026428</td>\n",
       "    </tr>\n",
       "    <tr>\n",
       "      <td>4</td>\n",
       "      <td>2019-08-05</td>\n",
       "      <td>22</td>\n",
       "      <td>86383</td>\n",
       "      <td>21</td>\n",
       "      <td>89908</td>\n",
       "      <td>99</td>\n",
       "      <td>474413</td>\n",
       "      <td>89</td>\n",
       "      <td>475648</td>\n",
       "      <td>756</td>\n",
       "      <td>707</td>\n",
       "      <td>3318</td>\n",
       "      <td>3280</td>\n",
       "      <td>0.029837</td>\n",
       "      <td>0.027134</td>\n",
       "    </tr>\n",
       "  </tbody>\n",
       "</table>\n",
       "</div>"
      ],
      "text/plain": [
       "        date  orders_a_per_date  revenue_a_per_date  orders_b_per_date  \\\n",
       "0 2019-08-01                 23              142779                 17   \n",
       "1 2019-08-02                 19               91602                 23   \n",
       "2 2019-08-03                 24              112473                 14   \n",
       "3 2019-08-04                 11               41176                 14   \n",
       "4 2019-08-05                 22               86383                 21   \n",
       "\n",
       "   revenue_b_per_date  orders_a_cum  revenue_a_cum  orders_b_cum  \\\n",
       "0               59758            23         142779            17   \n",
       "1              162043            42         234381            40   \n",
       "2               67049            66         346854            54   \n",
       "3               96890            77         388030            68   \n",
       "4               89908            99         474413            89   \n",
       "\n",
       "   revenue_b_cum  visitors_a_per_date  visitors_b_per_date  visitors_a_cum  \\\n",
       "0          59758                  719                  713             719   \n",
       "1         221801                  619                  581            1338   \n",
       "2         288850                  507                  509            1845   \n",
       "3         385740                  717                  770            2562   \n",
       "4         475648                  756                  707            3318   \n",
       "\n",
       "   visitors_b_cum  conversion_a  conversion_b  \n",
       "0             713      0.031989      0.023843  \n",
       "1            1294      0.031390      0.030912  \n",
       "2            1803      0.035772      0.029950  \n",
       "3            2573      0.030055      0.026428  \n",
       "4            3280      0.029837      0.027134  "
      ]
     },
     "execution_count": 27,
     "metadata": {},
     "output_type": "execute_result"
    }
   ],
   "source": [
    "data.head()"
   ]
  },
  {
   "cell_type": "code",
   "execution_count": 28,
   "metadata": {},
   "outputs": [
    {
     "data": {
      "image/png": "[encoded data removed]",
      "text/plain": [
       "<Figure size 576x432 with 1 Axes>"
      ]
     },
     "metadata": {
      "needs_background": "light"
     },
     "output_type": "display_data"
    }
   ],
   "source": [
    "# строим графики\n",
    "plt.figure(figsize=(8,6))\n",
    "plt.plot(data['date'], data['conversion_a'], label='A')\n",
    "plt.plot(data['date'], data['conversion_b'], label='B')\n",
    "\n",
    "plt.annotate('стабилизация', xy=('2019-08-09', 0.035), xytext=('2019-08-09', 0.04),\n",
    "            arrowprops=dict(facecolor='g'))  \n",
    "\n",
    "plt.legend()\n",
    "plt.title('Конверсия групп А и В')\n",
    "plt.ylabel('значение конверсии')\n",
    "plt.xlabel('дата')  \n",
    "plt.axis([\"2019-08-01\", '2019-09-01', 0, 0.06]) \n",
    "plt.xticks(rotation=45)\n",
    "plt.show()"
   ]
  },
  {
   "cell_type": "markdown",
   "metadata": {},
   "source": [
    "С одной строны, конверсия менее подвержена колебанию, так как не имеет дела с суммой заказа, но она имеет дело с количеством заказов, где тоже могут быть аномалии. Тем не менее даже по данным спредположительными аномалиями можно сказать, что уже на 9ый день теста установлась стабильная тенденция: пользователи из группы В чаще становятся клиентами, чем пользователи из группы А. Мы изменили масштаб графика, чтобы было видно, что абсолютное колебание не слишком большое - в пределах 1%, при этом если смотеть вблизи (без изменения масшаба) будет казаться, что конверсии обоих групп еще колеблятся. "
   ]
  },
  {
   "cell_type": "code",
   "execution_count": 29,
   "metadata": {},
   "outputs": [
    {
     "data": {
      "image/png": "[encoded data removed]",
      "text/plain": [
       "<Figure size 576x432 with 1 Axes>"
      ]
     },
     "metadata": {
      "needs_background": "light"
     },
     "output_type": "display_data"
    }
   ],
   "source": [
    "#график относительного различия кумулятивных конверсий\n",
    "plt.figure(figsize=(8,6))\n",
    "plt.plot(data['date'], (data['conversion_b']/data['conversion_a']-1),\n",
    "         label=\"Относительный прирост конверсии группы B относительно группы A\")\n",
    "\n",
    "\n",
    "\n",
    "plt.title('Различие кумулятивных конверсий')\n",
    "plt.ylabel('отношение конверсии В к А')\n",
    "plt.xlabel('дата')\n",
    "\n",
    "plt.xticks(rotation=45)\n",
    "plt.axhline(y=0, color='black', linestyle='--')\n",
    "plt.axhline(y=0.1, color='grey', linestyle='--')\n",
    "plt.axis([\"2019-08-01\", '2019-09-01', -0.4, 0.4]) \n",
    "plt.show()"
   ]
  },
  {
   "cell_type": "markdown",
   "metadata": {},
   "source": [
    "Почти с самого начала теста группа В лидирует: сначала прирост был в районе 20%, потом слегка опустился и в последней рети месца держался на уровне 10%. Такие данные по конверсиям безусловно хороший знак, ведь это говорит о том, что нововедение, которое тестировалось на группе В положительно влиеяет на интернет-магазин, однако перед тем как делать выводы стоит посмотреть на влияние аномальных значений на данные. "
   ]
  },
  {
   "cell_type": "markdown",
   "metadata": {},
   "source": [
    "###  Определение аномалий"
   ]
  },
  {
   "cell_type": "code",
   "execution_count": 30,
   "metadata": {},
   "outputs": [
    {
     "data": {
      "text/html": [
       "<div>\n",
       "<style scoped>\n",
       "    .dataframe tbody tr th:only-of-type {\n",
       "        vertical-align: middle;\n",
       "    }\n",
       "\n",
       "    .dataframe tbody tr th {\n",
       "        vertical-align: top;\n",
       "    }\n",
       "\n",
       "    .dataframe thead th {\n",
       "        text-align: right;\n",
       "    }\n",
       "</style>\n",
       "<table border=\"1\" class=\"dataframe\">\n",
       "  <thead>\n",
       "    <tr style=\"text-align: right;\">\n",
       "      <th></th>\n",
       "      <th>visitor_id</th>\n",
       "      <th>orders</th>\n",
       "    </tr>\n",
       "  </thead>\n",
       "  <tbody>\n",
       "    <tr>\n",
       "      <td>0</td>\n",
       "      <td>5114589</td>\n",
       "      <td>1</td>\n",
       "    </tr>\n",
       "    <tr>\n",
       "      <td>1</td>\n",
       "      <td>6958315</td>\n",
       "      <td>1</td>\n",
       "    </tr>\n",
       "    <tr>\n",
       "      <td>2</td>\n",
       "      <td>11685486</td>\n",
       "      <td>1</td>\n",
       "    </tr>\n",
       "    <tr>\n",
       "      <td>3</td>\n",
       "      <td>39475350</td>\n",
       "      <td>1</td>\n",
       "    </tr>\n",
       "    <tr>\n",
       "      <td>4</td>\n",
       "      <td>47206413</td>\n",
       "      <td>1</td>\n",
       "    </tr>\n",
       "  </tbody>\n",
       "</table>\n",
       "</div>"
      ],
      "text/plain": [
       "   visitor_id  orders\n",
       "0     5114589       1\n",
       "1     6958315       1\n",
       "2    11685486       1\n",
       "3    39475350       1\n",
       "4    47206413       1"
      ]
     },
     "execution_count": 30,
     "metadata": {},
     "output_type": "execute_result"
    }
   ],
   "source": [
    "#подсчитаем количество заказов по пользователям\n",
    "orders_by_users = (\n",
    "    orders\n",
    "    .groupby('visitor_id', as_index=False)\n",
    "    .agg({'transaction_id': 'nunique'})\n",
    ")\n",
    "\n",
    "orders_by_users.columns = ['visitor_id', 'orders']\n",
    "orders_by_users.head()"
   ]
  },
  {
   "cell_type": "code",
   "execution_count": 31,
   "metadata": {
    "scrolled": true
   },
   "outputs": [
    {
     "data": {
      "image/png": "[encoded data removed]",
      "text/plain": [
       "<Figure size 432x288 with 1 Axes>"
      ]
     },
     "metadata": {
      "needs_background": "light"
     },
     "output_type": "display_data"
    }
   ],
   "source": [
    "#построим точечный график количества заказов, передав ему\n",
    "#ось х как числа от 0 до количесва всех заказов за испытумый период, ось y как количесвто заказов по пользователям\n",
    "\n",
    "x_values = pd.Series(range(0,len(orders_by_users)))\n",
    "\n",
    "plt.scatter(x_values, orders_by_users['orders']) \n",
    "plt.title('Количество заказов по пользователям')\n",
    "plt.ylabel('количесто заказов')\n",
    "plt.xlabel('количесвто пользователей')  \n",
    "plt.show()\n"
   ]
  },
  {
   "cell_type": "markdown",
   "metadata": {},
   "source": [
    "Точечный график иллюстрирует то, что большинсвто пользователей совершают 1 заказ, также довольно много тех, кто совершает 2 и относительно немного тех, кто совершает 3 заказа (как видно, это максимальное число заказов для нашей выборки). Однако точная доля тех, кто делает 3 заказа неясна — непонятно, считать их аномалиями или нет, поэтому посчитаем 90-й, 95-й и 99-й перцентили количества заказов."
   ]
  },
  {
   "cell_type": "code",
   "execution_count": 32,
   "metadata": {},
   "outputs": [
    {
     "name": "stdout",
     "output_type": "stream",
     "text": [
      "Значения 90-го, 95-ого и 99-го перцентиля по количесву заказов на одного покупателя:  [1. 1. 2.]\n"
     ]
    }
   ],
   "source": [
    "print('Значения 90-го, 95-ого и 99-го перцентиля по количесву заказов на одного покупателя: ',\n",
    "    np.percentile(orders_by_users['orders'], [90, 95, 99]))"
   ]
  },
  {
   "cell_type": "markdown",
   "metadata": {},
   "source": [
    "Судя по вычислениям выходит, что у 95% пользователей 1 заказ, а у 99% - 1 или 2. То есть не более 1% пользователей совершали 3 4заказа. Возьмем за аномальное количесво заказов больше 2х - тогда в нашу \"очищенную\" выборку попадут 99% проценов всех покупателей. "
   ]
  },
  {
   "cell_type": "code",
   "execution_count": 33,
   "metadata": {},
   "outputs": [
    {
     "data": {
      "image/png": "[encoded data removed]",
      "text/plain": [
       "<Figure size 432x288 with 1 Axes>"
      ]
     },
     "metadata": {
      "needs_background": "light"
     },
     "output_type": "display_data"
    }
   ],
   "source": [
    "#построим точечный график стоимости заказов, передав ему\n",
    "#в качесве оси х числа от 0 до количесва всех заказов за испытумый период, а в качесве оси y - значения выручки за каждый заказ\n",
    "\n",
    "x_values2 = pd.Series(range(0,len(orders['revenue'])))\n",
    "plt.scatter(x_values2, orders['revenue']) \n",
    "\n",
    "plt.title('Стоимость заказов по пользователям')\n",
    "plt.ylabel('стоимость заказа')\n",
    "plt.xlabel('количесвто пользователей')  \n",
    "plt.show()\n"
   ]
  },
  {
   "cell_type": "markdown",
   "metadata": {},
   "source": [
    "Основная масса заказов не превышает 20 000, однако есть и очень дорогой заказы, которые может влиять на наши результаты. Также есть еще заказ в районе 20 000, который тоже выбивается из общей массы.  По графику можно выбрать границу аномальных заказов выше например, 20 000,  однако принято отсеивать от 1% до 5% наблюдений с крайними значениями. Определим 90, 95 и 99 перцентили стоимости заказа в выборке"
   ]
  },
  {
   "cell_type": "code",
   "execution_count": 34,
   "metadata": {},
   "outputs": [
    {
     "name": "stdout",
     "output_type": "stream",
     "text": [
      "Значения 90-го, 95-ого и 99-го перцентиля по стоимости заказов:  [17990. 26785. 53904.]\n"
     ]
    }
   ],
   "source": [
    "print('Значения 90-го, 95-ого и 99-го перцентиля по стоимости заказов: ',\n",
    "    np.percentile(orders['revenue'], [90, 95, 99]))"
   ]
  },
  {
   "cell_type": "markdown",
   "metadata": {},
   "source": [
    "Мы получили следующие значения: у 95% пользователей сумма заказа не выше примерно 18 000, а у 99% не выше 26800. То есть не более 1% пользователей совершали больше 4х заказов. Возьмем за аномальную стоимость все, что выше 26800,  так мы уберём примерно 5% пользователей с очень дорогими заказами. "
   ]
  },
  {
   "cell_type": "markdown",
   "metadata": {},
   "source": [
    "### Сравнение статистической значимости по сырым и отфильтрованным данным "
   ]
  },
  {
   "cell_type": "markdown",
   "metadata": {},
   "source": [
    "Итак, мы увидели выбросы и нашли границу для их определения.Теперь посчитаем статистическую значимость различий в конверсии и среднем чеке между группами по «сырым» данным — без удаления аномальных пользователей."
   ]
  },
  {
   "cell_type": "code",
   "execution_count": 35,
   "metadata": {},
   "outputs": [],
   "source": [
    "#Создадим переменные для каждой группы, в которых укажем пользователей, которые заказывали хотя бы 1 раз или больше\n",
    "orders_by_a = (\n",
    "    orders.query(\"group == 'A'\")\n",
    "    .groupby('visitor_id', as_index=False)\n",
    "    .agg({'transaction_id': pd.Series.nunique})\n",
    ")\n",
    "orders_by_a.columns = ['visitor_id', 'orders']\n",
    "\n",
    "#display(orders_by_a.head())\n",
    "\n",
    "\n",
    "orders_by_b = (\n",
    "    orders.query(\"group == 'B'\")\n",
    "    .groupby('visitor_id', as_index=False)\n",
    "    .agg({'transaction_id': pd.Series.nunique})\n",
    ")\n",
    "orders_by_b.columns = ['visitor_id', 'orders']\n",
    "#orders_by_b.head()"
   ]
  },
  {
   "cell_type": "markdown",
   "metadata": {},
   "source": [
    "Однако, стоит учесть тех пользователей, которые ничего не заказали, для этого добавим нужное количество 0 - оно равно разнице между суммой посетителей и количеством записей о заказах. Склеим вместе нужное количество нулей и данные по количесву заказов\n",
    "В sample_а сохраним выборку, где каждый элемент — число заказов определённого пользователя, в том числе ноль. Логично, что число элементов это выборки — это количество пользователей, сумма всех элементов — количество заказов. Чтобы получить конверсию в группе, поделим сумму заказов на число пользователей — найдём среднее в выборке sample_а методом mean(). Аналогично посчитаем конверсию группы B. "
   ]
  },
  {
   "cell_type": "code",
   "execution_count": 36,
   "metadata": {},
   "outputs": [],
   "source": [
    "#pd.Series(0, index=np.arange(data['visitors_a_per_date'].sum() - len(orders_by_a['orders'])), name='orders')\n",
    "\n",
    "\n",
    "sample_a = pd.concat([orders_by_a['orders'], \n",
    "    pd.Series(0, index=np.arange(data['visitors_a_per_date'].sum() - len(orders_by_a['orders'])), name='orders')                  \n",
    "    ],axis=0)\n",
    "#sample_a\n",
    "\n",
    "sample_b = pd.concat([orders_by_b['orders'], \n",
    "    pd.Series(0, index=np.arange(data['visitors_b_per_date'].sum() - len(orders_by_b['orders'])), name='orders')                  \n",
    "    ],axis=0)\n",
    "#sample_b"
   ]
  },
  {
   "cell_type": "markdown",
   "metadata": {},
   "source": [
    "Мы сформировали две выборки по данным теста - для группы А и для группы В. Теперь с помощью статистического теста мы можем проверить отличаются ли их распределения. Сформулируем гипотезы для проверки: \n",
    "- Нулевая гипотеза: распределение конверсии пользователей группы В не отличается от распределения конверсий пользователей группы А\n",
    "- Альтернативная гипотеза: распределение конверсии пользователей группы В отличается от распределения конверсий пользователей группы А "
   ]
  },
  {
   "cell_type": "markdown",
   "metadata": {},
   "source": [
    "Стоит заметить, что все альтерантивные гипотезы, которые мы будем проверять в этом исследовнании относятся к двухстронним, то есть мы утверждаем, что две группы будут отличаться, при этом нас сайчас не интрересует в какую сторону, то есть в случае принятия альтернативной гипотезы мы будем знать лишь то, что группа В отличается от группы А. Однако именно этот тест не будет показывать, что некая величина в группе В, например, больше. Из этих будем указывать в тесте Манна-Уитни в качесве парметров не только полученые выборки, но и парамерт alternative='two-sided'."
   ]
  },
  {
   "cell_type": "code",
   "execution_count": 37,
   "metadata": {},
   "outputs": [
    {
     "name": "stdout",
     "output_type": "stream",
     "text": [
      "0.011\n",
      "Отвергаем нулевую гипотезу: разница статистически значима\n",
      "0.160\n"
     ]
    }
   ],
   "source": [
    "alpha = 0.05 # критический уровень статистической значимости\n",
    "alpha = alpha / 2 # так как мы будем проверять 2 гипотезы на одних и тех же данных разделим уровень значимости на 2 \n",
    "\n",
    "print(\"{0:.3f}\".format(stats.mannwhitneyu(sample_a, sample_b, alternative='two-sided')[1]))\n",
    "\n",
    "if stats.mannwhitneyu(sample_a, sample_b, alternative='two-sided')[1] < alpha:\n",
    "    print('Отвергаем нулевую гипотезу: разница статистически значима')\n",
    "else:\n",
    "    print('Не получилось отвергнуть нулевую гипотезу, вывод о различии сделать нельзя') \n",
    "    \n",
    "#выведем отнонешение средней конверсии группы В к конверсии группы А\n",
    "print(\"{0:.3f}\".format(sample_b.mean() / sample_a.mean() - 1))"
   ]
  },
  {
   "cell_type": "markdown",
   "metadata": {},
   "source": [
    "Первое число — p-value = 0.011 меньше выбранного нами критического уровня, а значит мы можем отвергать нулевую гипотезу о том, что статистически значимых различий в конверсии между группами нет, то есть различия есть. И эти различия примерно равны 16%. Другими словами, на основании статистического теста Уилкоксона-Манна-Уитни мы можем утверждать, что нововведение, которое тестировалось на группе B действительно повысило конверсию "
   ]
  },
  {
   "cell_type": "markdown",
   "metadata": {},
   "source": [
    "Чтобы рассчитать статистическую значимость различий в среднем чеке между сегментами, просто передадим критерию mannwhitneyu() данные о выручке с заказов из таблицы orders. Также найдём относительные различия в среднем чеке между группами. Сформулируем гипотезы для проверки: \n",
    "- Нулевая гипотеза: распределение чеков пользователей группы В не отличается от распределения чеков пользователей группы А\n",
    "- Альтернативная гипотеза: распределение чеков пользователей группы В отличается от распределения чеков пользователей группы А "
   ]
  },
  {
   "cell_type": "code",
   "execution_count": 38,
   "metadata": {},
   "outputs": [
    {
     "name": "stdout",
     "output_type": "stream",
     "text": [
      "0.829\n",
      "Не получилось отвергнуть нулевую гипотезу, вывод о различии сделать нельзя\n",
      "0.287\n"
     ]
    }
   ],
   "source": [
    "print('{0:.3f}'.format(\n",
    "    stats.mannwhitneyu(orders.query(\"group == 'A'\")['revenue'], \n",
    "                       orders.query(\"group == 'B'\")['revenue'], \n",
    "                       alternative='two-sided')[1]))\n",
    "\n",
    "if (stats.mannwhitneyu(orders.query(\"group == 'A'\")['revenue'], \n",
    "                       orders.query(\"group == 'B'\")['revenue'],\n",
    "                           alternative='two-sided') [1]) < alpha:\n",
    "    print('Отвергаем нулевую гипотезу: разница статистически значима')\n",
    "else:\n",
    "    print('Не получилось отвергнуть нулевую гипотезу, вывод о различии сделать нельзя') \n",
    "\n",
    "#выведем отнонешение среднего чека группы В к среднему чеку группы А\n",
    "print('{0:.3f}'.format(orders.query(\"group == 'B'\")['revenue'].mean()/orders.query(\"group == 'A'\")['revenue'].mean()-1)) "
   ]
  },
  {
   "cell_type": "markdown",
   "metadata": {},
   "source": [
    "P-value значительно больше альфа. Значит, причин отвергать нулевую гипотезу и считать, что в среднем чеке есть различия, нет. Однако простое сравнение средних говорит о том, что средний чек группы B значительно выше среднего чека группы - больше, чем на 29%. Очистим данные от аномалий и проведем эти тесты еще раз: уберем тех пользователей, котрые совершили больше 3х заказов и тех пользователей, чьи заказы дороже 28000. Для этого соберем всех пользователей с любыми аномалиями в однин массив "
   ]
  },
  {
   "cell_type": "code",
   "execution_count": 39,
   "metadata": {},
   "outputs": [
    {
     "name": "stdout",
     "output_type": "stream",
     "text": [
      "Процент аномальных пользователей: 6.0%\n"
     ]
    }
   ],
   "source": [
    "users_with_many_оrders = pd.concat(\n",
    "    [\n",
    "        orders_by_a.query('orders > 2')['visitor_id'],\n",
    "        orders_by_b.query('orders > 2')['visitor_id'],\n",
    "    ],\n",
    "    axis=0,\n",
    ")\n",
    "users_with_expensive_оrders = orders.query('revenue > 26800')['visitor_id']\n",
    "\n",
    "abnormal_users = (pd.concat([users_with_many_оrders, users_with_expensive_оrders ], axis=0)\n",
    "                  .drop_duplicates()\n",
    "                  .sort_values())\n",
    "\n",
    "print('Процент аномальных пользователей: {:.1%}'\n",
    "    .format(len(abnormal_users)/len(orders.groupby('visitor_id')['revenue'].sum())))\n",
    "\n"
   ]
  },
  {
   "cell_type": "markdown",
   "metadata": {},
   "source": [
    "Для того, чтобы получить данные без аномалий нам нужно исключить из общей выборки 6% пользователей. Заметим, что мы исключаем именно пользователей целиком, а не заказы. Для того, чтобы узнать как их действия повлияли на результат, подготовим очищенные выборки "
   ]
  },
  {
   "cell_type": "code",
   "execution_count": 40,
   "metadata": {},
   "outputs": [],
   "source": [
    "sample_a_filtered = pd.concat([orders_by_a[np.logical_not(\n",
    "    orders_by_a['visitor_id'].isin(abnormal_users))]['orders'],\n",
    "        pd.Series(\n",
    "            0,\n",
    "            index=np.arange(data['visitors_a_per_date'].sum() - len(orders_by_a['orders'])),\n",
    "            name='orders')\n",
    "            ],\n",
    "    axis=0)\n",
    "\n",
    "\n",
    "sample_b_filtered = pd.concat([orders_by_b[np.logical_not(\n",
    "    orders_by_b['visitor_id'].isin(abnormal_users))]['orders'],\n",
    "        pd.Series(\n",
    "            0,\n",
    "            index=np.arange(data['visitors_b_per_date'].sum() - len(orders_by_b['orders'])),\n",
    "            name='orders')\n",
    "            ],\n",
    "    axis=0)"
   ]
  },
  {
   "cell_type": "markdown",
   "metadata": {},
   "source": [
    "Посчитаем статистическую значимость различий в конверсии между группами по «очищенным» данным, снова применим тест Уилкоксона-Манна-Уитни. Будем опираться на уже сфрмулированные гипотезы с небольшим утчонением: \n",
    "- Нулевая гипотеза: распределение конверсии пользователей группы В по данным без аномалий не отличается от распределения конверсий пользователей группы А\n",
    "- Альтернативная гипотеза: распределение конверсии пользователей группы В по данным без аномалийотличается от распределения конверсий пользователей группы А "
   ]
  },
  {
   "cell_type": "code",
   "execution_count": 41,
   "metadata": {},
   "outputs": [
    {
     "name": "stdout",
     "output_type": "stream",
     "text": [
      "0.012\n",
      "Отвергаем нулевую гипотезу: разница статистически значима\n",
      "0.182\n"
     ]
    }
   ],
   "source": [
    "print(\"{0:.3f}\".format(stats.mannwhitneyu(sample_a_filtered, sample_b_filtered, alternative='two-sided')[1]))\n",
    "\n",
    "if stats.mannwhitneyu(sample_a_filtered, sample_b_filtered, alternative='two-sided')[1] < alpha:\n",
    "    print('Отвергаем нулевую гипотезу: разница статистически значима')\n",
    "else:\n",
    "    print('Не получилось отвергнуть нулевую гипотезу, вывод о различии сделать нельзя') \n",
    "\n",
    "\n",
    "print('{0:.3f}'.format(sample_b_filtered.mean()/sample_a_filtered.mean()-1)) "
   ]
  },
  {
   "cell_type": "markdown",
   "metadata": {},
   "source": [
    "Результат по очищенным данным почти такой же, как и по сырым: p-value все еще меньше критичесого уровня значимости, что снова говорит о том, что в группах есть статистическая разница. По сравнению средних, значение разницы конверсий выросло на 2%, что возможно объясняется тем, что в группе А у каких-то пользователе было аномально много заказов. "
   ]
  },
  {
   "cell_type": "markdown",
   "metadata": {},
   "source": [
    "То же самое сделаем и для результатов сренего чека. Слегка измеим гипотезы для проверки: \n",
    "- Нулевая гипотеза: распределение чеков пользователей группы В по данным без аномалий не отличается от распределения чеков пользователей группы А\n",
    "- Альтернативная гипотеза: распределение чеков пользователей группы В по данным без аномалий отличается от распределения чеков пользователей группы А "
   ]
  },
  {
   "cell_type": "code",
   "execution_count": 42,
   "metadata": {},
   "outputs": [
    {
     "name": "stdout",
     "output_type": "stream",
     "text": [
      "0.646\n",
      "Не получилось отвергнуть нулевую гипотезу, вывод о различии сделать нельзя\n",
      "-0.048\n"
     ]
    }
   ],
   "source": [
    "#посмотрим на результаты по среднему чеку \n",
    "print('{0:.3f}'.format(\n",
    "        stats.mannwhitneyu(\n",
    "            orders[np.logical_and(orders['group'] == 'A',\n",
    "                    np.logical_not(orders['visitor_id'].isin(abnormal_users)))]['revenue'],\n",
    "            \n",
    "            orders[np.logical_and(orders['group'] == 'B',\n",
    "                    np.logical_not(orders['visitor_id'].isin(abnormal_users)))]['revenue'],\n",
    "            alternative='two-sided'\n",
    "        )[1]\n",
    "    ))\n",
    "\n",
    "#сравним значение p-value с критическим\n",
    "if stats.mannwhitneyu(\n",
    "            orders[np.logical_and(orders['group'] == 'A',\n",
    "                    np.logical_not(orders['visitor_id'].isin(abnormal_users)))]['revenue'],\n",
    "            \n",
    "            orders[np.logical_and(orders['group'] == 'B',\n",
    "                    np.logical_not(orders['visitor_id'].isin(abnormal_users)))]['revenue'],\n",
    "            alternative='two-sided'\n",
    "        )[1] < alpha:\n",
    "    print('Отвергаем нулевую гипотезу: разница статистически значима')\n",
    "else:\n",
    "    print('Не получилось отвергнуть нулевую гипотезу, вывод о различии сделать нельзя') \n",
    "\n",
    "\n",
    "#выведем отнонешение среднего чека группы В к среднему чеку группы А\n",
    "print(\"{0:.3f}\".format(\n",
    "        orders[np.logical_and(orders['group'] == 'B',\n",
    "                np.logical_not(orders['visitor_id'].isin(abnormal_users)))]['revenue'].mean()\n",
    "        / \n",
    "        orders[np.logical_and(orders['group'] == 'A',\n",
    "                np.logical_not(orders['visitor_id'].isin(abnormal_users)))]['revenue'].mean() - 1\n",
    "    )) "
   ]
  },
  {
   "cell_type": "markdown",
   "metadata": {},
   "source": [
    "На этот раз результат по очищенным данным не совсем такой как по сырым: хотя нулевую гипотезу так и не получилось отвергнуть, p-value слегка уменьшилось, а разница между группами значительно сократилась  (с 29% перевеса группы B на 5% перевеса группы А). Похоже, пики на графике относительного различия средних чеков образовались из-за очень больших заказов в группе В, а тот спад, что был в районе 13-го числа как раз и дает отрицательный результат"
   ]
  },
  {
   "cell_type": "markdown",
   "metadata": {},
   "source": [
    "Стоит отдельно сказать о влиянии аномалий на результаты теста: общие выводы по результатам теста не изменились (статистическая значимость у разницы по конверсии есть, а по среденему чеку - нет), однако было видно, как сильно аномалии влияют на средний чек - убрав их, мы получили чуть ли не обратные результаты (хотя и не статисически значимые)"
   ]
  },
  {
   "cell_type": "markdown",
   "metadata": {},
   "source": [
    "### Выводы "
   ]
  },
  {
   "cell_type": "markdown",
   "metadata": {},
   "source": [
    "1. Есть статистически значимое различие по конверсии между группами и по «сырым», и по «очищенным» данным;\n",
    "2. Нет статистически значимого различия по среднему чеку между группами ни по «сырым», ни по данным после фильтрации аномалий - и хотя очищенные данные показывают небольшой перевес в сторону группы А, сложно делать определенные выводы по чеку на данном этапе, так как даже после удаления аномалий в данных не сало меньше шума\n",
    "3. Различия кумулятивной конверсии между группами сообщает, что результаты группы B лучше, чем группы A и этот процесс подтвержден статистическим тестом (прирост коверсии около 14%)\n",
    "4. На данном этапе стоит еще раз пересмотреть цели исследования. Если нам нужно было увеличить конверсию, то А/В тест можно признать успешным и зафиксировать победу группы В. Если цель была помимо конверсии увеличить средний чек, то исследование стоит продолжать, так как на основе только имеющихся данных мы не можем сделать вывода о влиянии нововведения на средний чек  "
   ]
  },
  {
   "cell_type": "markdown",
   "metadata": {},
   "source": [
    "## Выводы по проекту"
   ]
  },
  {
   "cell_type": "markdown",
   "metadata": {},
   "source": [
    "1. На первом этапе знакомства с данными была выявлена потенциальная ошибка в данных - около 5% пользователей попали однвременно в обе группы тестирования. Такие пользователи не должны попадать в данные для анализа.\n",
    "2. Приоритезация гипотез показала, что для прилечения новых пользователей, стоит проверят гипотезу про сбор данных для email-рассылки или гипотезу про привлечение новых каналов трафика. Для повышение конверсии стоит обратить внимание на гипотезы о добавлении на сайт рекомендаций или баннеров с акциями\n",
    "3. Обнаружено статистически значимое различие по конверсиям между группами А и В. Результаты группы B лучше, чем группы A  - прирост коверсии составляет около 14%, согласно сравнению кумулятивных конверсий.\n",
    "4. На данном этапе исследования по среднему чеку между группами А и В не выявлено статистической разницы.\n",
    "5. А/В тест можно признать успешным и зафиксировать победу группы В, если целью исследования был повышение конверсии. Нововведение, протестированное на группе В, можно применять на всех пользователях. \n",
    "6. Если цель исследование была так же в увеличении среднего чека, то пока нет оснований делать выводы о победе группы В. "
   ]
  },
  {
   "cell_type": "code",
   "execution_count": null,
   "metadata": {},
   "outputs": [],
   "source": []
  }
 ],
 "metadata": {
  "kernelspec": {
   "display_name": "Python 3",
   "language": "python",
   "name": "python3"
  },
  "language_info": {
   "codemirror_mode": {
    "name": "ipython",
    "version": 3
   },
   "file_extension": ".py",
   "mimetype": "text/x-python",
   "name": "python",
   "nbconvert_exporter": "python",
   "pygments_lexer": "ipython3",
   "version": "3.8.3"
  },
  "toc": {
   "base_numbering": 1,
   "nav_menu": {},
   "number_sections": true,
   "sideBar": true,
   "skip_h1_title": true,
   "title_cell": "Table of Contents",
   "title_sidebar": "Contents",
   "toc_cell": false,
   "toc_position": {},
   "toc_section_display": true,
   "toc_window_display": false
  }
 },
 "nbformat": 4,
 "nbformat_minor": 2
}
