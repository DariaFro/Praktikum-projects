{
 "cells": [
  {
   "cell_type": "markdown",
   "metadata": {},
   "source": [
    "<div class=\"alert alert-success\">\n",
    "<h2> Комментарий ревьюера 2</h2>\n",
    "\n",
    "Привет еще раз. Спасибо, что доделала работу. Оформление комментариев по работе сохраняется. Только обозначим, что это вторая итерация. \n",
    "\n",
    "</div>"
   ]
  },
  {
   "cell_type": "markdown",
   "metadata": {},
   "source": [
    "<div class=\"alert alert-success\">\n",
    "<h2> Комментарий ревьюера </h2>\n",
    "\n",
    "Привет! Спасибо, что прислала задание:) Меня зовут Слепцов Артем и я буду проверять твой проект) Ты проделала большую работу над проектом, однако его еще можно улучшить. Будет здорово, если ты, надеюсь, не против, если я буду на ты, будешь отвечать на комментарии и участвовать в диалоге. \n",
    "\n",
    "Мои комментарии обозначены пометкой **Комментарий ревьюера**. Далее в файле ты сможешь найти их в похожих ячейках (если фон комментария <font color=green>зелёный</font> - всё сделано правильно. Рекомендации укажу таким же цветом; <font color=orange>оранжевый</font> - некритичные замечания. Если таких замечаний меньше трех - проект может быть принят без их отработки; <font color=red>красный</font> - нужно переделать). Не удаляй эти комментарии и постарайся учесть их в ходе выполнения данного проекта. \n",
    "\n",
    "</div>"
   ]
  },
  {
   "cell_type": "markdown",
   "metadata": {},
   "source": [
    "<div class=\"alert alert-danger\">\n",
    "<h2> Комментарий ревьюера </h2>\n",
    "\n",
    "Стоит делать краткое вступление в работу, описание того, что надо делать. В работе необходимо приводить краткий план того, что надо сделать (если этот план имеется), а также информацию о входных данных: какие столбцы есть в таблице, их названия и какую информацию они несут. Также название работы лучше отображать в отдельной ячейке и делать крупный шрифт (заголовок). Так работа выглядит презентабельно. Подробнее смотри [методичку](https://www.notion.so/35d9c2f32ffa42f3b17010737aedca4b) по оформлению проектов.\n",
    "\n",
    "</div>"
   ]
  },
  {
   "cell_type": "markdown",
   "metadata": {},
   "source": [
    "<div class=\"alert alert-info\"> <b>Комментарий студента:</b> \n",
    "Привет, Артем! Спасибо за то, что конструктивно (и оперативно) проверил работу. \n",
    "Получилось так, что я отправила не совсем финальную версию - перед отправкой я не нажала на сохранить и, видимо, отправилась последняя автосохраненная версия. Но зато теперь я знаю, что надо обязательно сохранять перед отправкой и ответ на 2 из 3 красных комментариев у меня уже есть \n",
    "</div>\n"
   ]
  },
  {
   "cell_type": "markdown",
   "metadata": {},
   "source": [
    "<div class=\"alert alert-success\">\n",
    "<h2> Комментарий ревьюера 2</h2>\n",
    "\n",
    "Поэтому так быстро получилось) Понял. \n",
    "\n",
    "</div>"
   ]
  },
  {
   "cell_type": "markdown",
   "metadata": {},
   "source": [
    "# Определение перспективного тарифа для телеком компании"
   ]
  },
  {
   "cell_type": "markdown",
   "metadata": {},
   "source": [
    "Компания «Мегалайн» — федеральный оператор сотовой связи, они предлагают клиентам два тарифных плана: «Смарт» и «Ультра». Чтобы скорректировать рекламный бюджет, коммерческий департамент хочет понять, какой тариф приносит больше денег. В данной работе приведен предварительный анализ тарифов на небольшой выборке клиентов: 500 пользователей «Мегалайна». Есть данные о том, кто они, откуда, каким тарифом пользуются, сколько звонков и сообщений каждый отправил за 2018 год. В ходе работы будут реализованы следующие шаги: \n",
    "1. Предобработка данных (поиск и исправление ошибочных значений и корректировка типов данных)\n",
    "2. Расчет дополнительных параметров анализа (колличесво минут разговора за месяц, интернет-трафик, помесячная выручка и др.)\n",
    "3. Описание поведение клиентов оператора, исходя из выборки. Анализ гистограмм и распределений. \n",
    "4. Проверка гипотез о факторах влияющих на выручку\n",
    "\n",
    "В конце работы будет приведен общий вывод о перспективности тарифов "
   ]
  },
  {
   "cell_type": "markdown",
   "metadata": {},
   "source": [
    "<div class=\"alert alert-success\">\n",
    "<h2> Комментарий ревьюера 2</h2>\n",
    "\n",
    "Вступление в работу очень важно. Так ты поясняешь то, чему она посвящена. Стоит также описать те данные, с которыми мы работаем. \n",
    "</div>"
   ]
  },
  {
   "cell_type": "markdown",
   "metadata": {},
   "source": [
    "### Общая информация "
   ]
  },
  {
   "cell_type": "markdown",
   "metadata": {},
   "source": [
    "<div class=\"alert alert-warning\">\n",
    "<h2> Комментарий ревьюера </h2>\n",
    "\n",
    "Я заметил, что ячейки в твоей тетрадке начинаются не с 1. Перед отправкой работы рекомендую перезапускать ноутбук, чтобы убедиться, что все ячейки выполняются корректно.\n",
    "\n",
    "</div>"
   ]
  },
  {
   "cell_type": "markdown",
   "metadata": {},
   "source": [
    "<div class=\"alert alert-success\">\n",
    "<h2> Комментарий ревьюера 2</h2>\n",
    "\n",
    "Перезапуск позволяет нам обнаружить и исправить скрытые в коде ошибки. \n",
    "\n",
    "</div>"
   ]
  },
  {
   "cell_type": "code",
   "execution_count": 3,
   "metadata": {},
   "outputs": [],
   "source": [
    "#импортируем все необходимые библиотеки \n",
    "import pandas as pd\n",
    "from IPython.display import display\n",
    "import math\n",
    "import matplotlib.pyplot as plt \n",
    "import seaborn as sns\n",
    "import numpy as np\n",
    "from scipy import stats as st"
   ]
  },
  {
   "cell_type": "markdown",
   "metadata": {},
   "source": [
    "<div class=\"alert alert-success\">\n",
    "<h2> Комментарий ревьюера</h2>\n",
    "\n",
    "Правильно, что весь импорт ты проводишь в первой ячейке работы. Так твой коллега, запускающий работу, будет в курсе используемых в ней библиотек и сможет при необходимости быстро настроить окружение. \n",
    "\n",
    "</div>"
   ]
  },
  {
   "cell_type": "code",
   "execution_count": 5,
   "metadata": {},
   "outputs": [
    {
     "data": {
      "text/html": [
       "<div>\n",
       "<style scoped>\n",
       "    .dataframe tbody tr th:only-of-type {\n",
       "        vertical-align: middle;\n",
       "    }\n",
       "\n",
       "    .dataframe tbody tr th {\n",
       "        vertical-align: top;\n",
       "    }\n",
       "\n",
       "    .dataframe thead th {\n",
       "        text-align: right;\n",
       "    }\n",
       "</style>\n",
       "<table border=\"1\" class=\"dataframe\">\n",
       "  <thead>\n",
       "    <tr style=\"text-align: right;\">\n",
       "      <th></th>\n",
       "      <th>id</th>\n",
       "      <th>call_date</th>\n",
       "      <th>duration</th>\n",
       "      <th>user_id</th>\n",
       "    </tr>\n",
       "  </thead>\n",
       "  <tbody>\n",
       "    <tr>\n",
       "      <th>0</th>\n",
       "      <td>1000_0</td>\n",
       "      <td>2018-07-25</td>\n",
       "      <td>0.00</td>\n",
       "      <td>1000</td>\n",
       "    </tr>\n",
       "    <tr>\n",
       "      <th>1</th>\n",
       "      <td>1000_1</td>\n",
       "      <td>2018-08-17</td>\n",
       "      <td>0.00</td>\n",
       "      <td>1000</td>\n",
       "    </tr>\n",
       "    <tr>\n",
       "      <th>2</th>\n",
       "      <td>1000_2</td>\n",
       "      <td>2018-06-11</td>\n",
       "      <td>2.85</td>\n",
       "      <td>1000</td>\n",
       "    </tr>\n",
       "    <tr>\n",
       "      <th>3</th>\n",
       "      <td>1000_3</td>\n",
       "      <td>2018-09-21</td>\n",
       "      <td>13.80</td>\n",
       "      <td>1000</td>\n",
       "    </tr>\n",
       "    <tr>\n",
       "      <th>4</th>\n",
       "      <td>1000_4</td>\n",
       "      <td>2018-12-15</td>\n",
       "      <td>5.18</td>\n",
       "      <td>1000</td>\n",
       "    </tr>\n",
       "  </tbody>\n",
       "</table>\n",
       "</div>"
      ],
      "text/plain": [
       "       id   call_date  duration  user_id\n",
       "0  1000_0  2018-07-25      0.00     1000\n",
       "1  1000_1  2018-08-17      0.00     1000\n",
       "2  1000_2  2018-06-11      2.85     1000\n",
       "3  1000_3  2018-09-21     13.80     1000\n",
       "4  1000_4  2018-12-15      5.18     1000"
      ]
     },
     "metadata": {},
     "output_type": "display_data"
    },
    {
     "name": "stdout",
     "output_type": "stream",
     "text": [
      "<class 'pandas.core.frame.DataFrame'>\n",
      "RangeIndex: 202607 entries, 0 to 202606\n",
      "Data columns (total 4 columns):\n",
      " #   Column     Non-Null Count   Dtype  \n",
      "---  ------     --------------   -----  \n",
      " 0   id         202607 non-null  object \n",
      " 1   call_date  202607 non-null  object \n",
      " 2   duration   202607 non-null  float64\n",
      " 3   user_id    202607 non-null  int64  \n",
      "dtypes: float64(1), int64(1), object(2)\n",
      "memory usage: 6.2+ MB\n"
     ]
    },
    {
     "data": {
      "text/plain": [
       "None"
      ]
     },
     "metadata": {},
     "output_type": "display_data"
    },
    {
     "data": {
      "text/html": [
       "<div>\n",
       "<style scoped>\n",
       "    .dataframe tbody tr th:only-of-type {\n",
       "        vertical-align: middle;\n",
       "    }\n",
       "\n",
       "    .dataframe tbody tr th {\n",
       "        vertical-align: top;\n",
       "    }\n",
       "\n",
       "    .dataframe thead th {\n",
       "        text-align: right;\n",
       "    }\n",
       "</style>\n",
       "<table border=\"1\" class=\"dataframe\">\n",
       "  <thead>\n",
       "    <tr style=\"text-align: right;\">\n",
       "      <th></th>\n",
       "      <th>id</th>\n",
       "      <th>mb_used</th>\n",
       "      <th>session_date</th>\n",
       "      <th>user_id</th>\n",
       "    </tr>\n",
       "  </thead>\n",
       "  <tbody>\n",
       "    <tr>\n",
       "      <th>0</th>\n",
       "      <td>1000_0</td>\n",
       "      <td>112.95</td>\n",
       "      <td>2018-11-25</td>\n",
       "      <td>1000</td>\n",
       "    </tr>\n",
       "    <tr>\n",
       "      <th>1</th>\n",
       "      <td>1000_1</td>\n",
       "      <td>1052.81</td>\n",
       "      <td>2018-09-07</td>\n",
       "      <td>1000</td>\n",
       "    </tr>\n",
       "    <tr>\n",
       "      <th>2</th>\n",
       "      <td>1000_2</td>\n",
       "      <td>1197.26</td>\n",
       "      <td>2018-06-25</td>\n",
       "      <td>1000</td>\n",
       "    </tr>\n",
       "    <tr>\n",
       "      <th>3</th>\n",
       "      <td>1000_3</td>\n",
       "      <td>550.27</td>\n",
       "      <td>2018-08-22</td>\n",
       "      <td>1000</td>\n",
       "    </tr>\n",
       "    <tr>\n",
       "      <th>4</th>\n",
       "      <td>1000_4</td>\n",
       "      <td>302.56</td>\n",
       "      <td>2018-09-24</td>\n",
       "      <td>1000</td>\n",
       "    </tr>\n",
       "  </tbody>\n",
       "</table>\n",
       "</div>"
      ],
      "text/plain": [
       "       id  mb_used session_date  user_id\n",
       "0  1000_0   112.95   2018-11-25     1000\n",
       "1  1000_1  1052.81   2018-09-07     1000\n",
       "2  1000_2  1197.26   2018-06-25     1000\n",
       "3  1000_3   550.27   2018-08-22     1000\n",
       "4  1000_4   302.56   2018-09-24     1000"
      ]
     },
     "metadata": {},
     "output_type": "display_data"
    },
    {
     "name": "stdout",
     "output_type": "stream",
     "text": [
      "<class 'pandas.core.frame.DataFrame'>\n",
      "Int64Index: 149396 entries, 0 to 149395\n",
      "Data columns (total 4 columns):\n",
      " #   Column        Non-Null Count   Dtype  \n",
      "---  ------        --------------   -----  \n",
      " 0   id            149396 non-null  object \n",
      " 1   mb_used       149396 non-null  float64\n",
      " 2   session_date  149396 non-null  object \n",
      " 3   user_id       149396 non-null  int64  \n",
      "dtypes: float64(1), int64(1), object(2)\n",
      "memory usage: 5.7+ MB\n"
     ]
    },
    {
     "data": {
      "text/plain": [
       "None"
      ]
     },
     "metadata": {},
     "output_type": "display_data"
    },
    {
     "data": {
      "text/html": [
       "<div>\n",
       "<style scoped>\n",
       "    .dataframe tbody tr th:only-of-type {\n",
       "        vertical-align: middle;\n",
       "    }\n",
       "\n",
       "    .dataframe tbody tr th {\n",
       "        vertical-align: top;\n",
       "    }\n",
       "\n",
       "    .dataframe thead th {\n",
       "        text-align: right;\n",
       "    }\n",
       "</style>\n",
       "<table border=\"1\" class=\"dataframe\">\n",
       "  <thead>\n",
       "    <tr style=\"text-align: right;\">\n",
       "      <th></th>\n",
       "      <th>id</th>\n",
       "      <th>message_date</th>\n",
       "      <th>user_id</th>\n",
       "    </tr>\n",
       "  </thead>\n",
       "  <tbody>\n",
       "    <tr>\n",
       "      <th>0</th>\n",
       "      <td>1000_0</td>\n",
       "      <td>2018-06-27</td>\n",
       "      <td>1000</td>\n",
       "    </tr>\n",
       "    <tr>\n",
       "      <th>1</th>\n",
       "      <td>1000_1</td>\n",
       "      <td>2018-10-08</td>\n",
       "      <td>1000</td>\n",
       "    </tr>\n",
       "    <tr>\n",
       "      <th>2</th>\n",
       "      <td>1000_2</td>\n",
       "      <td>2018-08-04</td>\n",
       "      <td>1000</td>\n",
       "    </tr>\n",
       "    <tr>\n",
       "      <th>3</th>\n",
       "      <td>1000_3</td>\n",
       "      <td>2018-06-16</td>\n",
       "      <td>1000</td>\n",
       "    </tr>\n",
       "    <tr>\n",
       "      <th>4</th>\n",
       "      <td>1000_4</td>\n",
       "      <td>2018-12-05</td>\n",
       "      <td>1000</td>\n",
       "    </tr>\n",
       "  </tbody>\n",
       "</table>\n",
       "</div>"
      ],
      "text/plain": [
       "       id message_date  user_id\n",
       "0  1000_0   2018-06-27     1000\n",
       "1  1000_1   2018-10-08     1000\n",
       "2  1000_2   2018-08-04     1000\n",
       "3  1000_3   2018-06-16     1000\n",
       "4  1000_4   2018-12-05     1000"
      ]
     },
     "metadata": {},
     "output_type": "display_data"
    },
    {
     "name": "stdout",
     "output_type": "stream",
     "text": [
      "<class 'pandas.core.frame.DataFrame'>\n",
      "RangeIndex: 123036 entries, 0 to 123035\n",
      "Data columns (total 3 columns):\n",
      " #   Column        Non-Null Count   Dtype \n",
      "---  ------        --------------   ----- \n",
      " 0   id            123036 non-null  object\n",
      " 1   message_date  123036 non-null  object\n",
      " 2   user_id       123036 non-null  int64 \n",
      "dtypes: int64(1), object(2)\n",
      "memory usage: 2.8+ MB\n"
     ]
    },
    {
     "data": {
      "text/plain": [
       "None"
      ]
     },
     "metadata": {},
     "output_type": "display_data"
    },
    {
     "data": {
      "text/html": [
       "<div>\n",
       "<style scoped>\n",
       "    .dataframe tbody tr th:only-of-type {\n",
       "        vertical-align: middle;\n",
       "    }\n",
       "\n",
       "    .dataframe tbody tr th {\n",
       "        vertical-align: top;\n",
       "    }\n",
       "\n",
       "    .dataframe thead th {\n",
       "        text-align: right;\n",
       "    }\n",
       "</style>\n",
       "<table border=\"1\" class=\"dataframe\">\n",
       "  <thead>\n",
       "    <tr style=\"text-align: right;\">\n",
       "      <th></th>\n",
       "      <th>messages_included</th>\n",
       "      <th>mb_per_month_included</th>\n",
       "      <th>minutes_included</th>\n",
       "      <th>rub_monthly_fee</th>\n",
       "      <th>rub_per_gb</th>\n",
       "      <th>rub_per_message</th>\n",
       "      <th>rub_per_minute</th>\n",
       "      <th>tariff_name</th>\n",
       "    </tr>\n",
       "  </thead>\n",
       "  <tbody>\n",
       "    <tr>\n",
       "      <th>0</th>\n",
       "      <td>50</td>\n",
       "      <td>15360</td>\n",
       "      <td>500</td>\n",
       "      <td>550</td>\n",
       "      <td>200</td>\n",
       "      <td>3</td>\n",
       "      <td>3</td>\n",
       "      <td>smart</td>\n",
       "    </tr>\n",
       "    <tr>\n",
       "      <th>1</th>\n",
       "      <td>1000</td>\n",
       "      <td>30720</td>\n",
       "      <td>3000</td>\n",
       "      <td>1950</td>\n",
       "      <td>150</td>\n",
       "      <td>1</td>\n",
       "      <td>1</td>\n",
       "      <td>ultra</td>\n",
       "    </tr>\n",
       "  </tbody>\n",
       "</table>\n",
       "</div>"
      ],
      "text/plain": [
       "   messages_included  mb_per_month_included  minutes_included  \\\n",
       "0                 50                  15360               500   \n",
       "1               1000                  30720              3000   \n",
       "\n",
       "   rub_monthly_fee  rub_per_gb  rub_per_message  rub_per_minute tariff_name  \n",
       "0              550         200                3               3       smart  \n",
       "1             1950         150                1               1       ultra  "
      ]
     },
     "metadata": {},
     "output_type": "display_data"
    },
    {
     "name": "stdout",
     "output_type": "stream",
     "text": [
      "<class 'pandas.core.frame.DataFrame'>\n",
      "RangeIndex: 2 entries, 0 to 1\n",
      "Data columns (total 8 columns):\n",
      " #   Column                 Non-Null Count  Dtype \n",
      "---  ------                 --------------  ----- \n",
      " 0   messages_included      2 non-null      int64 \n",
      " 1   mb_per_month_included  2 non-null      int64 \n",
      " 2   minutes_included       2 non-null      int64 \n",
      " 3   rub_monthly_fee        2 non-null      int64 \n",
      " 4   rub_per_gb             2 non-null      int64 \n",
      " 5   rub_per_message        2 non-null      int64 \n",
      " 6   rub_per_minute         2 non-null      int64 \n",
      " 7   tariff_name            2 non-null      object\n",
      "dtypes: int64(7), object(1)\n",
      "memory usage: 256.0+ bytes\n"
     ]
    },
    {
     "data": {
      "text/plain": [
       "None"
      ]
     },
     "metadata": {},
     "output_type": "display_data"
    },
    {
     "data": {
      "text/html": [
       "<div>\n",
       "<style scoped>\n",
       "    .dataframe tbody tr th:only-of-type {\n",
       "        vertical-align: middle;\n",
       "    }\n",
       "\n",
       "    .dataframe tbody tr th {\n",
       "        vertical-align: top;\n",
       "    }\n",
       "\n",
       "    .dataframe thead th {\n",
       "        text-align: right;\n",
       "    }\n",
       "</style>\n",
       "<table border=\"1\" class=\"dataframe\">\n",
       "  <thead>\n",
       "    <tr style=\"text-align: right;\">\n",
       "      <th></th>\n",
       "      <th>user_id</th>\n",
       "      <th>age</th>\n",
       "      <th>churn_date</th>\n",
       "      <th>city</th>\n",
       "      <th>first_name</th>\n",
       "      <th>last_name</th>\n",
       "      <th>reg_date</th>\n",
       "      <th>tariff</th>\n",
       "    </tr>\n",
       "  </thead>\n",
       "  <tbody>\n",
       "    <tr>\n",
       "      <th>0</th>\n",
       "      <td>1000</td>\n",
       "      <td>52</td>\n",
       "      <td>NaN</td>\n",
       "      <td>Краснодар</td>\n",
       "      <td>Рафаил</td>\n",
       "      <td>Верещагин</td>\n",
       "      <td>2018-05-25</td>\n",
       "      <td>ultra</td>\n",
       "    </tr>\n",
       "    <tr>\n",
       "      <th>1</th>\n",
       "      <td>1001</td>\n",
       "      <td>41</td>\n",
       "      <td>NaN</td>\n",
       "      <td>Москва</td>\n",
       "      <td>Иван</td>\n",
       "      <td>Ежов</td>\n",
       "      <td>2018-11-01</td>\n",
       "      <td>smart</td>\n",
       "    </tr>\n",
       "    <tr>\n",
       "      <th>2</th>\n",
       "      <td>1002</td>\n",
       "      <td>59</td>\n",
       "      <td>NaN</td>\n",
       "      <td>Стерлитамак</td>\n",
       "      <td>Евгений</td>\n",
       "      <td>Абрамович</td>\n",
       "      <td>2018-06-17</td>\n",
       "      <td>smart</td>\n",
       "    </tr>\n",
       "    <tr>\n",
       "      <th>3</th>\n",
       "      <td>1003</td>\n",
       "      <td>23</td>\n",
       "      <td>NaN</td>\n",
       "      <td>Москва</td>\n",
       "      <td>Белла</td>\n",
       "      <td>Белякова</td>\n",
       "      <td>2018-08-17</td>\n",
       "      <td>ultra</td>\n",
       "    </tr>\n",
       "    <tr>\n",
       "      <th>4</th>\n",
       "      <td>1004</td>\n",
       "      <td>68</td>\n",
       "      <td>NaN</td>\n",
       "      <td>Новокузнецк</td>\n",
       "      <td>Татьяна</td>\n",
       "      <td>Авдеенко</td>\n",
       "      <td>2018-05-14</td>\n",
       "      <td>ultra</td>\n",
       "    </tr>\n",
       "  </tbody>\n",
       "</table>\n",
       "</div>"
      ],
      "text/plain": [
       "   user_id  age churn_date         city first_name  last_name    reg_date  \\\n",
       "0     1000   52        NaN    Краснодар     Рафаил  Верещагин  2018-05-25   \n",
       "1     1001   41        NaN       Москва       Иван       Ежов  2018-11-01   \n",
       "2     1002   59        NaN  Стерлитамак    Евгений  Абрамович  2018-06-17   \n",
       "3     1003   23        NaN       Москва      Белла   Белякова  2018-08-17   \n",
       "4     1004   68        NaN  Новокузнецк    Татьяна   Авдеенко  2018-05-14   \n",
       "\n",
       "  tariff  \n",
       "0  ultra  \n",
       "1  smart  \n",
       "2  smart  \n",
       "3  ultra  \n",
       "4  ultra  "
      ]
     },
     "metadata": {},
     "output_type": "display_data"
    },
    {
     "name": "stdout",
     "output_type": "stream",
     "text": [
      "<class 'pandas.core.frame.DataFrame'>\n",
      "RangeIndex: 500 entries, 0 to 499\n",
      "Data columns (total 8 columns):\n",
      " #   Column      Non-Null Count  Dtype \n",
      "---  ------      --------------  ----- \n",
      " 0   user_id     500 non-null    int64 \n",
      " 1   age         500 non-null    int64 \n",
      " 2   churn_date  38 non-null     object\n",
      " 3   city        500 non-null    object\n",
      " 4   first_name  500 non-null    object\n",
      " 5   last_name   500 non-null    object\n",
      " 6   reg_date    500 non-null    object\n",
      " 7   tariff      500 non-null    object\n",
      "dtypes: int64(2), object(6)\n",
      "memory usage: 31.4+ KB\n"
     ]
    }
   ],
   "source": [
    "# откроем все имеющиеся данные и выведем первые строки \n",
    "calls = pd.read_csv('C:/Users/alfro/Documents/Daria_Jupyter/Datasets/calls.csv')\n",
    "display(calls.head())\n",
    "display(calls.info())\n",
    "\n",
    "internet = pd.read_csv('C:/Users/alfro/Documents/Daria_Jupyter/Datasets/internet.csv', index_col=0)\n",
    "display(internet.head())\n",
    "display(internet.info())\n",
    "\n",
    "messages = pd.read_csv('C:/Users/alfro/Documents/Daria_Jupyter/Datasets/messages.csv')\n",
    "display(messages.head())\n",
    "display(messages.info())\n",
    "\n",
    "tariffs = pd.read_csv('C:/Users/alfro/Documents/Daria_Jupyter/Datasets/tariffs.csv')\n",
    "display(tariffs.head())\n",
    "display(tariffs.info())\n",
    "\n",
    "users = pd.read_csv('C:/Users/alfro/Documents/Daria_Jupyter/Datasets/users.csv')\n",
    "display(users.head())\n",
    "users.info()"
   ]
  },
  {
   "cell_type": "markdown",
   "metadata": {},
   "source": [
    "<div class=\"alert alert-success\">\n",
    "<h2> Комментарий ревьюера </h2>\n",
    "\n",
    "Задав параметр index_col=0 метода read_csv при считывании трафика, мы можем сделать данный столбец 'Unnamed: 0' индексом, коим он и является. \n",
    "\n",
    "</div>"
   ]
  },
  {
   "cell_type": "markdown",
   "metadata": {},
   "source": [
    "<div class=\"alert alert-info\"> <b>Комментарий студента:</b> Исправила.</div>\n"
   ]
  },
  {
   "cell_type": "markdown",
   "metadata": {},
   "source": [
    "<div class=\"alert alert-success\">\n",
    "<h2> Комментарий ревьюера 2</h2>\n",
    "\n",
    "👍 \n",
    "\n",
    "</div>"
   ]
  },
  {
   "cell_type": "markdown",
   "metadata": {},
   "source": [
    "Дано 5 таблиц с данными о пользовательской активности 500 абонентов:\n",
    "1. В таблице calls содержится информация о звонках, каждому звонку соответсвует уникальный id, дата звонка, продолжительность и идентификатор пользователя. Всего 202607 звонков, незаполненных значений нет, но есть звонки с продолжительностью 0.00. \n",
    "2. В таблице internet приведена информация об интернет-сессиях. В каждой строке дан идентификатор сессии, колличесво использованных мегабайт, дата и id пользователя. Всего 149396 строк, пропусков нет. Есть столбец 'Unnamed: 0', который дублирует индексы строк. Сразу сделаем его столбцом с инкесом, при помощи параметра index_col=0.   \n",
    "3. В таблице messages даны данные о сообщениях: идентификаторы сообщения и пользователя, дата. 123036 строк без пропусков\n",
    "4. В таблице tariffs всего 2 строки, описывающие по 7 числовым признакам 2 интересующие нас тарифа.\n",
    "5. В таблице users  каждая строка содержит информацию об одном абоненте: уникальный id, имя, возраст, город, дата регистрации и тариф. Также есть столбец с датой прекращения пользования тарифом  - 38 пользователей из 500 уже не пользуются указанными тарифами и у них эта дата заполнена, у остальных там пропуски. "
   ]
  },
  {
   "cell_type": "markdown",
   "metadata": {},
   "source": [
    "В столбце с датой в разных таблицах указан формат object, что неудобно для работы с этим столбцом. Столбец с идентификатором пользователя указан в целых числах, что не совсем корректно (к тому же все остальные идентификаторы звонков, сообщениий и интернет сессий даны в типе object). "
   ]
  },
  {
   "cell_type": "markdown",
   "metadata": {},
   "source": [
    "#### Вывод"
   ]
  },
  {
   "cell_type": "markdown",
   "metadata": {},
   "source": [
    "В блоке по предобработке стоит решать следующие задачи: \n",
    "- исправить типы данных для столбцов с указанием даты \n",
    "- подробнее рассмотреть нулевые значения\n",
    "- объеденить в одну таблицу данные из разных таблиц\n",
    "- расчитать и добавить в таблицу новые столбцы"
   ]
  },
  {
   "cell_type": "markdown",
   "metadata": {},
   "source": [
    "<div class=\"alert alert-success\">\n",
    "<h2> Комментарий ревьюера </h2>\n",
    "\n",
    "Подумай также о возможных причинах появления ошибок в данных, а также о том, являются ли они случайными или нет. Можно высказать предварительные варианты их обработки. \n",
    "\n",
    "Первый взгляд на таблицы выполнен.\n",
    "\n",
    "</div>"
   ]
  },
  {
   "cell_type": "markdown",
   "metadata": {},
   "source": [
    "### Предобработка данных "
   ]
  },
  {
   "cell_type": "markdown",
   "metadata": {},
   "source": [
    "#### Типы данных"
   ]
  },
  {
   "cell_type": "markdown",
   "metadata": {},
   "source": [
    "Изменим тип данных для столбцов с указание дат "
   ]
  },
  {
   "cell_type": "code",
   "execution_count": 6,
   "metadata": {},
   "outputs": [],
   "source": [
    "calls['call_date'] = pd.to_datetime(calls['call_date'], format= '%Y-%m-%d')\n",
    "messages['message_date'] =  pd.to_datetime(messages['message_date'], format= '%Y-%m-%d')\n",
    "internet['session_date'] =  pd.to_datetime(internet['session_date'], format= '%Y-%m-%d')"
   ]
  },
  {
   "cell_type": "markdown",
   "metadata": {},
   "source": [
    "Тип данных для идентификаторов также указан некоркектно, поменяем его на object, написав функцию"
   ]
  },
  {
   "cell_type": "code",
   "execution_count": 7,
   "metadata": {},
   "outputs": [],
   "source": [
    "def changecolumntype(data,column_names,datatype):\n",
    "    for row in column_names:\n",
    "        try:\n",
    "            data[row] = data[row].astype(datatype)\n",
    "        except:\n",
    "            print('Не удалось поменять тип данных для ', row)\n",
    "            \n",
    "changecolumntype(calls, ['user_id'], 'object')\n",
    "changecolumntype(messages, ['user_id'], 'object')\n",
    "changecolumntype(internet, ['user_id'], 'object')\n",
    "changecolumntype(users, ['user_id'], 'object')\n",
    "#users.info()"
   ]
  },
  {
   "cell_type": "markdown",
   "metadata": {},
   "source": [
    "#### Пропуски "
   ]
  },
  {
   "cell_type": "markdown",
   "metadata": {},
   "source": [
    "Рассмотрм подробнее звонки с продложительность 0 "
   ]
  },
  {
   "cell_type": "code",
   "execution_count": 8,
   "metadata": {},
   "outputs": [
    {
     "name": "stdout",
     "output_type": "stream",
     "text": [
      "Процент звонков с продолжительностью 0: 19.6%\n"
     ]
    }
   ],
   "source": [
    "print('Процент звонков с продолжительностью 0: {:.1%}'.format(calls.query('duration == 0').shape[0] / calls.shape[0]))\n"
   ]
  },
  {
   "cell_type": "markdown",
   "metadata": {},
   "source": [
    "Порядка 20% всех звонков абонентов имеют длительность 0. Вероятно, это пропущенные звонки. Такой звонок увеличивает колличесво звонков сделанных абонентом, но никак не влияет на длительность разговора. В нашем анализе мы будем иметь дело с колличеством потраченных минут, поэтому наличие таких звонков никак не отразится на результатах анализа. Таким образом на данном этапе просто оставляем эти данные в таблице. "
   ]
  },
  {
   "cell_type": "markdown",
   "metadata": {},
   "source": [
    "<div class=\"alert alert-success\">\n",
    "<h2> Комментарий ревьюера </h2>\n",
    "\n",
    "Исходя из описанной гипотезы звонки с нулевой длительностью обработаны правильным образом, их можно оставить в данных.\n",
    "\n",
    "</div>"
   ]
  },
  {
   "cell_type": "markdown",
   "metadata": {},
   "source": [
    "В таблице с интернет-трафиоком также есть нулевые значения"
   ]
  },
  {
   "cell_type": "code",
   "execution_count": 9,
   "metadata": {},
   "outputs": [
    {
     "name": "stdout",
     "output_type": "stream",
     "text": [
      "Процент интернес-сессий с нулевым значением: 0.13118155773916304\n"
     ]
    }
   ],
   "source": [
    "print('Процент интернес-сессий с нулевым значением:', len(internet.query('mb_used == 0')) / len(internet))"
   ]
  },
  {
   "cell_type": "markdown",
   "metadata": {},
   "source": [
    "Возможно нули появились из-за сбоя сети или это особенность подсчета интереет-трафика провайдера (например, возможно, что данные, которые мы имеем получаются в ходе автосохранений и одно из них приходится на начало расчетного периода). На данном этапе оставим эти данные в таблице, но будем иметь ввиду, что при построении графиков на нуле у нас будет довольно много значений"
   ]
  },
  {
   "cell_type": "markdown",
   "metadata": {},
   "source": [
    "<div class=\"alert alert-success\">\n",
    "<h2> Комментарий ревьюера 2</h2>\n",
    "\n",
    "Да, вполне возможное предположение. Такие значения мы можем оставить в данных.\n",
    "\n",
    "</div>"
   ]
  },
  {
   "cell_type": "markdown",
   "metadata": {},
   "source": [
    "## Расчет и добадение новых столбцов "
   ]
  },
  {
   "cell_type": "markdown",
   "metadata": {},
   "source": [
    "Для начала добавим в таблицу звонков стоблец с месяцем, когда был сделан звонок. А также округлим значения по каждому звонку до целой минуты (так как именно таким образом идет расчет минут в тарифных планах)"
   ]
  },
  {
   "cell_type": "code",
   "execution_count": 10,
   "metadata": {
    "scrolled": true
   },
   "outputs": [
    {
     "data": {
      "text/html": [
       "<div>\n",
       "<style scoped>\n",
       "    .dataframe tbody tr th:only-of-type {\n",
       "        vertical-align: middle;\n",
       "    }\n",
       "\n",
       "    .dataframe tbody tr th {\n",
       "        vertical-align: top;\n",
       "    }\n",
       "\n",
       "    .dataframe thead th {\n",
       "        text-align: right;\n",
       "    }\n",
       "</style>\n",
       "<table border=\"1\" class=\"dataframe\">\n",
       "  <thead>\n",
       "    <tr style=\"text-align: right;\">\n",
       "      <th></th>\n",
       "      <th>id</th>\n",
       "      <th>call_date</th>\n",
       "      <th>duration</th>\n",
       "      <th>user_id</th>\n",
       "      <th>month</th>\n",
       "    </tr>\n",
       "  </thead>\n",
       "  <tbody>\n",
       "    <tr>\n",
       "      <th>130466</th>\n",
       "      <td>1334_21</td>\n",
       "      <td>2018-12-16</td>\n",
       "      <td>7</td>\n",
       "      <td>1334</td>\n",
       "      <td>12</td>\n",
       "    </tr>\n",
       "    <tr>\n",
       "      <th>39724</th>\n",
       "      <td>1099_97</td>\n",
       "      <td>2018-04-28</td>\n",
       "      <td>9</td>\n",
       "      <td>1099</td>\n",
       "      <td>4</td>\n",
       "    </tr>\n",
       "    <tr>\n",
       "      <th>78754</th>\n",
       "      <td>1196_986</td>\n",
       "      <td>2018-06-08</td>\n",
       "      <td>20</td>\n",
       "      <td>1196</td>\n",
       "      <td>6</td>\n",
       "    </tr>\n",
       "    <tr>\n",
       "      <th>76625</th>\n",
       "      <td>1192_27</td>\n",
       "      <td>2018-12-08</td>\n",
       "      <td>3</td>\n",
       "      <td>1192</td>\n",
       "      <td>12</td>\n",
       "    </tr>\n",
       "    <tr>\n",
       "      <th>159909</th>\n",
       "      <td>1394_314</td>\n",
       "      <td>2018-10-13</td>\n",
       "      <td>12</td>\n",
       "      <td>1394</td>\n",
       "      <td>10</td>\n",
       "    </tr>\n",
       "  </tbody>\n",
       "</table>\n",
       "</div>"
      ],
      "text/plain": [
       "              id  call_date  duration user_id  month\n",
       "130466   1334_21 2018-12-16         7    1334     12\n",
       "39724    1099_97 2018-04-28         9    1099      4\n",
       "78754   1196_986 2018-06-08        20    1196      6\n",
       "76625    1192_27 2018-12-08         3    1192     12\n",
       "159909  1394_314 2018-10-13        12    1394     10"
      ]
     },
     "execution_count": 10,
     "metadata": {},
     "output_type": "execute_result"
    }
   ],
   "source": [
    "calls['month'] = pd.DatetimeIndex(calls['call_date']).month\n",
    "calls['duration'] = calls['duration'].apply(lambda x: math.ceil(x))\n",
    "calls.sample(5)"
   ]
  },
  {
   "cell_type": "markdown",
   "metadata": {},
   "source": [
    "<div class=\"alert alert-success\">\n",
    "<h2> Комментарий ревьюера </h2>\n",
    "\n",
    "Верно, что округление производится до суммирования. Это согласуется с тем, как оператор фиксирует выручку. Лучше только перезаписать сам параметр duration, а не создавать новый. \n",
    "\n",
    "</div>"
   ]
  },
  {
   "cell_type": "markdown",
   "metadata": {},
   "source": [
    "<div class=\"alert alert-info\"> <b>Комментарий студента:</b> Готово. Изначально я решила не менять столбец, а сделать новый, чтобы сразу было видно как прошло округление</div>\n"
   ]
  },
  {
   "cell_type": "markdown",
   "metadata": {},
   "source": [
    "<div class=\"alert alert-danger\">\n",
    "<h2> Комментарий ревьюера </h2>\n",
    "\n",
    "В таблице с интернет-трафиком есть большое число нулевых значений в интернет-сессиях. Какова возможная причина их появления - сбои сети или что-то другое? Подумай над причинами их появления, исходя из которой обработай их.\n",
    "    \n",
    "Также не забудь округлить трафик так, как это делает оператор. \n",
    "\n",
    "</div>"
   ]
  },
  {
   "cell_type": "markdown",
   "metadata": {},
   "source": [
    "<div class=\"alert alert-info\"> <b>Комментарий студента:</b> Про нулевые значения в трафике добавила в подпункте пропуски, сразу под зеленым комментарием. Округляю трафик перед тем, как строить своднут таблицу. Там же, внесла такие же изменения, как и со звонками: перезаписала столбец, вместо создания нового</div>\n"
   ]
  },
  {
   "cell_type": "markdown",
   "metadata": {},
   "source": [
    "Постоим сводную таблицу в которой в каждой строке будут данные о звонках за определенный месяц по каждому абоненту. Продолжительност всех звонков будем рассчитывать с помощью уже округленных вверх значений  "
   ]
  },
  {
   "cell_type": "code",
   "execution_count": 11,
   "metadata": {
    "scrolled": true
   },
   "outputs": [
    {
     "data": {
      "text/html": [
       "<div>\n",
       "<style scoped>\n",
       "    .dataframe tbody tr th:only-of-type {\n",
       "        vertical-align: middle;\n",
       "    }\n",
       "\n",
       "    .dataframe tbody tr th {\n",
       "        vertical-align: top;\n",
       "    }\n",
       "\n",
       "    .dataframe thead th {\n",
       "        text-align: right;\n",
       "    }\n",
       "</style>\n",
       "<table border=\"1\" class=\"dataframe\">\n",
       "  <thead>\n",
       "    <tr style=\"text-align: right;\">\n",
       "      <th></th>\n",
       "      <th></th>\n",
       "      <th>calls_number</th>\n",
       "      <th>calls_duration</th>\n",
       "    </tr>\n",
       "    <tr>\n",
       "      <th>user_id</th>\n",
       "      <th>month</th>\n",
       "      <th></th>\n",
       "      <th></th>\n",
       "    </tr>\n",
       "  </thead>\n",
       "  <tbody>\n",
       "    <tr>\n",
       "      <th rowspan=\"8\" valign=\"top\">1000</th>\n",
       "      <th>5</th>\n",
       "      <td>22</td>\n",
       "      <td>159</td>\n",
       "    </tr>\n",
       "    <tr>\n",
       "      <th>6</th>\n",
       "      <td>43</td>\n",
       "      <td>172</td>\n",
       "    </tr>\n",
       "    <tr>\n",
       "      <th>7</th>\n",
       "      <td>47</td>\n",
       "      <td>340</td>\n",
       "    </tr>\n",
       "    <tr>\n",
       "      <th>8</th>\n",
       "      <td>52</td>\n",
       "      <td>408</td>\n",
       "    </tr>\n",
       "    <tr>\n",
       "      <th>9</th>\n",
       "      <td>58</td>\n",
       "      <td>466</td>\n",
       "    </tr>\n",
       "    <tr>\n",
       "      <th>10</th>\n",
       "      <td>57</td>\n",
       "      <td>350</td>\n",
       "    </tr>\n",
       "    <tr>\n",
       "      <th>11</th>\n",
       "      <td>43</td>\n",
       "      <td>338</td>\n",
       "    </tr>\n",
       "    <tr>\n",
       "      <th>12</th>\n",
       "      <td>46</td>\n",
       "      <td>333</td>\n",
       "    </tr>\n",
       "    <tr>\n",
       "      <th rowspan=\"2\" valign=\"top\">1001</th>\n",
       "      <th>11</th>\n",
       "      <td>59</td>\n",
       "      <td>430</td>\n",
       "    </tr>\n",
       "    <tr>\n",
       "      <th>12</th>\n",
       "      <td>63</td>\n",
       "      <td>414</td>\n",
       "    </tr>\n",
       "  </tbody>\n",
       "</table>\n",
       "</div>"
      ],
      "text/plain": [
       "               calls_number  calls_duration\n",
       "user_id month                              \n",
       "1000    5                22             159\n",
       "        6                43             172\n",
       "        7                47             340\n",
       "        8                52             408\n",
       "        9                58             466\n",
       "        10               57             350\n",
       "        11               43             338\n",
       "        12               46             333\n",
       "1001    11               59             430\n",
       "        12               63             414"
      ]
     },
     "execution_count": 11,
     "metadata": {},
     "output_type": "execute_result"
    }
   ],
   "source": [
    "calls_stat = calls.pivot_table(index=[\"user_id\", \"month\"], values = \"duration\", aggfunc= ['count', 'sum'])\n",
    "#calls_stat.head(10)\n",
    "calls_stat.columns = ['calls_number', 'calls_duration' ]\n",
    "calls_stat.head(10)"
   ]
  },
  {
   "cell_type": "markdown",
   "metadata": {},
   "source": [
    "Построим такую же сводную таблицу для сообщений и использования интенета (здесь также округлим занчения до 1 мегабайта вверх)"
   ]
  },
  {
   "cell_type": "code",
   "execution_count": 12,
   "metadata": {
    "scrolled": true
   },
   "outputs": [
    {
     "data": {
      "text/html": [
       "<div>\n",
       "<style scoped>\n",
       "    .dataframe tbody tr th:only-of-type {\n",
       "        vertical-align: middle;\n",
       "    }\n",
       "\n",
       "    .dataframe tbody tr th {\n",
       "        vertical-align: top;\n",
       "    }\n",
       "\n",
       "    .dataframe thead th {\n",
       "        text-align: right;\n",
       "    }\n",
       "</style>\n",
       "<table border=\"1\" class=\"dataframe\">\n",
       "  <thead>\n",
       "    <tr style=\"text-align: right;\">\n",
       "      <th></th>\n",
       "      <th></th>\n",
       "      <th>messages</th>\n",
       "    </tr>\n",
       "    <tr>\n",
       "      <th>user_id</th>\n",
       "      <th>month</th>\n",
       "      <th></th>\n",
       "    </tr>\n",
       "  </thead>\n",
       "  <tbody>\n",
       "    <tr>\n",
       "      <th rowspan=\"8\" valign=\"top\">1000</th>\n",
       "      <th>5</th>\n",
       "      <td>22</td>\n",
       "    </tr>\n",
       "    <tr>\n",
       "      <th>6</th>\n",
       "      <td>60</td>\n",
       "    </tr>\n",
       "    <tr>\n",
       "      <th>7</th>\n",
       "      <td>75</td>\n",
       "    </tr>\n",
       "    <tr>\n",
       "      <th>8</th>\n",
       "      <td>81</td>\n",
       "    </tr>\n",
       "    <tr>\n",
       "      <th>9</th>\n",
       "      <td>57</td>\n",
       "    </tr>\n",
       "    <tr>\n",
       "      <th>10</th>\n",
       "      <td>73</td>\n",
       "    </tr>\n",
       "    <tr>\n",
       "      <th>11</th>\n",
       "      <td>58</td>\n",
       "    </tr>\n",
       "    <tr>\n",
       "      <th>12</th>\n",
       "      <td>70</td>\n",
       "    </tr>\n",
       "    <tr>\n",
       "      <th rowspan=\"2\" valign=\"top\">1002</th>\n",
       "      <th>6</th>\n",
       "      <td>4</td>\n",
       "    </tr>\n",
       "    <tr>\n",
       "      <th>7</th>\n",
       "      <td>11</td>\n",
       "    </tr>\n",
       "  </tbody>\n",
       "</table>\n",
       "</div>"
      ],
      "text/plain": [
       "               messages\n",
       "user_id month          \n",
       "1000    5            22\n",
       "        6            60\n",
       "        7            75\n",
       "        8            81\n",
       "        9            57\n",
       "        10           73\n",
       "        11           58\n",
       "        12           70\n",
       "1002    6             4\n",
       "        7            11"
      ]
     },
     "execution_count": 12,
     "metadata": {},
     "output_type": "execute_result"
    }
   ],
   "source": [
    "messages['month'] = pd.DatetimeIndex(messages['message_date']).month\n",
    "messages_stat = messages.pivot_table(index=[\"user_id\", \"month\"], values = \"id\", aggfunc= 'count')\n",
    "messages_stat.columns =['messages']\n",
    "\n",
    "messages_stat.head(10)"
   ]
  },
  {
   "cell_type": "code",
   "execution_count": 13,
   "metadata": {},
   "outputs": [],
   "source": [
    "internet['month'] = pd.DatetimeIndex(internet['session_date']).month\n",
    "internet['mb_used'] = internet['mb_used'].apply(lambda x: math.ceil(x))"
   ]
  },
  {
   "cell_type": "code",
   "execution_count": 14,
   "metadata": {
    "scrolled": true
   },
   "outputs": [
    {
     "data": {
      "text/html": [
       "<div>\n",
       "<style scoped>\n",
       "    .dataframe tbody tr th:only-of-type {\n",
       "        vertical-align: middle;\n",
       "    }\n",
       "\n",
       "    .dataframe tbody tr th {\n",
       "        vertical-align: top;\n",
       "    }\n",
       "\n",
       "    .dataframe thead th {\n",
       "        text-align: right;\n",
       "    }\n",
       "</style>\n",
       "<table border=\"1\" class=\"dataframe\">\n",
       "  <thead>\n",
       "    <tr style=\"text-align: right;\">\n",
       "      <th></th>\n",
       "      <th></th>\n",
       "      <th>mb_used</th>\n",
       "    </tr>\n",
       "    <tr>\n",
       "      <th>user_id</th>\n",
       "      <th>month</th>\n",
       "      <th></th>\n",
       "    </tr>\n",
       "  </thead>\n",
       "  <tbody>\n",
       "    <tr>\n",
       "      <th rowspan=\"8\" valign=\"top\">1000</th>\n",
       "      <th>5</th>\n",
       "      <td>2256</td>\n",
       "    </tr>\n",
       "    <tr>\n",
       "      <th>6</th>\n",
       "      <td>23257</td>\n",
       "    </tr>\n",
       "    <tr>\n",
       "      <th>7</th>\n",
       "      <td>14016</td>\n",
       "    </tr>\n",
       "    <tr>\n",
       "      <th>8</th>\n",
       "      <td>14070</td>\n",
       "    </tr>\n",
       "    <tr>\n",
       "      <th>9</th>\n",
       "      <td>14581</td>\n",
       "    </tr>\n",
       "    <tr>\n",
       "      <th>10</th>\n",
       "      <td>14717</td>\n",
       "    </tr>\n",
       "    <tr>\n",
       "      <th>11</th>\n",
       "      <td>14768</td>\n",
       "    </tr>\n",
       "    <tr>\n",
       "      <th>12</th>\n",
       "      <td>9827</td>\n",
       "    </tr>\n",
       "    <tr>\n",
       "      <th rowspan=\"2\" valign=\"top\">1001</th>\n",
       "      <th>11</th>\n",
       "      <td>18452</td>\n",
       "    </tr>\n",
       "    <tr>\n",
       "      <th>12</th>\n",
       "      <td>14053</td>\n",
       "    </tr>\n",
       "  </tbody>\n",
       "</table>\n",
       "</div>"
      ],
      "text/plain": [
       "               mb_used\n",
       "user_id month         \n",
       "1000    5         2256\n",
       "        6        23257\n",
       "        7        14016\n",
       "        8        14070\n",
       "        9        14581\n",
       "        10       14717\n",
       "        11       14768\n",
       "        12        9827\n",
       "1001    11       18452\n",
       "        12       14053"
      ]
     },
     "execution_count": 14,
     "metadata": {},
     "output_type": "execute_result"
    }
   ],
   "source": [
    "internet_stat = internet.pivot_table(index=[\"user_id\", \"month\"], values = \"mb_used\", aggfunc= 'sum')\n",
    "internet_stat.head(10)"
   ]
  },
  {
   "cell_type": "markdown",
   "metadata": {},
   "source": [
    "<div class=\"alert alert-success\">\n",
    "<h2> Комментарий ревьюера </h2>\n",
    "\n",
    "Показатели рассчитаны. Данные подготовлены к дальнейшим расчетам.\n",
    "\n",
    "</div>"
   ]
  },
  {
   "cell_type": "markdown",
   "metadata": {},
   "source": [
    "Объеденим в одну таблицу данные по звонкам, сообщениям и интрернету "
   ]
  },
  {
   "cell_type": "code",
   "execution_count": 15,
   "metadata": {
    "scrolled": true
   },
   "outputs": [
    {
     "data": {
      "text/html": [
       "<div>\n",
       "<style scoped>\n",
       "    .dataframe tbody tr th:only-of-type {\n",
       "        vertical-align: middle;\n",
       "    }\n",
       "\n",
       "    .dataframe tbody tr th {\n",
       "        vertical-align: top;\n",
       "    }\n",
       "\n",
       "    .dataframe thead th {\n",
       "        text-align: right;\n",
       "    }\n",
       "</style>\n",
       "<table border=\"1\" class=\"dataframe\">\n",
       "  <thead>\n",
       "    <tr style=\"text-align: right;\">\n",
       "      <th></th>\n",
       "      <th></th>\n",
       "      <th>calls_number</th>\n",
       "      <th>calls_duration</th>\n",
       "      <th>messages</th>\n",
       "      <th>mb_used</th>\n",
       "    </tr>\n",
       "    <tr>\n",
       "      <th>user_id</th>\n",
       "      <th>month</th>\n",
       "      <th></th>\n",
       "      <th></th>\n",
       "      <th></th>\n",
       "      <th></th>\n",
       "    </tr>\n",
       "  </thead>\n",
       "  <tbody>\n",
       "    <tr>\n",
       "      <th rowspan=\"5\" valign=\"top\">1000</th>\n",
       "      <th>5</th>\n",
       "      <td>22.0</td>\n",
       "      <td>159.0</td>\n",
       "      <td>22.0</td>\n",
       "      <td>2256.0</td>\n",
       "    </tr>\n",
       "    <tr>\n",
       "      <th>6</th>\n",
       "      <td>43.0</td>\n",
       "      <td>172.0</td>\n",
       "      <td>60.0</td>\n",
       "      <td>23257.0</td>\n",
       "    </tr>\n",
       "    <tr>\n",
       "      <th>7</th>\n",
       "      <td>47.0</td>\n",
       "      <td>340.0</td>\n",
       "      <td>75.0</td>\n",
       "      <td>14016.0</td>\n",
       "    </tr>\n",
       "    <tr>\n",
       "      <th>8</th>\n",
       "      <td>52.0</td>\n",
       "      <td>408.0</td>\n",
       "      <td>81.0</td>\n",
       "      <td>14070.0</td>\n",
       "    </tr>\n",
       "    <tr>\n",
       "      <th>9</th>\n",
       "      <td>58.0</td>\n",
       "      <td>466.0</td>\n",
       "      <td>57.0</td>\n",
       "      <td>14581.0</td>\n",
       "    </tr>\n",
       "  </tbody>\n",
       "</table>\n",
       "</div>"
      ],
      "text/plain": [
       "               calls_number  calls_duration  messages  mb_used\n",
       "user_id month                                                 \n",
       "1000    5              22.0           159.0      22.0   2256.0\n",
       "        6              43.0           172.0      60.0  23257.0\n",
       "        7              47.0           340.0      75.0  14016.0\n",
       "        8              52.0           408.0      81.0  14070.0\n",
       "        9              58.0           466.0      57.0  14581.0"
      ]
     },
     "execution_count": 15,
     "metadata": {},
     "output_type": "execute_result"
    }
   ],
   "source": [
    "stat = calls_stat.merge(messages_stat, on=['user_id', 'month'], how='outer') \n",
    "stat_2 = stat.merge(internet_stat, on=['user_id', 'month'], how='outer')\n",
    "stat_2.head()"
   ]
  },
  {
   "cell_type": "markdown",
   "metadata": {},
   "source": [
    "<div class=\"alert alert-success\">\n",
    "<h2> Комментарий ревьюера </h2>\n",
    "\n",
    "Да, именно внешнее соединение нам и нужно в данном случае. Иначе в таблицу не попадут клиенты, которые не пользовались одним из видов услуг оператора в течение конкретного месяца. \n",
    "\n",
    "</div>"
   ]
  },
  {
   "cell_type": "markdown",
   "metadata": {},
   "source": [
    "Перед тем как объединять таблицы посмотрим сколько пользователей каждого тарифа есть в датасете"
   ]
  },
  {
   "cell_type": "code",
   "execution_count": 16,
   "metadata": {},
   "outputs": [
    {
     "name": "stdout",
     "output_type": "stream",
     "text": [
      "Доля абонентов ультра: 0.298\n",
      "Доля абонентов ультра: 0.702\n"
     ]
    }
   ],
   "source": [
    "print('Доля абонентов ультра:', len(users.query('tariff == \"ultra\"')) / 500)\n",
    "print('Доля абонентов ультра:', len(users.query('tariff == \"smart\"')) / 500)"
   ]
  },
  {
   "cell_type": "markdown",
   "metadata": {},
   "source": [
    "Неудивительно, что тариф смарт более распрастранен, чем ультра, так как абонентсая плата по нему почти в 4 раза ниже. Так в нашем распоряжении 30% пользователей ультра и 70% пользователей смарт"
   ]
  },
  {
   "cell_type": "markdown",
   "metadata": {},
   "source": [
    "Так же объединим полученные данные с данными, где указана информация о пользователях "
   ]
  },
  {
   "cell_type": "code",
   "execution_count": 17,
   "metadata": {},
   "outputs": [
    {
     "data": {
      "text/html": [
       "<div>\n",
       "<style scoped>\n",
       "    .dataframe tbody tr th:only-of-type {\n",
       "        vertical-align: middle;\n",
       "    }\n",
       "\n",
       "    .dataframe tbody tr th {\n",
       "        vertical-align: top;\n",
       "    }\n",
       "\n",
       "    .dataframe thead th {\n",
       "        text-align: right;\n",
       "    }\n",
       "</style>\n",
       "<table border=\"1\" class=\"dataframe\">\n",
       "  <thead>\n",
       "    <tr style=\"text-align: right;\">\n",
       "      <th></th>\n",
       "      <th>user_id</th>\n",
       "      <th>age</th>\n",
       "      <th>churn_date</th>\n",
       "      <th>city</th>\n",
       "      <th>first_name</th>\n",
       "      <th>last_name</th>\n",
       "      <th>reg_date</th>\n",
       "      <th>tariff</th>\n",
       "      <th>calls_number</th>\n",
       "      <th>calls_duration</th>\n",
       "      <th>messages</th>\n",
       "      <th>mb_used</th>\n",
       "    </tr>\n",
       "  </thead>\n",
       "  <tbody>\n",
       "    <tr>\n",
       "      <th>0</th>\n",
       "      <td>1000</td>\n",
       "      <td>52</td>\n",
       "      <td>NaN</td>\n",
       "      <td>Краснодар</td>\n",
       "      <td>Рафаил</td>\n",
       "      <td>Верещагин</td>\n",
       "      <td>2018-05-25</td>\n",
       "      <td>ultra</td>\n",
       "      <td>22.0</td>\n",
       "      <td>159.0</td>\n",
       "      <td>22.0</td>\n",
       "      <td>2256.0</td>\n",
       "    </tr>\n",
       "    <tr>\n",
       "      <th>1</th>\n",
       "      <td>1000</td>\n",
       "      <td>52</td>\n",
       "      <td>NaN</td>\n",
       "      <td>Краснодар</td>\n",
       "      <td>Рафаил</td>\n",
       "      <td>Верещагин</td>\n",
       "      <td>2018-05-25</td>\n",
       "      <td>ultra</td>\n",
       "      <td>43.0</td>\n",
       "      <td>172.0</td>\n",
       "      <td>60.0</td>\n",
       "      <td>23257.0</td>\n",
       "    </tr>\n",
       "    <tr>\n",
       "      <th>2</th>\n",
       "      <td>1000</td>\n",
       "      <td>52</td>\n",
       "      <td>NaN</td>\n",
       "      <td>Краснодар</td>\n",
       "      <td>Рафаил</td>\n",
       "      <td>Верещагин</td>\n",
       "      <td>2018-05-25</td>\n",
       "      <td>ultra</td>\n",
       "      <td>47.0</td>\n",
       "      <td>340.0</td>\n",
       "      <td>75.0</td>\n",
       "      <td>14016.0</td>\n",
       "    </tr>\n",
       "    <tr>\n",
       "      <th>3</th>\n",
       "      <td>1000</td>\n",
       "      <td>52</td>\n",
       "      <td>NaN</td>\n",
       "      <td>Краснодар</td>\n",
       "      <td>Рафаил</td>\n",
       "      <td>Верещагин</td>\n",
       "      <td>2018-05-25</td>\n",
       "      <td>ultra</td>\n",
       "      <td>52.0</td>\n",
       "      <td>408.0</td>\n",
       "      <td>81.0</td>\n",
       "      <td>14070.0</td>\n",
       "    </tr>\n",
       "    <tr>\n",
       "      <th>4</th>\n",
       "      <td>1000</td>\n",
       "      <td>52</td>\n",
       "      <td>NaN</td>\n",
       "      <td>Краснодар</td>\n",
       "      <td>Рафаил</td>\n",
       "      <td>Верещагин</td>\n",
       "      <td>2018-05-25</td>\n",
       "      <td>ultra</td>\n",
       "      <td>58.0</td>\n",
       "      <td>466.0</td>\n",
       "      <td>57.0</td>\n",
       "      <td>14581.0</td>\n",
       "    </tr>\n",
       "    <tr>\n",
       "      <th>...</th>\n",
       "      <td>...</td>\n",
       "      <td>...</td>\n",
       "      <td>...</td>\n",
       "      <td>...</td>\n",
       "      <td>...</td>\n",
       "      <td>...</td>\n",
       "      <td>...</td>\n",
       "      <td>...</td>\n",
       "      <td>...</td>\n",
       "      <td>...</td>\n",
       "      <td>...</td>\n",
       "      <td>...</td>\n",
       "    </tr>\n",
       "    <tr>\n",
       "      <th>3211</th>\n",
       "      <td>1498</td>\n",
       "      <td>68</td>\n",
       "      <td>2018-10-25</td>\n",
       "      <td>Владикавказ</td>\n",
       "      <td>Всеволод</td>\n",
       "      <td>Акимчин</td>\n",
       "      <td>2018-07-19</td>\n",
       "      <td>smart</td>\n",
       "      <td>41.0</td>\n",
       "      <td>247.0</td>\n",
       "      <td>42.0</td>\n",
       "      <td>20604.0</td>\n",
       "    </tr>\n",
       "    <tr>\n",
       "      <th>3212</th>\n",
       "      <td>1499</td>\n",
       "      <td>35</td>\n",
       "      <td>NaN</td>\n",
       "      <td>Пермь</td>\n",
       "      <td>Гектор</td>\n",
       "      <td>Корнилов</td>\n",
       "      <td>2018-09-27</td>\n",
       "      <td>smart</td>\n",
       "      <td>9.0</td>\n",
       "      <td>70.0</td>\n",
       "      <td>11.0</td>\n",
       "      <td>1848.0</td>\n",
       "    </tr>\n",
       "    <tr>\n",
       "      <th>3213</th>\n",
       "      <td>1499</td>\n",
       "      <td>35</td>\n",
       "      <td>NaN</td>\n",
       "      <td>Пермь</td>\n",
       "      <td>Гектор</td>\n",
       "      <td>Корнилов</td>\n",
       "      <td>2018-09-27</td>\n",
       "      <td>smart</td>\n",
       "      <td>68.0</td>\n",
       "      <td>449.0</td>\n",
       "      <td>48.0</td>\n",
       "      <td>17809.0</td>\n",
       "    </tr>\n",
       "    <tr>\n",
       "      <th>3214</th>\n",
       "      <td>1499</td>\n",
       "      <td>35</td>\n",
       "      <td>NaN</td>\n",
       "      <td>Пермь</td>\n",
       "      <td>Гектор</td>\n",
       "      <td>Корнилов</td>\n",
       "      <td>2018-09-27</td>\n",
       "      <td>smart</td>\n",
       "      <td>74.0</td>\n",
       "      <td>612.0</td>\n",
       "      <td>59.0</td>\n",
       "      <td>17984.0</td>\n",
       "    </tr>\n",
       "    <tr>\n",
       "      <th>3215</th>\n",
       "      <td>1499</td>\n",
       "      <td>35</td>\n",
       "      <td>NaN</td>\n",
       "      <td>Пермь</td>\n",
       "      <td>Гектор</td>\n",
       "      <td>Корнилов</td>\n",
       "      <td>2018-09-27</td>\n",
       "      <td>smart</td>\n",
       "      <td>69.0</td>\n",
       "      <td>492.0</td>\n",
       "      <td>66.0</td>\n",
       "      <td>13077.0</td>\n",
       "    </tr>\n",
       "  </tbody>\n",
       "</table>\n",
       "<p>3216 rows × 12 columns</p>\n",
       "</div>"
      ],
      "text/plain": [
       "     user_id  age  churn_date         city first_name  last_name    reg_date  \\\n",
       "0       1000   52         NaN    Краснодар     Рафаил  Верещагин  2018-05-25   \n",
       "1       1000   52         NaN    Краснодар     Рафаил  Верещагин  2018-05-25   \n",
       "2       1000   52         NaN    Краснодар     Рафаил  Верещагин  2018-05-25   \n",
       "3       1000   52         NaN    Краснодар     Рафаил  Верещагин  2018-05-25   \n",
       "4       1000   52         NaN    Краснодар     Рафаил  Верещагин  2018-05-25   \n",
       "...      ...  ...         ...          ...        ...        ...         ...   \n",
       "3211    1498   68  2018-10-25  Владикавказ   Всеволод    Акимчин  2018-07-19   \n",
       "3212    1499   35         NaN        Пермь     Гектор   Корнилов  2018-09-27   \n",
       "3213    1499   35         NaN        Пермь     Гектор   Корнилов  2018-09-27   \n",
       "3214    1499   35         NaN        Пермь     Гектор   Корнилов  2018-09-27   \n",
       "3215    1499   35         NaN        Пермь     Гектор   Корнилов  2018-09-27   \n",
       "\n",
       "     tariff  calls_number  calls_duration  messages  mb_used  \n",
       "0     ultra          22.0           159.0      22.0   2256.0  \n",
       "1     ultra          43.0           172.0      60.0  23257.0  \n",
       "2     ultra          47.0           340.0      75.0  14016.0  \n",
       "3     ultra          52.0           408.0      81.0  14070.0  \n",
       "4     ultra          58.0           466.0      57.0  14581.0  \n",
       "...     ...           ...             ...       ...      ...  \n",
       "3211  smart          41.0           247.0      42.0  20604.0  \n",
       "3212  smart           9.0            70.0      11.0   1848.0  \n",
       "3213  smart          68.0           449.0      48.0  17809.0  \n",
       "3214  smart          74.0           612.0      59.0  17984.0  \n",
       "3215  smart          69.0           492.0      66.0  13077.0  \n",
       "\n",
       "[3216 rows x 12 columns]"
      ]
     },
     "execution_count": 17,
     "metadata": {},
     "output_type": "execute_result"
    }
   ],
   "source": [
    "final_stat = users.merge(stat_2, on ='user_id', how= 'outer')\n",
    "final_stat"
   ]
  },
  {
   "cell_type": "markdown",
   "metadata": {},
   "source": [
    "Напишем функцию, которая будет рассчитывать сколько заплатил каждый абонент за определенный месяц. Расценки по тарифам возьмем из таблицы tariffs. Функция получает на вход строку и выбирает из нее название тарифа, колличесвто минут, сообщений и мегабайт исользованного интернета.  В новый столбец добавляется помесячная выручка, рассчтанная исходя из того, каким тарифом пользуется абонент. Данные по тарифам взяты из таблицы tariffs"
   ]
  },
  {
   "cell_type": "code",
   "execution_count": 18,
   "metadata": {},
   "outputs": [],
   "source": [
    "def earnings_count (row):\n",
    "    tariff = row['tariff']\n",
    "    calls = row['calls_duration']\n",
    "    messages = row['messages']\n",
    "    internet = row['mb_used']\n",
    "    \n",
    "    earnings = 0\n",
    "    \n",
    "    if tariff == 'ultra':\n",
    "        earnings = tariffs.iloc[1,3]\n",
    "        if calls > tariffs.iloc[1,2]:\n",
    "            earnings += (calls - tariffs.iloc[1,2]) * tariffs.iloc[1,6]\n",
    "        if messages > tariffs.iloc[1,0]:\n",
    "            earnings += (messages - tariffs.iloc[1,0]) * tariffs.iloc[1,5]\n",
    "        if internet > tariffs.iloc[1,1]:\n",
    "            earnings += (math.ceil((internet - tariffs.iloc[1,1]) / 1000)) * tariffs.iloc[1,4]\n",
    "        return earnings \n",
    "    else:\n",
    "        earnings = tariffs.iloc[0,3]\n",
    "        if calls > tariffs.iloc[0,2]:\n",
    "            earnings += (calls - tariffs.iloc[0,2]) * tariffs.iloc[0,6]\n",
    "        if messages > tariffs.iloc[0,0]:\n",
    "            earnings += (messages - tariffs.iloc[0,0]) * tariffs.iloc[0,5]\n",
    "        if internet > tariffs.iloc[0,1]:\n",
    "            earnings += (math.ceil((internet - tariffs.iloc[0,1]) / 1000)) * tariffs.iloc[0,4]\n",
    "        return earnings \n",
    "        "
   ]
  },
  {
   "cell_type": "code",
   "execution_count": 19,
   "metadata": {},
   "outputs": [
    {
     "data": {
      "text/html": [
       "<div>\n",
       "<style scoped>\n",
       "    .dataframe tbody tr th:only-of-type {\n",
       "        vertical-align: middle;\n",
       "    }\n",
       "\n",
       "    .dataframe tbody tr th {\n",
       "        vertical-align: top;\n",
       "    }\n",
       "\n",
       "    .dataframe thead th {\n",
       "        text-align: right;\n",
       "    }\n",
       "</style>\n",
       "<table border=\"1\" class=\"dataframe\">\n",
       "  <thead>\n",
       "    <tr style=\"text-align: right;\">\n",
       "      <th></th>\n",
       "      <th>messages_included</th>\n",
       "      <th>mb_per_month_included</th>\n",
       "      <th>minutes_included</th>\n",
       "      <th>rub_monthly_fee</th>\n",
       "      <th>rub_per_gb</th>\n",
       "      <th>rub_per_message</th>\n",
       "      <th>rub_per_minute</th>\n",
       "      <th>tariff_name</th>\n",
       "    </tr>\n",
       "  </thead>\n",
       "  <tbody>\n",
       "    <tr>\n",
       "      <th>0</th>\n",
       "      <td>50</td>\n",
       "      <td>15360</td>\n",
       "      <td>500</td>\n",
       "      <td>550</td>\n",
       "      <td>200</td>\n",
       "      <td>3</td>\n",
       "      <td>3</td>\n",
       "      <td>smart</td>\n",
       "    </tr>\n",
       "    <tr>\n",
       "      <th>1</th>\n",
       "      <td>1000</td>\n",
       "      <td>30720</td>\n",
       "      <td>3000</td>\n",
       "      <td>1950</td>\n",
       "      <td>150</td>\n",
       "      <td>1</td>\n",
       "      <td>1</td>\n",
       "      <td>ultra</td>\n",
       "    </tr>\n",
       "  </tbody>\n",
       "</table>\n",
       "</div>"
      ],
      "text/plain": [
       "   messages_included  mb_per_month_included  minutes_included  \\\n",
       "0                 50                  15360               500   \n",
       "1               1000                  30720              3000   \n",
       "\n",
       "   rub_monthly_fee  rub_per_gb  rub_per_message  rub_per_minute tariff_name  \n",
       "0              550         200                3               3       smart  \n",
       "1             1950         150                1               1       ultra  "
      ]
     },
     "execution_count": 19,
     "metadata": {},
     "output_type": "execute_result"
    }
   ],
   "source": [
    "tariffs.head()"
   ]
  },
  {
   "cell_type": "code",
   "execution_count": 20,
   "metadata": {},
   "outputs": [],
   "source": [
    "#проверим корректно ли работает функция. Создадим датафрейм с произвольными значениями \n",
    "\n",
    "row_values = ['smart', 400, 55, 14000]\n",
    "row_columns = ['tariff', 'calls_duration', 'messages', 'mb_used_r']\n",
    "row = pd.Series(data=row_values, index=row_columns)\n",
    "\n",
    "#earnings_count(row)"
   ]
  },
  {
   "cell_type": "markdown",
   "metadata": {},
   "source": [
    "Применим функцию к итоговой таблице"
   ]
  },
  {
   "cell_type": "code",
   "execution_count": 21,
   "metadata": {
    "scrolled": false
   },
   "outputs": [
    {
     "data": {
      "text/html": [
       "<div>\n",
       "<style scoped>\n",
       "    .dataframe tbody tr th:only-of-type {\n",
       "        vertical-align: middle;\n",
       "    }\n",
       "\n",
       "    .dataframe tbody tr th {\n",
       "        vertical-align: top;\n",
       "    }\n",
       "\n",
       "    .dataframe thead th {\n",
       "        text-align: right;\n",
       "    }\n",
       "</style>\n",
       "<table border=\"1\" class=\"dataframe\">\n",
       "  <thead>\n",
       "    <tr style=\"text-align: right;\">\n",
       "      <th></th>\n",
       "      <th>user_id</th>\n",
       "      <th>age</th>\n",
       "      <th>churn_date</th>\n",
       "      <th>city</th>\n",
       "      <th>first_name</th>\n",
       "      <th>last_name</th>\n",
       "      <th>reg_date</th>\n",
       "      <th>tariff</th>\n",
       "      <th>calls_number</th>\n",
       "      <th>calls_duration</th>\n",
       "      <th>messages</th>\n",
       "      <th>mb_used</th>\n",
       "      <th>earnings</th>\n",
       "    </tr>\n",
       "  </thead>\n",
       "  <tbody>\n",
       "    <tr>\n",
       "      <th>2672</th>\n",
       "      <td>1416</td>\n",
       "      <td>50</td>\n",
       "      <td>2018-12-14</td>\n",
       "      <td>Санкт-Петербург</td>\n",
       "      <td>Валерия</td>\n",
       "      <td>Ёлчина</td>\n",
       "      <td>2018-07-16</td>\n",
       "      <td>ultra</td>\n",
       "      <td>111.0</td>\n",
       "      <td>808.0</td>\n",
       "      <td>97.0</td>\n",
       "      <td>28289.0</td>\n",
       "      <td>1950.0</td>\n",
       "    </tr>\n",
       "    <tr>\n",
       "      <th>2962</th>\n",
       "      <td>1460</td>\n",
       "      <td>64</td>\n",
       "      <td>NaN</td>\n",
       "      <td>Ижевск</td>\n",
       "      <td>Арина</td>\n",
       "      <td>Абашкина</td>\n",
       "      <td>2018-04-06</td>\n",
       "      <td>smart</td>\n",
       "      <td>120.0</td>\n",
       "      <td>954.0</td>\n",
       "      <td>39.0</td>\n",
       "      <td>15100.0</td>\n",
       "      <td>1912.0</td>\n",
       "    </tr>\n",
       "    <tr>\n",
       "      <th>3122</th>\n",
       "      <td>1482</td>\n",
       "      <td>68</td>\n",
       "      <td>NaN</td>\n",
       "      <td>Санкт-Петербург</td>\n",
       "      <td>Алина</td>\n",
       "      <td>Блохина</td>\n",
       "      <td>2018-02-28</td>\n",
       "      <td>smart</td>\n",
       "      <td>32.0</td>\n",
       "      <td>238.0</td>\n",
       "      <td>63.0</td>\n",
       "      <td>11424.0</td>\n",
       "      <td>589.0</td>\n",
       "    </tr>\n",
       "    <tr>\n",
       "      <th>445</th>\n",
       "      <td>1070</td>\n",
       "      <td>20</td>\n",
       "      <td>NaN</td>\n",
       "      <td>Химки</td>\n",
       "      <td>Эльза</td>\n",
       "      <td>Селиванова</td>\n",
       "      <td>2018-08-07</td>\n",
       "      <td>smart</td>\n",
       "      <td>61.0</td>\n",
       "      <td>514.0</td>\n",
       "      <td>8.0</td>\n",
       "      <td>10903.0</td>\n",
       "      <td>592.0</td>\n",
       "    </tr>\n",
       "    <tr>\n",
       "      <th>1630</th>\n",
       "      <td>1257</td>\n",
       "      <td>21</td>\n",
       "      <td>NaN</td>\n",
       "      <td>Санкт-Петербург</td>\n",
       "      <td>Габриель</td>\n",
       "      <td>Жданов</td>\n",
       "      <td>2018-06-17</td>\n",
       "      <td>ultra</td>\n",
       "      <td>3.0</td>\n",
       "      <td>35.0</td>\n",
       "      <td>62.0</td>\n",
       "      <td>11787.0</td>\n",
       "      <td>1950.0</td>\n",
       "    </tr>\n",
       "  </tbody>\n",
       "</table>\n",
       "</div>"
      ],
      "text/plain": [
       "     user_id  age  churn_date             city first_name   last_name  \\\n",
       "2672    1416   50  2018-12-14  Санкт-Петербург    Валерия      Ёлчина   \n",
       "2962    1460   64         NaN           Ижевск      Арина    Абашкина   \n",
       "3122    1482   68         NaN  Санкт-Петербург      Алина     Блохина   \n",
       "445     1070   20         NaN            Химки      Эльза  Селиванова   \n",
       "1630    1257   21         NaN  Санкт-Петербург   Габриель      Жданов   \n",
       "\n",
       "        reg_date tariff  calls_number  calls_duration  messages  mb_used  \\\n",
       "2672  2018-07-16  ultra         111.0           808.0      97.0  28289.0   \n",
       "2962  2018-04-06  smart         120.0           954.0      39.0  15100.0   \n",
       "3122  2018-02-28  smart          32.0           238.0      63.0  11424.0   \n",
       "445   2018-08-07  smart          61.0           514.0       8.0  10903.0   \n",
       "1630  2018-06-17  ultra           3.0            35.0      62.0  11787.0   \n",
       "\n",
       "      earnings  \n",
       "2672    1950.0  \n",
       "2962    1912.0  \n",
       "3122     589.0  \n",
       "445      592.0  \n",
       "1630    1950.0  "
      ]
     },
     "execution_count": 21,
     "metadata": {},
     "output_type": "execute_result"
    }
   ],
   "source": [
    "final_stat['earnings'] = final_stat.apply(earnings_count, axis=1)\n",
    "final_stat.sample(5)"
   ]
  },
  {
   "cell_type": "markdown",
   "metadata": {},
   "source": [
    "Для удобства работы с таблицей, слегка изменим её. Уберем столбцы с именем и фамилией (они не нужны нам для анализа, и в таблице users они в любом случае останутся) и изменим тип данных в столбце с выручкой на целочисленный "
   ]
  },
  {
   "cell_type": "code",
   "execution_count": 22,
   "metadata": {},
   "outputs": [],
   "source": [
    "final_stat['earnings'] = final_stat['earnings'].astype('int')\n"
   ]
  },
  {
   "cell_type": "code",
   "execution_count": 23,
   "metadata": {},
   "outputs": [],
   "source": [
    "final_stat = final_stat.drop('first_name', 1)\n",
    "final_stat = final_stat.drop('last_name', 1)\n",
    "#final_stat.info()"
   ]
  },
  {
   "cell_type": "markdown",
   "metadata": {},
   "source": [
    "Проверим не получились ли пропуски в таблице в ходе слияний "
   ]
  },
  {
   "cell_type": "code",
   "execution_count": 24,
   "metadata": {},
   "outputs": [
    {
     "data": {
      "text/plain": [
       "user_id              0\n",
       "age                  0\n",
       "churn_date        3027\n",
       "city                 0\n",
       "reg_date             0\n",
       "tariff               0\n",
       "calls_number        42\n",
       "calls_duration      42\n",
       "messages           499\n",
       "mb_used             13\n",
       "earnings             0\n",
       "dtype: int64"
      ]
     },
     "metadata": {},
     "output_type": "display_data"
    },
    {
     "data": {
      "text/plain": [
       "3216"
      ]
     },
     "execution_count": 24,
     "metadata": {},
     "output_type": "execute_result"
    }
   ],
   "source": [
    "display(final_stat.isna().sum())\n",
    "len(final_stat)"
   ]
  },
  {
   "cell_type": "markdown",
   "metadata": {},
   "source": [
    "Большое число пропусков в столбце о дате преркращения тарифов ожидаемо и в рамках нашего анализа этот столбец мы не затрагиваем (так как нам не важно пользуется ли абонент тарифом на данный момент или нет, важны только числовые данные о его активности). В столбце со звонками и интернетом образовалось небольшое колличесво пропусков (в районе 1%) и несколько больше в столбце с смс (16%). Эти пропуски образовались в ходя слияния таблиц, так как в изначальных данных их не было. В нашей итоговой таблице каждая строка, это данные за 1 месяц, а значит пропуск мог появиться, если у одного абонента за один конкретный месяц есть данные, например, о звонках и интернет трафике, а данных о сообщениях нет. \n",
    "В ходе анализа мы не будем производить математические операции с этими столбцами, а будем строить графики (на которые не наносятся пропуски, в отличие от 0), поэтому для более точного анализа пока оставим пропуски в таблице, но будем иметь в виду, что данных по сообщениям несколько меньше, чем все остальных "
   ]
  },
  {
   "cell_type": "markdown",
   "metadata": {},
   "source": [
    "<div class=\"alert alert-danger\">\n",
    "<h2> Комментарий ревьюера </h2>\n",
    "\n",
    "В сводной таблице присутствуют пропуски. Подумай над причинами их появления, исходя из которых и обработай такие значения. \n",
    "\n",
    "</div>"
   ]
  },
  {
   "cell_type": "markdown",
   "metadata": {},
   "source": [
    "<div class=\"alert alert-info\"> <b>Комментарий студента:</b> Это норм, если я знаю о пропусках, предполагаю причину их появления и просто решаю их оставить? .</div>\n"
   ]
  },
  {
   "cell_type": "markdown",
   "metadata": {},
   "source": [
    "<div class=\"alert alert-success\">\n",
    "<h2> Комментарий ревьюера 2</h2>\n",
    "\n",
    "Лучше все же было бы заполнить пропуски нулем, как написано в комментарии выше. Да, они попадут на графики, но ведь не все пользователи пользуются услугами, а нам надо в целом посмотреть популярность услуги каждого из тарифов. \n",
    "\n",
    "</div>"
   ]
  },
  {
   "cell_type": "markdown",
   "metadata": {},
   "source": [
    "Получилась таблица в которой в каждой строке указаны данные за 1 месяц по каждому абоненту. Каждому абоненту соотвествует то колличесвто строк, сколько месяцев он пользуется тарифом "
   ]
  },
  {
   "cell_type": "markdown",
   "metadata": {},
   "source": [
    "<div class=\"alert alert-success\">\n",
    "<h2> Комментарий ревьюера </h2>\n",
    "\n",
    "Финальная таблица получена верным образом. Стоит убрать из нее излишнюю информацию в виде имени или фамилии клиента. Такая информация никак не поможет нам в анализе, поэтому хранить ее повторно не стоит. Также выручку стоит сделать целочисленным показателем. \n",
    "\n",
    "</div>"
   ]
  },
  {
   "cell_type": "markdown",
   "metadata": {},
   "source": [
    "### Статистический анализ данных "
   ]
  },
  {
   "cell_type": "markdown",
   "metadata": {},
   "source": [
    "Разделим все данные по месяцам на две группы абоненентов - абоненты с тарифом смарт и абонененты с тарифом ультра. Также, не будем забывать, что данных по одному тарифу меньше, чем по другому "
   ]
  },
  {
   "cell_type": "code",
   "execution_count": 25,
   "metadata": {},
   "outputs": [
    {
     "name": "stdout",
     "output_type": "stream",
     "text": [
      "Строк с данными по смарт: 2230\n",
      "Строк с данными по ультра: 986\n"
     ]
    }
   ],
   "source": [
    "ultra_users = final_stat.query('tariff == \"ultra\"')\n",
    "smart_users = final_stat.query('tariff == \"smart\"')\n",
    "print('Строк с данными по смарт:', len(smart_users))\n",
    "print(\"Строк с данными по ультра:\", len(ultra_users))"
   ]
  },
  {
   "cell_type": "markdown",
   "metadata": {},
   "source": [
    "Построим на одном графике 2 гистограммы, которые отражают суммарное колличесво минут разговора в месяц для абонентов двух тарифов "
   ]
  },
  {
   "cell_type": "code",
   "execution_count": 26,
   "metadata": {},
   "outputs": [
    {
     "name": "stderr",
     "output_type": "stream",
     "text": [
      "C:\\Users\\alfro\\miniconda3\\lib\\site-packages\\seaborn\\distributions.py:2557: FutureWarning: `distplot` is a deprecated function and will be removed in a future version. Please adapt your code to use either `displot` (a figure-level function with similar flexibility) or `histplot` (an axes-level function for histograms).\n",
      "  warnings.warn(msg, FutureWarning)\n",
      "C:\\Users\\alfro\\miniconda3\\lib\\site-packages\\seaborn\\distributions.py:2557: FutureWarning: `distplot` is a deprecated function and will be removed in a future version. Please adapt your code to use either `displot` (a figure-level function with similar flexibility) or `histplot` (an axes-level function for histograms).\n",
      "  warnings.warn(msg, FutureWarning)\n"
     ]
    },
    {
     "data": {
      "text/plain": [
       "(0.0, 1500.0)"
      ]
     },
     "execution_count": 26,
     "metadata": {},
     "output_type": "execute_result"
    },
    {
     "data": {
      "image/png": "[encoded data removed]",
      "text/plain": [
       "<Figure size 432x288 with 1 Axes>"
      ]
     },
     "metadata": {
      "needs_background": "light"
     },
     "output_type": "display_data"
    }
   ],
   "source": [
    "fig, ax = plt.subplots()\n",
    "for a in [ultra_users['calls_duration'], smart_users['calls_duration']]:\n",
    "    sns.distplot(a, bins=50, ax=ax, kde=True)\n",
    "fig.legend(labels=['smart','ultra'])\n",
    "plt.title('Гистограммы минут разговора')\n",
    "plt.xlim(0, 1500)\n"
   ]
  },
  {
   "cell_type": "markdown",
   "metadata": {},
   "source": [
    "<div class=\"alert alert-success\">\n",
    "<h2> Комментарий ревьюера </h2>\n",
    "\n",
    "Число bins лучше уменьшить для того, чтобы не было такого числа пиков на графике. \n",
    "\n",
    "</div>"
   ]
  },
  {
   "cell_type": "code",
   "execution_count": 27,
   "metadata": {},
   "outputs": [
    {
     "name": "stdout",
     "output_type": "stream",
     "text": [
      "Среднее значение минут разговора: 545.4511041009464\n",
      "Медианное значение минут разговора: 528.0\n",
      "Дисперсия: 94203.4183961481\n",
      "Стандартное отклонение: 306.9257538821858\n"
     ]
    }
   ],
   "source": [
    "#расчитаем характеристики положения, дисперсию и стандартное отклонение по тарифу ультра\n",
    "print(\"Среднее значение минут разговора:\", ultra_users['calls_duration'].mean())\n",
    "print(\"Медианное значение минут разговора:\", ultra_users['calls_duration'].median()) #Датасет cлекга скошен вправo\n",
    "ultra_var = np.var(ultra_users['calls_duration'], ddof=1)\n",
    "print('Дисперсия:', ultra_var)\n",
    "ultra_std = np.sqrt(ultra_var)\n",
    "print('Стандартное отклонение:',ultra_std)"
   ]
  },
  {
   "cell_type": "code",
   "execution_count": 28,
   "metadata": {},
   "outputs": [
    {
     "name": "stdout",
     "output_type": "stream",
     "text": [
      "Среднее значение минут разговора: 419.0629779577148\n",
      "Медианное значение минут разговора: 423.0\n",
      "Дисперсия: 35844.1895513438\n",
      "Стандартное отклонение: 189.3256177894154\n"
     ]
    }
   ],
   "source": [
    "#расчитаем характеристики положения, дисперсию и стандартное отклонение по тарифу смарт \n",
    "print(\"Среднее значение минут разговора:\", smart_users['calls_duration'].mean())\n",
    "print(\"Медианное значение минут разговора:\", smart_users['calls_duration'].median())\n",
    "smart_var = np.var(smart_users['calls_duration'], ddof=1)\n",
    "print('Дисперсия:', smart_var)\n",
    "smart_std = np.sqrt(smart_var)\n",
    "print('Стандартное отклонение:',smart_std)"
   ]
  },
  {
   "cell_type": "code",
   "execution_count": 29,
   "metadata": {},
   "outputs": [
    {
     "data": {
      "text/html": [
       "<div>\n",
       "<style scoped>\n",
       "    .dataframe tbody tr th:only-of-type {\n",
       "        vertical-align: middle;\n",
       "    }\n",
       "\n",
       "    .dataframe tbody tr th {\n",
       "        vertical-align: top;\n",
       "    }\n",
       "\n",
       "    .dataframe thead th {\n",
       "        text-align: right;\n",
       "    }\n",
       "</style>\n",
       "<table border=\"1\" class=\"dataframe\">\n",
       "  <thead>\n",
       "    <tr style=\"text-align: right;\">\n",
       "      <th></th>\n",
       "      <th>тариф</th>\n",
       "      <th>cреднее</th>\n",
       "      <th>медиана</th>\n",
       "      <th>дисперсия</th>\n",
       "      <th>стандартное отклонение</th>\n",
       "    </tr>\n",
       "  </thead>\n",
       "  <tbody>\n",
       "    <tr>\n",
       "      <th>0</th>\n",
       "      <td>Ультра</td>\n",
       "      <td>545.451104</td>\n",
       "      <td>528.0</td>\n",
       "      <td>94203.418396</td>\n",
       "      <td>306.925754</td>\n",
       "    </tr>\n",
       "    <tr>\n",
       "      <th>1</th>\n",
       "      <td>Смарт</td>\n",
       "      <td>419.062978</td>\n",
       "      <td>423.0</td>\n",
       "      <td>35844.189551</td>\n",
       "      <td>189.325618</td>\n",
       "    </tr>\n",
       "  </tbody>\n",
       "</table>\n",
       "</div>"
      ],
      "text/plain": [
       "    тариф     cреднее  медиана     дисперсия  стандартное отклонение\n",
       "0  Ультра  545.451104    528.0  94203.418396              306.925754\n",
       "1   Смарт  419.062978    423.0  35844.189551              189.325618"
      ]
     },
     "execution_count": 29,
     "metadata": {},
     "output_type": "execute_result"
    }
   ],
   "source": [
    "smart_var = np.var(smart_users['calls_duration'], ddof=1)\n",
    "ultra_var = np.var(ultra_users['calls_duration'], ddof=1)\n",
    "\n",
    "df_var = pd.DataFrame({'тариф': ['Ультра', 'Смарт'], \n",
    "                       'cреднее': [ultra_users['calls_duration'].mean(), smart_users['calls_duration'].mean()],\n",
    "                       'медиана': [ultra_users['calls_duration'].median(), smart_users['calls_duration'].median()],\n",
    "                       'дисперсия': [ultra_var, smart_var],\n",
    "                       'стандартное отклонение': [np.sqrt(ultra_var), np.sqrt(smart_var)]\n",
    "                         })\n",
    "df_var"
   ]
  },
  {
   "cell_type": "markdown",
   "metadata": {},
   "source": [
    "<div class=\"alert alert-success\">\n",
    "<h2> Комментарий ревьюера </h2>\n",
    "\n",
    "Будет здорово, если все стат. показатели ты соберешь в единую таблицу. Так нам будет заметно проще работать с данными тарифов, а также сравнивать их между собой. \n",
    "\n",
    "</div>"
   ]
  },
  {
   "cell_type": "markdown",
   "metadata": {},
   "source": [
    "<div class=\"alert alert-info\"> <b>Комментарий студента:</b> Так действительно нагляднее .</div>"
   ]
  },
  {
   "cell_type": "markdown",
   "metadata": {},
   "source": [
    "<div class=\"alert alert-success\">\n",
    "<h2> Комментарий ревьюера 2</h2>\n",
    "\n",
    "Здорово, что ты собрала данные в таблицу)\n",
    "\n",
    "</div>"
   ]
  },
  {
   "cell_type": "markdown",
   "metadata": {},
   "source": [
    "В среднем абонентам ультра требуется в месяц 545 минут разговора, а абонентам смарт 419 (при трифных 3000 и 500 соответсвенно) Однако гистограмма и стандарные отклонения показывают, что данные по этим тарифам распределены по-разному. Распределение по ультра похоже на нормальное, слегка скошенное вправо (правило 3х страндартных отклонений работает). Распределение по смарт имеет не очень выраженный пик и значительно меньшее отклонение от среднего, то есть это более однородные данные, то есть разброс величин у ультра выше. Это также видно по гистограмме: в ультра не очень много абонентов разговаривает по 250 мин в месяц и много абонентов разоваривет примерно по 500 мин, а в смарт и по 250 и по 600 мин разговаривает примерно одинаковое количесвто абонентов. К тому же с рапределением по смарт не работает правило 3х страндартных оклонений: остаестся, слишком много значений,к оторые не входят в диапозон среднее + 3 стандартных отклонения. На гистограмме также видно, что среди абонентов смарта есть немала доля, которая разговаривает более 800 мин в месяц (в ультра таких значени значительно меньше)"
   ]
  },
  {
   "cell_type": "markdown",
   "metadata": {},
   "source": [
    "Рассмотрим колличесвто сообщений"
   ]
  },
  {
   "cell_type": "code",
   "execution_count": 30,
   "metadata": {},
   "outputs": [
    {
     "name": "stderr",
     "output_type": "stream",
     "text": [
      "C:\\Users\\alfro\\miniconda3\\lib\\site-packages\\seaborn\\distributions.py:2557: FutureWarning: `distplot` is a deprecated function and will be removed in a future version. Please adapt your code to use either `displot` (a figure-level function with similar flexibility) or `histplot` (an axes-level function for histograms).\n",
      "  warnings.warn(msg, FutureWarning)\n",
      "C:\\Users\\alfro\\miniconda3\\lib\\site-packages\\seaborn\\distributions.py:2557: FutureWarning: `distplot` is a deprecated function and will be removed in a future version. Please adapt your code to use either `displot` (a figure-level function with similar flexibility) or `histplot` (an axes-level function for histograms).\n",
      "  warnings.warn(msg, FutureWarning)\n"
     ]
    },
    {
     "data": {
      "text/plain": [
       "(0.0, 250.0)"
      ]
     },
     "execution_count": 30,
     "metadata": {},
     "output_type": "execute_result"
    },
    {
     "data": {
      "image/png": "[encoded data removed]",
      "text/plain": [
       "<Figure size 432x288 with 1 Axes>"
      ]
     },
     "metadata": {
      "needs_background": "light"
     },
     "output_type": "display_data"
    }
   ],
   "source": [
    "fig, ax = plt.subplots()\n",
    "for a in [ultra_users['messages'], smart_users['messages']]:\n",
    "    sns.distplot(a, bins=30, ax=ax, kde=True)\n",
    "fig.legend(labels=['smart','ultra'])\n",
    "plt.title('Гистограммы сообщений')\n",
    "plt.xlim(0, 250)\n"
   ]
  },
  {
   "cell_type": "code",
   "execution_count": 31,
   "metadata": {},
   "outputs": [
    {
     "data": {
      "text/plain": [
       "count    795.000000\n",
       "mean      61.161006\n",
       "std       45.931026\n",
       "min        1.000000\n",
       "25%       24.000000\n",
       "50%       51.000000\n",
       "75%       87.500000\n",
       "max      224.000000\n",
       "Name: messages, dtype: float64"
      ]
     },
     "metadata": {},
     "output_type": "display_data"
    },
    {
     "data": {
      "text/plain": [
       "count    1922.000000\n",
       "mean       38.716441\n",
       "std        26.787949\n",
       "min         1.000000\n",
       "25%        17.000000\n",
       "50%        34.000000\n",
       "75%        55.000000\n",
       "max       143.000000\n",
       "Name: messages, dtype: float64"
      ]
     },
     "execution_count": 31,
     "metadata": {},
     "output_type": "execute_result"
    }
   ],
   "source": [
    "display(ultra_users['messages'].describe())\n",
    "smart_users['messages'].describe()"
   ]
  },
  {
   "cell_type": "markdown",
   "metadata": {},
   "source": [
    "Судя по средним абонентам смарт хвататет 38 сообщений в месяц, а абонентам ультра нужно более 60 (по тарифам - 50 и 1000). И снова данные распределены по разному: данные по ультра очень похожи на распределения Пуассона, что вполне логично для таких данных, а вот данные по смарт снова как будто размазаны по оси х. Среднее находится в районе 40, однако и сравнительно очень высок процент, тех, кто отправляет рекордные  150 сообщений (притом, что при нормальном распределеннии 99 процентов находилось бы в границах 116 сообщений)\n",
    "Также стоит заметить, что в тарифный план ультра включены рекордные 1000 сообщений вообще не характерные ни для одной выборки. Эта цифра выглядит здесь неимоверно гиганской. "
   ]
  },
  {
   "cell_type": "markdown",
   "metadata": {},
   "source": [
    "Рассмотрим объем интернет-трафика"
   ]
  },
  {
   "cell_type": "code",
   "execution_count": 32,
   "metadata": {},
   "outputs": [
    {
     "name": "stderr",
     "output_type": "stream",
     "text": [
      "C:\\Users\\alfro\\miniconda3\\lib\\site-packages\\seaborn\\distributions.py:2557: FutureWarning: `distplot` is a deprecated function and will be removed in a future version. Please adapt your code to use either `displot` (a figure-level function with similar flexibility) or `histplot` (an axes-level function for histograms).\n",
      "  warnings.warn(msg, FutureWarning)\n",
      "C:\\Users\\alfro\\miniconda3\\lib\\site-packages\\seaborn\\distributions.py:2557: FutureWarning: `distplot` is a deprecated function and will be removed in a future version. Please adapt your code to use either `displot` (a figure-level function with similar flexibility) or `histplot` (an axes-level function for histograms).\n",
      "  warnings.warn(msg, FutureWarning)\n"
     ]
    },
    {
     "data": {
      "text/plain": [
       "(0.0, 50000.0)"
      ]
     },
     "execution_count": 32,
     "metadata": {},
     "output_type": "execute_result"
    },
    {
     "data": {
      "image/png": "[encoded data removed]",
      "text/plain": [
       "<Figure size 432x288 with 1 Axes>"
      ]
     },
     "metadata": {
      "needs_background": "light"
     },
     "output_type": "display_data"
    }
   ],
   "source": [
    "fig, ax = plt.subplots()\n",
    "for a in [ultra_users['mb_used'], smart_users['mb_used']]:\n",
    "    sns.distplot(a, bins=70, ax=ax, kde=True)\n",
    "fig.legend(labels=['smart','ultra'])\n",
    "plt.title('Гистограммы интернет-трафика')\n",
    "plt.xlim(0, 50000)\n"
   ]
  },
  {
   "cell_type": "code",
   "execution_count": 33,
   "metadata": {},
   "outputs": [
    {
     "data": {
      "text/plain": [
       "count      975.000000\n",
       "mean     19686.767179\n",
       "std       9952.057054\n",
       "min          0.000000\n",
       "25%      12020.500000\n",
       "50%      19411.000000\n",
       "75%      26920.500000\n",
       "max      49789.000000\n",
       "Name: mb_used, dtype: float64"
      ]
     },
     "metadata": {},
     "output_type": "display_data"
    },
    {
     "data": {
      "text/plain": [
       "count     2228.000000\n",
       "mean     16236.472621\n",
       "std       5868.824472\n",
       "min          0.000000\n",
       "25%      12668.500000\n",
       "50%      16532.000000\n",
       "75%      20068.000000\n",
       "max      38610.000000\n",
       "Name: mb_used, dtype: float64"
      ]
     },
     "execution_count": 33,
     "metadata": {},
     "output_type": "execute_result"
    }
   ],
   "source": [
    "display(ultra_users['mb_used'].describe())\n",
    "smart_users['mb_used'].describe()"
   ]
  },
  {
   "cell_type": "markdown",
   "metadata": {},
   "source": [
    "Данные по интернет-трафику похожи на данные по сообщениям и минутам разговора. Среднее по ультра - 19,7 Гб, а по смарт - 16,2 Гб (при тарифных - 30 и 15 соответсвенно). Однако распределение по смарт почти идеально нормальное (за исключение небольшого увеличения  среди доли тех, кто очень мало использует интернет), стандартное отклонение довльно большое (около 1 Гб). Среденее + разброс в 1 стандартное отклонение описывает почти всю выборку. Распределение по смарт также имеет свой пик, однако он совсем не острый, и снова сравнительо большая доля абонентов на высоких значениях"
   ]
  },
  {
   "cell_type": "markdown",
   "metadata": {},
   "source": [
    "Построим также гистограммы для месячной выручки для абонентов разных тарифв"
   ]
  },
  {
   "cell_type": "code",
   "execution_count": 34,
   "metadata": {},
   "outputs": [
    {
     "name": "stderr",
     "output_type": "stream",
     "text": [
      "C:\\Users\\alfro\\miniconda3\\lib\\site-packages\\seaborn\\distributions.py:2557: FutureWarning: `distplot` is a deprecated function and will be removed in a future version. Please adapt your code to use either `displot` (a figure-level function with similar flexibility) or `histplot` (an axes-level function for histograms).\n",
      "  warnings.warn(msg, FutureWarning)\n"
     ]
    },
    {
     "data": {
      "text/plain": [
       "(550.0, 5000.0)"
      ]
     },
     "execution_count": 34,
     "metadata": {},
     "output_type": "execute_result"
    },
    {
     "data": {
      "image/png": "[encoded data removed]",
      "text/plain": [
       "<Figure size 432x288 with 1 Axes>"
      ]
     },
     "metadata": {
      "needs_background": "light"
     },
     "output_type": "display_data"
    }
   ],
   "source": [
    "fig, ax = plt.subplots()\n",
    "for a in [smart_users['earnings'], ultra_users['earnings']]:\n",
    "    sns.distplot(a, bins=20, ax=ax, kde=False)\n",
    "fig.legend(labels=['smart','ultra'])\n",
    "plt.title('Гистограммы ежемесячных платежей')\n",
    "plt.xlim(550, 5000)"
   ]
  },
  {
   "cell_type": "markdown",
   "metadata": {},
   "source": [
    "Среди пользователей тарифа ультра очень мала доля тех, чьи нужны не перекрывают пакетные услуги: то есть почти все пользователи ультра используют меньше или ровно столько минут, сообщений и интернет-трафика, сколько указано в тарифе, соответсвенно почти все ползователи будут платить в месяц 1950 руб. Что касается пользователей смарт - большая их часть платит в месяц только абонентскую плату, однако очень много пользователей превышат лимит услуг по пакетам и платят больше. Также стоит заметить, что есть некая доля пользователей смарт, которые платят в месяц больше, чем пользователи ультра (конечо в данной таблицы данные по месяцам, однако можно обоснованно предположить, что такие люди есть)"
   ]
  },
  {
   "cell_type": "markdown",
   "metadata": {},
   "source": [
    "## Вывод "
   ]
  },
  {
   "cell_type": "markdown",
   "metadata": {},
   "source": [
    "Пользовательское поведение было описано с помощью гистограмм и стандартного отклонения. В целом пользователям ультра нужно больше минут разговора, больше смс и больше трафика (что логично, судя по расценкам в тарифных планах), однако важно, что пользователи двух тарифов представляют собой довльно разные группы. Даннные по ультра почти всегда распределены нормально, в то время как данные по смарт выглядят более равнораспределенными, что не очень ожидаемо в контексте тзмеряемых параметров. Что касается соответствия услуг по абонентской плате и реальных действий, то средние показатели по смарт находятся примерно в рамках тарифов, а вот показатели по ультра значително меньше тех, которые предлагает оператор - особенно по минутам разговора и колличесву смс "
   ]
  },
  {
   "cell_type": "markdown",
   "metadata": {},
   "source": [
    "<div class=\"alert alert-success\">\n",
    "<h2> Комментарий ревьюера </h2>\n",
    "\n",
    "Базовые статистические параметры получены. Приведены все необходимые графики. Здорово, что графики для одинаковых услуг тарифов приведены на одном рисунке. Так удобнее сравнивать тарифы.\n",
    "\n",
    "</div>"
   ]
  },
  {
   "cell_type": "markdown",
   "metadata": {},
   "source": [
    "# Гипотезы  "
   ]
  },
  {
   "cell_type": "markdown",
   "metadata": {},
   "source": [
    "##  Гипотеза 1\n",
    "Средняя выручка пользователей тарифов «Ультра» и «Смарт» различается"
   ]
  },
  {
   "cell_type": "code",
   "execution_count": 35,
   "metadata": {
    "scrolled": true
   },
   "outputs": [
    {
     "data": {
      "text/plain": [
       "count     986.000000\n",
       "mean     2072.920892\n",
       "std       385.264084\n",
       "min      1950.000000\n",
       "25%      1950.000000\n",
       "50%      1950.000000\n",
       "75%      1950.000000\n",
       "max      4950.000000\n",
       "Name: earnings, dtype: float64"
      ]
     },
     "metadata": {},
     "output_type": "display_data"
    },
    {
     "data": {
      "text/plain": [
       "count    2230.000000\n",
       "mean     1305.067713\n",
       "std       833.761434\n",
       "min       550.000000\n",
       "25%       550.000000\n",
       "50%      1041.500000\n",
       "75%      1765.000000\n",
       "max      6970.000000\n",
       "Name: earnings, dtype: float64"
      ]
     },
     "execution_count": 35,
     "metadata": {},
     "output_type": "execute_result"
    }
   ],
   "source": [
    "display(ultra_users['earnings'].describe())\n",
    "smart_users['earnings'].describe()"
   ]
  },
  {
   "cell_type": "code",
   "execution_count": 36,
   "metadata": {},
   "outputs": [
    {
     "name": "stdout",
     "output_type": "stream",
     "text": [
      "Дисперсия по ультра 148428.41404021787\n",
      "Дисперсия по смарт 695158.128656499\n"
     ]
    }
   ],
   "source": [
    "print('Дисперсия по ультра', np.var(ultra_users['earnings'], ddof=1))\n",
    "print('Дисперсия по смарт', np.var(smart_users['earnings'], ddof=1))"
   ]
  },
  {
   "cell_type": "markdown",
   "metadata": {},
   "source": [
    "Средняя выручка за месяц от ограниченной выборки пользователей ультра - 2072 руб, а от пользователей смарт - 1305 руб. При этом, мы знаем, что пользователей ультра в нашей выборке значительно меньше, чем пользователей смарт. Числа сильно отличаются, и можно сделать вывод о различной средней выручке, однако мы не знаем наверняка, значима ли разница между этими числами в масштабе всех абонентов. Чтобы выяснить это, проведем статистический тест"
   ]
  },
  {
   "cell_type": "markdown",
   "metadata": {},
   "source": [
    "Сформулируем нулевую гипотезу: средняя выручка пользователей тарифов «Ультра» и «Смарт» равны. Соответсвенно альтернативная гипотеза будет такой: средняя выручка пользователей тарифов «Ультра» и «Смарт» различается. Воспользуемся методом scipy.stats.ttest_ind и передадим ему в качестве параметров столбцы с помесячной выручкой для пользователей каждого тарифа. Парамерт equal_var зададим как false, так как стандартное отклонение (а соответсвенно и дисперсии) двух выборок слишком различны"
   ]
  },
  {
   "cell_type": "code",
   "execution_count": 37,
   "metadata": {},
   "outputs": [
    {
     "name": "stdout",
     "output_type": "stream",
     "text": [
      "p-значение: 1.697488808954981e-235\n",
      "Отвергаем нулевую гипотезу\n"
     ]
    }
   ],
   "source": [
    "alpha = 0.05 #зададим критический уровень статистической значимости\n",
    "\n",
    "results = st.ttest_ind(ultra_users['earnings'], smart_users['earnings'], equal_var = False) \n",
    "\n",
    "print('p-значение:', results.pvalue)\n",
    "\n",
    "if (results.pvalue < alpha):\n",
    "    print(\"Отвергаем нулевую гипотезу\")\n",
    "else:\n",
    "    print(\"Не получилось отвергнуть нулевую гипотезу\")"
   ]
  },
  {
   "cell_type": "markdown",
   "metadata": {},
   "source": [
    "Полученное значение p-value (очень маленькое число) говорит о том, что крайне маловероятно получить одинаковые значения выручек по разным тарифам. Соответсвенна альтернативная гипотеза подтрведилась: средняя выручка пользователей тарифов «Ультра» и «Смарт» различается, притом теперь мы можем утвержать о том, что разница между ними статистически значима "
   ]
  },
  {
   "cell_type": "markdown",
   "metadata": {},
   "source": [
    "<div class=\"alert alert-success\">\n",
    "<h2> Комментарий ревьюера </h2>\n",
    "\n",
    "Гипотезы сформулированы и проверены верно.\n",
    "\n",
    "</div>"
   ]
  },
  {
   "cell_type": "markdown",
   "metadata": {},
   "source": [
    "## Гипотеза 2\n",
    "Средняя выручка пользователей из Москвы отличается от выручки пользователей из других регионов"
   ]
  },
  {
   "cell_type": "code",
   "execution_count": 38,
   "metadata": {},
   "outputs": [
    {
     "data": {
      "text/plain": [
       "count     611.000000\n",
       "mean     1556.779051\n",
       "std       757.032240\n",
       "min       550.000000\n",
       "25%       798.000000\n",
       "50%      1821.000000\n",
       "75%      1950.000000\n",
       "max      5321.000000\n",
       "Name: earnings, dtype: float64"
      ]
     },
     "metadata": {},
     "output_type": "display_data"
    },
    {
     "data": {
      "text/plain": [
       "count    2605.000000\n",
       "mean     1536.663724\n",
       "std       819.554640\n",
       "min       550.000000\n",
       "25%       750.000000\n",
       "50%      1624.000000\n",
       "75%      1950.000000\n",
       "max      6970.000000\n",
       "Name: earnings, dtype: float64"
      ]
     },
     "execution_count": 38,
     "metadata": {},
     "output_type": "execute_result"
    }
   ],
   "source": [
    "display(final_stat.query('city == \"Москва\"')['earnings'].describe())\n",
    "final_stat.query('city != \"Москва\"')['earnings'].describe()"
   ]
  },
  {
   "cell_type": "code",
   "execution_count": 39,
   "metadata": {},
   "outputs": [
    {
     "name": "stdout",
     "output_type": "stream",
     "text": [
      "Дисперсия по данным из Москвы: 573097.8117571303\n",
      "Дисперсия по данным из других городов: 671669.8077656993\n"
     ]
    }
   ],
   "source": [
    "print('Дисперсия по данным из Москвы:', np.var(final_stat.query('city == \"Москва\"')['earnings'], ddof=1))\n",
    "print('Дисперсия по данным из других городов:', np.var(final_stat.query('city != \"Москва\"')['earnings'], ddof=1))"
   ]
  },
  {
   "cell_type": "markdown",
   "metadata": {},
   "source": [
    "Средняя выручка по ограниченной выборке из Москвы - 1556 руб, а по всем другим городам - 1536. Эти числа очень близки друг другу, однако только на основании этих чисел мы не можем делать вывод о всех абонентах\n",
    "Сформулируем нулевую гипотезу: средняя выручка пользователей тарифов из Москвы и других городов равна. Соответсвенно альтернативная гипотеза будет такой: средняя выручка пользователей тарифов по Москве и другим городам различается. Воспользуемся методом scipy.stats.ttest_ind и передадим ему в качестве параметров столбцы с помесячной выручкой для пользователей из Москвы и из других городов."
   ]
  },
  {
   "cell_type": "markdown",
   "metadata": {},
   "source": [
    "<div class=\"alert alert-warning\">\n",
    "<h2> Комментарий ревьюера </h2>\n",
    "\n",
    "Выше ты выводишь стандартное отклонение, исходя из которого делаешь выводы о дисперсии. Это связанные показатели, однако лучше вывести именно дисперсии выборок и сравнить именно их.\n",
    "\n",
    "</div>"
   ]
  },
  {
   "cell_type": "markdown",
   "metadata": {},
   "source": [
    "<div class=\"alert alert-info\"> <b>Комментарий студента:</b> Добавила вывод дисперсий.</div>"
   ]
  },
  {
   "cell_type": "code",
   "execution_count": 40,
   "metadata": {},
   "outputs": [
    {
     "name": "stdout",
     "output_type": "stream",
     "text": [
      "p-значение: 0.5609053856345065\n",
      "Не получилось отвергнуть нулевую гипотезу\n"
     ]
    }
   ],
   "source": [
    "alpha = 0.05 #зададим критический уровень статистической значимости\n",
    "\n",
    "results = st.ttest_ind(\n",
    "    final_stat.query('city == \"Москва\"')['earnings'], \n",
    "    final_stat.query('city != \"Москва\"')['earnings'],\n",
    "    equal_var = False\n",
    "    \n",
    ") \n",
    "\n",
    "print('p-значение:', results.pvalue)\n",
    "\n",
    "if (results.pvalue < alpha):\n",
    "    print(\"Отвергаем нулевую гипотезу\")\n",
    "else:\n",
    "    print(\"Не получилось отвергнуть нулевую гипотезу\")"
   ]
  },
  {
   "cell_type": "markdown",
   "metadata": {},
   "source": [
    "Такое высокое р-значение не позволяет отвергнуть нулевую гипотезу и сделать определенный вывод о том, отличается ли выручка в разнных городах или нет."
   ]
  },
  {
   "cell_type": "markdown",
   "metadata": {},
   "source": [
    "<div class=\"alert alert-warning\">\n",
    "<h2> Комментарий ревьюера </h2>\n",
    "\n",
    "Ты верно проводишь статистические тесты. Однако важно понимать, что p-value нельзя интерпретировать как вероятность того, что наблюдения получены случайно. Если ты помотришь логику расчета результатов t-теста, то увидишь, что p-value это, в сущности, уровень статистической значимости, который нужен для того, чтобы нулевая гипотеза выполнялась для полученного наблюдения. Внутри стат. теста p-value расчитывается в предположении, что Н0 верна - это не мера случайности полученного результата, а мера того, насколько нужно раздвинуть доверительный интервал, чтобы в него попало полученное наблюдение.\n",
    "\n",
    "</div>"
   ]
  },
  {
   "cell_type": "markdown",
   "metadata": {},
   "source": [
    "<div class=\"alert alert-info\"> <b>Комментарий студента:</b> Я немного изменила вывод, эта часть работы показалась мне самой сложной для осознания. </div>"
   ]
  },
  {
   "cell_type": "markdown",
   "metadata": {},
   "source": [
    "<div class=\"alert alert-success\">\n",
    "<h2> Комментарий ревьюера 2</h2>\n",
    "\n",
    "Подробнее про трактовку pvalue читай [тут](https://habr.com/ru/company/skillfactory/blog/510688/) и [тут](https://habr.com/ru/company/stepic/blog/250527/).\n",
    "\n",
    "</div>"
   ]
  },
  {
   "cell_type": "markdown",
   "metadata": {},
   "source": [
    "#### Выводы"
   ]
  },
  {
   "cell_type": "markdown",
   "metadata": {},
   "source": [
    "Удалось подтвердить гипотезу 1 о том, что средняя выручка абонентов разных тарифов различается - видимо тарифы очень разные и помесячная выручка абонентов ультра больше. Гипотезау 2 о среденей выручке в разных городах не удалось ни подтвердить, ни опровергнуть, так как не получилось отвергуть нулевую гипотезу "
   ]
  },
  {
   "cell_type": "markdown",
   "metadata": {},
   "source": [
    "### Общий вывод "
   ]
  },
  {
   "cell_type": "markdown",
   "metadata": {},
   "source": [
    "На основании выполненного анализа можно сделать следующиие выводы: \n",
    "1. Несмотря на то, что пользователей ультра в два раза меньше, чем пользователей смарт средняя выручка от них больше. Для компании Мегалайн этот тариф выглядит более перспективным. \n",
    "2. Абоненты этого тарифа ультра в большинстве своем не используют тот объем услуг, который входит в тариф (особенно сообщения и звонки), то есть реальные потребности абонентов существенно ниже, чем тарифный план. \n",
    "3. Абоненты смарт представляют собой слишком неоднородную по потребностям аудиторию: как направление для дальнейшего анализа среди них можно попробовать выделить отдельные категории. Потребности большей части таких абонентов находятся примерно в рамках их тарифного плана, однако есть основания предполагать, что некотрой доле абонентов смарт будет выгоднее перейти на тариф ультра, что также будет выгодно и компании. "
   ]
  },
  {
   "cell_type": "markdown",
   "metadata": {},
   "source": [
    "<div class=\"alert alert-success\">\n",
    "<h2> Комментарий ревьюера </h2>\n",
    "\n",
    "Выводы описаны грамотно. Приведены ответы на главные вопросы проекта. В выводах можно приводить полученные ранее значения. Также можно расписать все, что было сделано в ходе проведения работы. Еще лучше будет, если приведешь рекомендации для компании по дальнейшим действиям. \n",
    "\n",
    "</div>"
   ]
  },
  {
   "cell_type": "markdown",
   "metadata": {},
   "source": [
    "<div class=\"alert alert-warning\">\n",
    "<h2> Комментарий ревьюера </h2>\n",
    "\n",
    "Если тебе нравится тема визуализации, то можешь изучить другие методы библиотеки seaborn. Она позволяет строить довольно презентабельные графики.\n",
    "\n",
    "Ты проделала большую работу, молодец! Критических замечаний немного. Однако с ними важно поработать. Также есть достаточное число желтых комментариев. Думаю, исправить их тебе не составит труда. Жду твою работу :)\n",
    "\n",
    "</div>"
   ]
  },
  {
   "cell_type": "markdown",
   "metadata": {},
   "source": [
    "<div class=\"alert alert-success\">\n",
    "<h2> Комментарий ревьюера 2</h2>\n",
    "\n",
    "Помарки исправлены, и теперь работа выполнена хорошо. Ты здорово поработала, молодец. Спасибо за оставленные комментарии по исправлениям. Успехов в дальнейших проектах :)\n",
    "\n",
    "</div>\n",
    "   "
   ]
  }
 ],
 "metadata": {
  "kernelspec": {
   "display_name": "Python 3",
   "language": "python",
   "name": "python3"
  },
  "language_info": {
   "codemirror_mode": {
    "name": "ipython",
    "version": 3
   },
   "file_extension": ".py",
   "mimetype": "text/x-python",
   "name": "python",
   "nbconvert_exporter": "python",
   "pygments_lexer": "ipython3",
   "version": "3.8.3"
  }
 },
 "nbformat": 4,
 "nbformat_minor": 2
}
