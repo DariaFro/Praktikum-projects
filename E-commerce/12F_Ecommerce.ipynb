{
 "cells": [
  {
   "cell_type": "markdown",
   "metadata": {},
   "source": [
    "# E-commerce — Выявление профилей потребления"
   ]
  },
  {
   "cell_type": "markdown",
   "metadata": {},
   "source": [
    "В рамках исследования пользовательского опыта интернет-магазин товаров для дома \"Пока все ещё тут\" выдвинул задачу выявления профилей покупателей. Датасет, выделенный для анализа, описывает транзакции интернет-магазина товаров за период с октября 2018 по октярбь 2019 "
   ]
  },
  {
   "cell_type": "markdown",
   "metadata": {},
   "source": [
    "**Цель исследования** "
   ]
  },
  {
   "cell_type": "markdown",
   "metadata": {},
   "source": [
    "Провести сегментизацию пользователей на основе истории их покупок для настройки таргетинга и предложения персональных рекомендаций.\n",
    "\n",
    "Для достижения цели были выдвинуты следующие задачи:\n",
    "\n",
    "- провести иследовательский анализ данных\n",
    "- сделать сегметизацию по потребительскому поведению\n",
    "- применить статистические методы к сравнению средних чеков у разных сегментов\n",
    "- дополнить сегментизацию по потребительскими предпочтениям\n",
    "- Описать полученные сегменты и дать реккомендации по взаимодействию с ними"
   ]
  },
  {
   "cell_type": "markdown",
   "metadata": {},
   "source": [
    "**Декомпозиция**"
   ]
  },
  {
   "cell_type": "markdown",
   "metadata": {},
   "source": [
    "1. Общая информация \n",
    " - знакомстов с данными, краткое описание\n",
    " - предобработка и подготовка к анализу \n",
    " **  **\n",
    "2. Исследовательский анализ данных\n",
    "\n",
    " - распределение суммы заказв \n",
    " - распределение количества заказов \n",
    " - сезонность данных\n",
    " - анализ среднего чека \n",
    " ** **\n",
    " \n",
    "3. Сегментизация пользователей  \n",
    " - критерии сегментирования\n",
    " - статистическая проверка\n",
    "** **\n",
    "\n",
    "4. Потребительские предпочтения\n",
    "\n",
    " - анализ ассортимента товаров и выделение категорий \n",
    " - дополненение сегментизации \n",
    " ** **\n",
    " \n",
    "5. Выводы и реккомендации"
   ]
  },
  {
   "cell_type": "markdown",
   "metadata": {},
   "source": [
    "## Общая информация"
   ]
  },
  {
   "cell_type": "code",
   "execution_count": 1,
   "metadata": {},
   "outputs": [],
   "source": [
    "#импортируем все необходимые библиотеки \n",
    "import pandas as pd\n",
    "from IPython.display import display\n",
    "import warnings\n",
    "warnings.filterwarnings('ignore')\n",
    "\n",
    "import scipy.stats as stats\n",
    "import numpy as np\n",
    "\n",
    "from scipy import stats as st\n",
    "\n",
    "import matplotlib.pyplot as plt \n",
    "import seaborn as sns\n",
    "import plotly.express as px \n",
    "from plotly import graph_objects as go\n",
    "\n",
    "from pymystem3 import Mystem\n",
    "\n",
    "import requests \n",
    "from bs4 import BeautifulSoup "
   ]
  },
  {
   "cell_type": "code",
   "execution_count": 2,
   "metadata": {},
   "outputs": [
    {
     "data": {
      "text/html": [
       "<div>\n",
       "<style scoped>\n",
       "    .dataframe tbody tr th:only-of-type {\n",
       "        vertical-align: middle;\n",
       "    }\n",
       "\n",
       "    .dataframe tbody tr th {\n",
       "        vertical-align: top;\n",
       "    }\n",
       "\n",
       "    .dataframe thead th {\n",
       "        text-align: right;\n",
       "    }\n",
       "</style>\n",
       "<table border=\"1\" class=\"dataframe\">\n",
       "  <thead>\n",
       "    <tr style=\"text-align: right;\">\n",
       "      <th></th>\n",
       "      <th>date</th>\n",
       "      <th>customer_id</th>\n",
       "      <th>order_id</th>\n",
       "      <th>product</th>\n",
       "      <th>quantity</th>\n",
       "      <th>price</th>\n",
       "    </tr>\n",
       "  </thead>\n",
       "  <tbody>\n",
       "    <tr>\n",
       "      <th>0</th>\n",
       "      <td>2018100100</td>\n",
       "      <td>ee47d746-6d2f-4d3c-9622-c31412542920</td>\n",
       "      <td>68477</td>\n",
       "      <td>Комнатное растение в горшке Алое Вера, d12, h30</td>\n",
       "      <td>1</td>\n",
       "      <td>142.0</td>\n",
       "    </tr>\n",
       "    <tr>\n",
       "      <th>1</th>\n",
       "      <td>2018100100</td>\n",
       "      <td>ee47d746-6d2f-4d3c-9622-c31412542920</td>\n",
       "      <td>68477</td>\n",
       "      <td>Комнатное растение в горшке Кофе Арабика, d12,...</td>\n",
       "      <td>1</td>\n",
       "      <td>194.0</td>\n",
       "    </tr>\n",
       "    <tr>\n",
       "      <th>2</th>\n",
       "      <td>2018100100</td>\n",
       "      <td>ee47d746-6d2f-4d3c-9622-c31412542920</td>\n",
       "      <td>68477</td>\n",
       "      <td>Радермахера d-12 см h-20 см</td>\n",
       "      <td>1</td>\n",
       "      <td>112.0</td>\n",
       "    </tr>\n",
       "    <tr>\n",
       "      <th>3</th>\n",
       "      <td>2018100100</td>\n",
       "      <td>ee47d746-6d2f-4d3c-9622-c31412542920</td>\n",
       "      <td>68477</td>\n",
       "      <td>Хризолидокарпус Лутесценс d-9 см</td>\n",
       "      <td>1</td>\n",
       "      <td>179.0</td>\n",
       "    </tr>\n",
       "    <tr>\n",
       "      <th>4</th>\n",
       "      <td>2018100100</td>\n",
       "      <td>ee47d746-6d2f-4d3c-9622-c31412542920</td>\n",
       "      <td>68477</td>\n",
       "      <td>Циперус Зумула d-12 см h-25 см</td>\n",
       "      <td>1</td>\n",
       "      <td>112.0</td>\n",
       "    </tr>\n",
       "  </tbody>\n",
       "</table>\n",
       "</div>"
      ],
      "text/plain": [
       "         date                           customer_id  order_id  \\\n",
       "0  2018100100  ee47d746-6d2f-4d3c-9622-c31412542920     68477   \n",
       "1  2018100100  ee47d746-6d2f-4d3c-9622-c31412542920     68477   \n",
       "2  2018100100  ee47d746-6d2f-4d3c-9622-c31412542920     68477   \n",
       "3  2018100100  ee47d746-6d2f-4d3c-9622-c31412542920     68477   \n",
       "4  2018100100  ee47d746-6d2f-4d3c-9622-c31412542920     68477   \n",
       "\n",
       "                                             product  quantity  price  \n",
       "0    Комнатное растение в горшке Алое Вера, d12, h30         1  142.0  \n",
       "1  Комнатное растение в горшке Кофе Арабика, d12,...         1  194.0  \n",
       "2                        Радермахера d-12 см h-20 см         1  112.0  \n",
       "3                   Хризолидокарпус Лутесценс d-9 см         1  179.0  \n",
       "4                     Циперус Зумула d-12 см h-25 см         1  112.0  "
      ]
     },
     "metadata": {},
     "output_type": "display_data"
    },
    {
     "name": "stdout",
     "output_type": "stream",
     "text": [
      "<class 'pandas.core.frame.DataFrame'>\n",
      "RangeIndex: 6737 entries, 0 to 6736\n",
      "Data columns (total 6 columns):\n",
      " #   Column       Non-Null Count  Dtype  \n",
      "---  ------       --------------  -----  \n",
      " 0   date         6737 non-null   int64  \n",
      " 1   customer_id  6737 non-null   object \n",
      " 2   order_id     6737 non-null   int64  \n",
      " 3   product      6737 non-null   object \n",
      " 4   quantity     6737 non-null   int64  \n",
      " 5   price        6737 non-null   float64\n",
      "dtypes: float64(1), int64(3), object(2)\n",
      "memory usage: 315.9+ KB\n"
     ]
    }
   ],
   "source": [
    "#выведем первые строки датасета и информацию о нем\n",
    "import pandas as pd\n",
    "\n",
    "df = pd.read_csv('C:/Users/alfro/Documents/Daria_Jupyter/Datasets/ecommerce_dataset.csv')\n",
    "\n",
    "display(df.head())\n",
    "df.info()"
   ]
  },
  {
   "cell_type": "markdown",
   "metadata": {},
   "source": [
    "В датасете даны описания транзаций интернет-магазина товаров для дома и быта «Пока все ещё тут». Каждая строка соотвествует одной позиции в заказе, описанной по следущим столбцам: \n",
    "- `date`- дата покупки \n",
    "- `customer_id`- идентификатор покупателя \n",
    "- `order_id`- идентификатор заказа\n",
    "- `product` - наименование товара\n",
    "-  `quantity`- количесво товара в заказе \n",
    "- `price`- цена\n",
    "\n",
    "Всего в таблице 6737 строк и 6 столбцов. Имена столбцов даны в удобном виде, очевидных пропусков в данных нет.У пяти столбцов  типы данных пригодны для работы, а вот колонку `date` стоит привести к типу datetime"
   ]
  },
  {
   "cell_type": "code",
   "execution_count": 3,
   "metadata": {},
   "outputs": [],
   "source": [
    "df['date'] = pd.to_datetime(df['date'], format='%Y%m%d%H')\n",
    "#df.head()"
   ]
  },
  {
   "cell_type": "markdown",
   "metadata": {},
   "source": [
    "Также выполним проверку на наличие полных дубликатов "
   ]
  },
  {
   "cell_type": "code",
   "execution_count": 4,
   "metadata": {},
   "outputs": [
    {
     "name": "stdout",
     "output_type": "stream",
     "text": [
      "Количество полных дубликатов: 0\n"
     ]
    }
   ],
   "source": [
    "print('Количество полных дубликатов:', \n",
    "        df.duplicated().sum())"
   ]
  },
  {
   "cell_type": "markdown",
   "metadata": {},
   "source": [
    "Также приведем в описании некую общую информацию, описывающую датасет. "
   ]
  },
  {
   "cell_type": "code",
   "execution_count": 5,
   "metadata": {},
   "outputs": [
    {
     "name": "stdout",
     "output_type": "stream",
     "text": [
      "Временные рамки траназакций: 2018-10-01 00:00:00 - 2019-10-31 16:00:00\n",
      "Количесвто уникальных пользователей: 2451\n",
      "Количество уникальных заказов: 2784\n",
      "Количесвто уникальных товаров 2343\n"
     ]
    }
   ],
   "source": [
    "print('Временные рамки траназакций:', \n",
    "     df['date'].min(), '-', df['date'].max())\n",
    "\n",
    "print('Количесвто уникальных пользователей:',\n",
    "      df['customer_id'].nunique())\n",
    "\n",
    "print('Количество уникальных заказов:', \n",
    "     df['order_id'].nunique())\n",
    "\n",
    "print('Количесвто уникальных товаров', \n",
    "     df['product'].nunique())\n",
    "\n",
    "#df.sample(5)"
   ]
  },
  {
   "cell_type": "markdown",
   "metadata": {},
   "source": [
    "Данные за 13 месяцев и примерно о 2500 клиентах. Количесво заказов не намного больше количесва клиентав, что говорит об относительно малом проценте повторных заказов. Ассортимент товаров довольно широк, при этом они никак не разбит по категориям "
   ]
  },
  {
   "cell_type": "markdown",
   "metadata": {},
   "source": [
    "### Вывод"
   ]
  },
  {
   "cell_type": "markdown",
   "metadata": {},
   "source": [
    "Данные корректных типов, без явных дубликатов и пропусков, готову к анализу "
   ]
  },
  {
   "cell_type": "markdown",
   "metadata": {},
   "source": [
    "## Исследовательский анализ данных "
   ]
  },
  {
   "cell_type": "markdown",
   "metadata": {},
   "source": [
    "### Суммы заказов"
   ]
  },
  {
   "cell_type": "markdown",
   "metadata": {},
   "source": [
    "Посчитаем сколько денег принес каждый заказ магазину. Для этого создадим колонку, которая будет считать сумму денег за полученный товар (если, например его больше 1 единицы, то умножать на количество). Затем сгруппируем датасет по заказу и клиенту"
   ]
  },
  {
   "cell_type": "code",
   "execution_count": 6,
   "metadata": {},
   "outputs": [
    {
     "data": {
      "text/html": [
       "<div>\n",
       "<style scoped>\n",
       "    .dataframe tbody tr th:only-of-type {\n",
       "        vertical-align: middle;\n",
       "    }\n",
       "\n",
       "    .dataframe tbody tr th {\n",
       "        vertical-align: top;\n",
       "    }\n",
       "\n",
       "    .dataframe thead th {\n",
       "        text-align: right;\n",
       "    }\n",
       "</style>\n",
       "<table border=\"1\" class=\"dataframe\">\n",
       "  <thead>\n",
       "    <tr style=\"text-align: right;\">\n",
       "      <th></th>\n",
       "      <th>date</th>\n",
       "      <th>customer_id</th>\n",
       "      <th>order_id</th>\n",
       "      <th>product</th>\n",
       "      <th>quantity</th>\n",
       "      <th>price</th>\n",
       "      <th>price_sum</th>\n",
       "    </tr>\n",
       "  </thead>\n",
       "  <tbody>\n",
       "    <tr>\n",
       "      <td>1588</td>\n",
       "      <td>2019-01-24 15:00:00</td>\n",
       "      <td>ac070679-0e88-4d63-af67-2277896d9451</td>\n",
       "      <td>69958</td>\n",
       "      <td>Гипоаллергенный концентрированный гель для сти...</td>\n",
       "      <td>1</td>\n",
       "      <td>539.0</td>\n",
       "      <td>539.0</td>\n",
       "    </tr>\n",
       "    <tr>\n",
       "      <td>6689</td>\n",
       "      <td>2019-10-24 20:00:00</td>\n",
       "      <td>6952bdf7-5b29-4fb4-90a4-a7a325825aed</td>\n",
       "      <td>73083</td>\n",
       "      <td>Искусственный цветок Гербера пластиковая розовая</td>\n",
       "      <td>2</td>\n",
       "      <td>29.0</td>\n",
       "      <td>58.0</td>\n",
       "    </tr>\n",
       "    <tr>\n",
       "      <td>3721</td>\n",
       "      <td>2019-05-13 20:00:00</td>\n",
       "      <td>bb09b7b4-8b6a-485a-8323-fadb0e547e9e</td>\n",
       "      <td>14765</td>\n",
       "      <td>Петуния махровая рассада однолетних цветов в к...</td>\n",
       "      <td>1</td>\n",
       "      <td>210.0</td>\n",
       "      <td>210.0</td>\n",
       "    </tr>\n",
       "    <tr>\n",
       "      <td>2045</td>\n",
       "      <td>2019-02-27 01:00:00</td>\n",
       "      <td>24e8d333-ba61-4296-84b3-2ea572dfd6cd</td>\n",
       "      <td>70476</td>\n",
       "      <td>Роза мини желтая d-7 см h-10</td>\n",
       "      <td>1</td>\n",
       "      <td>187.0</td>\n",
       "      <td>187.0</td>\n",
       "    </tr>\n",
       "    <tr>\n",
       "      <td>5527</td>\n",
       "      <td>2019-06-22 00:00:00</td>\n",
       "      <td>1d6c8c1f-a799-4418-9af2-1ded47d7a85c</td>\n",
       "      <td>14833</td>\n",
       "      <td>Рассада Огурец Кристина ячейки по 6 шт Е6</td>\n",
       "      <td>1</td>\n",
       "      <td>120.0</td>\n",
       "      <td>120.0</td>\n",
       "    </tr>\n",
       "  </tbody>\n",
       "</table>\n",
       "</div>"
      ],
      "text/plain": [
       "                    date                           customer_id  order_id  \\\n",
       "1588 2019-01-24 15:00:00  ac070679-0e88-4d63-af67-2277896d9451     69958   \n",
       "6689 2019-10-24 20:00:00  6952bdf7-5b29-4fb4-90a4-a7a325825aed     73083   \n",
       "3721 2019-05-13 20:00:00  bb09b7b4-8b6a-485a-8323-fadb0e547e9e     14765   \n",
       "2045 2019-02-27 01:00:00  24e8d333-ba61-4296-84b3-2ea572dfd6cd     70476   \n",
       "5527 2019-06-22 00:00:00  1d6c8c1f-a799-4418-9af2-1ded47d7a85c     14833   \n",
       "\n",
       "                                                product  quantity  price  \\\n",
       "1588  Гипоаллергенный концентрированный гель для сти...         1  539.0   \n",
       "6689   Искусственный цветок Гербера пластиковая розовая         2   29.0   \n",
       "3721  Петуния махровая рассада однолетних цветов в к...         1  210.0   \n",
       "2045                       Роза мини желтая d-7 см h-10         1  187.0   \n",
       "5527          Рассада Огурец Кристина ячейки по 6 шт Е6         1  120.0   \n",
       "\n",
       "      price_sum  \n",
       "1588      539.0  \n",
       "6689       58.0  \n",
       "3721      210.0  \n",
       "2045      187.0  \n",
       "5527      120.0  "
      ]
     },
     "execution_count": 6,
     "metadata": {},
     "output_type": "execute_result"
    }
   ],
   "source": [
    "df['price_sum'] = df['price'] * df['quantity']\n",
    "df.sample(5)"
   ]
  },
  {
   "cell_type": "code",
   "execution_count": 7,
   "metadata": {},
   "outputs": [
    {
     "data": {
      "text/html": [
       "<div>\n",
       "<style scoped>\n",
       "    .dataframe tbody tr th:only-of-type {\n",
       "        vertical-align: middle;\n",
       "    }\n",
       "\n",
       "    .dataframe tbody tr th {\n",
       "        vertical-align: top;\n",
       "    }\n",
       "\n",
       "    .dataframe thead th {\n",
       "        text-align: right;\n",
       "    }\n",
       "</style>\n",
       "<table border=\"1\" class=\"dataframe\">\n",
       "  <thead>\n",
       "    <tr style=\"text-align: right;\">\n",
       "      <th></th>\n",
       "      <th>customer_id</th>\n",
       "      <th>order_id</th>\n",
       "      <th>price_sum</th>\n",
       "    </tr>\n",
       "  </thead>\n",
       "  <tbody>\n",
       "    <tr>\n",
       "      <td>0</td>\n",
       "      <td>000d6849-084e-4d9f-ac03-37174eaf60c4</td>\n",
       "      <td>14943</td>\n",
       "      <td>555.0</td>\n",
       "    </tr>\n",
       "    <tr>\n",
       "      <td>1</td>\n",
       "      <td>001cee7f-0b29-4716-b202-0042213ab038</td>\n",
       "      <td>70290</td>\n",
       "      <td>442.0</td>\n",
       "    </tr>\n",
       "    <tr>\n",
       "      <td>2</td>\n",
       "      <td>00299f34-5385-4d13-9aea-c80b81658e1b</td>\n",
       "      <td>72965</td>\n",
       "      <td>914.0</td>\n",
       "    </tr>\n",
       "    <tr>\n",
       "      <td>3</td>\n",
       "      <td>002d4d3a-4a59-406b-86ec-c3314357e498</td>\n",
       "      <td>69990</td>\n",
       "      <td>1649.0</td>\n",
       "    </tr>\n",
       "    <tr>\n",
       "      <td>4</td>\n",
       "      <td>003bbd39-0000-41ff-b7f9-2ddaec152037</td>\n",
       "      <td>72796</td>\n",
       "      <td>2324.0</td>\n",
       "    </tr>\n",
       "  </tbody>\n",
       "</table>\n",
       "</div>"
      ],
      "text/plain": [
       "                            customer_id  order_id  price_sum\n",
       "0  000d6849-084e-4d9f-ac03-37174eaf60c4     14943      555.0\n",
       "1  001cee7f-0b29-4716-b202-0042213ab038     70290      442.0\n",
       "2  00299f34-5385-4d13-9aea-c80b81658e1b     72965      914.0\n",
       "3  002d4d3a-4a59-406b-86ec-c3314357e498     69990     1649.0\n",
       "4  003bbd39-0000-41ff-b7f9-2ddaec152037     72796     2324.0"
      ]
     },
     "execution_count": 7,
     "metadata": {},
     "output_type": "execute_result"
    }
   ],
   "source": [
    "orders = df.groupby(['customer_id','order_id']).agg({'price_sum' : 'sum'}).reset_index()\n",
    "orders.head()"
   ]
  },
  {
   "cell_type": "markdown",
   "metadata": {},
   "source": [
    "Нарисуем гистограмму и боксплот по колонке с суммой денег "
   ]
  },
  {
   "cell_type": "code",
   "execution_count": 8,
   "metadata": {},
   "outputs": [
    {
     "data": {
      "image/png": "[encoded data removed]",
      "text/plain": [
       "<Figure size 936x360 with 1 Axes>"
      ]
     },
     "metadata": {
      "needs_background": "light"
     },
     "output_type": "display_data"
    }
   ],
   "source": [
    "plt.figure(figsize=(13, 5)) \n",
    "\n",
    "orders['price_sum'].hist(range=(0, 7000),  color='steelblue')\n",
    "\n",
    "plt.xlabel('Сумма заказа')\n",
    "plt.ylabel('Количество заказов')\n",
    "plt.title('Распределение стоимости заказа заказов')\n",
    "plt.show()\n"
   ]
  },
  {
   "cell_type": "code",
   "execution_count": 9,
   "metadata": {},
   "outputs": [
    {
     "data": {
      "image/png": "[encoded data removed]",
      "text/plain": [
       "<Figure size 360x504 with 1 Axes>"
      ]
     },
     "metadata": {
      "needs_background": "light"
     },
     "output_type": "display_data"
    }
   ],
   "source": [
    "plt.figure(figsize=(5, 7)) \n",
    "\n",
    "orders.boxplot(column = 'price_sum')\n",
    "plt.ylim(0, 6000)\n",
    "\n",
    "plt.ylabel('Сумма заказа')\n",
    "plt.title('Диаграмма размаха для стоимости заказов')\n",
    "plt.show()"
   ]
  },
  {
   "cell_type": "code",
   "execution_count": 10,
   "metadata": {},
   "outputs": [
    {
     "data": {
      "text/plain": [
       "count      2817.000000\n",
       "mean       1722.144125\n",
       "std       13213.892802\n",
       "min          14.000000\n",
       "25%         300.000000\n",
       "50%         727.000000\n",
       "75%        1574.000000\n",
       "max      675000.000000\n",
       "Name: price_sum, dtype: float64"
      ]
     },
     "execution_count": 10,
     "metadata": {},
     "output_type": "execute_result"
    }
   ],
   "source": [
    "orders['price_sum'].describe()"
   ]
  },
  {
   "cell_type": "markdown",
   "metadata": {},
   "source": [
    "Разброс по стоимости заказов очень велик. На гистограмме видно, что основная масса заказов не превышает 1000 руб, а 3/4 всех заказов находятся в районе 1500 руб. Однако есть и огромные заказы на стотни тысяч рублей. Показательна в этом плане мединанная стоимость заказа 727 руб - если нам нужно сказать сколько в среднем люди платят за заказ, то нужно ориентироваться на эту метрику. Рассмотрим самые дорогие заказы (дороже 40000)"
   ]
  },
  {
   "cell_type": "code",
   "execution_count": 11,
   "metadata": {},
   "outputs": [
    {
     "data": {
      "text/html": [
       "<div>\n",
       "<style scoped>\n",
       "    .dataframe tbody tr th:only-of-type {\n",
       "        vertical-align: middle;\n",
       "    }\n",
       "\n",
       "    .dataframe tbody tr th {\n",
       "        vertical-align: top;\n",
       "    }\n",
       "\n",
       "    .dataframe thead th {\n",
       "        text-align: right;\n",
       "    }\n",
       "</style>\n",
       "<table border=\"1\" class=\"dataframe\">\n",
       "  <thead>\n",
       "    <tr style=\"text-align: right;\">\n",
       "      <th></th>\n",
       "      <th>date</th>\n",
       "      <th>customer_id</th>\n",
       "      <th>order_id</th>\n",
       "      <th>product</th>\n",
       "      <th>quantity</th>\n",
       "      <th>price</th>\n",
       "      <th>price_sum</th>\n",
       "    </tr>\n",
       "  </thead>\n",
       "  <tbody>\n",
       "    <tr>\n",
       "      <td>1518</td>\n",
       "      <td>2019-01-15 13:00:00</td>\n",
       "      <td>58a4c3cc-504f-43ea-a74a-bae19e665552</td>\n",
       "      <td>69830</td>\n",
       "      <td>Простынь вафельная 200х180 см WELLNESS RW180-0...</td>\n",
       "      <td>27</td>\n",
       "      <td>1755.0</td>\n",
       "      <td>47385.0</td>\n",
       "    </tr>\n",
       "    <tr>\n",
       "      <td>5071</td>\n",
       "      <td>2019-06-11 07:00:00</td>\n",
       "      <td>146cd9bf-a95c-4afb-915b-5f6684b17444</td>\n",
       "      <td>71668</td>\n",
       "      <td>Вешалки мягкие для деликатных вещей 3 шт шоколад</td>\n",
       "      <td>334</td>\n",
       "      <td>148.0</td>\n",
       "      <td>49432.0</td>\n",
       "    </tr>\n",
       "    <tr>\n",
       "      <td>5456</td>\n",
       "      <td>2019-06-18 15:00:00</td>\n",
       "      <td>312e9a3e-5fca-43ff-a6a1-892d2b2d5ba6</td>\n",
       "      <td>71743</td>\n",
       "      <td>Вантуз с деревянной ручкой d14 см красный, Bur...</td>\n",
       "      <td>1000</td>\n",
       "      <td>675.0</td>\n",
       "      <td>675000.0</td>\n",
       "    </tr>\n",
       "  </tbody>\n",
       "</table>\n",
       "</div>"
      ],
      "text/plain": [
       "                    date                           customer_id  order_id  \\\n",
       "1518 2019-01-15 13:00:00  58a4c3cc-504f-43ea-a74a-bae19e665552     69830   \n",
       "5071 2019-06-11 07:00:00  146cd9bf-a95c-4afb-915b-5f6684b17444     71668   \n",
       "5456 2019-06-18 15:00:00  312e9a3e-5fca-43ff-a6a1-892d2b2d5ba6     71743   \n",
       "\n",
       "                                                product  quantity   price  \\\n",
       "1518  Простынь вафельная 200х180 см WELLNESS RW180-0...        27  1755.0   \n",
       "5071   Вешалки мягкие для деликатных вещей 3 шт шоколад       334   148.0   \n",
       "5456  Вантуз с деревянной ручкой d14 см красный, Bur...      1000   675.0   \n",
       "\n",
       "      price_sum  \n",
       "1518    47385.0  \n",
       "5071    49432.0  \n",
       "5456   675000.0  "
      ]
     },
     "execution_count": 11,
     "metadata": {},
     "output_type": "execute_result"
    }
   ],
   "source": [
    "df.query('price_sum > 40000')"
   ]
  },
  {
   "cell_type": "markdown",
   "metadata": {},
   "source": [
    "1000 вантузов, 334 набора вешалок и 27 простыней - не самые обычные заказы в интернет-магазине, похоже на какие-то промышленные закупки. Может быть с этими клиетами стоит связаться отдельно и предложить им какие-то оптовые закупки, но для анализа эти заказы лучше удалить из датасетаб чтобы они не перекашивали данные "
   ]
  },
  {
   "cell_type": "code",
   "execution_count": 12,
   "metadata": {},
   "outputs": [],
   "source": [
    "df = df.query('order_id != 69830 and order_id != 71743 and order_id != 71668')\n",
    "orders = orders.query('order_id != 69830 and order_id != 71743 and order_id != 71668')"
   ]
  },
  {
   "cell_type": "markdown",
   "metadata": {},
   "source": [
    "Это были единичные огромные заказы, также посмотрим и на те заказы, суммы которых невероятно велики "
   ]
  },
  {
   "cell_type": "code",
   "execution_count": 13,
   "metadata": {},
   "outputs": [
    {
     "data": {
      "text/html": [
       "<div>\n",
       "<style scoped>\n",
       "    .dataframe tbody tr th:only-of-type {\n",
       "        vertical-align: middle;\n",
       "    }\n",
       "\n",
       "    .dataframe tbody tr th {\n",
       "        vertical-align: top;\n",
       "    }\n",
       "\n",
       "    .dataframe thead th {\n",
       "        text-align: right;\n",
       "    }\n",
       "</style>\n",
       "<table border=\"1\" class=\"dataframe\">\n",
       "  <thead>\n",
       "    <tr style=\"text-align: right;\">\n",
       "      <th></th>\n",
       "      <th>customer_id</th>\n",
       "      <th>order_id</th>\n",
       "      <th>price_sum</th>\n",
       "    </tr>\n",
       "  </thead>\n",
       "  <tbody>\n",
       "    <tr>\n",
       "      <td>307</td>\n",
       "      <td>1d6c8c1f-a799-4418-9af2-1ded47d7a85c</td>\n",
       "      <td>14833</td>\n",
       "      <td>114750.0</td>\n",
       "    </tr>\n",
       "    <tr>\n",
       "      <td>924</td>\n",
       "      <td>57cc80a2-2610-4eef-9457-e7c3bf0c72f0</td>\n",
       "      <td>70960</td>\n",
       "      <td>65220.0</td>\n",
       "    </tr>\n",
       "    <tr>\n",
       "      <td>1667</td>\n",
       "      <td>9f1e7d7d-ff10-4eb1-b596-1cbf8075aa3f</td>\n",
       "      <td>68760</td>\n",
       "      <td>50770.0</td>\n",
       "    </tr>\n",
       "  </tbody>\n",
       "</table>\n",
       "</div>"
      ],
      "text/plain": [
       "                               customer_id  order_id  price_sum\n",
       "307   1d6c8c1f-a799-4418-9af2-1ded47d7a85c     14833   114750.0\n",
       "924   57cc80a2-2610-4eef-9457-e7c3bf0c72f0     70960    65220.0\n",
       "1667  9f1e7d7d-ff10-4eb1-b596-1cbf8075aa3f     68760    50770.0"
      ]
     },
     "execution_count": 13,
     "metadata": {},
     "output_type": "execute_result"
    }
   ],
   "source": [
    "orders.query('price_sum > 50000')"
   ]
  },
  {
   "cell_type": "code",
   "execution_count": 14,
   "metadata": {},
   "outputs": [
    {
     "data": {
      "text/html": [
       "<div>\n",
       "<style scoped>\n",
       "    .dataframe tbody tr th:only-of-type {\n",
       "        vertical-align: middle;\n",
       "    }\n",
       "\n",
       "    .dataframe tbody tr th {\n",
       "        vertical-align: top;\n",
       "    }\n",
       "\n",
       "    .dataframe thead th {\n",
       "        text-align: right;\n",
       "    }\n",
       "</style>\n",
       "<table border=\"1\" class=\"dataframe\">\n",
       "  <thead>\n",
       "    <tr style=\"text-align: right;\">\n",
       "      <th></th>\n",
       "      <th>date</th>\n",
       "      <th>customer_id</th>\n",
       "      <th>order_id</th>\n",
       "      <th>product</th>\n",
       "      <th>quantity</th>\n",
       "      <th>price</th>\n",
       "      <th>price_sum</th>\n",
       "    </tr>\n",
       "  </thead>\n",
       "  <tbody>\n",
       "    <tr>\n",
       "      <td>2589</td>\n",
       "      <td>2019-04-01 16:00:00</td>\n",
       "      <td>57cc80a2-2610-4eef-9457-e7c3bf0c72f0</td>\n",
       "      <td>70960</td>\n",
       "      <td>Сумка-тележка 2-х колесная Gimi Argo красная</td>\n",
       "      <td>1</td>\n",
       "      <td>1087.0</td>\n",
       "      <td>1087.0</td>\n",
       "    </tr>\n",
       "    <tr>\n",
       "      <td>2600</td>\n",
       "      <td>2019-04-02 10:00:00</td>\n",
       "      <td>57cc80a2-2610-4eef-9457-e7c3bf0c72f0</td>\n",
       "      <td>70960</td>\n",
       "      <td>Сумка-тележка 2-х колесная Gimi Argo красная</td>\n",
       "      <td>1</td>\n",
       "      <td>1087.0</td>\n",
       "      <td>1087.0</td>\n",
       "    </tr>\n",
       "    <tr>\n",
       "      <td>2622</td>\n",
       "      <td>2019-04-03 08:00:00</td>\n",
       "      <td>57cc80a2-2610-4eef-9457-e7c3bf0c72f0</td>\n",
       "      <td>70960</td>\n",
       "      <td>Сумка-тележка 2-х колесная Gimi Argo красная</td>\n",
       "      <td>1</td>\n",
       "      <td>1087.0</td>\n",
       "      <td>1087.0</td>\n",
       "    </tr>\n",
       "    <tr>\n",
       "      <td>2718</td>\n",
       "      <td>2019-04-07 15:00:00</td>\n",
       "      <td>57cc80a2-2610-4eef-9457-e7c3bf0c72f0</td>\n",
       "      <td>70960</td>\n",
       "      <td>Сумка-тележка 2-х колесная Gimi Argo красная</td>\n",
       "      <td>1</td>\n",
       "      <td>1087.0</td>\n",
       "      <td>1087.0</td>\n",
       "    </tr>\n",
       "    <tr>\n",
       "      <td>2734</td>\n",
       "      <td>2019-04-08 09:00:00</td>\n",
       "      <td>57cc80a2-2610-4eef-9457-e7c3bf0c72f0</td>\n",
       "      <td>70960</td>\n",
       "      <td>Сумка-тележка 2-х колесная Gimi Argo красная</td>\n",
       "      <td>1</td>\n",
       "      <td>1087.0</td>\n",
       "      <td>1087.0</td>\n",
       "    </tr>\n",
       "  </tbody>\n",
       "</table>\n",
       "</div>"
      ],
      "text/plain": [
       "                    date                           customer_id  order_id  \\\n",
       "2589 2019-04-01 16:00:00  57cc80a2-2610-4eef-9457-e7c3bf0c72f0     70960   \n",
       "2600 2019-04-02 10:00:00  57cc80a2-2610-4eef-9457-e7c3bf0c72f0     70960   \n",
       "2622 2019-04-03 08:00:00  57cc80a2-2610-4eef-9457-e7c3bf0c72f0     70960   \n",
       "2718 2019-04-07 15:00:00  57cc80a2-2610-4eef-9457-e7c3bf0c72f0     70960   \n",
       "2734 2019-04-08 09:00:00  57cc80a2-2610-4eef-9457-e7c3bf0c72f0     70960   \n",
       "\n",
       "                                           product  quantity   price  \\\n",
       "2589  Сумка-тележка 2-х колесная Gimi Argo красная         1  1087.0   \n",
       "2600  Сумка-тележка 2-х колесная Gimi Argo красная         1  1087.0   \n",
       "2622  Сумка-тележка 2-х колесная Gimi Argo красная         1  1087.0   \n",
       "2718  Сумка-тележка 2-х колесная Gimi Argo красная         1  1087.0   \n",
       "2734  Сумка-тележка 2-х колесная Gimi Argo красная         1  1087.0   \n",
       "\n",
       "      price_sum  \n",
       "2589     1087.0  \n",
       "2600     1087.0  \n",
       "2622     1087.0  \n",
       "2718     1087.0  \n",
       "2734     1087.0  "
      ]
     },
     "metadata": {},
     "output_type": "display_data"
    },
    {
     "data": {
      "text/plain": [
       "60"
      ]
     },
     "execution_count": 14,
     "metadata": {},
     "output_type": "execute_result"
    }
   ],
   "source": [
    "display(df.query('order_id == 70960').head())\n",
    "len(df.query('order_id == 70960'))"
   ]
  },
  {
   "cell_type": "markdown",
   "metadata": {},
   "source": [
    "Исследвательский анализ данных показал, что в датасете пристсвуют неявные дубликаты - например, этот заказ каким-то образом размножился по временам, хотя номер заказа, айди покупателя и айди заказа везде оставаля прежним. Поищем нет ли в таблице еще таких размноженных строк "
   ]
  },
  {
   "cell_type": "code",
   "execution_count": 15,
   "metadata": {},
   "outputs": [
    {
     "name": "stdout",
     "output_type": "stream",
     "text": [
      "Количество неявных дубликатов: 1864\n"
     ]
    }
   ],
   "source": [
    "df_dubcheck = df.drop(['date'], axis = 1)\n",
    "\n",
    "print('Количество неявных дубликатов:', \n",
    "    df_dubcheck.duplicated().sum())"
   ]
  },
  {
   "cell_type": "markdown",
   "metadata": {},
   "source": [
    "Получается, что более четверти записей всех транзакций размножились во времени - похоже на какую-то техническую неисправность. Стоит срочно проверить то, как собираются данные. Подобные дубликаты из анализа нужно исключить \n"
   ]
  },
  {
   "cell_type": "code",
   "execution_count": 16,
   "metadata": {},
   "outputs": [
    {
     "name": "stdout",
     "output_type": "stream",
     "text": [
      "<class 'pandas.core.frame.DataFrame'>\n",
      "Int64Index: 4870 entries, 0 to 6735\n",
      "Data columns (total 7 columns):\n",
      "date           4870 non-null datetime64[ns]\n",
      "customer_id    4870 non-null object\n",
      "order_id       4870 non-null int64\n",
      "product        4870 non-null object\n",
      "quantity       4870 non-null int64\n",
      "price          4870 non-null float64\n",
      "price_sum      4870 non-null float64\n",
      "dtypes: datetime64[ns](1), float64(2), int64(2), object(2)\n",
      "memory usage: 304.4+ KB\n"
     ]
    }
   ],
   "source": [
    "df = df.drop_duplicates(['customer_id', 'order_id', 'product', 'quantity', 'price'])\n",
    "df.info()"
   ]
  },
  {
   "cell_type": "code",
   "execution_count": 17,
   "metadata": {},
   "outputs": [
    {
     "data": {
      "text/plain": [
       "count     2814.000000\n",
       "mean      1197.703269\n",
       "std       1831.296652\n",
       "min         14.000000\n",
       "25%        284.250000\n",
       "50%        680.000000\n",
       "75%       1438.500000\n",
       "max      33680.000000\n",
       "Name: price_sum, dtype: float64"
      ]
     },
     "execution_count": 17,
     "metadata": {},
     "output_type": "execute_result"
    }
   ],
   "source": [
    "orders = df.groupby(['customer_id','order_id']).agg({'price_sum' : 'sum'}).reset_index()\n",
    "orders['price_sum'].describe()"
   ]
  },
  {
   "cell_type": "markdown",
   "metadata": {},
   "source": [
    "В очишенных данных картина слегка поменялась и нормализовалась - максимальный заказ теперь в районе 30 000, а медиана 680. Однако также актуальным и осталось то, что большинство заказов сравнительно очень недорогие. "
   ]
  },
  {
   "cell_type": "markdown",
   "metadata": {},
   "source": [
    "### Количесвто заказов "
   ]
  },
  {
   "cell_type": "code",
   "execution_count": 18,
   "metadata": {},
   "outputs": [
    {
     "data": {
      "text/html": [
       "<div>\n",
       "<style scoped>\n",
       "    .dataframe tbody tr th:only-of-type {\n",
       "        vertical-align: middle;\n",
       "    }\n",
       "\n",
       "    .dataframe tbody tr th {\n",
       "        vertical-align: top;\n",
       "    }\n",
       "\n",
       "    .dataframe thead th {\n",
       "        text-align: right;\n",
       "    }\n",
       "</style>\n",
       "<table border=\"1\" class=\"dataframe\">\n",
       "  <thead>\n",
       "    <tr style=\"text-align: right;\">\n",
       "      <th></th>\n",
       "      <th>customer_id</th>\n",
       "      <th>order_id</th>\n",
       "    </tr>\n",
       "  </thead>\n",
       "  <tbody>\n",
       "    <tr>\n",
       "      <td>0</td>\n",
       "      <td>000d6849-084e-4d9f-ac03-37174eaf60c4</td>\n",
       "      <td>1</td>\n",
       "    </tr>\n",
       "    <tr>\n",
       "      <td>1</td>\n",
       "      <td>001cee7f-0b29-4716-b202-0042213ab038</td>\n",
       "      <td>1</td>\n",
       "    </tr>\n",
       "    <tr>\n",
       "      <td>2</td>\n",
       "      <td>00299f34-5385-4d13-9aea-c80b81658e1b</td>\n",
       "      <td>1</td>\n",
       "    </tr>\n",
       "    <tr>\n",
       "      <td>3</td>\n",
       "      <td>002d4d3a-4a59-406b-86ec-c3314357e498</td>\n",
       "      <td>1</td>\n",
       "    </tr>\n",
       "    <tr>\n",
       "      <td>4</td>\n",
       "      <td>003bbd39-0000-41ff-b7f9-2ddaec152037</td>\n",
       "      <td>1</td>\n",
       "    </tr>\n",
       "  </tbody>\n",
       "</table>\n",
       "</div>"
      ],
      "text/plain": [
       "                            customer_id  order_id\n",
       "0  000d6849-084e-4d9f-ac03-37174eaf60c4         1\n",
       "1  001cee7f-0b29-4716-b202-0042213ab038         1\n",
       "2  00299f34-5385-4d13-9aea-c80b81658e1b         1\n",
       "3  002d4d3a-4a59-406b-86ec-c3314357e498         1\n",
       "4  003bbd39-0000-41ff-b7f9-2ddaec152037         1"
      ]
     },
     "execution_count": 18,
     "metadata": {},
     "output_type": "execute_result"
    }
   ],
   "source": [
    "orders_n = df.groupby('customer_id')['order_id'].nunique().reset_index()\n",
    "orders_n.head()"
   ]
  },
  {
   "cell_type": "code",
   "execution_count": 19,
   "metadata": {},
   "outputs": [
    {
     "data": {
      "image/png": "[encoded data removed]",
      "text/plain": [
       "<Figure size 936x360 with 1 Axes>"
      ]
     },
     "metadata": {
      "needs_background": "light"
     },
     "output_type": "display_data"
    }
   ],
   "source": [
    "plt.figure(figsize=(13, 5)) \n",
    "\n",
    "orders_n['order_id'].hist(bins = 10, range=(0, 10), color='steelblue')\n",
    "\n",
    "plt.xlabel('Количество заказов')\n",
    "plt.ylabel('Количество клиентов')\n",
    "plt.title('Распределение количесвтва заказов по клиентам')\n",
    "plt.show()"
   ]
  },
  {
   "cell_type": "code",
   "execution_count": 20,
   "metadata": {},
   "outputs": [
    {
     "name": "stdout",
     "output_type": "stream",
     "text": [
      "Процент клиентов, которые совершили более одного заказа:6.5%\n"
     ]
    }
   ],
   "source": [
    "print('Процент клиентов, которые совершили более одного заказа:{:.1%}'.\n",
    "      format(len(orders_n.query(\"order_id > 1\")) / len(orders_n)))"
   ]
  },
  {
   "cell_type": "markdown",
   "metadata": {},
   "source": [
    "Как видно из гистограммы в абсолютном большинсве клиенты совершают один заказ - только около 6% возвращаются. Это довольно странно, учитывая, что данные более, чем за годовой период (возможно это значит, что в магазине необязательна регистрация (и тогда мы просто не отслеживаем повторных покупталей, что не очень дальновидно)). Тем не менее пдробно рассмотрим тех, кто вернулся "
   ]
  },
  {
   "cell_type": "code",
   "execution_count": 21,
   "metadata": {},
   "outputs": [
    {
     "data": {
      "text/html": [
       "<div>\n",
       "<style scoped>\n",
       "    .dataframe tbody tr th:only-of-type {\n",
       "        vertical-align: middle;\n",
       "    }\n",
       "\n",
       "    .dataframe tbody tr th {\n",
       "        vertical-align: top;\n",
       "    }\n",
       "\n",
       "    .dataframe thead th {\n",
       "        text-align: right;\n",
       "    }\n",
       "</style>\n",
       "<table border=\"1\" class=\"dataframe\">\n",
       "  <thead>\n",
       "    <tr style=\"text-align: right;\">\n",
       "      <th></th>\n",
       "      <th>customer_id</th>\n",
       "      <th>order_id</th>\n",
       "    </tr>\n",
       "  </thead>\n",
       "  <tbody>\n",
       "    <tr>\n",
       "      <td>1914</td>\n",
       "      <td>c971fb21-d54c-4134-938f-16b62ee86d3b</td>\n",
       "      <td>126</td>\n",
       "    </tr>\n",
       "    <tr>\n",
       "      <td>740</td>\n",
       "      <td>4d93d3f6-8b24-403b-a74b-f5173e40d7db</td>\n",
       "      <td>35</td>\n",
       "    </tr>\n",
       "    <tr>\n",
       "      <td>1099</td>\n",
       "      <td>73d1cd35-5e5f-4629-8cf2-3fda829d4e58</td>\n",
       "      <td>17</td>\n",
       "    </tr>\n",
       "    <tr>\n",
       "      <td>1746</td>\n",
       "      <td>b7b865ab-0735-407f-8d0c-31f74d2806cc</td>\n",
       "      <td>7</td>\n",
       "    </tr>\n",
       "    <tr>\n",
       "      <td>17</td>\n",
       "      <td>0184f535-b60a-4914-a982-231e3f615206</td>\n",
       "      <td>5</td>\n",
       "    </tr>\n",
       "    <tr>\n",
       "      <td>697</td>\n",
       "      <td>498f12a4-6a62-4725-8516-cf5dc9ab8a3a</td>\n",
       "      <td>4</td>\n",
       "    </tr>\n",
       "    <tr>\n",
       "      <td>2145</td>\n",
       "      <td>e0535076-6270-4df2-8621-cb06264a94fa</td>\n",
       "      <td>4</td>\n",
       "    </tr>\n",
       "    <tr>\n",
       "      <td>1818</td>\n",
       "      <td>bea7a833-2074-42db-bc49-4457abd3c930</td>\n",
       "      <td>4</td>\n",
       "    </tr>\n",
       "    <tr>\n",
       "      <td>802</td>\n",
       "      <td>552e17df-ba16-4e66-84fb-55a5557a6bea</td>\n",
       "      <td>3</td>\n",
       "    </tr>\n",
       "    <tr>\n",
       "      <td>876</td>\n",
       "      <td>5d566073-92e8-41d1-a2e6-d301ee5ab6d8</td>\n",
       "      <td>3</td>\n",
       "    </tr>\n",
       "  </tbody>\n",
       "</table>\n",
       "</div>"
      ],
      "text/plain": [
       "                               customer_id  order_id\n",
       "1914  c971fb21-d54c-4134-938f-16b62ee86d3b       126\n",
       "740   4d93d3f6-8b24-403b-a74b-f5173e40d7db        35\n",
       "1099  73d1cd35-5e5f-4629-8cf2-3fda829d4e58        17\n",
       "1746  b7b865ab-0735-407f-8d0c-31f74d2806cc         7\n",
       "17    0184f535-b60a-4914-a982-231e3f615206         5\n",
       "697   498f12a4-6a62-4725-8516-cf5dc9ab8a3a         4\n",
       "2145  e0535076-6270-4df2-8621-cb06264a94fa         4\n",
       "1818  bea7a833-2074-42db-bc49-4457abd3c930         4\n",
       "802   552e17df-ba16-4e66-84fb-55a5557a6bea         3\n",
       "876   5d566073-92e8-41d1-a2e6-d301ee5ab6d8         3"
      ]
     },
     "execution_count": 21,
     "metadata": {},
     "output_type": "execute_result"
    }
   ],
   "source": [
    "orders_n.query(\"order_id > 1\").sort_values(by = 'order_id', ascending=False ).head(10)"
   ]
  },
  {
   "cell_type": "markdown",
   "metadata": {},
   "source": [
    "Есть покупатель, который покупал в разы больше, чем все остальные в базе, посмотрим на него подробнее "
   ]
  },
  {
   "cell_type": "code",
   "execution_count": 22,
   "metadata": {},
   "outputs": [
    {
     "data": {
      "text/html": [
       "<div>\n",
       "<style scoped>\n",
       "    .dataframe tbody tr th:only-of-type {\n",
       "        vertical-align: middle;\n",
       "    }\n",
       "\n",
       "    .dataframe tbody tr th {\n",
       "        vertical-align: top;\n",
       "    }\n",
       "\n",
       "    .dataframe thead th {\n",
       "        text-align: right;\n",
       "    }\n",
       "</style>\n",
       "<table border=\"1\" class=\"dataframe\">\n",
       "  <thead>\n",
       "    <tr style=\"text-align: right;\">\n",
       "      <th></th>\n",
       "      <th>date</th>\n",
       "      <th>customer_id</th>\n",
       "      <th>order_id</th>\n",
       "      <th>product</th>\n",
       "      <th>quantity</th>\n",
       "      <th>price</th>\n",
       "      <th>price_sum</th>\n",
       "    </tr>\n",
       "  </thead>\n",
       "  <tbody>\n",
       "    <tr>\n",
       "      <td>9</td>\n",
       "      <td>2018-10-01 09:00:00</td>\n",
       "      <td>c971fb21-d54c-4134-938f-16b62ee86d3b</td>\n",
       "      <td>68480</td>\n",
       "      <td>Чехол для гладильной доски Colombo Persia Beig...</td>\n",
       "      <td>1</td>\n",
       "      <td>674.0</td>\n",
       "      <td>674.0</td>\n",
       "    </tr>\n",
       "    <tr>\n",
       "      <td>20</td>\n",
       "      <td>2018-10-02 08:00:00</td>\n",
       "      <td>c971fb21-d54c-4134-938f-16b62ee86d3b</td>\n",
       "      <td>68490</td>\n",
       "      <td>Чехол для гладильной доски Festival 137x60 см ...</td>\n",
       "      <td>1</td>\n",
       "      <td>1162.0</td>\n",
       "      <td>1162.0</td>\n",
       "    </tr>\n",
       "    <tr>\n",
       "      <td>64</td>\n",
       "      <td>2018-10-03 08:00:00</td>\n",
       "      <td>c971fb21-d54c-4134-938f-16b62ee86d3b</td>\n",
       "      <td>68511</td>\n",
       "      <td>Набор прищепок большие пластиковые ROZENBAL ПИ...</td>\n",
       "      <td>10</td>\n",
       "      <td>86.0</td>\n",
       "      <td>860.0</td>\n",
       "    </tr>\n",
       "    <tr>\n",
       "      <td>65</td>\n",
       "      <td>2018-10-03 10:00:00</td>\n",
       "      <td>c971fb21-d54c-4134-938f-16b62ee86d3b</td>\n",
       "      <td>68514</td>\n",
       "      <td>Сушилка для белья Attribute ПРИМА 11 м синяя н...</td>\n",
       "      <td>1</td>\n",
       "      <td>749.0</td>\n",
       "      <td>749.0</td>\n",
       "    </tr>\n",
       "    <tr>\n",
       "      <td>130</td>\n",
       "      <td>2018-10-08 07:00:00</td>\n",
       "      <td>c971fb21-d54c-4134-938f-16b62ee86d3b</td>\n",
       "      <td>68561</td>\n",
       "      <td>Тележка багажная DELTA ТБР-20 коричневый с ора...</td>\n",
       "      <td>1</td>\n",
       "      <td>742.0</td>\n",
       "      <td>742.0</td>\n",
       "    </tr>\n",
       "    <tr>\n",
       "      <td>131</td>\n",
       "      <td>2018-10-08 08:00:00</td>\n",
       "      <td>c971fb21-d54c-4134-938f-16b62ee86d3b</td>\n",
       "      <td>68562</td>\n",
       "      <td>Готовая скатерть Ажурная Dia Rose круглая д.15...</td>\n",
       "      <td>1</td>\n",
       "      <td>712.0</td>\n",
       "      <td>712.0</td>\n",
       "    </tr>\n",
       "    <tr>\n",
       "      <td>132</td>\n",
       "      <td>2018-10-08 09:00:00</td>\n",
       "      <td>c971fb21-d54c-4134-938f-16b62ee86d3b</td>\n",
       "      <td>68563</td>\n",
       "      <td>Сушилка для белья потолочная Zalger Lift Basic...</td>\n",
       "      <td>1</td>\n",
       "      <td>614.0</td>\n",
       "      <td>614.0</td>\n",
       "    </tr>\n",
       "    <tr>\n",
       "      <td>139</td>\n",
       "      <td>2018-10-08 13:00:00</td>\n",
       "      <td>c971fb21-d54c-4134-938f-16b62ee86d3b</td>\n",
       "      <td>68568</td>\n",
       "      <td>Таз пластмассовый 18,0 л квадратный (ТП-18) \"П...</td>\n",
       "      <td>1</td>\n",
       "      <td>254.0</td>\n",
       "      <td>254.0</td>\n",
       "    </tr>\n",
       "    <tr>\n",
       "      <td>160</td>\n",
       "      <td>2018-10-09 09:00:00</td>\n",
       "      <td>c971fb21-d54c-4134-938f-16b62ee86d3b</td>\n",
       "      <td>68580</td>\n",
       "      <td>Стяжка оконная с болтом СТ-55 цинк, 1108354</td>\n",
       "      <td>64</td>\n",
       "      <td>19.0</td>\n",
       "      <td>1216.0</td>\n",
       "    </tr>\n",
       "    <tr>\n",
       "      <td>171</td>\n",
       "      <td>2018-10-10 08:00:00</td>\n",
       "      <td>c971fb21-d54c-4134-938f-16b62ee86d3b</td>\n",
       "      <td>68596</td>\n",
       "      <td>Сумка-тележка 3-х колесная Gimi Tris Floral синяя</td>\n",
       "      <td>1</td>\n",
       "      <td>2699.0</td>\n",
       "      <td>2699.0</td>\n",
       "    </tr>\n",
       "  </tbody>\n",
       "</table>\n",
       "</div>"
      ],
      "text/plain": [
       "                   date                           customer_id  order_id  \\\n",
       "9   2018-10-01 09:00:00  c971fb21-d54c-4134-938f-16b62ee86d3b     68480   \n",
       "20  2018-10-02 08:00:00  c971fb21-d54c-4134-938f-16b62ee86d3b     68490   \n",
       "64  2018-10-03 08:00:00  c971fb21-d54c-4134-938f-16b62ee86d3b     68511   \n",
       "65  2018-10-03 10:00:00  c971fb21-d54c-4134-938f-16b62ee86d3b     68514   \n",
       "130 2018-10-08 07:00:00  c971fb21-d54c-4134-938f-16b62ee86d3b     68561   \n",
       "131 2018-10-08 08:00:00  c971fb21-d54c-4134-938f-16b62ee86d3b     68562   \n",
       "132 2018-10-08 09:00:00  c971fb21-d54c-4134-938f-16b62ee86d3b     68563   \n",
       "139 2018-10-08 13:00:00  c971fb21-d54c-4134-938f-16b62ee86d3b     68568   \n",
       "160 2018-10-09 09:00:00  c971fb21-d54c-4134-938f-16b62ee86d3b     68580   \n",
       "171 2018-10-10 08:00:00  c971fb21-d54c-4134-938f-16b62ee86d3b     68596   \n",
       "\n",
       "                                               product  quantity   price  \\\n",
       "9    Чехол для гладильной доски Colombo Persia Beig...         1   674.0   \n",
       "20   Чехол для гладильной доски Festival 137x60 см ...         1  1162.0   \n",
       "64   Набор прищепок большие пластиковые ROZENBAL ПИ...        10    86.0   \n",
       "65   Сушилка для белья Attribute ПРИМА 11 м синяя н...         1   749.0   \n",
       "130  Тележка багажная DELTA ТБР-20 коричневый с ора...         1   742.0   \n",
       "131  Готовая скатерть Ажурная Dia Rose круглая д.15...         1   712.0   \n",
       "132  Сушилка для белья потолочная Zalger Lift Basic...         1   614.0   \n",
       "139  Таз пластмассовый 18,0 л квадратный (ТП-18) \"П...         1   254.0   \n",
       "160        Стяжка оконная с болтом СТ-55 цинк, 1108354        64    19.0   \n",
       "171  Сумка-тележка 3-х колесная Gimi Tris Floral синяя         1  2699.0   \n",
       "\n",
       "     price_sum  \n",
       "9        674.0  \n",
       "20      1162.0  \n",
       "64       860.0  \n",
       "65       749.0  \n",
       "130      742.0  \n",
       "131      712.0  \n",
       "132      614.0  \n",
       "139      254.0  \n",
       "160     1216.0  \n",
       "171     2699.0  "
      ]
     },
     "execution_count": 22,
     "metadata": {},
     "output_type": "execute_result"
    }
   ],
   "source": [
    "df.query('customer_id == \"c971fb21-d54c-4134-938f-16b62ee86d3b\"').head(10)"
   ]
  },
  {
   "cell_type": "code",
   "execution_count": 23,
   "metadata": {},
   "outputs": [
    {
     "name": "stdout",
     "output_type": "stream",
     "text": [
      "Сумма денег от самого верного покупателя: 159508.0\n"
     ]
    }
   ],
   "source": [
    "print('Сумма денег от самого верного покупателя:', \n",
    "      df.query('customer_id == \"c971fb21-d54c-4134-938f-16b62ee86d3b\"')['price_sum'].sum())"
   ]
  },
  {
   "cell_type": "markdown",
   "metadata": {},
   "source": [
    "Непохоже на то, что это был бы дубликат, видимо, клиент действительно очень часто и много покупает в нашем магазине. Однако, это очень нетипично, потому что пока все говорит о том, что наш основной покупатель - тот, кто делает 1 заказ на сумму до 1000 руб "
   ]
  },
  {
   "cell_type": "markdown",
   "metadata": {},
   "source": [
    "### Сезонность данных "
   ]
  },
  {
   "cell_type": "markdown",
   "metadata": {},
   "source": [
    "Посмотрим на распределение заказов относительно того времени, когда они совершались - построим графики по сумме и количесвту заказов по месяцам)"
   ]
  },
  {
   "cell_type": "code",
   "execution_count": 24,
   "metadata": {},
   "outputs": [],
   "source": [
    "df['date_month'] = df['date'].astype('datetime64[M]').dt.strftime('%Y-%m') \n",
    "\n",
    "orders_season = df.groupby('date_month').agg({'order_id' : 'nunique', 'price_sum' : 'sum'}).reset_index()\n",
    "#orders_season"
   ]
  },
  {
   "cell_type": "code",
   "execution_count": 25,
   "metadata": {},
   "outputs": [
    {
     "data": {
      "image/png": "[encoded data removed]",
      "text/plain": [
       "<Figure size 936x360 with 1 Axes>"
      ]
     },
     "metadata": {
      "needs_background": "light"
     },
     "output_type": "display_data"
    }
   ],
   "source": [
    "plt.figure(figsize=(13, 5)) \n",
    "sns.barplot(x = 'date_month', y = 'order_id', data = orders_season, palette=\"Blues_d\")\n",
    "\n",
    "plt.xlabel('Месяц')\n",
    "plt.ylabel('Количество заказов')\n",
    "plt.title('Распределение количесвтва заказов по месяцам')\n",
    "plt.show()"
   ]
  },
  {
   "cell_type": "code",
   "execution_count": 26,
   "metadata": {},
   "outputs": [
    {
     "data": {
      "image/png": "[encoded data removed]",
      "text/plain": [
       "<Figure size 936x360 with 1 Axes>"
      ]
     },
     "metadata": {
      "needs_background": "light"
     },
     "output_type": "display_data"
    }
   ],
   "source": [
    "plt.figure(figsize=(13, 5)) \n",
    "\n",
    "sns.barplot(x = 'date_month', y = 'price_sum', data = orders_season,  palette=\"Blues_d\")\n",
    "\n",
    "plt.xlabel('Месяц')\n",
    "plt.ylabel('Сумма заказов')\n",
    "plt.title('Распределение сумм заказов по месяцам')\n",
    "plt.show()"
   ]
  },
  {
   "cell_type": "markdown",
   "metadata": {},
   "source": [
    "Если мы говорим и выручке за месяц, то можно сказать, что октябрь, ноябрь и декабрь были самые прибыльные месяцы. По количесву заказов самые продуктивные - декабрь и апрель. Декабрь прибыльный во всех отношениях (а январь соотвесвенно самый менее прибыльный) из-за новогодних праздников, апрель тоже можно отметить как месяд подготовки к дачному сезону, а вот то, что в октябре и ноябре прибыль была довольно высока, а количество заказов средним, указывает на большее количесво крупных заказов. Похоже в это время были активнее наши \"нетипичные клиенты\" (условно те кто совершают заказы дороже 1000 руб. Возможно, были какие-то акции или магазин только открылся и успешно привлек много таких клиентов. \n",
    "Также видна довольно тревожная тендеция трех последних месяцев - и заказы, и сумма заказов относительно всего прошешего периодна не очень высоки."
   ]
  },
  {
   "cell_type": "markdown",
   "metadata": {},
   "source": [
    "### Средний чек"
   ]
  },
  {
   "cell_type": "code",
   "execution_count": 27,
   "metadata": {},
   "outputs": [
    {
     "data": {
      "text/html": [
       "<div>\n",
       "<style scoped>\n",
       "    .dataframe tbody tr th:only-of-type {\n",
       "        vertical-align: middle;\n",
       "    }\n",
       "\n",
       "    .dataframe tbody tr th {\n",
       "        vertical-align: top;\n",
       "    }\n",
       "\n",
       "    .dataframe thead th {\n",
       "        text-align: right;\n",
       "    }\n",
       "</style>\n",
       "<table border=\"1\" class=\"dataframe\">\n",
       "  <thead>\n",
       "    <tr style=\"text-align: right;\">\n",
       "      <th></th>\n",
       "      <th>date</th>\n",
       "      <th>customer_id</th>\n",
       "      <th>order_id</th>\n",
       "      <th>product</th>\n",
       "      <th>quantity</th>\n",
       "      <th>price</th>\n",
       "      <th>price_sum</th>\n",
       "      <th>date_month</th>\n",
       "    </tr>\n",
       "  </thead>\n",
       "  <tbody>\n",
       "    <tr>\n",
       "      <td>0</td>\n",
       "      <td>2018-10-01</td>\n",
       "      <td>ee47d746-6d2f-4d3c-9622-c31412542920</td>\n",
       "      <td>68477</td>\n",
       "      <td>Комнатное растение в горшке Алое Вера, d12, h30</td>\n",
       "      <td>1</td>\n",
       "      <td>142.0</td>\n",
       "      <td>142.0</td>\n",
       "      <td>2018-10</td>\n",
       "    </tr>\n",
       "    <tr>\n",
       "      <td>1</td>\n",
       "      <td>2018-10-01</td>\n",
       "      <td>ee47d746-6d2f-4d3c-9622-c31412542920</td>\n",
       "      <td>68477</td>\n",
       "      <td>Комнатное растение в горшке Кофе Арабика, d12,...</td>\n",
       "      <td>1</td>\n",
       "      <td>194.0</td>\n",
       "      <td>194.0</td>\n",
       "      <td>2018-10</td>\n",
       "    </tr>\n",
       "    <tr>\n",
       "      <td>2</td>\n",
       "      <td>2018-10-01</td>\n",
       "      <td>ee47d746-6d2f-4d3c-9622-c31412542920</td>\n",
       "      <td>68477</td>\n",
       "      <td>Радермахера d-12 см h-20 см</td>\n",
       "      <td>1</td>\n",
       "      <td>112.0</td>\n",
       "      <td>112.0</td>\n",
       "      <td>2018-10</td>\n",
       "    </tr>\n",
       "    <tr>\n",
       "      <td>3</td>\n",
       "      <td>2018-10-01</td>\n",
       "      <td>ee47d746-6d2f-4d3c-9622-c31412542920</td>\n",
       "      <td>68477</td>\n",
       "      <td>Хризолидокарпус Лутесценс d-9 см</td>\n",
       "      <td>1</td>\n",
       "      <td>179.0</td>\n",
       "      <td>179.0</td>\n",
       "      <td>2018-10</td>\n",
       "    </tr>\n",
       "    <tr>\n",
       "      <td>4</td>\n",
       "      <td>2018-10-01</td>\n",
       "      <td>ee47d746-6d2f-4d3c-9622-c31412542920</td>\n",
       "      <td>68477</td>\n",
       "      <td>Циперус Зумула d-12 см h-25 см</td>\n",
       "      <td>1</td>\n",
       "      <td>112.0</td>\n",
       "      <td>112.0</td>\n",
       "      <td>2018-10</td>\n",
       "    </tr>\n",
       "  </tbody>\n",
       "</table>\n",
       "</div>"
      ],
      "text/plain": [
       "        date                           customer_id  order_id  \\\n",
       "0 2018-10-01  ee47d746-6d2f-4d3c-9622-c31412542920     68477   \n",
       "1 2018-10-01  ee47d746-6d2f-4d3c-9622-c31412542920     68477   \n",
       "2 2018-10-01  ee47d746-6d2f-4d3c-9622-c31412542920     68477   \n",
       "3 2018-10-01  ee47d746-6d2f-4d3c-9622-c31412542920     68477   \n",
       "4 2018-10-01  ee47d746-6d2f-4d3c-9622-c31412542920     68477   \n",
       "\n",
       "                                             product  quantity  price  \\\n",
       "0    Комнатное растение в горшке Алое Вера, d12, h30         1  142.0   \n",
       "1  Комнатное растение в горшке Кофе Арабика, d12,...         1  194.0   \n",
       "2                        Радермахера d-12 см h-20 см         1  112.0   \n",
       "3                   Хризолидокарпус Лутесценс d-9 см         1  179.0   \n",
       "4                     Циперус Зумула d-12 см h-25 см         1  112.0   \n",
       "\n",
       "   price_sum date_month  \n",
       "0      142.0    2018-10  \n",
       "1      194.0    2018-10  \n",
       "2      112.0    2018-10  \n",
       "3      179.0    2018-10  \n",
       "4      112.0    2018-10  "
      ]
     },
     "execution_count": 27,
     "metadata": {},
     "output_type": "execute_result"
    }
   ],
   "source": [
    "df.head()"
   ]
  },
  {
   "cell_type": "code",
   "execution_count": 28,
   "metadata": {},
   "outputs": [
    {
     "data": {
      "text/html": [
       "<div>\n",
       "<style scoped>\n",
       "    .dataframe tbody tr th:only-of-type {\n",
       "        vertical-align: middle;\n",
       "    }\n",
       "\n",
       "    .dataframe tbody tr th {\n",
       "        vertical-align: top;\n",
       "    }\n",
       "\n",
       "    .dataframe thead th {\n",
       "        text-align: right;\n",
       "    }\n",
       "</style>\n",
       "<table border=\"1\" class=\"dataframe\">\n",
       "  <thead>\n",
       "    <tr style=\"text-align: right;\">\n",
       "      <th></th>\n",
       "      <th>customer_id</th>\n",
       "      <th>sum</th>\n",
       "      <th>orders_n</th>\n",
       "    </tr>\n",
       "  </thead>\n",
       "  <tbody>\n",
       "    <tr>\n",
       "      <td>0</td>\n",
       "      <td>000d6849-084e-4d9f-ac03-37174eaf60c4</td>\n",
       "      <td>555.0</td>\n",
       "      <td>1</td>\n",
       "    </tr>\n",
       "    <tr>\n",
       "      <td>1</td>\n",
       "      <td>001cee7f-0b29-4716-b202-0042213ab038</td>\n",
       "      <td>442.0</td>\n",
       "      <td>1</td>\n",
       "    </tr>\n",
       "    <tr>\n",
       "      <td>2</td>\n",
       "      <td>00299f34-5385-4d13-9aea-c80b81658e1b</td>\n",
       "      <td>914.0</td>\n",
       "      <td>1</td>\n",
       "    </tr>\n",
       "    <tr>\n",
       "      <td>3</td>\n",
       "      <td>002d4d3a-4a59-406b-86ec-c3314357e498</td>\n",
       "      <td>1649.0</td>\n",
       "      <td>1</td>\n",
       "    </tr>\n",
       "    <tr>\n",
       "      <td>4</td>\n",
       "      <td>003bbd39-0000-41ff-b7f9-2ddaec152037</td>\n",
       "      <td>2324.0</td>\n",
       "      <td>1</td>\n",
       "    </tr>\n",
       "  </tbody>\n",
       "</table>\n",
       "</div>"
      ],
      "text/plain": [
       "                            customer_id     sum  orders_n\n",
       "0  000d6849-084e-4d9f-ac03-37174eaf60c4   555.0         1\n",
       "1  001cee7f-0b29-4716-b202-0042213ab038   442.0         1\n",
       "2  00299f34-5385-4d13-9aea-c80b81658e1b   914.0         1\n",
       "3  002d4d3a-4a59-406b-86ec-c3314357e498  1649.0         1\n",
       "4  003bbd39-0000-41ff-b7f9-2ddaec152037  2324.0         1"
      ]
     },
     "execution_count": 28,
     "metadata": {},
     "output_type": "execute_result"
    }
   ],
   "source": [
    "customers = df.groupby('customer_id').agg({'price_sum' : 'sum', 'order_id' : 'nunique' }).reset_index()\n",
    "customers.columns = ['customer_id', 'sum', 'orders_n']\n",
    "customers.head()"
   ]
  },
  {
   "cell_type": "code",
   "execution_count": 29,
   "metadata": {},
   "outputs": [
    {
     "data": {
      "text/html": [
       "<div>\n",
       "<style scoped>\n",
       "    .dataframe tbody tr th:only-of-type {\n",
       "        vertical-align: middle;\n",
       "    }\n",
       "\n",
       "    .dataframe tbody tr th {\n",
       "        vertical-align: top;\n",
       "    }\n",
       "\n",
       "    .dataframe thead th {\n",
       "        text-align: right;\n",
       "    }\n",
       "</style>\n",
       "<table border=\"1\" class=\"dataframe\">\n",
       "  <thead>\n",
       "    <tr style=\"text-align: right;\">\n",
       "      <th></th>\n",
       "      <th>customer_id</th>\n",
       "      <th>sum</th>\n",
       "      <th>orders_n</th>\n",
       "      <th>mean_check</th>\n",
       "    </tr>\n",
       "  </thead>\n",
       "  <tbody>\n",
       "    <tr>\n",
       "      <td>0</td>\n",
       "      <td>000d6849-084e-4d9f-ac03-37174eaf60c4</td>\n",
       "      <td>555.0</td>\n",
       "      <td>1</td>\n",
       "      <td>555.0</td>\n",
       "    </tr>\n",
       "    <tr>\n",
       "      <td>1</td>\n",
       "      <td>001cee7f-0b29-4716-b202-0042213ab038</td>\n",
       "      <td>442.0</td>\n",
       "      <td>1</td>\n",
       "      <td>442.0</td>\n",
       "    </tr>\n",
       "    <tr>\n",
       "      <td>2</td>\n",
       "      <td>00299f34-5385-4d13-9aea-c80b81658e1b</td>\n",
       "      <td>914.0</td>\n",
       "      <td>1</td>\n",
       "      <td>914.0</td>\n",
       "    </tr>\n",
       "    <tr>\n",
       "      <td>3</td>\n",
       "      <td>002d4d3a-4a59-406b-86ec-c3314357e498</td>\n",
       "      <td>1649.0</td>\n",
       "      <td>1</td>\n",
       "      <td>1649.0</td>\n",
       "    </tr>\n",
       "    <tr>\n",
       "      <td>4</td>\n",
       "      <td>003bbd39-0000-41ff-b7f9-2ddaec152037</td>\n",
       "      <td>2324.0</td>\n",
       "      <td>1</td>\n",
       "      <td>2324.0</td>\n",
       "    </tr>\n",
       "  </tbody>\n",
       "</table>\n",
       "</div>"
      ],
      "text/plain": [
       "                            customer_id     sum  orders_n  mean_check\n",
       "0  000d6849-084e-4d9f-ac03-37174eaf60c4   555.0         1       555.0\n",
       "1  001cee7f-0b29-4716-b202-0042213ab038   442.0         1       442.0\n",
       "2  00299f34-5385-4d13-9aea-c80b81658e1b   914.0         1       914.0\n",
       "3  002d4d3a-4a59-406b-86ec-c3314357e498  1649.0         1      1649.0\n",
       "4  003bbd39-0000-41ff-b7f9-2ddaec152037  2324.0         1      2324.0"
      ]
     },
     "metadata": {},
     "output_type": "display_data"
    },
    {
     "data": {
      "text/plain": [
       "count     2449.000000\n",
       "mean      1197.253078\n",
       "std       1844.339330\n",
       "min         14.000000\n",
       "25%        292.000000\n",
       "50%        674.000000\n",
       "75%       1447.000000\n",
       "max      33680.000000\n",
       "Name: mean_check, dtype: float64"
      ]
     },
     "execution_count": 29,
     "metadata": {},
     "output_type": "execute_result"
    }
   ],
   "source": [
    "customers['mean_check'] = customers['sum'] / customers['orders_n']\n",
    "display(customers.head())\n",
    "customers['mean_check'].describe()"
   ]
  },
  {
   "cell_type": "code",
   "execution_count": 30,
   "metadata": {},
   "outputs": [
    {
     "data": {
      "image/png": "[encoded data removed]",
      "text/plain": [
       "<Figure size 936x360 with 1 Axes>"
      ]
     },
     "metadata": {
      "needs_background": "light"
     },
     "output_type": "display_data"
    }
   ],
   "source": [
    "plt.figure(figsize=(13, 5)) \n",
    "\n",
    "customers['mean_check'].hist(bins = 15, range=(0, 8000), color='steelblue')\n",
    "\n",
    "plt.xlabel('Средний чек')\n",
    "plt.ylabel('Количество клиентов')\n",
    "plt.title('Распределение среднего чека по клиентам')\n",
    "plt.show()"
   ]
  },
  {
   "cell_type": "markdown",
   "metadata": {},
   "source": [
    "Так ка у нас очень мало повторных заказов, то распределение среднего чего ожидаемо очень похоже на распределение стоимости заказа, поэтому и выводы те же самые: более половины всез покупателей в среднем оставляют в магазине менее 700 за один заказ. Так же стоит заметить, что не так велик разброс между теми, кто оставляет в магазине 2000 или 3000, поэтому можно говорить о том, что у нас 2 категории покупателей - те у кого высокий средний чек и те у кого низкий, а границей можно выбрать 3ий квантиль 1447 руб "
   ]
  },
  {
   "cell_type": "code",
   "execution_count": 31,
   "metadata": {},
   "outputs": [
    {
     "data": {
      "text/plain": [
       "1447.0"
      ]
     },
     "execution_count": 31,
     "metadata": {},
     "output_type": "execute_result"
    }
   ],
   "source": [
    "border = np.percentile(customers['mean_check'], 75)\n",
    "border"
   ]
  },
  {
   "cell_type": "markdown",
   "metadata": {},
   "source": [
    "Интересно было бы посмотреть сколько денег в общую выручку приносят  клиенты каждой группы, однако как мы помним по боксплоту по стоимости заказов в нашем датасете довольно много выбросов. Если посчиать процент денег, которые приносят клиенты с высоким среднем чеком от всей выручки ожидаемо получится значительно больше, так как все выбросы на огромные суммы здесь. Поэтому временно отрежем, все, что за границей верхнего уса боксплота "
   ]
  },
  {
   "cell_type": "code",
   "execution_count": 32,
   "metadata": {},
   "outputs": [
    {
     "data": {
      "image/png": "[encoded data removed]",
      "text/plain": [
       "<Figure size 360x504 with 1 Axes>"
      ]
     },
     "metadata": {
      "needs_background": "light"
     },
     "output_type": "display_data"
    }
   ],
   "source": [
    "plt.figure(figsize=(5, 7)) \n",
    "\n",
    "customers.boxplot(column = 'sum')\n",
    "plt.ylim(0, 6000)\n",
    "\n",
    "plt.ylabel('Сумма заказа')\n",
    "plt.title('Диаграмма ящик с усами для выручки с каждого клиента')\n",
    "plt.show()\n"
   ]
  },
  {
   "cell_type": "code",
   "execution_count": 33,
   "metadata": {},
   "outputs": [
    {
     "name": "stdout",
     "output_type": "stream",
     "text": [
      "Мы отрезали 7.5% данных\n"
     ]
    }
   ],
   "source": [
    "q1 = customers['sum'].quantile(0.25)\n",
    "q3 = customers['sum'].quantile(0.75)\n",
    "iqr = q3 - q1\n",
    "\n",
    "customers_cut = customers.query('sum <= @q3 + 1.5 * @iqr')\n",
    "\n",
    "print(\"Мы отрезали {:.1%} данных\".\n",
    "      format(1 - customers_cut.shape[0] / customers.shape[0]))"
   ]
  },
  {
   "cell_type": "markdown",
   "metadata": {},
   "source": [
    "Получилось довольно много клиентов, поэтоу отрезаем эти данные не насовсем, а для того, чтобы понять сколько в среднем приносит каждая группа. Клиентов без выбросов разделим на 2 группы по среднему чеку и посмотрим сколько приносят клиенты в каждой группе относительно всей выручки"
   ]
  },
  {
   "cell_type": "code",
   "execution_count": 34,
   "metadata": {},
   "outputs": [],
   "source": [
    "low_check = customers_cut.query('mean_check <= @border')\n",
    "high_check = customers_cut.query('mean_check > @border')"
   ]
  },
  {
   "cell_type": "code",
   "execution_count": 35,
   "metadata": {},
   "outputs": [
    {
     "name": "stdout",
     "output_type": "stream",
     "text": [
      "Клиентов с низким средним чеком: 1833\n",
      "Клиентов с высоким средним чеком: 432\n"
     ]
    }
   ],
   "source": [
    "print('Клиентов с низким средним чеком: {}'.format(len(low_check)))\n",
    "print('Клиентов с высоким средним чеком: {}'.format(len(high_check)))"
   ]
  },
  {
   "cell_type": "code",
   "execution_count": 36,
   "metadata": {},
   "outputs": [
    {
     "data": {
      "image/png": "[encoded data removed]",
      "text/plain": [
       "<Figure size 432x432 with 1 Axes>"
      ]
     },
     "metadata": {},
     "output_type": "display_data"
    }
   ],
   "source": [
    "plt.figure(figsize=(6, 6)) \n",
    "\n",
    "colors = [ 'royalblue', 'plum']  # slateblue','lightsteelblue', 'rebeccapurple'\n",
    "plt.pie(np.array([low_check['sum'].sum(), high_check['sum'].sum()]),\n",
    "        autopct=\"%.1f%%\", explode=[0.01]*2,\n",
    "       labels = ['Низкий средний чек', 'Высокий средний чек'],\n",
    "       pctdistance=0.5, \n",
    "       colors = colors)\n",
    "\n",
    "plt.title('Вклад каждой группы клиентов в общую выручку')\n",
    "plt.show()"
   ]
  },
  {
   "cell_type": "markdown",
   "metadata": {},
   "source": [
    "Как видно из графика в среднем клиенты, чей средний чек ниже 1447 руб приносят чуть больше половины выручки. Стоит помнить, что мы не учитываем здесь выбросы, поэтому нельзя сказать, что эти клиенты более перспективны (скорее наоборот), однако их вклад в выручку существенен и привлечение (удержание) таких клиентвов стоит, как минимум, рассмотрения. С другой стороны, клиенты с высоким средним чеком, которых значительно меньше (в данном случае примерно 1/5 от всех) приносят почти половину всей прибыли, что говорит о том, что такие, клиенты безусловно очень выгодны для компании. "
   ]
  },
  {
   "cell_type": "markdown",
   "metadata": {},
   "source": [
    "### Вывод"
   ]
  },
  {
   "cell_type": "markdown",
   "metadata": {},
   "source": [
    "В рамках исследовательского анализа данных было выявленно несколько важнх характеристик датасета, а имеено:\n",
    "\n",
    "- Была произведена более глубокая очистка данных: исключены аномально большие заказы и удалены скрытые дубликаты, которые составили около четверти всех строк изначельной таблицы. Возможно, стоит внимательнее рассмотреть причины появления таких дубликатов и связаться с теми, кто занимается сбором данных.\n",
    " \n",
    "- Сезонные распределение данных показали, что самые продуктивные месяцы - это декабрь и апрель, а самый непродуктивный - январь. Также обнаружено, что в конце осени прошлого года было больше крупных заказов. Абсолютные показатели за последние  месяцы в целом несколько ниже, чем за предыдущие.\n",
    "\n",
    "- Выявлен очень маленький процент (6%) тех покупателей, которые возвращаются за повторными покупками. Если это техническая особенность, тогда возможно стоит пересмотерть правила регистрации в магазине (например, сделать ее обязательной), если же нет, то стоит уделить внимание удержанию клиентов. В любом случае, сейчас можно говорить о том, что в основном покупатели совершают 1 заказ. \n",
    "\n",
    "- Средний чек у 50% покупателей не превышает 700 рублей, а у 75% - 1447 руб. То есть большинство клиентов совершают в нашем магазине недорогие покупки, однако те, клиенты, которые тратят на один заказ больше этой суммы вносят более существеный вклад в выручку компании"
   ]
  },
  {
   "cell_type": "markdown",
   "metadata": {},
   "source": [
    "## Сегментация пользователей "
   ]
  },
  {
   "cell_type": "markdown",
   "metadata": {},
   "source": [
    "### Критерии сегментизации "
   ]
  },
  {
   "cell_type": "markdown",
   "metadata": {},
   "source": [
    "В качестве основы для сегментизации предложим 2 показателя: активность и средний чек. \n",
    "\n",
    "**Активность**: исследвательский анализ данных показал, что в базе всего лишь около 6% клиентов совершили больше одного заказа, что довольно мало, для того, чтобы сделать вывод о пользовательской активности, поэтому привлечем еще один показатель, чтобы определять активных клиентов, а именно - количество дней с последего заказа. \n",
    "\n",
    "**Средний чек**: Эта метрика уже была почитана в предыдущей главе, потому просто воспользуемся здесь ее рзультатом: те, чей средний чек более 1447 (3ий кванить) относятся к категории с высоким средним чеком, а те, чей средний чек менее - к кактеории с низним средним чеком"
   ]
  },
  {
   "cell_type": "markdown",
   "metadata": {},
   "source": [
    "Для работы понадобится таблица, где для каждого пользователя указано: \n",
    "- количесво заказов\n",
    "- сумма всех заказов\n",
    "- средний чек (как отношение двух предыдущих показателей)\n",
    "- день последнего заказ\n",
    "- количесвто дней с последнего заказа до сегодняшнего\n",
    "\n",
    "Часть этой таблицы возьмем из блока по исследовательскому анализу и добавим даты"
   ]
  },
  {
   "cell_type": "code",
   "execution_count": 37,
   "metadata": {},
   "outputs": [
    {
     "data": {
      "text/html": [
       "<div>\n",
       "<style scoped>\n",
       "    .dataframe tbody tr th:only-of-type {\n",
       "        vertical-align: middle;\n",
       "    }\n",
       "\n",
       "    .dataframe tbody tr th {\n",
       "        vertical-align: top;\n",
       "    }\n",
       "\n",
       "    .dataframe thead th {\n",
       "        text-align: right;\n",
       "    }\n",
       "</style>\n",
       "<table border=\"1\" class=\"dataframe\">\n",
       "  <thead>\n",
       "    <tr style=\"text-align: right;\">\n",
       "      <th></th>\n",
       "      <th>customer_id</th>\n",
       "      <th>sum</th>\n",
       "      <th>orders_n</th>\n",
       "      <th>mean_check</th>\n",
       "    </tr>\n",
       "  </thead>\n",
       "  <tbody>\n",
       "    <tr>\n",
       "      <td>0</td>\n",
       "      <td>000d6849-084e-4d9f-ac03-37174eaf60c4</td>\n",
       "      <td>555.0</td>\n",
       "      <td>1</td>\n",
       "      <td>555.0</td>\n",
       "    </tr>\n",
       "    <tr>\n",
       "      <td>1</td>\n",
       "      <td>001cee7f-0b29-4716-b202-0042213ab038</td>\n",
       "      <td>442.0</td>\n",
       "      <td>1</td>\n",
       "      <td>442.0</td>\n",
       "    </tr>\n",
       "    <tr>\n",
       "      <td>2</td>\n",
       "      <td>00299f34-5385-4d13-9aea-c80b81658e1b</td>\n",
       "      <td>914.0</td>\n",
       "      <td>1</td>\n",
       "      <td>914.0</td>\n",
       "    </tr>\n",
       "    <tr>\n",
       "      <td>3</td>\n",
       "      <td>002d4d3a-4a59-406b-86ec-c3314357e498</td>\n",
       "      <td>1649.0</td>\n",
       "      <td>1</td>\n",
       "      <td>1649.0</td>\n",
       "    </tr>\n",
       "    <tr>\n",
       "      <td>4</td>\n",
       "      <td>003bbd39-0000-41ff-b7f9-2ddaec152037</td>\n",
       "      <td>2324.0</td>\n",
       "      <td>1</td>\n",
       "      <td>2324.0</td>\n",
       "    </tr>\n",
       "  </tbody>\n",
       "</table>\n",
       "</div>"
      ],
      "text/plain": [
       "                            customer_id     sum  orders_n  mean_check\n",
       "0  000d6849-084e-4d9f-ac03-37174eaf60c4   555.0         1       555.0\n",
       "1  001cee7f-0b29-4716-b202-0042213ab038   442.0         1       442.0\n",
       "2  00299f34-5385-4d13-9aea-c80b81658e1b   914.0         1       914.0\n",
       "3  002d4d3a-4a59-406b-86ec-c3314357e498  1649.0         1      1649.0\n",
       "4  003bbd39-0000-41ff-b7f9-2ddaec152037  2324.0         1      2324.0"
      ]
     },
     "execution_count": 37,
     "metadata": {},
     "output_type": "execute_result"
    }
   ],
   "source": [
    "customers.head()"
   ]
  },
  {
   "cell_type": "code",
   "execution_count": 38,
   "metadata": {},
   "outputs": [
    {
     "data": {
      "text/html": [
       "<div>\n",
       "<style scoped>\n",
       "    .dataframe tbody tr th:only-of-type {\n",
       "        vertical-align: middle;\n",
       "    }\n",
       "\n",
       "    .dataframe tbody tr th {\n",
       "        vertical-align: top;\n",
       "    }\n",
       "\n",
       "    .dataframe thead th {\n",
       "        text-align: right;\n",
       "    }\n",
       "</style>\n",
       "<table border=\"1\" class=\"dataframe\">\n",
       "  <thead>\n",
       "    <tr style=\"text-align: right;\">\n",
       "      <th></th>\n",
       "      <th>customer_id</th>\n",
       "      <th>date</th>\n",
       "      <th>diff</th>\n",
       "    </tr>\n",
       "  </thead>\n",
       "  <tbody>\n",
       "    <tr>\n",
       "      <td>0</td>\n",
       "      <td>000d6849-084e-4d9f-ac03-37174eaf60c4</td>\n",
       "      <td>2019-10-16 08:00:00</td>\n",
       "      <td>15 days 06:00:00</td>\n",
       "    </tr>\n",
       "    <tr>\n",
       "      <td>1</td>\n",
       "      <td>001cee7f-0b29-4716-b202-0042213ab038</td>\n",
       "      <td>2019-02-16 11:00:00</td>\n",
       "      <td>257 days 03:00:00</td>\n",
       "    </tr>\n",
       "    <tr>\n",
       "      <td>2</td>\n",
       "      <td>00299f34-5385-4d13-9aea-c80b81658e1b</td>\n",
       "      <td>2019-10-14 23:00:00</td>\n",
       "      <td>16 days 15:00:00</td>\n",
       "    </tr>\n",
       "    <tr>\n",
       "      <td>3</td>\n",
       "      <td>002d4d3a-4a59-406b-86ec-c3314357e498</td>\n",
       "      <td>2019-01-27 17:00:00</td>\n",
       "      <td>276 days 21:00:00</td>\n",
       "    </tr>\n",
       "    <tr>\n",
       "      <td>4</td>\n",
       "      <td>003bbd39-0000-41ff-b7f9-2ddaec152037</td>\n",
       "      <td>2019-09-29 17:00:00</td>\n",
       "      <td>31 days 21:00:00</td>\n",
       "    </tr>\n",
       "  </tbody>\n",
       "</table>\n",
       "</div>"
      ],
      "text/plain": [
       "                            customer_id                date              diff\n",
       "0  000d6849-084e-4d9f-ac03-37174eaf60c4 2019-10-16 08:00:00  15 days 06:00:00\n",
       "1  001cee7f-0b29-4716-b202-0042213ab038 2019-02-16 11:00:00 257 days 03:00:00\n",
       "2  00299f34-5385-4d13-9aea-c80b81658e1b 2019-10-14 23:00:00  16 days 15:00:00\n",
       "3  002d4d3a-4a59-406b-86ec-c3314357e498 2019-01-27 17:00:00 276 days 21:00:00\n",
       "4  003bbd39-0000-41ff-b7f9-2ddaec152037 2019-09-29 17:00:00  31 days 21:00:00"
      ]
     },
     "execution_count": 38,
     "metadata": {},
     "output_type": "execute_result"
    }
   ],
   "source": [
    "last_date = df.groupby('customer_id')['date'].max().reset_index()\n",
    "\n",
    "last_date['diff'] = last_date['date'].max() - last_date['date']\n",
    "#вычитаем из самой поздней даты, исходя из того, что данные максимально акутальны и сегодня 1.11.2019\n",
    "\n",
    "last_date.head()"
   ]
  },
  {
   "cell_type": "code",
   "execution_count": 39,
   "metadata": {},
   "outputs": [
    {
     "data": {
      "text/html": [
       "<div>\n",
       "<style scoped>\n",
       "    .dataframe tbody tr th:only-of-type {\n",
       "        vertical-align: middle;\n",
       "    }\n",
       "\n",
       "    .dataframe tbody tr th {\n",
       "        vertical-align: top;\n",
       "    }\n",
       "\n",
       "    .dataframe thead th {\n",
       "        text-align: right;\n",
       "    }\n",
       "</style>\n",
       "<table border=\"1\" class=\"dataframe\">\n",
       "  <thead>\n",
       "    <tr style=\"text-align: right;\">\n",
       "      <th></th>\n",
       "      <th>customer_id</th>\n",
       "      <th>sum</th>\n",
       "      <th>orders_n</th>\n",
       "      <th>mean_check</th>\n",
       "      <th>date</th>\n",
       "      <th>diff</th>\n",
       "      <th>diff_n</th>\n",
       "    </tr>\n",
       "  </thead>\n",
       "  <tbody>\n",
       "    <tr>\n",
       "      <td>0</td>\n",
       "      <td>000d6849-084e-4d9f-ac03-37174eaf60c4</td>\n",
       "      <td>555.0</td>\n",
       "      <td>1</td>\n",
       "      <td>555.0</td>\n",
       "      <td>2019-10-16 08:00:00</td>\n",
       "      <td>15 days 06:00:00</td>\n",
       "      <td>15</td>\n",
       "    </tr>\n",
       "    <tr>\n",
       "      <td>1</td>\n",
       "      <td>001cee7f-0b29-4716-b202-0042213ab038</td>\n",
       "      <td>442.0</td>\n",
       "      <td>1</td>\n",
       "      <td>442.0</td>\n",
       "      <td>2019-02-16 11:00:00</td>\n",
       "      <td>257 days 03:00:00</td>\n",
       "      <td>257</td>\n",
       "    </tr>\n",
       "    <tr>\n",
       "      <td>2</td>\n",
       "      <td>00299f34-5385-4d13-9aea-c80b81658e1b</td>\n",
       "      <td>914.0</td>\n",
       "      <td>1</td>\n",
       "      <td>914.0</td>\n",
       "      <td>2019-10-14 23:00:00</td>\n",
       "      <td>16 days 15:00:00</td>\n",
       "      <td>16</td>\n",
       "    </tr>\n",
       "    <tr>\n",
       "      <td>3</td>\n",
       "      <td>002d4d3a-4a59-406b-86ec-c3314357e498</td>\n",
       "      <td>1649.0</td>\n",
       "      <td>1</td>\n",
       "      <td>1649.0</td>\n",
       "      <td>2019-01-27 17:00:00</td>\n",
       "      <td>276 days 21:00:00</td>\n",
       "      <td>276</td>\n",
       "    </tr>\n",
       "    <tr>\n",
       "      <td>4</td>\n",
       "      <td>003bbd39-0000-41ff-b7f9-2ddaec152037</td>\n",
       "      <td>2324.0</td>\n",
       "      <td>1</td>\n",
       "      <td>2324.0</td>\n",
       "      <td>2019-09-29 17:00:00</td>\n",
       "      <td>31 days 21:00:00</td>\n",
       "      <td>31</td>\n",
       "    </tr>\n",
       "  </tbody>\n",
       "</table>\n",
       "</div>"
      ],
      "text/plain": [
       "                            customer_id     sum  orders_n  mean_check  \\\n",
       "0  000d6849-084e-4d9f-ac03-37174eaf60c4   555.0         1       555.0   \n",
       "1  001cee7f-0b29-4716-b202-0042213ab038   442.0         1       442.0   \n",
       "2  00299f34-5385-4d13-9aea-c80b81658e1b   914.0         1       914.0   \n",
       "3  002d4d3a-4a59-406b-86ec-c3314357e498  1649.0         1      1649.0   \n",
       "4  003bbd39-0000-41ff-b7f9-2ddaec152037  2324.0         1      2324.0   \n",
       "\n",
       "                 date              diff  diff_n  \n",
       "0 2019-10-16 08:00:00  15 days 06:00:00      15  \n",
       "1 2019-02-16 11:00:00 257 days 03:00:00     257  \n",
       "2 2019-10-14 23:00:00  16 days 15:00:00      16  \n",
       "3 2019-01-27 17:00:00 276 days 21:00:00     276  \n",
       "4 2019-09-29 17:00:00  31 days 21:00:00      31  "
      ]
     },
     "execution_count": 39,
     "metadata": {},
     "output_type": "execute_result"
    }
   ],
   "source": [
    "customers_new = customers.merge(last_date, on='customer_id')\n",
    "customers_new['diff_n'] = customers_new['diff'].dt.days\n",
    "customers_new.head()"
   ]
  },
  {
   "cell_type": "code",
   "execution_count": 40,
   "metadata": {},
   "outputs": [
    {
     "data": {
      "text/plain": [
       "count    2449.000000\n",
       "mean      203.329114\n",
       "std       111.085628\n",
       "min         0.000000\n",
       "25%       109.000000\n",
       "50%       211.000000\n",
       "75%       295.000000\n",
       "max       395.000000\n",
       "Name: diff_n, dtype: float64"
      ]
     },
     "execution_count": 40,
     "metadata": {},
     "output_type": "execute_result"
    }
   ],
   "source": [
    "customers_new['diff_n'].describe()"
   ]
  },
  {
   "cell_type": "markdown",
   "metadata": {},
   "source": [
    "Четверть всех заказов была сделана 110 дней назад (так как мы вычитали из самой максимальной даты - 31 октября, в таблице 109 дней). Возьмем первый квантить как определение недавной актвности - то есть, заказ сделанный в течение последних 110 дней (3,5 мессяца) будет счиаться недавним "
   ]
  },
  {
   "cell_type": "markdown",
   "metadata": {},
   "source": [
    "Напишем функцию, которая будет присваивать каждому окупателю одну из четырех категорий: \n",
    "- active high - средний чек более 1447 руб и покупатель либо недавно совершил заказ, либо совершил повторный заказ\n",
    "- active low -  средний чек менее 1447 руб и покупатель либо недавно совершил заказ, либо совершил повторный заказ\n",
    "- unactive low -  средний чек менее 1447 руб и покупатель совершил свой единственный заказ давно\n",
    "- unactive high - средний чек более 1447 руб и покупатель совершил свой единственный заказ давно"
   ]
  },
  {
   "cell_type": "code",
   "execution_count": 41,
   "metadata": {},
   "outputs": [],
   "source": [
    "def customer_cat(row):\n",
    "    mean_check = row['mean_check']\n",
    "    orders_n = row['orders_n']\n",
    "    diff_n = row['diff_n']\n",
    "    \n",
    "    if mean_check > border:\n",
    "        if orders_n > 1 or diff_n <= 110:\n",
    "            return 'active_high'\n",
    "        else: \n",
    "            return 'unactive_high'\n",
    "    else:\n",
    "        if orders_n > 1 or diff_n <= 110:\n",
    "            return 'active_low'\n",
    "        else: \n",
    "            return 'unactive_low'"
   ]
  },
  {
   "cell_type": "code",
   "execution_count": 42,
   "metadata": {},
   "outputs": [
    {
     "data": {
      "text/html": [
       "<div>\n",
       "<style scoped>\n",
       "    .dataframe tbody tr th:only-of-type {\n",
       "        vertical-align: middle;\n",
       "    }\n",
       "\n",
       "    .dataframe tbody tr th {\n",
       "        vertical-align: top;\n",
       "    }\n",
       "\n",
       "    .dataframe thead th {\n",
       "        text-align: right;\n",
       "    }\n",
       "</style>\n",
       "<table border=\"1\" class=\"dataframe\">\n",
       "  <thead>\n",
       "    <tr style=\"text-align: right;\">\n",
       "      <th></th>\n",
       "      <th>customer_id</th>\n",
       "      <th>sum</th>\n",
       "      <th>orders_n</th>\n",
       "      <th>mean_check</th>\n",
       "      <th>date</th>\n",
       "      <th>diff</th>\n",
       "      <th>diff_n</th>\n",
       "      <th>category</th>\n",
       "    </tr>\n",
       "  </thead>\n",
       "  <tbody>\n",
       "    <tr>\n",
       "      <td>943</td>\n",
       "      <td>64635c76-3bb8-4594-b85f-0a14cb075b36</td>\n",
       "      <td>5136.0</td>\n",
       "      <td>1</td>\n",
       "      <td>5136.0</td>\n",
       "      <td>2019-10-01 11:00:00</td>\n",
       "      <td>30 days 03:00:00</td>\n",
       "      <td>30</td>\n",
       "      <td>active_high</td>\n",
       "    </tr>\n",
       "    <tr>\n",
       "      <td>699</td>\n",
       "      <td>49984838-6cca-4134-86d1-118b166930f5</td>\n",
       "      <td>3598.0</td>\n",
       "      <td>1</td>\n",
       "      <td>3598.0</td>\n",
       "      <td>2019-09-16 15:00:00</td>\n",
       "      <td>44 days 23:00:00</td>\n",
       "      <td>44</td>\n",
       "      <td>active_high</td>\n",
       "    </tr>\n",
       "    <tr>\n",
       "      <td>1734</td>\n",
       "      <td>b6ba5131-b839-451c-b8aa-be517d61f66a</td>\n",
       "      <td>750.0</td>\n",
       "      <td>1</td>\n",
       "      <td>750.0</td>\n",
       "      <td>2019-03-20 08:00:00</td>\n",
       "      <td>225 days 06:00:00</td>\n",
       "      <td>225</td>\n",
       "      <td>unactive_low</td>\n",
       "    </tr>\n",
       "    <tr>\n",
       "      <td>1791</td>\n",
       "      <td>bbd1e0a6-9e07-45fc-9b1b-80c008ffeffc</td>\n",
       "      <td>487.0</td>\n",
       "      <td>1</td>\n",
       "      <td>487.0</td>\n",
       "      <td>2019-03-03 15:00:00</td>\n",
       "      <td>241 days 23:00:00</td>\n",
       "      <td>241</td>\n",
       "      <td>unactive_low</td>\n",
       "    </tr>\n",
       "    <tr>\n",
       "      <td>229</td>\n",
       "      <td>18128d49-b02e-4bc4-a0af-da96eec807c1</td>\n",
       "      <td>66.0</td>\n",
       "      <td>1</td>\n",
       "      <td>66.0</td>\n",
       "      <td>2019-07-17 00:00:00</td>\n",
       "      <td>106 days 14:00:00</td>\n",
       "      <td>106</td>\n",
       "      <td>active_low</td>\n",
       "    </tr>\n",
       "  </tbody>\n",
       "</table>\n",
       "</div>"
      ],
      "text/plain": [
       "                               customer_id     sum  orders_n  mean_check  \\\n",
       "943   64635c76-3bb8-4594-b85f-0a14cb075b36  5136.0         1      5136.0   \n",
       "699   49984838-6cca-4134-86d1-118b166930f5  3598.0         1      3598.0   \n",
       "1734  b6ba5131-b839-451c-b8aa-be517d61f66a   750.0         1       750.0   \n",
       "1791  bbd1e0a6-9e07-45fc-9b1b-80c008ffeffc   487.0         1       487.0   \n",
       "229   18128d49-b02e-4bc4-a0af-da96eec807c1    66.0         1        66.0   \n",
       "\n",
       "                    date              diff  diff_n      category  \n",
       "943  2019-10-01 11:00:00  30 days 03:00:00      30   active_high  \n",
       "699  2019-09-16 15:00:00  44 days 23:00:00      44   active_high  \n",
       "1734 2019-03-20 08:00:00 225 days 06:00:00     225  unactive_low  \n",
       "1791 2019-03-03 15:00:00 241 days 23:00:00     241  unactive_low  \n",
       "229  2019-07-17 00:00:00 106 days 14:00:00     106    active_low  "
      ]
     },
     "execution_count": 42,
     "metadata": {},
     "output_type": "execute_result"
    }
   ],
   "source": [
    "#применим функцию \n",
    "customers_new['category'] = customers_new.apply(customer_cat, axis=1)\n",
    "customers_new.sample(5)"
   ]
  },
  {
   "cell_type": "markdown",
   "metadata": {},
   "source": [
    "Посмотрим сколько человек оказалось в каждой группе и какой доход принесла каждая группа"
   ]
  },
  {
   "cell_type": "code",
   "execution_count": 43,
   "metadata": {},
   "outputs": [
    {
     "data": {
      "text/html": [
       "<div>\n",
       "<style scoped>\n",
       "    .dataframe tbody tr th:only-of-type {\n",
       "        vertical-align: middle;\n",
       "    }\n",
       "\n",
       "    .dataframe tbody tr th {\n",
       "        vertical-align: top;\n",
       "    }\n",
       "\n",
       "    .dataframe thead th {\n",
       "        text-align: right;\n",
       "    }\n",
       "</style>\n",
       "<table border=\"1\" class=\"dataframe\">\n",
       "  <thead>\n",
       "    <tr style=\"text-align: right;\">\n",
       "      <th></th>\n",
       "      <th>category</th>\n",
       "      <th>customer_id</th>\n",
       "      <th>sum</th>\n",
       "    </tr>\n",
       "  </thead>\n",
       "  <tbody>\n",
       "    <tr>\n",
       "      <td>0</td>\n",
       "      <td>active_high</td>\n",
       "      <td>156</td>\n",
       "      <td>659067.0</td>\n",
       "    </tr>\n",
       "    <tr>\n",
       "      <td>1</td>\n",
       "      <td>active_low</td>\n",
       "      <td>578</td>\n",
       "      <td>566667.0</td>\n",
       "    </tr>\n",
       "    <tr>\n",
       "      <td>2</td>\n",
       "      <td>unactive_high</td>\n",
       "      <td>455</td>\n",
       "      <td>1463740.0</td>\n",
       "    </tr>\n",
       "    <tr>\n",
       "      <td>3</td>\n",
       "      <td>unactive_low</td>\n",
       "      <td>1260</td>\n",
       "      <td>680863.0</td>\n",
       "    </tr>\n",
       "  </tbody>\n",
       "</table>\n",
       "</div>"
      ],
      "text/plain": [
       "        category  customer_id        sum\n",
       "0    active_high          156   659067.0\n",
       "1     active_low          578   566667.0\n",
       "2  unactive_high          455  1463740.0\n",
       "3   unactive_low         1260   680863.0"
      ]
     },
     "execution_count": 43,
     "metadata": {},
     "output_type": "execute_result"
    }
   ],
   "source": [
    "groups = customers_new.groupby('category').agg({'customer_id' : 'count', 'sum' : 'sum'}).reset_index()\n",
    "groups"
   ]
  },
  {
   "cell_type": "markdown",
   "metadata": {},
   "source": [
    "Получилось 4 неравные по размеру группы. Ожидаемо самая большая - это покупатели, которые давно совершили одну покупку. Самая немногочисленная, но самая ценная - это те, кто много и активно покупает. Посмотрим на относительные показатели по этим группам, однако прежде уберем 7.5% выбросов, которые мы получили в блоке по исследовательскому анализу. Напомним, что это заказы на огромные (относительно нашего датасета) суммы, которые будут сильно перекашивать данные в сторогу категории c высоким средним чеком "
   ]
  },
  {
   "cell_type": "code",
   "execution_count": 44,
   "metadata": {},
   "outputs": [],
   "source": [
    "#снова посчитаем межквартильные размаж и отрежем выбросы от уже новой таблицы с клиентами \n",
    "\n",
    "q1 = customers_new['sum'].quantile(0.25)\n",
    "q3 = customers_new['sum'].quantile(0.75)\n",
    "iqr = q3 - q1\n",
    "customers_cut = customers_new.query('sum <= @q3 + 1.5 * @iqr')\n",
    "\n",
    "#снова присвоим категории \n",
    "customers_cut['category'] = customers_cut.apply(customer_cat, axis=1)"
   ]
  },
  {
   "cell_type": "code",
   "execution_count": 45,
   "metadata": {},
   "outputs": [
    {
     "data": {
      "text/html": [
       "<div>\n",
       "<style scoped>\n",
       "    .dataframe tbody tr th:only-of-type {\n",
       "        vertical-align: middle;\n",
       "    }\n",
       "\n",
       "    .dataframe tbody tr th {\n",
       "        vertical-align: top;\n",
       "    }\n",
       "\n",
       "    .dataframe thead th {\n",
       "        text-align: right;\n",
       "    }\n",
       "</style>\n",
       "<table border=\"1\" class=\"dataframe\">\n",
       "  <thead>\n",
       "    <tr style=\"text-align: right;\">\n",
       "      <th></th>\n",
       "      <th>category</th>\n",
       "      <th>customer_id</th>\n",
       "      <th>sum</th>\n",
       "      <th>ratio_number</th>\n",
       "      <th>ratio_sum</th>\n",
       "    </tr>\n",
       "  </thead>\n",
       "  <tbody>\n",
       "    <tr>\n",
       "      <td>0</td>\n",
       "      <td>active_high</td>\n",
       "      <td>156</td>\n",
       "      <td>659067.0</td>\n",
       "      <td>0.06</td>\n",
       "      <td>0.20</td>\n",
       "    </tr>\n",
       "    <tr>\n",
       "      <td>1</td>\n",
       "      <td>active_low</td>\n",
       "      <td>578</td>\n",
       "      <td>566667.0</td>\n",
       "      <td>0.24</td>\n",
       "      <td>0.17</td>\n",
       "    </tr>\n",
       "    <tr>\n",
       "      <td>2</td>\n",
       "      <td>unactive_high</td>\n",
       "      <td>455</td>\n",
       "      <td>1463740.0</td>\n",
       "      <td>0.19</td>\n",
       "      <td>0.43</td>\n",
       "    </tr>\n",
       "    <tr>\n",
       "      <td>3</td>\n",
       "      <td>unactive_low</td>\n",
       "      <td>1260</td>\n",
       "      <td>680863.0</td>\n",
       "      <td>0.51</td>\n",
       "      <td>0.20</td>\n",
       "    </tr>\n",
       "  </tbody>\n",
       "</table>\n",
       "</div>"
      ],
      "text/plain": [
       "        category  customer_id        sum  ratio_number  ratio_sum\n",
       "0    active_high          156   659067.0          0.06       0.20\n",
       "1     active_low          578   566667.0          0.24       0.17\n",
       "2  unactive_high          455  1463740.0          0.19       0.43\n",
       "3   unactive_low         1260   680863.0          0.51       0.20"
      ]
     },
     "execution_count": 45,
     "metadata": {},
     "output_type": "execute_result"
    }
   ],
   "source": [
    "#посчитаем относительные показатели \n",
    "groups['ratio_number'] = (groups['customer_id'] / groups['customer_id'].sum()).round(2)\n",
    "groups['ratio_sum'] = (groups['sum'] / groups['sum'].sum()).round(2)\n",
    "\n",
    "groups"
   ]
  },
  {
   "cell_type": "markdown",
   "metadata": {},
   "source": [
    "Отразим эти данные на графике"
   ]
  },
  {
   "cell_type": "code",
   "execution_count": 46,
   "metadata": {},
   "outputs": [
    {
     "data": {
      "image/png": "[encoded data removed]",
      "text/plain": [
       "<Figure size 864x432 with 1 Axes>"
      ]
     },
     "metadata": {
      "needs_background": "light"
     },
     "output_type": "display_data"
    }
   ],
   "source": [
    "\n",
    "groups_bar = groups[['category', 'ratio_sum', 'ratio_number']]\n",
    "groups_bar.columns = ['category', 'Выручка', 'Количесвто клиентов']\n",
    "\n",
    "\n",
    "colors = ['lightsteelblue', 'rebeccapurple']\n",
    " \n",
    "\n",
    "groups_bar.plot(kind='bar', colors = colors, figsize=(12, 6))\n",
    "\n",
    "plt.gca().set_xticklabels(groups['category'])\n",
    "plt.xticks(rotation=0) \n",
    "\n",
    "plt.xlabel('Название группы') \n",
    "plt.ylabel('Процент от общего числа')\n",
    "plt.title('Распределение выручки и численности по группам')\n",
    "plt.show()"
   ]
  },
  {
   "cell_type": "markdown",
   "metadata": {},
   "source": [
    "Как видно на графике самую большую часть прибыли принесли клиенты из категории - unactive high (при этом, от общего числа они составляют меньше 20%). Интересно, что категория active_high (лишь 6% клиентов) принесли почти такой же доход, как и категории unactive_low (почти половина всей клиентской базы). Это, конечно, не самая показательная иллюстрация приница Парето, но близко к этому. При этом стоит помнить, что это данные без выбросов, то есть, если мы добавим сюда еще и аномально большие заказазы, то перекос в сторону категорий с высоким чеком будет еще выше "
   ]
  },
  {
   "cell_type": "markdown",
   "metadata": {},
   "source": [
    "### Статистические методы проверки "
   ]
  },
  {
   "cell_type": "markdown",
   "metadata": {},
   "source": [
    "У нас получилось 4 сегмента пользователей, чтобы доказать, что эти сегменты различны попарно сравним между собой чеки клиентов из каждой группы. В качестве метода проверки будем проводить тест Манна-Уитни (нам нужен именно непараметрический тест, так как  в сумме заказов есть большое количество выбросов). Напишем функцию, которая принимет на вход 2 выборки, возвращает pvalue и вывод о том можно ли отвергнуть нулевую гипотезу "
   ]
  },
  {
   "cell_type": "code",
   "execution_count": 47,
   "metadata": {},
   "outputs": [],
   "source": [
    "def mannwhitney (sample_1, sample_2):\n",
    "    alpha = 0.05  # критический уровень статистической значимости \n",
    "\n",
    "    results = st.mannwhitneyu(sample_1, \n",
    "                             sample_2)\n",
    "    \n",
    "    print('p-значение: ', results.pvalue)\n",
    "    \n",
    "    if (results.pvalue < alpha):\n",
    "        print(\"Отвергаем нулевую гипотезу\")\n",
    "    else:\n",
    "        print(\"Не получилось отвергнуть нулевую гипотезу, вывод о различии сделать нельзя\")"
   ]
  },
  {
   "cell_type": "markdown",
   "metadata": {},
   "source": [
    "Проверим как работает функция на примере групп unactive_high и active_low. Сформулируем нулевую гиптезу:\n",
    "- Клиенты, которые активно покупают и имеют низкий средний чек приносят такой же доход, как и клиенты, которые имеют высокий средний чек и покупают неактивно \n",
    "\n",
    "*(доход от каждого клиента соотвественно измеряется как сумма всех его покупок)*"
   ]
  },
  {
   "cell_type": "code",
   "execution_count": 48,
   "metadata": {},
   "outputs": [
    {
     "name": "stdout",
     "output_type": "stream",
     "text": [
      "p-значение:  4.874400388068658e-146\n",
      "Отвергаем нулевую гипотезу\n"
     ]
    }
   ],
   "source": [
    "mannwhitney(customers_new.query('category == \"unactive_high\"')['sum'],\n",
    "                          customers_new.query('category == \"active_low\"')['sum'])"
   ]
  },
  {
   "cell_type": "markdown",
   "metadata": {},
   "source": [
    "Нулевая гипотеза может быть отвергнута, а значит разница между грппами статистически значима. У всего всего 4 группы, сравним все попарно (получается 6 сранений) и проведем оставшиеся 5 тестов "
   ]
  },
  {
   "cell_type": "code",
   "execution_count": 49,
   "metadata": {},
   "outputs": [
    {
     "name": "stdout",
     "output_type": "stream",
     "text": [
      "p-значение:  2.789032465668751e-220\n",
      "Отвергаем нулевую гипотезу\n"
     ]
    }
   ],
   "source": [
    "mannwhitney(customers_new.query('category == \"unactive_high\"')['sum'],\n",
    "                          customers_new.query('category == \"unactive_low\"')['sum'])"
   ]
  },
  {
   "cell_type": "code",
   "execution_count": 50,
   "metadata": {},
   "outputs": [
    {
     "name": "stdout",
     "output_type": "stream",
     "text": [
      "p-значение:  1.7610241700598158e-73\n",
      "Отвергаем нулевую гипотезу\n"
     ]
    }
   ],
   "source": [
    "mannwhitney(customers_new.query('category == \"active_high\"')['sum'],\n",
    "                          customers_new.query('category == \"active_low\"')['sum'])"
   ]
  },
  {
   "cell_type": "code",
   "execution_count": 51,
   "metadata": {},
   "outputs": [
    {
     "name": "stdout",
     "output_type": "stream",
     "text": [
      "p-значение:  0.002301613288831106\n",
      "Отвергаем нулевую гипотезу\n"
     ]
    }
   ],
   "source": [
    "mannwhitney(customers_new.query('category == \"active_high\"')['sum'],\n",
    "                          customers_new.query('category == \"unactive_high\"')['sum'])"
   ]
  },
  {
   "cell_type": "code",
   "execution_count": 52,
   "metadata": {},
   "outputs": [
    {
     "name": "stdout",
     "output_type": "stream",
     "text": [
      "p-значение:  8.248127757691692e-93\n",
      "Отвергаем нулевую гипотезу\n"
     ]
    }
   ],
   "source": [
    "mannwhitney(customers_new.query('category == \"active_high\"')['sum'],\n",
    "                          customers_new.query('category == \"unactive_low\"')['sum'])"
   ]
  },
  {
   "cell_type": "code",
   "execution_count": 53,
   "metadata": {},
   "outputs": [
    {
     "name": "stdout",
     "output_type": "stream",
     "text": [
      "p-значение:  0.019067219818223437\n",
      "Отвергаем нулевую гипотезу\n"
     ]
    }
   ],
   "source": [
    "mannwhitney(customers_new.query('category == \"active_low\"')['sum'],\n",
    "                          customers_new.query('category == \"unactive_low\"')['sum'])"
   ]
  },
  {
   "cell_type": "markdown",
   "metadata": {},
   "source": [
    "Разница между группами подтверждена статистически, значит можно говорить о том, что сегменты действительно разные "
   ]
  },
  {
   "cell_type": "markdown",
   "metadata": {},
   "source": [
    "###  Вывод "
   ]
  },
  {
   "cell_type": "markdown",
   "metadata": {},
   "source": [
    "В ходе сегментирования было выделено 4 следующие группы: \n",
    "- Самая многочисленная група получились - это группа с низким средним чеком и низкой активностью (примерно это половина всех клиентов). Неудивительно, что это многочисленная группа - такие клиенты всегда есть у любого магазина, однако стоит стретмиться к тому, чтобы из этой категории клиенты переходили хотя бы в active low. То есть для них актуальны всякие напоминательные рассылки или/и возможно реклама товаров из категорий уже купленных\n",
    "- Группа active low - это те, кто покупает у нас активно, что уже неплохо, но в идеале нужно стремиться переводить из в active high. Таким клиентам скорее всего не стоит просто напоминать о магазине, а вот привлекать акциями имеет смысл\n",
    "- Клиенты unactive high - давно ничего не покупали, однако они из малочисленной группы покупаелей с высоким чеком, таких клиентов стоит возвращать даже приорететнее тех, что в группе active_low\n",
    "- Самая немногочисленная, но самая ценная категория это active_high. Таких клиентов нужно удерживать и поощерять их профиль потребления\n",
    "Разница между ними была подтверждена статистически "
   ]
  },
  {
   "cell_type": "markdown",
   "metadata": {},
   "source": [
    "## Потебительские предпочтения"
   ]
  },
  {
   "cell_type": "markdown",
   "metadata": {},
   "source": [
    "### Категории товаров"
   ]
  },
  {
   "cell_type": "code",
   "execution_count": 54,
   "metadata": {},
   "outputs": [
    {
     "data": {
      "text/plain": [
       "2342"
      ]
     },
     "execution_count": 54,
     "metadata": {},
     "output_type": "execute_result"
    }
   ],
   "source": [
    "len(df['product'].unique())"
   ]
  },
  {
   "cell_type": "markdown",
   "metadata": {},
   "source": [
    "В магазине довольно большая база товаров, и цель данного проекта не в категоризации этих товаров. Воспользуемся информацией о товарах, как дополнительной характеритикой сегментов. Для это разобьем товары на 5 групп и посмотим какие товары покупают какие сегменты. Для начала выташим из наименования товара первое слово - это почти всегда ключевое опредление товара"
   ]
  },
  {
   "cell_type": "code",
   "execution_count": 55,
   "metadata": {},
   "outputs": [
    {
     "data": {
      "text/html": [
       "<div>\n",
       "<style scoped>\n",
       "    .dataframe tbody tr th:only-of-type {\n",
       "        vertical-align: middle;\n",
       "    }\n",
       "\n",
       "    .dataframe tbody tr th {\n",
       "        vertical-align: top;\n",
       "    }\n",
       "\n",
       "    .dataframe thead th {\n",
       "        text-align: right;\n",
       "    }\n",
       "</style>\n",
       "<table border=\"1\" class=\"dataframe\">\n",
       "  <thead>\n",
       "    <tr style=\"text-align: right;\">\n",
       "      <th></th>\n",
       "      <th>date</th>\n",
       "      <th>customer_id</th>\n",
       "      <th>order_id</th>\n",
       "      <th>product</th>\n",
       "      <th>quantity</th>\n",
       "      <th>price</th>\n",
       "      <th>price_sum</th>\n",
       "      <th>date_month</th>\n",
       "      <th>product2</th>\n",
       "    </tr>\n",
       "  </thead>\n",
       "  <tbody>\n",
       "    <tr>\n",
       "      <td>5684</td>\n",
       "      <td>2019-07-05 12:00:00</td>\n",
       "      <td>7e53225d-2df9-4484-95a5-3c73c6084a6c</td>\n",
       "      <td>14892</td>\n",
       "      <td>Рассада Дыни сорт Дина горшок 9х9 см P-9</td>\n",
       "      <td>1</td>\n",
       "      <td>38.0</td>\n",
       "      <td>38.0</td>\n",
       "      <td>2019-07</td>\n",
       "      <td>Рассада</td>\n",
       "    </tr>\n",
       "    <tr>\n",
       "      <td>1742</td>\n",
       "      <td>2019-02-08 13:00:00</td>\n",
       "      <td>c971fb21-d54c-4134-938f-16b62ee86d3b</td>\n",
       "      <td>70167</td>\n",
       "      <td>Гладильная доска Dogrular Сити 110х33 см 223712</td>\n",
       "      <td>1</td>\n",
       "      <td>1139.0</td>\n",
       "      <td>1139.0</td>\n",
       "      <td>2019-02</td>\n",
       "      <td>Гладильная</td>\n",
       "    </tr>\n",
       "    <tr>\n",
       "      <td>418</td>\n",
       "      <td>2018-10-26 13:00:00</td>\n",
       "      <td>9f1e7d7d-ff10-4eb1-b596-1cbf8075aa3f</td>\n",
       "      <td>68760</td>\n",
       "      <td>Вешалка с закругленными плечиками без перекладины с противоскользящим покрытием Valiant 226B10 черный</td>\n",
       "      <td>7</td>\n",
       "      <td>106.0</td>\n",
       "      <td>742.0</td>\n",
       "      <td>2018-10</td>\n",
       "      <td>Вешалка</td>\n",
       "    </tr>\n",
       "    <tr>\n",
       "      <td>1555</td>\n",
       "      <td>2019-01-21 09:00:00</td>\n",
       "      <td>8eabcaca-e8c8-4eee-9079-4ff5f612273a</td>\n",
       "      <td>69893</td>\n",
       "      <td>Щетка для мытья посуды КОЛИБРИ М5202 большая</td>\n",
       "      <td>100</td>\n",
       "      <td>34.0</td>\n",
       "      <td>3400.0</td>\n",
       "      <td>2019-01</td>\n",
       "      <td>Щетка</td>\n",
       "    </tr>\n",
       "    <tr>\n",
       "      <td>6048</td>\n",
       "      <td>2019-08-05 10:00:00</td>\n",
       "      <td>d10d338f-6871-49d4-a253-7f35da6a6867</td>\n",
       "      <td>72209</td>\n",
       "      <td>Коврик хлопковый 40х60 см цвета в ассортименте 6194</td>\n",
       "      <td>1</td>\n",
       "      <td>97.0</td>\n",
       "      <td>97.0</td>\n",
       "      <td>2019-08</td>\n",
       "      <td>Коврик</td>\n",
       "    </tr>\n",
       "  </tbody>\n",
       "</table>\n",
       "</div>"
      ],
      "text/plain": [
       "                    date                           customer_id  order_id  \\\n",
       "5684 2019-07-05 12:00:00  7e53225d-2df9-4484-95a5-3c73c6084a6c  14892      \n",
       "1742 2019-02-08 13:00:00  c971fb21-d54c-4134-938f-16b62ee86d3b  70167      \n",
       "418  2018-10-26 13:00:00  9f1e7d7d-ff10-4eb1-b596-1cbf8075aa3f  68760      \n",
       "1555 2019-01-21 09:00:00  8eabcaca-e8c8-4eee-9079-4ff5f612273a  69893      \n",
       "6048 2019-08-05 10:00:00  d10d338f-6871-49d4-a253-7f35da6a6867  72209      \n",
       "\n",
       "                                                                                                    product  \\\n",
       "5684  Рассада Дыни сорт Дина горшок 9х9 см P-9                                                                \n",
       "1742  Гладильная доска Dogrular Сити 110х33 см 223712                                                         \n",
       "418   Вешалка с закругленными плечиками без перекладины с противоскользящим покрытием Valiant 226B10 черный   \n",
       "1555  Щетка для мытья посуды КОЛИБРИ М5202 большая                                                            \n",
       "6048  Коврик хлопковый 40х60 см цвета в ассортименте 6194                                                     \n",
       "\n",
       "      quantity   price  price_sum date_month    product2  \n",
       "5684  1         38.0    38.0       2019-07    Рассада     \n",
       "1742  1         1139.0  1139.0     2019-02    Гладильная  \n",
       "418   7         106.0   742.0      2018-10    Вешалка     \n",
       "1555  100       34.0    3400.0     2019-01    Щетка       \n",
       "6048  1         97.0    97.0       2019-08    Коврик      "
      ]
     },
     "execution_count": 55,
     "metadata": {},
     "output_type": "execute_result"
    }
   ],
   "source": [
    "def key_words(name):\n",
    "    name_units = name.split(' ') \n",
    "    return name_units[0]\n",
    "\n",
    "pd.set_option('display.max_colwidth', -1)\n",
    "df['product2'] = df['product'].apply(key_words)\n",
    "\n",
    "df.sample(5)"
   ]
  },
  {
   "cell_type": "code",
   "execution_count": 56,
   "metadata": {},
   "outputs": [
    {
     "data": {
      "text/plain": [
       "461"
      ]
     },
     "execution_count": 56,
     "metadata": {},
     "output_type": "execute_result"
    }
   ],
   "source": [
    "goods = df.groupby('product2')['date'].count().reset_index()\n",
    "len(goods['product2'].unique())"
   ]
  },
  {
   "cell_type": "markdown",
   "metadata": {},
   "source": [
    "Товаров стало существенно меньше, но их все равно достаточно много для катеоризации. При этом среди них много растений. Подгрузим дополнительную информацию с названиями растений "
   ]
  },
  {
   "cell_type": "code",
   "execution_count": 57,
   "metadata": {},
   "outputs": [],
   "source": [
    "url = 'https://tsvetem.ru/spisok-cvetov-po-alfavitu.html' #Список цветов по алфавиту\n",
    "\n",
    "req = requests.get(url) # GET-запрос\n",
    "soup = BeautifulSoup(req.text, 'lxml')"
   ]
  },
  {
   "cell_type": "code",
   "execution_count": 58,
   "metadata": {},
   "outputs": [
    {
     "name": "stdout",
     "output_type": "stream",
     "text": [
      "['Агава', 'Агапантус', 'Агератум', 'Аглаонема', 'Агростемма', 'Адениум', 'Адиантум', 'Адонис', 'Адромисхус', 'Азалия', 'Азистазия', 'Азорелла', 'Аир', 'Аквилегия', 'Аконит']\n"
     ]
    }
   ],
   "source": [
    "#возьмем со страницы только названия растений \n",
    "raw_values = []\n",
    "for word in soup.find_all('li'):\n",
    "    raw_values.append(word.text)\n",
    "    \n",
    "#row_values\n",
    "#так же будем брать только первое слово\n",
    "\n",
    "raw_values2 = []\n",
    "for x in raw_values:\n",
    "    units = x.split(' ')\n",
    "    raw_values2.append(units[0])\n",
    "\n",
    "#уберем запятые, если они есть в конце слов    \n",
    "raw_values3 = [i.replace(',', '') for i in raw_values2]\n",
    "\n",
    "#часть справочника для примера\n",
    "print(raw_values3[15:30])"
   ]
  },
  {
   "cell_type": "markdown",
   "metadata": {},
   "source": [
    "Присвоим все растениям, которые есть в выделеных первых словах категорию \"растение\", если ни есть в этом списке"
   ]
  },
  {
   "cell_type": "code",
   "execution_count": 59,
   "metadata": {},
   "outputs": [],
   "source": [
    "df['product3'] = df['product2'].apply(lambda x: 'растение' if x  in raw_values3 else x)"
   ]
  },
  {
   "cell_type": "code",
   "execution_count": 60,
   "metadata": {},
   "outputs": [
    {
     "data": {
      "text/plain": [
       "338"
      ]
     },
     "execution_count": 60,
     "metadata": {},
     "output_type": "execute_result"
    }
   ],
   "source": [
    "goods = df.groupby('product3')['date'].count().reset_index()\n",
    "#goods['product3'].unique()\n",
    "len(goods['product3'].unique())\n",
    "\n",
    "#goods.sort_values(by='date', ascending=False)\n",
    "#len(goods.query('date > 1'))"
   ]
  },
  {
   "cell_type": "markdown",
   "metadata": {},
   "source": [
    "Осталвшиеся названия вручую разделим на категории "
   ]
  },
  {
   "cell_type": "code",
   "execution_count": 61,
   "metadata": {},
   "outputs": [],
   "source": [
    "dishes = ['Tepмокружка', 'Банка', 'Бидон', 'Блюдо', 'Блюдце', 'Бульонница', 'Вилка', 'Губка', 'Измельчитель', 'Измерительный'\n",
    "          'Картофелемялка', 'Кастрюля', 'Кружка', 'Кувшин', 'Ложка', 'Мантоварка', 'Мантоварка-пароварка', 'Масленка',\n",
    "          'Миксер','Мини-сковорода', 'Миска', 'Нож', 'Ножеточка', 'Овощеварка', 'Овощечистка', 'Орехоколка', 'Просеиватель', \n",
    "          'Противень', 'Ковш','Половник','Венчик', 'Вкладыши', 'Емкость', 'Жестяная','Защитный', 'Пресс', 'Отделитель', \n",
    "        'Разделочная', 'Рыбочистка', 'Салатник', 'Сахарница', 'Сервировочная','Скалка', 'Сковорода', 'Крышка'\n",
    "        'Соковарка', 'Соковыжималка', 'Сотейник', 'Стакан', 'Столовая', 'Столовый', 'Тарелка', 'Терка', 'Термокружка',\n",
    "        'Термос', 'Термостакан','Толкушка', 'Тортница',  'Хлебница', 'Чайная', 'Чайник', 'Чайный', 'Фарфоровая','Электроштопор'\n",
    "         ]\n",
    "\n",
    "plants = ['Альбука', 'Аптения', 'Арбуз', 'Аргирантерум', 'Артемизия', 'Базилик', 'Баклажан',\n",
    "       'Бакопа', 'Вигна', 'Виола', 'Газания', 'Гайлардия', 'Гиностемма', 'Глоксиния', 'Горох', 'Декабрист', \n",
    "       'Джункус', 'Дыня', 'Змееголовник', 'Импатиенс', 'Кабачок', 'Каланхое', 'Калла', 'Каллуна', 'Калоцефалус',\n",
    "       'Кампанула', 'Капсикум', 'Капуста', 'Комнатное', 'Кориандр', 'Космея', 'Крассула', 'Крокусы', 'Лапчатка',\n",
    "       'Левкой', 'Любисток','Мелисса', 'Мимоза', 'Многолетнее', 'Морковь', 'Нивянник', 'Нолина', 'Овсянница', \n",
    "        'Огурец', 'Однолетнее', 'Осина', 'Папоротник', 'Патиссон','Петрушка', 'Пуансетия', 'Пуансеттия','Ранункулус', \n",
    "        'Рассада', 'Розмарин', 'Сальвия', 'Сантолина', 'Седум', 'Сельдерей',  'Смолевка', 'Соланум', 'Солидаго', \n",
    "        'Суккулент',  'Тагетис',  'Томат',  'Хризолидокарпус', 'Цветок', 'Цветущее', 'Цикламен,', 'Цинерания', 'Циния',\n",
    "       'Цитрофортунелла', 'Чабер', 'Эхинацея', 'растение', 'томата', 'Подвесное']\n",
    "\n",
    "bath = ['Ёрш','Бак', 'Бельевые',  'Ванна','Вантуз', 'Держатель', 'Дозатор', 'Ерш', 'Запасная', 'Кипятильник', 'Корзина',\n",
    "       'Корыто', 'Зубная', 'Мыло', 'Мыло-скраб', 'Мыльница','Паста', 'Таз', 'Настенная', 'Пена', 'Прищепки', 'Пробка',\n",
    "        'Стиральный', 'Сушилка', 'Халат', 'Штора' ]\n",
    "\n",
    "building = ['Веревка', 'Завертка','Карниз','Крепеж', 'Лестница', 'Лестница-стремянка', 'Линейка', 'Петля', 'Петля-стрела',\n",
    "            'Сверло', 'Сверло-фреза','Стремянка', 'Стремянка-табурет','Стремянки', 'Стяжка', 'Уголок', 'Фал', 'Холодная', \n",
    "            'Шило', 'Шнур', 'Шпагат', 'Шпингалет', 'Шприц', 'Штанга', 'Штангенциркуль']              "
   ]
  },
  {
   "cell_type": "markdown",
   "metadata": {},
   "source": [
    "Напишем функицю, которая будет присваивать категорию каждому товару из изначальной таблицы"
   ]
  },
  {
   "cell_type": "code",
   "execution_count": 62,
   "metadata": {},
   "outputs": [],
   "source": [
    "def product_cat(product):\n",
    "    if product in dishes:\n",
    "        return 'Посуда'\n",
    "    elif product in plants:\n",
    "        return 'Растения'\n",
    "    elif product in bath:\n",
    "        return 'Принадлежности для ванны'\n",
    "    elif product in building:\n",
    "        return 'Стройматериалы'\n",
    "    else: \n",
    "        return 'Товары для дома'   "
   ]
  },
  {
   "cell_type": "code",
   "execution_count": 63,
   "metadata": {},
   "outputs": [],
   "source": [
    "df['product_cat'] = df['product3'].apply(product_cat)"
   ]
  },
  {
   "cell_type": "code",
   "execution_count": 64,
   "metadata": {},
   "outputs": [
    {
     "data": {
      "text/plain": [
       "product_cat\n",
       "Посуда                      227\n",
       "Принадлежности для ванны    268\n",
       "Растения                    932\n",
       "Стройматериалы              71 \n",
       "Товары для дома             844\n",
       "Name: product, dtype: int64"
      ]
     },
     "execution_count": 64,
     "metadata": {},
     "output_type": "execute_result"
    }
   ],
   "source": [
    "df.groupby('product_cat')['product'].nunique()"
   ]
  },
  {
   "cell_type": "markdown",
   "metadata": {},
   "source": [
    "Получиось, что самые многочисленные категории - это товары для дома (по сути то, что не попало не в одну категорию) и растения. Посмотрим какие товары чаще покупают разные сегменты пользователей  "
   ]
  },
  {
   "cell_type": "code",
   "execution_count": 65,
   "metadata": {},
   "outputs": [
    {
     "data": {
      "text/html": [
       "<div>\n",
       "<style scoped>\n",
       "    .dataframe tbody tr th:only-of-type {\n",
       "        vertical-align: middle;\n",
       "    }\n",
       "\n",
       "    .dataframe tbody tr th {\n",
       "        vertical-align: top;\n",
       "    }\n",
       "\n",
       "    .dataframe thead th {\n",
       "        text-align: right;\n",
       "    }\n",
       "</style>\n",
       "<table border=\"1\" class=\"dataframe\">\n",
       "  <thead>\n",
       "    <tr style=\"text-align: right;\">\n",
       "      <th></th>\n",
       "      <th>date</th>\n",
       "      <th>customer_id</th>\n",
       "      <th>order_id</th>\n",
       "      <th>product</th>\n",
       "      <th>quantity</th>\n",
       "      <th>price</th>\n",
       "      <th>price_sum</th>\n",
       "      <th>date_month</th>\n",
       "      <th>product2</th>\n",
       "      <th>product3</th>\n",
       "      <th>product_cat</th>\n",
       "    </tr>\n",
       "  </thead>\n",
       "  <tbody>\n",
       "    <tr>\n",
       "      <td>0</td>\n",
       "      <td>2018-10-01</td>\n",
       "      <td>ee47d746-6d2f-4d3c-9622-c31412542920</td>\n",
       "      <td>68477</td>\n",
       "      <td>Комнатное растение в горшке Алое Вера, d12, h30</td>\n",
       "      <td>1</td>\n",
       "      <td>142.0</td>\n",
       "      <td>142.0</td>\n",
       "      <td>2018-10</td>\n",
       "      <td>Комнатное</td>\n",
       "      <td>Комнатное</td>\n",
       "      <td>Растения</td>\n",
       "    </tr>\n",
       "    <tr>\n",
       "      <td>1</td>\n",
       "      <td>2018-10-01</td>\n",
       "      <td>ee47d746-6d2f-4d3c-9622-c31412542920</td>\n",
       "      <td>68477</td>\n",
       "      <td>Комнатное растение в горшке Кофе Арабика, d12, h25</td>\n",
       "      <td>1</td>\n",
       "      <td>194.0</td>\n",
       "      <td>194.0</td>\n",
       "      <td>2018-10</td>\n",
       "      <td>Комнатное</td>\n",
       "      <td>Комнатное</td>\n",
       "      <td>Растения</td>\n",
       "    </tr>\n",
       "    <tr>\n",
       "      <td>2</td>\n",
       "      <td>2018-10-01</td>\n",
       "      <td>ee47d746-6d2f-4d3c-9622-c31412542920</td>\n",
       "      <td>68477</td>\n",
       "      <td>Радермахера d-12 см h-20 см</td>\n",
       "      <td>1</td>\n",
       "      <td>112.0</td>\n",
       "      <td>112.0</td>\n",
       "      <td>2018-10</td>\n",
       "      <td>Радермахера</td>\n",
       "      <td>растение</td>\n",
       "      <td>Растения</td>\n",
       "    </tr>\n",
       "    <tr>\n",
       "      <td>3</td>\n",
       "      <td>2018-10-01</td>\n",
       "      <td>ee47d746-6d2f-4d3c-9622-c31412542920</td>\n",
       "      <td>68477</td>\n",
       "      <td>Хризолидокарпус Лутесценс d-9 см</td>\n",
       "      <td>1</td>\n",
       "      <td>179.0</td>\n",
       "      <td>179.0</td>\n",
       "      <td>2018-10</td>\n",
       "      <td>Хризолидокарпус</td>\n",
       "      <td>Хризолидокарпус</td>\n",
       "      <td>Растения</td>\n",
       "    </tr>\n",
       "    <tr>\n",
       "      <td>4</td>\n",
       "      <td>2018-10-01</td>\n",
       "      <td>ee47d746-6d2f-4d3c-9622-c31412542920</td>\n",
       "      <td>68477</td>\n",
       "      <td>Циперус Зумула d-12 см h-25 см</td>\n",
       "      <td>1</td>\n",
       "      <td>112.0</td>\n",
       "      <td>112.0</td>\n",
       "      <td>2018-10</td>\n",
       "      <td>Циперус</td>\n",
       "      <td>растение</td>\n",
       "      <td>Растения</td>\n",
       "    </tr>\n",
       "  </tbody>\n",
       "</table>\n",
       "</div>"
      ],
      "text/plain": [
       "        date                           customer_id  order_id  \\\n",
       "0 2018-10-01  ee47d746-6d2f-4d3c-9622-c31412542920  68477      \n",
       "1 2018-10-01  ee47d746-6d2f-4d3c-9622-c31412542920  68477      \n",
       "2 2018-10-01  ee47d746-6d2f-4d3c-9622-c31412542920  68477      \n",
       "3 2018-10-01  ee47d746-6d2f-4d3c-9622-c31412542920  68477      \n",
       "4 2018-10-01  ee47d746-6d2f-4d3c-9622-c31412542920  68477      \n",
       "\n",
       "                                              product  quantity  price  \\\n",
       "0  Комнатное растение в горшке Алое Вера, d12, h30     1         142.0   \n",
       "1  Комнатное растение в горшке Кофе Арабика, d12, h25  1         194.0   \n",
       "2  Радермахера d-12 см h-20 см                         1         112.0   \n",
       "3  Хризолидокарпус Лутесценс d-9 см                    1         179.0   \n",
       "4  Циперус Зумула d-12 см h-25 см                      1         112.0   \n",
       "\n",
       "   price_sum date_month         product2         product3 product_cat  \n",
       "0  142.0      2018-10    Комнатное        Комнатное        Растения    \n",
       "1  194.0      2018-10    Комнатное        Комнатное        Растения    \n",
       "2  112.0      2018-10    Радермахера      растение         Растения    \n",
       "3  179.0      2018-10    Хризолидокарпус  Хризолидокарпус  Растения    \n",
       "4  112.0      2018-10    Циперус          растение         Растения    "
      ]
     },
     "execution_count": 65,
     "metadata": {},
     "output_type": "execute_result"
    }
   ],
   "source": [
    "df.head()"
   ]
  },
  {
   "cell_type": "code",
   "execution_count": 66,
   "metadata": {},
   "outputs": [
    {
     "data": {
      "text/html": [
       "<div>\n",
       "<style scoped>\n",
       "    .dataframe tbody tr th:only-of-type {\n",
       "        vertical-align: middle;\n",
       "    }\n",
       "\n",
       "    .dataframe tbody tr th {\n",
       "        vertical-align: top;\n",
       "    }\n",
       "\n",
       "    .dataframe thead th {\n",
       "        text-align: right;\n",
       "    }\n",
       "</style>\n",
       "<table border=\"1\" class=\"dataframe\">\n",
       "  <thead>\n",
       "    <tr style=\"text-align: right;\">\n",
       "      <th></th>\n",
       "      <th>customer_id</th>\n",
       "      <th>Посуда</th>\n",
       "      <th>Принадлежности для ванны</th>\n",
       "      <th>Растения</th>\n",
       "      <th>Стройматериалы</th>\n",
       "      <th>Товары для дома</th>\n",
       "      <th>sum</th>\n",
       "      <th>orders_n</th>\n",
       "      <th>mean_check</th>\n",
       "      <th>date</th>\n",
       "      <th>diff</th>\n",
       "      <th>diff_n</th>\n",
       "      <th>category</th>\n",
       "    </tr>\n",
       "  </thead>\n",
       "  <tbody>\n",
       "    <tr>\n",
       "      <td>0</td>\n",
       "      <td>000d6849-084e-4d9f-ac03-37174eaf60c4</td>\n",
       "      <td>NaN</td>\n",
       "      <td>NaN</td>\n",
       "      <td>4.0</td>\n",
       "      <td>NaN</td>\n",
       "      <td>NaN</td>\n",
       "      <td>555.0</td>\n",
       "      <td>1</td>\n",
       "      <td>555.0</td>\n",
       "      <td>2019-10-16 08:00:00</td>\n",
       "      <td>15 days 06:00:00</td>\n",
       "      <td>15</td>\n",
       "      <td>active_low</td>\n",
       "    </tr>\n",
       "    <tr>\n",
       "      <td>1</td>\n",
       "      <td>001cee7f-0b29-4716-b202-0042213ab038</td>\n",
       "      <td>NaN</td>\n",
       "      <td>1.0</td>\n",
       "      <td>NaN</td>\n",
       "      <td>NaN</td>\n",
       "      <td>NaN</td>\n",
       "      <td>442.0</td>\n",
       "      <td>1</td>\n",
       "      <td>442.0</td>\n",
       "      <td>2019-02-16 11:00:00</td>\n",
       "      <td>257 days 03:00:00</td>\n",
       "      <td>257</td>\n",
       "      <td>unactive_low</td>\n",
       "    </tr>\n",
       "    <tr>\n",
       "      <td>2</td>\n",
       "      <td>00299f34-5385-4d13-9aea-c80b81658e1b</td>\n",
       "      <td>NaN</td>\n",
       "      <td>NaN</td>\n",
       "      <td>NaN</td>\n",
       "      <td>NaN</td>\n",
       "      <td>1.0</td>\n",
       "      <td>914.0</td>\n",
       "      <td>1</td>\n",
       "      <td>914.0</td>\n",
       "      <td>2019-10-14 23:00:00</td>\n",
       "      <td>16 days 15:00:00</td>\n",
       "      <td>16</td>\n",
       "      <td>active_low</td>\n",
       "    </tr>\n",
       "    <tr>\n",
       "      <td>3</td>\n",
       "      <td>002d4d3a-4a59-406b-86ec-c3314357e498</td>\n",
       "      <td>NaN</td>\n",
       "      <td>NaN</td>\n",
       "      <td>NaN</td>\n",
       "      <td>NaN</td>\n",
       "      <td>1.0</td>\n",
       "      <td>1649.0</td>\n",
       "      <td>1</td>\n",
       "      <td>1649.0</td>\n",
       "      <td>2019-01-27 17:00:00</td>\n",
       "      <td>276 days 21:00:00</td>\n",
       "      <td>276</td>\n",
       "      <td>unactive_high</td>\n",
       "    </tr>\n",
       "    <tr>\n",
       "      <td>4</td>\n",
       "      <td>003bbd39-0000-41ff-b7f9-2ddaec152037</td>\n",
       "      <td>NaN</td>\n",
       "      <td>NaN</td>\n",
       "      <td>NaN</td>\n",
       "      <td>NaN</td>\n",
       "      <td>1.0</td>\n",
       "      <td>2324.0</td>\n",
       "      <td>1</td>\n",
       "      <td>2324.0</td>\n",
       "      <td>2019-09-29 17:00:00</td>\n",
       "      <td>31 days 21:00:00</td>\n",
       "      <td>31</td>\n",
       "      <td>active_high</td>\n",
       "    </tr>\n",
       "  </tbody>\n",
       "</table>\n",
       "</div>"
      ],
      "text/plain": [
       "                            customer_id  Посуда  Принадлежности для ванны  \\\n",
       "0  000d6849-084e-4d9f-ac03-37174eaf60c4 NaN     NaN                         \n",
       "1  001cee7f-0b29-4716-b202-0042213ab038 NaN      1.0                        \n",
       "2  00299f34-5385-4d13-9aea-c80b81658e1b NaN     NaN                         \n",
       "3  002d4d3a-4a59-406b-86ec-c3314357e498 NaN     NaN                         \n",
       "4  003bbd39-0000-41ff-b7f9-2ddaec152037 NaN     NaN                         \n",
       "\n",
       "   Растения  Стройматериалы  Товары для дома     sum  orders_n  mean_check  \\\n",
       "0  4.0      NaN             NaN               555.0   1         555.0        \n",
       "1 NaN       NaN             NaN               442.0   1         442.0        \n",
       "2 NaN       NaN              1.0              914.0   1         914.0        \n",
       "3 NaN       NaN              1.0              1649.0  1         1649.0       \n",
       "4 NaN       NaN              1.0              2324.0  1         2324.0       \n",
       "\n",
       "                 date              diff  diff_n       category  \n",
       "0 2019-10-16 08:00:00 15 days 06:00:00   15      active_low     \n",
       "1 2019-02-16 11:00:00 257 days 03:00:00  257     unactive_low   \n",
       "2 2019-10-14 23:00:00 16 days 15:00:00   16      active_low     \n",
       "3 2019-01-27 17:00:00 276 days 21:00:00  276     unactive_high  \n",
       "4 2019-09-29 17:00:00 31 days 21:00:00   31      active_high    "
      ]
     },
     "execution_count": 66,
     "metadata": {},
     "output_type": "execute_result"
    }
   ],
   "source": [
    "pivot_customers = df.pivot_table(\n",
    "        index = 'customer_id',\n",
    "        columns ='product_cat',\n",
    "        values = 'product',\n",
    "        aggfunc = 'count'\n",
    ")\n",
    "pivot_customers_cat = pivot_customers.merge(customers_new, on = 'customer_id')\n",
    "pivot_customers_cat.head()"
   ]
  },
  {
   "cell_type": "code",
   "execution_count": 67,
   "metadata": {},
   "outputs": [
    {
     "data": {
      "text/html": [
       "<div>\n",
       "<style scoped>\n",
       "    .dataframe tbody tr th:only-of-type {\n",
       "        vertical-align: middle;\n",
       "    }\n",
       "\n",
       "    .dataframe tbody tr th {\n",
       "        vertical-align: top;\n",
       "    }\n",
       "\n",
       "    .dataframe thead th {\n",
       "        text-align: right;\n",
       "    }\n",
       "</style>\n",
       "<table border=\"1\" class=\"dataframe\">\n",
       "  <thead>\n",
       "    <tr style=\"text-align: right;\">\n",
       "      <th></th>\n",
       "      <th>category</th>\n",
       "      <th>Посуда</th>\n",
       "      <th>Принадлежности для ванны</th>\n",
       "      <th>Растения</th>\n",
       "      <th>Стройматериалы</th>\n",
       "      <th>Товары для дома</th>\n",
       "    </tr>\n",
       "  </thead>\n",
       "  <tbody>\n",
       "    <tr>\n",
       "      <td>0</td>\n",
       "      <td>active_high</td>\n",
       "      <td>22.0</td>\n",
       "      <td>43.0</td>\n",
       "      <td>114.0</td>\n",
       "      <td>15.0</td>\n",
       "      <td>141.0</td>\n",
       "    </tr>\n",
       "    <tr>\n",
       "      <td>1</td>\n",
       "      <td>active_low</td>\n",
       "      <td>62.0</td>\n",
       "      <td>163.0</td>\n",
       "      <td>618.0</td>\n",
       "      <td>30.0</td>\n",
       "      <td>360.0</td>\n",
       "    </tr>\n",
       "    <tr>\n",
       "      <td>2</td>\n",
       "      <td>unactive_high</td>\n",
       "      <td>51.0</td>\n",
       "      <td>78.0</td>\n",
       "      <td>744.0</td>\n",
       "      <td>30.0</td>\n",
       "      <td>382.0</td>\n",
       "    </tr>\n",
       "    <tr>\n",
       "      <td>3</td>\n",
       "      <td>unactive_low</td>\n",
       "      <td>148.0</td>\n",
       "      <td>229.0</td>\n",
       "      <td>1041.0</td>\n",
       "      <td>28.0</td>\n",
       "      <td>571.0</td>\n",
       "    </tr>\n",
       "  </tbody>\n",
       "</table>\n",
       "</div>"
      ],
      "text/plain": [
       "        category  Посуда  Принадлежности для ванны  Растения  Стройматериалы  \\\n",
       "0  active_high    22.0    43.0                      114.0     15.0             \n",
       "1  active_low     62.0    163.0                     618.0     30.0             \n",
       "2  unactive_high  51.0    78.0                      744.0     30.0             \n",
       "3  unactive_low   148.0   229.0                     1041.0    28.0             \n",
       "\n",
       "   Товары для дома  \n",
       "0  141.0            \n",
       "1  360.0            \n",
       "2  382.0            \n",
       "3  571.0            "
      ]
     },
     "execution_count": 67,
     "metadata": {},
     "output_type": "execute_result"
    }
   ],
   "source": [
    "pivot = pivot_customers_cat.groupby('category').agg({\n",
    "    'Посуда' : 'sum',\n",
    "    'Принадлежности для ванны': 'sum', \n",
    "    'Растения': 'sum', \n",
    "    'Стройматериалы': 'sum',\n",
    "    'Товары для дома' : 'sum'}).reset_index()\n",
    "pivot"
   ]
  },
  {
   "cell_type": "markdown",
   "metadata": {},
   "source": [
    "Очевидный вывод, который сразу бросается в глаза: во всех группах товаров категория unactive_low покупает больше всего. Но как мы знаем из исследовательского анализа, это не та группа, которая приносит больше всего выручки, просто это численно самая большая группа, поэтому в абсолютных числах они будут покупать больше, но на небольшие суммы (и скорее всего только один раз).\n",
    "Что касается имеено потребительских предпочтений, то неактивные покупатели чаще всего приходили в магазин за растениями. Самые ценные клиенты магазина (активные и с высоким средним чеком) больше всего интересуются товарами для дома. Другая категория активных клиентом active_low также больше всего покупает растения. "
   ]
  },
  {
   "cell_type": "markdown",
   "metadata": {},
   "source": [
    "### Вывод "
   ]
  },
  {
   "cell_type": "markdown",
   "metadata": {},
   "source": [
    "Даже поверхностная категоризация товаров дает определенные идеи для дополнения сегментации. А именно: \n",
    "- категория unactive_low больше всего покупает почти во всех категориях - и это логично, так как это самая большая, но и самая инертная категория (это клиенты, которые купили что-то недорогое один раз довольно давно). Чаще всего этой покупкой были растения, потому, например, чтобы попытаться вытянуть их в категорию active low в настройках таргетинга можно учесть, что таким клиентам потенциально интересны недорогие растения \n",
    "- категория unactive_high также в основном интересуется растениями, однако мы знаем, что эти клиенты платят больше, поэтому их можно заинтересовать более дорогим, но разнообразным ассортиментом этой категории \n",
    "- категория active_low тоже часто покупает растения, но это те покупатели, которые итак часто к нам приходят, поэтому им смело можно рекомендовать недорогие товары и из других категорий - товары для дома и принадлежности для ванны\n",
    "- самая ценная категория - те, кто покупает активно и на большую сумму - менее, чем все остальные увлечен растениями, а  больше всего покупают товары для дома. Желательно, чтобы их профиль потребления не менялся, поэтому им можно рекомендовать те же товары \n",
    "\n",
    "Также стоит заметить, что для магазина особенно ценны клиенты с высоким средним чеком - даже если не учитывать выбросы (в виде огромных покупок), эти клиенты, будучи в меньшинстве,приносят почти половину дохода. Поэтому можно предложить настроить таргетинг для клиентов групп low исходя из рекомендаций выше, а клиентов групп high анализировать подробнее "
   ]
  },
  {
   "cell_type": "markdown",
   "metadata": {},
   "source": [
    "## Общие выводы исследования "
   ]
  },
  {
   "cell_type": "markdown",
   "metadata": {},
   "source": [
    "Анализа транзацкий покупателей интернет-магазина дал следующие выводы: \n",
    "\n",
    "* Выявлен очень маленький процент (6%) тех покупателей, которые возвращаются за повторными покупками. Если это техническая особенность, тогда возможно стоит сделать регистрацию обязательной - так мы сможем эффективнее искать лояльных клиентов. На имеющихся же данных можно говорить о том, что в основном покупатели совершают 1 заказ.\n",
    "\n",
    "* Средний чек у 50% покупателей не превышает 700 рублей, а у 75% - 1447 руб. То есть большинство клиентов совершают в нашем магазине недорогие покупки, однако те, клиенты, которые тратят на один заказ больше этой суммы, вносят более существенный вклад в выручку компании\n",
    "\n",
    "* Клиенты были поделены на 4 сегмента исходя из их активности и среднего чека, и разница между этими сегментами была подтверждена статистически. Самая многочисленная группа - это группа с низким средним чеком и низкой активностью (примерно это половина всех клиентов). В идеале стоит стремиться, чтобы эти клиенты переходили хотя бы в active low. Таких клиентом можно заинтересовать напоминательными рассылками или/и возможно рекламой товаров из категорий уже купленных. Группа active low - это те, кто покупает у нас активно, но не на большие суммы. У таких клиентов стоит стремиться к тому, чтобы увеличивать их средний чек. Клиенты unactive high - давно ничего не покупали, однако они из малочисленной группы покупателей с высоким чеком, таких клиентов стоит возвращать даже приоритетнее чем мотивировать тех, что в группе active_low. Самая немногочисленная, но самая ценная категория это active_high. Это идеальные клиенты, их нужно удерживать и поощрять.\n",
    "\n",
    "* Для категорий клиентов с низким средним чеком в качестве дополнения к сегментизации можно воспользоваться общими рекомендациями по категориям товаров. Так, клиентам из категории unactive_low, чтобы побудить их к повторным покупкам и напомнить о магазине, можно рекомендовать недорогие растения. А клиентам из категории active_low с целью повышения их среднего чека можно реккомендовать также растения, но еще и товары из других категорий (товары для дома и принадлежности для ванны). Что касается клиентов с высоким средним чеком, то в рамках этого исследования мы бы порекомендовали заинтересовать их более дорогими товарами категории растения (для тех кто покупает неактивно) и товарами для дома (для тех кто покупает активно). Однако, ввиду того, что эти покупатели наиболее ценны, возможно, стоит проанализировать их предпочтения более детально.\n",
    "\n",
    "* Техническая деталь - в данных было обнаружено довольно много скрытых дубликатов (около четверти от всего изначального датасета). Скорее всего, это говорит о сбоях в сборе данных, которые было бы желательно устранить "
   ]
  },
  {
   "cell_type": "code",
   "execution_count": null,
   "metadata": {},
   "outputs": [],
   "source": []
  }
 ],
 "metadata": {
  "kernelspec": {
   "display_name": "Python 3",
   "language": "python",
   "name": "python3"
  },
  "language_info": {
   "codemirror_mode": {
    "name": "ipython",
    "version": 3
   },
   "file_extension": ".py",
   "mimetype": "text/x-python",
   "name": "python",
   "nbconvert_exporter": "python",
   "pygments_lexer": "ipython3",
   "version": "3.8.3"
  },
  "toc": {
   "base_numbering": 1,
   "nav_menu": {},
   "number_sections": true,
   "sideBar": true,
   "skip_h1_title": true,
   "title_cell": "Table of Contents",
   "title_sidebar": "Contents",
   "toc_cell": false,
   "toc_position": {},
   "toc_section_display": true,
   "toc_window_display": false
  }
 },
 "nbformat": 4,
 "nbformat_minor": 2
}
