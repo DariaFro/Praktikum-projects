{
 "cells": [
  {
   "cell_type": "markdown",
   "metadata": {},
   "source": [
    "## Аналитика в авиакомпании"
   ]
  },
  {
   "cell_type": "markdown",
   "metadata": {},
   "source": [
    "«F9» — российская авиакомпания, выполняющая внутренние пассажирские авиаперевозки. Важно понять предпочтения пользователей, покупающих билеты на те или иные направления. В работе будет проанализирован спрос пассажиров на рейсы в различные города и на рейсы, выполняющиеся различными моделями самолетов."
   ]
  },
  {
   "cell_type": "markdown",
   "metadata": {},
   "source": [
    "#### Описание данных <a id='Описание'></a> "
   ]
  },
  {
   "cell_type": "markdown",
   "metadata": {},
   "source": [
    "В работе будут анализироваться результаты двух запросов. В первом содержится информация о:\n",
    "- model — модели самолета\n",
    "- flights_amount — количество рейсов для каждой модели самолетов model в сентябре 2018 года\n",
    "\n",
    "Во втором запроме содержится информация о:\n",
    "- city — городах\n",
    "- average_flights — среднем количестве рейсов, прибывающих в город city за день в августе 2018 года"
   ]
  },
  {
   "cell_type": "markdown",
   "metadata": {},
   "source": [
    "#### Цель работы"
   ]
  },
  {
   "cell_type": "markdown",
   "metadata": {},
   "source": [
    "Определить предпочтения пассажиров, покупающих билеты, относительно модели самолета и пункта назначения"
   ]
  },
  {
   "cell_type": "markdown",
   "metadata": {},
   "source": [
    "#### План работы"
   ]
  },
  {
   "cell_type": "markdown",
   "metadata": {},
   "source": [
    "1. [Общая информация](#Знакомство)\n",
    "2. [Предобработка данных](#Предобработка)\n",
    "3. [Исследование городов назначения](#Города)\n",
    "4. [Исследвание моделей самолетов](#Модели)\n",
    "5. [Обогащение данных](#Обогащение)\n",
    "6. [Вывод](#Вывод)"
   ]
  },
  {
   "cell_type": "markdown",
   "metadata": {},
   "source": [
    "#### Общая информация<a id='Знакомство'></a>"
   ]
  },
  {
   "cell_type": "code",
   "execution_count": 1,
   "metadata": {},
   "outputs": [],
   "source": [
    "#импортируем все необходимые библиотеки \n",
    "import pandas as pd\n",
    "from IPython.display import display\n",
    "import matplotlib.pyplot as plt \n",
    "import seaborn as sns\n",
    "import matplotlib.colors\n",
    "import numpy as np\n",
    "\n",
    "\n",
    "import requests # Импорт библиотеки для запросов к серверу\n",
    "from bs4 import BeautifulSoup # Импорт библиотеки для автоматического парсинга странички\n",
    "import re #Импорт библиотеки регулярных выражений "
   ]
  },
  {
   "cell_type": "code",
   "execution_count": 2,
   "metadata": {},
   "outputs": [
    {
     "data": {
      "text/html": [
       "<div>\n",
       "<style scoped>\n",
       "    .dataframe tbody tr th:only-of-type {\n",
       "        vertical-align: middle;\n",
       "    }\n",
       "\n",
       "    .dataframe tbody tr th {\n",
       "        vertical-align: top;\n",
       "    }\n",
       "\n",
       "    .dataframe thead th {\n",
       "        text-align: right;\n",
       "    }\n",
       "</style>\n",
       "<table border=\"1\" class=\"dataframe\">\n",
       "  <thead>\n",
       "    <tr style=\"text-align: right;\">\n",
       "      <th></th>\n",
       "      <th>model</th>\n",
       "      <th>flights_amount</th>\n",
       "    </tr>\n",
       "  </thead>\n",
       "  <tbody>\n",
       "    <tr>\n",
       "      <th>0</th>\n",
       "      <td>Airbus A319-100</td>\n",
       "      <td>607</td>\n",
       "    </tr>\n",
       "    <tr>\n",
       "      <th>1</th>\n",
       "      <td>Airbus A321-200</td>\n",
       "      <td>960</td>\n",
       "    </tr>\n",
       "    <tr>\n",
       "      <th>2</th>\n",
       "      <td>Boeing 737-300</td>\n",
       "      <td>630</td>\n",
       "    </tr>\n",
       "    <tr>\n",
       "      <th>3</th>\n",
       "      <td>Boeing 767-300</td>\n",
       "      <td>600</td>\n",
       "    </tr>\n",
       "    <tr>\n",
       "      <th>4</th>\n",
       "      <td>Boeing 777-300</td>\n",
       "      <td>300</td>\n",
       "    </tr>\n",
       "  </tbody>\n",
       "</table>\n",
       "</div>"
      ],
      "text/plain": [
       "             model  flights_amount\n",
       "0  Airbus A319-100             607\n",
       "1  Airbus A321-200             960\n",
       "2   Boeing 737-300             630\n",
       "3   Boeing 767-300             600\n",
       "4   Boeing 777-300             300"
      ]
     },
     "metadata": {},
     "output_type": "display_data"
    },
    {
     "name": "stdout",
     "output_type": "stream",
     "text": [
      "<class 'pandas.core.frame.DataFrame'>\n",
      "RangeIndex: 8 entries, 0 to 7\n",
      "Data columns (total 2 columns):\n",
      " #   Column          Non-Null Count  Dtype \n",
      "---  ------          --------------  ----- \n",
      " 0   model           8 non-null      object\n",
      " 1   flights_amount  8 non-null      int64 \n",
      "dtypes: int64(1), object(1)\n",
      "memory usage: 256.0+ bytes\n"
     ]
    },
    {
     "data": {
      "text/plain": [
       "None"
      ]
     },
     "metadata": {},
     "output_type": "display_data"
    },
    {
     "data": {
      "text/html": [
       "<div>\n",
       "<style scoped>\n",
       "    .dataframe tbody tr th:only-of-type {\n",
       "        vertical-align: middle;\n",
       "    }\n",
       "\n",
       "    .dataframe tbody tr th {\n",
       "        vertical-align: top;\n",
       "    }\n",
       "\n",
       "    .dataframe thead th {\n",
       "        text-align: right;\n",
       "    }\n",
       "</style>\n",
       "<table border=\"1\" class=\"dataframe\">\n",
       "  <thead>\n",
       "    <tr style=\"text-align: right;\">\n",
       "      <th></th>\n",
       "      <th>city</th>\n",
       "      <th>average_flights</th>\n",
       "    </tr>\n",
       "  </thead>\n",
       "  <tbody>\n",
       "    <tr>\n",
       "      <th>0</th>\n",
       "      <td>Абакан</td>\n",
       "      <td>3.870968</td>\n",
       "    </tr>\n",
       "    <tr>\n",
       "      <th>1</th>\n",
       "      <td>Анадырь</td>\n",
       "      <td>1.000000</td>\n",
       "    </tr>\n",
       "    <tr>\n",
       "      <th>2</th>\n",
       "      <td>Анапа</td>\n",
       "      <td>2.161290</td>\n",
       "    </tr>\n",
       "    <tr>\n",
       "      <th>3</th>\n",
       "      <td>Архангельск</td>\n",
       "      <td>5.354839</td>\n",
       "    </tr>\n",
       "    <tr>\n",
       "      <th>4</th>\n",
       "      <td>Астрахань</td>\n",
       "      <td>2.451613</td>\n",
       "    </tr>\n",
       "  </tbody>\n",
       "</table>\n",
       "</div>"
      ],
      "text/plain": [
       "          city  average_flights\n",
       "0       Абакан         3.870968\n",
       "1      Анадырь         1.000000\n",
       "2        Анапа         2.161290\n",
       "3  Архангельск         5.354839\n",
       "4    Астрахань         2.451613"
      ]
     },
     "metadata": {},
     "output_type": "display_data"
    },
    {
     "name": "stdout",
     "output_type": "stream",
     "text": [
      "<class 'pandas.core.frame.DataFrame'>\n",
      "RangeIndex: 101 entries, 0 to 100\n",
      "Data columns (total 2 columns):\n",
      " #   Column           Non-Null Count  Dtype  \n",
      "---  ------           --------------  -----  \n",
      " 0   city             101 non-null    object \n",
      " 1   average_flights  101 non-null    float64\n",
      "dtypes: float64(1), object(1)\n",
      "memory usage: 1.7+ KB\n"
     ]
    },
    {
     "data": {
      "text/plain": [
       "None"
      ]
     },
     "metadata": {},
     "output_type": "display_data"
    }
   ],
   "source": [
    "#выведем первые строки датасетов и информацию о таблицах\n",
    "models = pd.read_csv('C:/Users/alfro/Documents/Daria_Jupyter/Datasets/query_1.csv')\n",
    "cities = pd.read_csv('C:/Users/alfro/Documents/Daria_Jupyter/Datasets/query_3.csv')\n",
    "\n",
    "display(models.head())\n",
    "display(models.info())\n",
    "display(cities.head())\n",
    "display(cities.info())"
   ]
  },
  {
   "cell_type": "markdown",
   "metadata": {},
   "source": [
    "В результате SQL-запросов было получено 2 таблицы. В таблице modals указано 8 моделей самолетов и колличество рейсов, ими выполняемых. Пропусков нет, типы данных - object и int.\n",
    "В таблице cities указаны города (в колличесве 101) и рейсы в них. Пропусков нет, типы данных - object и float."
   ]
  },
  {
   "cell_type": "markdown",
   "metadata": {},
   "source": [
    "В проекте используются небольшие таблицы, однако и их хранение можно оптимизировать: данные о среднем колличесве полетов  хранятся в типе `float64`,однако по факту можно использовать меньшее число байт для представления каждого значения. Используем подтип `float16` и на примере таблицы с городами посмотрим наколько компактнее стала таблица "
   ]
  },
  {
   "cell_type": "code",
   "execution_count": 3,
   "metadata": {},
   "outputs": [
    {
     "name": "stdout",
     "output_type": "stream",
     "text": [
      "Занято Кб изначально 936\n"
     ]
    }
   ],
   "source": [
    "before_kb = cities['average_flights'].memory_usage(deep=True) \n",
    "print('Занято Кб изначально', before_kb)"
   ]
  },
  {
   "cell_type": "code",
   "execution_count": 4,
   "metadata": {},
   "outputs": [
    {
     "name": "stdout",
     "output_type": "stream",
     "text": [
      "Занято Кб после преобразований: 330\n"
     ]
    }
   ],
   "source": [
    "cities['average_flights'] = cities['average_flights'].astype('float16')\n",
    "after_kb= cities['average_flights'].memory_usage(deep=True) \n",
    "print('Занято Кб после преобразований:', after_kb)"
   ]
  },
  {
   "cell_type": "markdown",
   "metadata": {},
   "source": [
    "Таким образом, мы почти в треть уменьшили объем занимаемой памяти. Конечно, в данный момент мы говорим о килобайтах и на этой конретной таблице такая экономия не сиьно скажется, однако это может быть актуально, если таблица будет существенно больше. "
   ]
  },
  {
   "cell_type": "markdown",
   "metadata": {},
   "source": [
    "#### Предобработка данных <a id='Предобработка'></a> "
   ]
  },
  {
   "cell_type": "markdown",
   "metadata": {},
   "source": [
    "Типы данных указаны корректно, однако для наглядности столбец со средним колличевом рейсов можно округлить до десятых "
   ]
  },
  {
   "cell_type": "code",
   "execution_count": 5,
   "metadata": {},
   "outputs": [
    {
     "data": {
      "text/html": [
       "<div>\n",
       "<style scoped>\n",
       "    .dataframe tbody tr th:only-of-type {\n",
       "        vertical-align: middle;\n",
       "    }\n",
       "\n",
       "    .dataframe tbody tr th {\n",
       "        vertical-align: top;\n",
       "    }\n",
       "\n",
       "    .dataframe thead th {\n",
       "        text-align: right;\n",
       "    }\n",
       "</style>\n",
       "<table border=\"1\" class=\"dataframe\">\n",
       "  <thead>\n",
       "    <tr style=\"text-align: right;\">\n",
       "      <th></th>\n",
       "      <th>city</th>\n",
       "      <th>average_flights</th>\n",
       "    </tr>\n",
       "  </thead>\n",
       "  <tbody>\n",
       "    <tr>\n",
       "      <th>64</th>\n",
       "      <td>Петрозаводск</td>\n",
       "      <td>5.898438</td>\n",
       "    </tr>\n",
       "    <tr>\n",
       "      <th>70</th>\n",
       "      <td>Санкт-Петербург</td>\n",
       "      <td>31.203125</td>\n",
       "    </tr>\n",
       "    <tr>\n",
       "      <th>4</th>\n",
       "      <td>Астрахань</td>\n",
       "      <td>2.500000</td>\n",
       "    </tr>\n",
       "    <tr>\n",
       "      <th>67</th>\n",
       "      <td>Ростов-на-Дону</td>\n",
       "      <td>10.203125</td>\n",
       "    </tr>\n",
       "    <tr>\n",
       "      <th>74</th>\n",
       "      <td>Сочи</td>\n",
       "      <td>9.601562</td>\n",
       "    </tr>\n",
       "  </tbody>\n",
       "</table>\n",
       "</div>"
      ],
      "text/plain": [
       "               city  average_flights\n",
       "64     Петрозаводск         5.898438\n",
       "70  Санкт-Петербург        31.203125\n",
       "4         Астрахань         2.500000\n",
       "67   Ростов-на-Дону        10.203125\n",
       "74             Сочи         9.601562"
      ]
     },
     "execution_count": 5,
     "metadata": {},
     "output_type": "execute_result"
    }
   ],
   "source": [
    "cities['average_flights'] = round(cities['average_flights'], 1)\n",
    "cities.sample(5)"
   ]
  },
  {
   "cell_type": "markdown",
   "metadata": {},
   "source": [
    "Проверим наличие дубликатов:"
   ]
  },
  {
   "cell_type": "code",
   "execution_count": 6,
   "metadata": {},
   "outputs": [
    {
     "name": "stdout",
     "output_type": "stream",
     "text": [
      "Колличество дубликатов в таблице cities: 0\n"
     ]
    }
   ],
   "source": [
    "#невооруженным взглядом видно, что в таблице models дубликатов нет, так что проверим cities \n",
    "print(\"Колличество дубликатов в таблице cities:\", cities.duplicated().sum())"
   ]
  },
  {
   "cell_type": "markdown",
   "metadata": {},
   "source": [
    "Также, так как таблица cities сравнительно небольшая мы можем зрительно проверить названия городов на предмет неправильного регистра или разного написания. "
   ]
  },
  {
   "cell_type": "code",
   "execution_count": 7,
   "metadata": {},
   "outputs": [
    {
     "data": {
      "text/plain": [
       "array(['Абакан', 'Анадырь', 'Анапа', 'Архангельск', 'Астрахань',\n",
       "       'Барнаул', 'Белгород', 'Белоярский', 'Благовещенск', 'Братск',\n",
       "       'Брянск', 'Бугульма', 'Владивосток', 'Владикавказ', 'Волгоград',\n",
       "       'Воркута', 'Воронеж', 'Геленджик', 'Горно-Алтайск', 'Грозный',\n",
       "       'Екатеринбург', 'Иваново', 'Ижевск', 'Иркутск', 'Йошкар-Ола',\n",
       "       'Казань', 'Калининград', 'Калуга', 'Кемерово', 'Киров', 'Когалым',\n",
       "       'Комсомольск-на-Амуре', 'Краснодар', 'Красноярск', 'Курган',\n",
       "       'Курск', 'Кызыл', 'Липецк', 'Магадан', 'Магнитогорск', 'Махачкала',\n",
       "       'Минеральные Воды', 'Мирный', 'Москва', 'Мурманск', 'Надым',\n",
       "       'Нальчик', 'Нарьян-Мар', 'Нерюнгри', 'Нефтеюганск',\n",
       "       'Нижневартовск', 'Нижнекамск', 'Нижний Новгород', 'Новокузнецк',\n",
       "       'Новосибирск', 'Новый Уренгой', 'Норильск', 'Ноябрьск', 'Нягань',\n",
       "       'Омск', 'Оренбург', 'Орск', 'Пенза', 'Пермь', 'Петрозаводск',\n",
       "       'Петропавловск-Камчатский', 'Псков', 'Ростов-на-Дону', 'Салехард',\n",
       "       'Самара', 'Санкт-Петербург', 'Саранск', 'Саратов', 'Советский',\n",
       "       'Сочи', 'Ставрополь', 'Стрежевой', 'Сургут', 'Сыктывкар', 'Тамбов',\n",
       "       'Томск', 'Тюмень', 'Удачный', 'Улан-Удэ', 'Ульяновск', 'Урай',\n",
       "       'Усинск', 'Усть-Илимск', 'Усть-Кут', 'Уфа', 'Ухта', 'Хабаровск',\n",
       "       'Ханты-Мансийск', 'Чебоксары', 'Челябинск', 'Череповец', 'Чита',\n",
       "       'Элиста', 'Южно-Сахалинск', 'Якутск', 'Ярославль'], dtype=object)"
      ]
     },
     "execution_count": 7,
     "metadata": {},
     "output_type": "execute_result"
    }
   ],
   "source": [
    "cities['city'].unique()"
   ]
  },
  {
   "cell_type": "markdown",
   "metadata": {},
   "source": [
    "Посмотрим также, как в целом распределены данные "
   ]
  },
  {
   "cell_type": "code",
   "execution_count": 8,
   "metadata": {
    "scrolled": true
   },
   "outputs": [
    {
     "data": {
      "text/html": [
       "<div>\n",
       "<style scoped>\n",
       "    .dataframe tbody tr th:only-of-type {\n",
       "        vertical-align: middle;\n",
       "    }\n",
       "\n",
       "    .dataframe tbody tr th {\n",
       "        vertical-align: top;\n",
       "    }\n",
       "\n",
       "    .dataframe thead th {\n",
       "        text-align: right;\n",
       "    }\n",
       "</style>\n",
       "<table border=\"1\" class=\"dataframe\">\n",
       "  <thead>\n",
       "    <tr style=\"text-align: right;\">\n",
       "      <th></th>\n",
       "      <th>count</th>\n",
       "      <th>mean</th>\n",
       "      <th>std</th>\n",
       "      <th>min</th>\n",
       "      <th>25%</th>\n",
       "      <th>50%</th>\n",
       "      <th>75%</th>\n",
       "      <th>max</th>\n",
       "    </tr>\n",
       "  </thead>\n",
       "  <tbody>\n",
       "    <tr>\n",
       "      <th>average_flights</th>\n",
       "      <td>101.0</td>\n",
       "      <td>5.496094</td>\n",
       "      <td>13.117188</td>\n",
       "      <td>1.0</td>\n",
       "      <td>2.0</td>\n",
       "      <td>3.0</td>\n",
       "      <td>5.898438</td>\n",
       "      <td>129.75</td>\n",
       "    </tr>\n",
       "  </tbody>\n",
       "</table>\n",
       "</div>"
      ],
      "text/plain": [
       "                 count      mean        std  min  25%  50%       75%     max\n",
       "average_flights  101.0  5.496094  13.117188  1.0  2.0  3.0  5.898438  129.75"
      ]
     },
     "metadata": {},
     "output_type": "display_data"
    },
    {
     "name": "stdout",
     "output_type": "stream",
     "text": [
      "медиана: average_flights    3.0\n",
      "dtype: float64\n"
     ]
    }
   ],
   "source": [
    "display(cities.describe().T)\n",
    "print('медиана:', cities.median())\n"
   ]
  },
  {
   "cell_type": "markdown",
   "metadata": {},
   "source": [
    "Таблица с городам содержит явный выброс, так как 75% данных лежат в границах примерно 6 полетов в день, к тому же стандартное отклонение значительно больше самого среднего. Также медиана в половину меньше среднего, а значит, что если мы не будем брать в расчет город с самым большим колличесвом прилетов(как можно догадаться, это Москва), то в среднем города по России принимаю по 3 рейса в день "
   ]
  },
  {
   "cell_type": "markdown",
   "metadata": {},
   "source": [
    "#### Города <a id='Города'></a> "
   ]
  },
  {
   "cell_type": "markdown",
   "metadata": {},
   "source": [
    "Построим график, который показывает колличесво рейсов в зависимости от города. Так как в таблице около 100 городов, первый график лишь рисует общую картину распределения рейсов - в нем не подписаны города, однако очевидо, что есть несколько небольших пиков (это будут топ-10 городов) и один из них, просто невероятно огромный - это Москва. С помощью этого графика можно наглядно оценить насколько больше рейсов прибывает в среднем за день в Москву, чем в другие грода России - в среденем каждый 4ый рейс в день прибывает в Москву"
   ]
  },
  {
   "cell_type": "code",
   "execution_count": 9,
   "metadata": {},
   "outputs": [
    {
     "name": "stdout",
     "output_type": "stream",
     "text": [
      "Процентное соотношение рейсов в Москву ко всем остальным городам: 23%\n"
     ]
    }
   ],
   "source": [
    "print('Процентное соотношение рейсов в Москву ко всем остальным городам: {:.0%}'.format(\n",
    "            cities['average_flights'][43] / sum(cities['average_flights'])))"
   ]
  },
  {
   "cell_type": "code",
   "execution_count": 10,
   "metadata": {},
   "outputs": [
    {
     "data": {
      "image/png": "[encoded data removed]",
      "text/plain": [
       "<Figure size 1152x576 with 1 Axes>"
      ]
     },
     "metadata": {
      "needs_background": "light"
     },
     "output_type": "display_data"
    }
   ],
   "source": [
    "ax = cities.sort_values(by='average_flights', ascending = False)\n",
    "ax.plot(kind='bar',figsize=(16,8), legend=False).axes.get_xaxis().set_ticks([])\n",
    "plt.xlabel(\"Города России\")\n",
    "plt.title('Среднее колличесвто рейсов в день в Москву в разы выше, чем во все другие города ')\n",
    "plt.show()"
   ]
  },
  {
   "cell_type": "markdown",
   "metadata": {},
   "source": [
    "Рассмотрим 10 самых популярных породов за август 2018"
   ]
  },
  {
   "cell_type": "code",
   "execution_count": 11,
   "metadata": {},
   "outputs": [
    {
     "data": {
      "text/html": [
       "<div>\n",
       "<style scoped>\n",
       "    .dataframe tbody tr th:only-of-type {\n",
       "        vertical-align: middle;\n",
       "    }\n",
       "\n",
       "    .dataframe tbody tr th {\n",
       "        vertical-align: top;\n",
       "    }\n",
       "\n",
       "    .dataframe thead th {\n",
       "        text-align: right;\n",
       "    }\n",
       "</style>\n",
       "<table border=\"1\" class=\"dataframe\">\n",
       "  <thead>\n",
       "    <tr style=\"text-align: right;\">\n",
       "      <th></th>\n",
       "      <th>city</th>\n",
       "      <th>average_flights</th>\n",
       "    </tr>\n",
       "  </thead>\n",
       "  <tbody>\n",
       "    <tr>\n",
       "      <th>43</th>\n",
       "      <td>Москва</td>\n",
       "      <td>129.750000</td>\n",
       "    </tr>\n",
       "    <tr>\n",
       "      <th>70</th>\n",
       "      <td>Санкт-Петербург</td>\n",
       "      <td>31.203125</td>\n",
       "    </tr>\n",
       "    <tr>\n",
       "      <th>54</th>\n",
       "      <td>Новосибирск</td>\n",
       "      <td>17.296875</td>\n",
       "    </tr>\n",
       "    <tr>\n",
       "      <th>33</th>\n",
       "      <td>Красноярск</td>\n",
       "      <td>11.601562</td>\n",
       "    </tr>\n",
       "    <tr>\n",
       "      <th>20</th>\n",
       "      <td>Екатеринбург</td>\n",
       "      <td>11.296875</td>\n",
       "    </tr>\n",
       "    <tr>\n",
       "      <th>67</th>\n",
       "      <td>Ростов-на-Дону</td>\n",
       "      <td>10.203125</td>\n",
       "    </tr>\n",
       "    <tr>\n",
       "      <th>63</th>\n",
       "      <td>Пермь</td>\n",
       "      <td>10.101562</td>\n",
       "    </tr>\n",
       "    <tr>\n",
       "      <th>10</th>\n",
       "      <td>Брянск</td>\n",
       "      <td>10.000000</td>\n",
       "    </tr>\n",
       "    <tr>\n",
       "      <th>74</th>\n",
       "      <td>Сочи</td>\n",
       "      <td>9.601562</td>\n",
       "    </tr>\n",
       "    <tr>\n",
       "      <th>84</th>\n",
       "      <td>Ульяновск</td>\n",
       "      <td>9.601562</td>\n",
       "    </tr>\n",
       "  </tbody>\n",
       "</table>\n",
       "</div>"
      ],
      "text/plain": [
       "               city  average_flights\n",
       "43           Москва       129.750000\n",
       "70  Санкт-Петербург        31.203125\n",
       "54      Новосибирск        17.296875\n",
       "33       Красноярск        11.601562\n",
       "20     Екатеринбург        11.296875\n",
       "67   Ростов-на-Дону        10.203125\n",
       "63            Пермь        10.101562\n",
       "10           Брянск        10.000000\n",
       "74             Сочи         9.601562\n",
       "84        Ульяновск         9.601562"
      ]
     },
     "execution_count": 11,
     "metadata": {},
     "output_type": "execute_result"
    }
   ],
   "source": [
    "top10 = cities.sort_values(by='average_flights', ascending = False).head(10)\n",
    "top10"
   ]
  },
  {
   "cell_type": "code",
   "execution_count": 12,
   "metadata": {},
   "outputs": [
    {
     "data": {
      "text/plain": [
       "Text(0.5, 1.0, 'Среднее колличесвто рейсов по самым популярным городам')"
      ]
     },
     "execution_count": 12,
     "metadata": {},
     "output_type": "execute_result"
    },
    {
     "data": {
      "image/png": "[encoded data removed]",
      "text/plain": [
       "<Figure size 1152x576 with 1 Axes>"
      ]
     },
     "metadata": {},
     "output_type": "display_data"
    }
   ],
   "source": [
    "sns.set(rc={'figure.figsize':(16,8)})\n",
    "sns.barplot(x='city', y='average_flights', data=top10, palette=\"Blues_d\")\n",
    "plt.title('Среднее колличесвто рейсов по самым популярным городам')"
   ]
  },
  {
   "cell_type": "markdown",
   "metadata": {},
   "source": [
    "Для анализа использовался август и, несмотря на то, что это сезон отпусков, Москва абсолютный лидер по количеству прибывающих рейсов в день (притом южные города - Сочи или Ростов-на-Дону располагаются ближе к концу десятки). На втором месте Санкт-Петербург - здесь значительно меньше ресйсов, чем в Москве, но ощутимо больше, чем во всех остальных. На третьем месте - Новосибирск. \n",
    "\n",
    "Такая ситуация может быть связана с тем, что Москва - это самый мощный хаб и даже если пассажиры хотят попасть в какие-то другие города, они вынуждены лететь через Москву (например, иногда пассажиры могут лететь из Сибири на Урал - с пересадкой в столице). Тот факт, что большинсвто из указанных городов имеет международные аэропорты в реальной жизни не влияет на ситуацию.\n",
    "\n",
    "Можно предположить, что такая ситуация возникает из-за того, что гражданская авиация не субсидируется государством (например, так как это было в СССР) и авиакомпании должны сами покрывать все убытки, которые неизбежно возникают там, где нет стабильного пассажиропотока. Например, аэропорт, который обслуживает, один-два рейса в сутки, все равно должен иметь персонал, технических специалистов, охрану и т.д. Все это должно финансироваться средствами авиакомпании, которая туда летает, и чтобы ей было выгодно эти затраты будут вкладываться в стоимость билетов. Поэтому кстати, неудивительно, что самые низкие аэрпортовые сборы в Москве - через столичные аэропорты проходят миллионы пассажров и затраты делятся на всех. Таким образом, для пассажиров выгоднее летать туда, куда летает большинство. "
   ]
  },
  {
   "cell_type": "markdown",
   "metadata": {},
   "source": [
    "Добавим в таблицу с 10 городами население этих городов на 2018 год. Данные взяты [отсюда]( \n",
    "https://ru.wikipedia.org/wiki/%D0%A1%D0%BF%D0%B8%D1%81%D0%BE%D0%BA_%D0%B3%D0%BE%D1%80%D0%BE%D0%B4%D0%BE%D0%B2_%D0%A0%D0%BE%D1%81%D1%81%D0%B8%D0%B8_%D1%81_%D0%BD%D0%B0%D1%81%D0%B5%D0%BB%D0%B5%D0%BD%D0%B8%D0%B5%D0%BC_%D0%B1%D0%BE%D0%BB%D0%B5%D0%B5_100_%D1%82%D1%8B%D1%81%D1%8F%D1%87_%D0%B6%D0%B8%D1%82%D0%B5%D0%BB%D0%B5%D0%B9)\n"
   ]
  },
  {
   "cell_type": "markdown",
   "metadata": {},
   "source": [
    "#### Модели самолетов <a id='Модели'></a> "
   ]
  },
  {
   "cell_type": "code",
   "execution_count": 13,
   "metadata": {},
   "outputs": [
    {
     "data": {
      "text/html": [
       "<div>\n",
       "<style scoped>\n",
       "    .dataframe tbody tr th:only-of-type {\n",
       "        vertical-align: middle;\n",
       "    }\n",
       "\n",
       "    .dataframe tbody tr th {\n",
       "        vertical-align: top;\n",
       "    }\n",
       "\n",
       "    .dataframe thead th {\n",
       "        text-align: right;\n",
       "    }\n",
       "</style>\n",
       "<table border=\"1\" class=\"dataframe\">\n",
       "  <thead>\n",
       "    <tr style=\"text-align: right;\">\n",
       "      <th></th>\n",
       "      <th>city</th>\n",
       "      <th>average_flights</th>\n",
       "      <th>population</th>\n",
       "    </tr>\n",
       "  </thead>\n",
       "  <tbody>\n",
       "    <tr>\n",
       "      <th>43</th>\n",
       "      <td>Москва</td>\n",
       "      <td>129.750000</td>\n",
       "      <td>12506</td>\n",
       "    </tr>\n",
       "    <tr>\n",
       "      <th>70</th>\n",
       "      <td>Санкт-Петербург</td>\n",
       "      <td>31.203125</td>\n",
       "      <td>5352</td>\n",
       "    </tr>\n",
       "    <tr>\n",
       "      <th>54</th>\n",
       "      <td>Новосибирск</td>\n",
       "      <td>17.296875</td>\n",
       "      <td>1613</td>\n",
       "    </tr>\n",
       "    <tr>\n",
       "      <th>33</th>\n",
       "      <td>Красноярск</td>\n",
       "      <td>11.601562</td>\n",
       "      <td>1091</td>\n",
       "    </tr>\n",
       "    <tr>\n",
       "      <th>20</th>\n",
       "      <td>Екатеринбург</td>\n",
       "      <td>11.296875</td>\n",
       "      <td>1469</td>\n",
       "    </tr>\n",
       "    <tr>\n",
       "      <th>67</th>\n",
       "      <td>Ростов-на-Дону</td>\n",
       "      <td>10.203125</td>\n",
       "      <td>1130</td>\n",
       "    </tr>\n",
       "    <tr>\n",
       "      <th>63</th>\n",
       "      <td>Пермь</td>\n",
       "      <td>10.101562</td>\n",
       "      <td>1052</td>\n",
       "    </tr>\n",
       "    <tr>\n",
       "      <th>10</th>\n",
       "      <td>Брянск</td>\n",
       "      <td>10.000000</td>\n",
       "      <td>406</td>\n",
       "    </tr>\n",
       "    <tr>\n",
       "      <th>74</th>\n",
       "      <td>Сочи</td>\n",
       "      <td>9.601562</td>\n",
       "      <td>424</td>\n",
       "    </tr>\n",
       "    <tr>\n",
       "      <th>84</th>\n",
       "      <td>Ульяновск</td>\n",
       "      <td>9.601562</td>\n",
       "      <td>627</td>\n",
       "    </tr>\n",
       "  </tbody>\n",
       "</table>\n",
       "</div>"
      ],
      "text/plain": [
       "               city  average_flights  population\n",
       "43           Москва       129.750000       12506\n",
       "70  Санкт-Петербург        31.203125        5352\n",
       "54      Новосибирск        17.296875        1613\n",
       "33       Красноярск        11.601562        1091\n",
       "20     Екатеринбург        11.296875        1469\n",
       "67   Ростов-на-Дону        10.203125        1130\n",
       "63            Пермь        10.101562        1052\n",
       "10           Брянск        10.000000         406\n",
       "74             Сочи         9.601562         424\n",
       "84        Ульяновск         9.601562         627"
      ]
     },
     "execution_count": 13,
     "metadata": {},
     "output_type": "execute_result"
    }
   ],
   "source": [
    "population = [12506, 5352, 1613, 1091, 1469, 1130, 1052, 406, 424, 627]\n",
    "top10['population'] = population\n",
    "top10"
   ]
  },
  {
   "cell_type": "code",
   "execution_count": 14,
   "metadata": {},
   "outputs": [
    {
     "data": {
      "text/html": [
       "<div>\n",
       "<style scoped>\n",
       "    .dataframe tbody tr th:only-of-type {\n",
       "        vertical-align: middle;\n",
       "    }\n",
       "\n",
       "    .dataframe tbody tr th {\n",
       "        vertical-align: top;\n",
       "    }\n",
       "\n",
       "    .dataframe thead th {\n",
       "        text-align: right;\n",
       "    }\n",
       "</style>\n",
       "<table border=\"1\" class=\"dataframe\">\n",
       "  <thead>\n",
       "    <tr style=\"text-align: right;\">\n",
       "      <th></th>\n",
       "      <th>average_flights</th>\n",
       "      <th>population</th>\n",
       "    </tr>\n",
       "  </thead>\n",
       "  <tbody>\n",
       "    <tr>\n",
       "      <th>average_flights</th>\n",
       "      <td>1.000000</td>\n",
       "      <td>0.976177</td>\n",
       "    </tr>\n",
       "    <tr>\n",
       "      <th>population</th>\n",
       "      <td>0.976177</td>\n",
       "      <td>1.000000</td>\n",
       "    </tr>\n",
       "  </tbody>\n",
       "</table>\n",
       "</div>"
      ],
      "text/plain": [
       "                 average_flights  population\n",
       "average_flights         1.000000    0.976177\n",
       "population              0.976177    1.000000"
      ]
     },
     "execution_count": 14,
     "metadata": {},
     "output_type": "execute_result"
    }
   ],
   "source": [
    "top10.corr()"
   ]
  },
  {
   "cell_type": "markdown",
   "metadata": {},
   "source": [
    "Рассмотрим колличесвто рейсов на разные модели самолетов"
   ]
  },
  {
   "cell_type": "code",
   "execution_count": 15,
   "metadata": {},
   "outputs": [
    {
     "data": {
      "text/plain": [
       "Text(0.5, 1.0, 'Колличесвто рейсов по моделям самолетов')"
      ]
     },
     "execution_count": 15,
     "metadata": {},
     "output_type": "execute_result"
    },
    {
     "data": {
      "image/png": "[encoded data removed]",
      "text/plain": [
       "<Figure size 1152x576 with 1 Axes>"
      ]
     },
     "metadata": {},
     "output_type": "display_data"
    }
   ],
   "source": [
    "sns.set(rc={'figure.figsize':(16,8)})\n",
    "sns.barplot(x='model', y='flights_amount', data=models, palette=\"Blues_d\")\n",
    "plt.title('Колличесвто рейсов по моделям самолетов')"
   ]
  },
  {
   "cell_type": "markdown",
   "metadata": {},
   "source": [
    "Видно, что аэробус и боинг представлены нескольким моделями:  модель Airobus A321 популярнее А319, а Boeing 777 менее популярен, чем две другие модели."
   ]
  },
  {
   "cell_type": "markdown",
   "metadata": {},
   "source": [
    "Объеденим данные по производителям и посмотрим на компании, производящие самолеты"
   ]
  },
  {
   "cell_type": "code",
   "execution_count": 16,
   "metadata": {},
   "outputs": [
    {
     "data": {
      "text/html": [
       "<div>\n",
       "<style scoped>\n",
       "    .dataframe tbody tr th:only-of-type {\n",
       "        vertical-align: middle;\n",
       "    }\n",
       "\n",
       "    .dataframe tbody tr th {\n",
       "        vertical-align: top;\n",
       "    }\n",
       "\n",
       "    .dataframe thead th {\n",
       "        text-align: right;\n",
       "    }\n",
       "</style>\n",
       "<table border=\"1\" class=\"dataframe\">\n",
       "  <thead>\n",
       "    <tr style=\"text-align: right;\">\n",
       "      <th></th>\n",
       "      <th>flights_amount</th>\n",
       "    </tr>\n",
       "    <tr>\n",
       "      <th>company</th>\n",
       "      <th></th>\n",
       "    </tr>\n",
       "  </thead>\n",
       "  <tbody>\n",
       "    <tr>\n",
       "      <th>Airbus</th>\n",
       "      <td>1567</td>\n",
       "    </tr>\n",
       "    <tr>\n",
       "      <th>Boeing</th>\n",
       "      <td>1530</td>\n",
       "    </tr>\n",
       "    <tr>\n",
       "      <th>Bombardier</th>\n",
       "      <td>4446</td>\n",
       "    </tr>\n",
       "    <tr>\n",
       "      <th>Cessna</th>\n",
       "      <td>4557</td>\n",
       "    </tr>\n",
       "    <tr>\n",
       "      <th>Sukhoi</th>\n",
       "      <td>4185</td>\n",
       "    </tr>\n",
       "  </tbody>\n",
       "</table>\n",
       "</div>"
      ],
      "text/plain": [
       "            flights_amount\n",
       "company                   \n",
       "Airbus                1567\n",
       "Boeing                1530\n",
       "Bombardier            4446\n",
       "Cessna                4557\n",
       "Sukhoi                4185"
      ]
     },
     "execution_count": 16,
     "metadata": {},
     "output_type": "execute_result"
    }
   ],
   "source": [
    "models['company'] = models['model'].apply(lambda x: (x.split(' '))[0])\n",
    "models_pivot = models.pivot_table(index=['company'], values = ['flights_amount'], aggfunc = 'sum')\n",
    "models_pivot"
   ]
  },
  {
   "cell_type": "code",
   "execution_count": 17,
   "metadata": {},
   "outputs": [
    {
     "data": {
      "text/plain": [
       "Text(0.5, 1.0, 'Распределение рейсов по производителям самолетов')"
      ]
     },
     "execution_count": 17,
     "metadata": {},
     "output_type": "execute_result"
    },
    {
     "data": {
      "image/png": "[encoded data removed]",
      "text/plain": [
       "<Figure size 864x576 with 1 Axes>"
      ]
     },
     "metadata": {},
     "output_type": "display_data"
    }
   ],
   "source": [
    "colors = [ 'royalblue', 'slateblue', 'plum','lightsteelblue', 'rebeccapurple']\n",
    "models_pivot.plot(kind='pie', subplots=True,figsize=(12,8), legend = False, autopct='%1.1f%%', colors=colors)\n",
    "plt.title('Распределение рейсов по производителям самолетов')"
   ]
  },
  {
   "cell_type": "markdown",
   "metadata": {},
   "source": [
    "Наиболее известные американская компания Боинг и европейская Аэробус представляют в наших данных примерно равные, но небольшие части - примерно по одной десятой на каждую компанию за сентябрь 2018 года. Остальные компании соавляют примерно равные доли с небольшим лидерсвтом Цесны. Отечественное авиастоение, представленное моделью Сухой Суперджет, округленно берет на себя каждый четвертый рейс (так как данные за 2018 год катастрофа мая 2019 с этой моделью никак не влияет). На 2018 год доля самолетов долья самолетов канадской компании Бомбардье довольно высока, однако в 2018 году это компания находится в кризисе, частично из-за пошлин введенных США, поэтому в будущем её доля скорее будет уменьшаться и возможно часть их модель CRJ-2000 будет замещаться моделями Сухой Суперждет. \n",
    "Любопытно, что самую большую долю среди всех моделей занимает Цессна 208 Караван - малый однодвигательный самолет с пассажировместимостью до 14 человек, то есть это модель качетвенно другая по отношению ко всем вышеперечисленным. Несмотря на то, что он небольшой его сферы применения выше - это и экскурсионные полеты, и перевозка VIP-пассажиров, и спасательные работы.К тому же, они заправляется обычным авиационным керосином, а не авиционным бензином, что тоже влиет на цены билетов. "
   ]
  },
  {
   "cell_type": "markdown",
   "metadata": {},
   "source": [
    "#### Обогащение данных"
   ]
  },
  {
   "cell_type": "markdown",
   "metadata": {},
   "source": [
    "Обогатим данные, добавив информацию о максимальном колличесве пассажиров. \n",
    "Информация частично взята с [сайта](https://www.airlines-inform.ru/commercial-aircraft/)"
   ]
  },
  {
   "cell_type": "code",
   "execution_count": 18,
   "metadata": {},
   "outputs": [
    {
     "data": {
      "text/html": [
       "<div>\n",
       "<style scoped>\n",
       "    .dataframe tbody tr th:only-of-type {\n",
       "        vertical-align: middle;\n",
       "    }\n",
       "\n",
       "    .dataframe tbody tr th {\n",
       "        vertical-align: top;\n",
       "    }\n",
       "\n",
       "    .dataframe thead th {\n",
       "        text-align: right;\n",
       "    }\n",
       "</style>\n",
       "<table border=\"1\" class=\"dataframe\">\n",
       "  <thead>\n",
       "    <tr style=\"text-align: right;\">\n",
       "      <th></th>\n",
       "      <th>model</th>\n",
       "      <th>flights_amount</th>\n",
       "      <th>company</th>\n",
       "      <th>capacity</th>\n",
       "    </tr>\n",
       "  </thead>\n",
       "  <tbody>\n",
       "    <tr>\n",
       "      <th>0</th>\n",
       "      <td>Airbus A319-100</td>\n",
       "      <td>607</td>\n",
       "      <td>Airbus</td>\n",
       "      <td>156</td>\n",
       "    </tr>\n",
       "    <tr>\n",
       "      <th>1</th>\n",
       "      <td>Airbus A321-200</td>\n",
       "      <td>960</td>\n",
       "      <td>Airbus</td>\n",
       "      <td>220</td>\n",
       "    </tr>\n",
       "    <tr>\n",
       "      <th>2</th>\n",
       "      <td>Boeing 737-300</td>\n",
       "      <td>630</td>\n",
       "      <td>Boeing</td>\n",
       "      <td>149</td>\n",
       "    </tr>\n",
       "    <tr>\n",
       "      <th>3</th>\n",
       "      <td>Boeing 767-300</td>\n",
       "      <td>600</td>\n",
       "      <td>Boeing</td>\n",
       "      <td>328</td>\n",
       "    </tr>\n",
       "    <tr>\n",
       "      <th>4</th>\n",
       "      <td>Boeing 777-300</td>\n",
       "      <td>300</td>\n",
       "      <td>Boeing</td>\n",
       "      <td>550</td>\n",
       "    </tr>\n",
       "    <tr>\n",
       "      <th>5</th>\n",
       "      <td>Bombardier CRJ-200</td>\n",
       "      <td>4446</td>\n",
       "      <td>Bombardier</td>\n",
       "      <td>50</td>\n",
       "    </tr>\n",
       "    <tr>\n",
       "      <th>6</th>\n",
       "      <td>Cessna 208 Caravan</td>\n",
       "      <td>4557</td>\n",
       "      <td>Cessna</td>\n",
       "      <td>14</td>\n",
       "    </tr>\n",
       "    <tr>\n",
       "      <th>7</th>\n",
       "      <td>Sukhoi SuperJet-100</td>\n",
       "      <td>4185</td>\n",
       "      <td>Sukhoi</td>\n",
       "      <td>98</td>\n",
       "    </tr>\n",
       "  </tbody>\n",
       "</table>\n",
       "</div>"
      ],
      "text/plain": [
       "                 model  flights_amount     company  capacity\n",
       "0      Airbus A319-100             607      Airbus       156\n",
       "1      Airbus A321-200             960      Airbus       220\n",
       "2       Boeing 737-300             630      Boeing       149\n",
       "3       Boeing 767-300             600      Boeing       328\n",
       "4       Boeing 777-300             300      Boeing       550\n",
       "5   Bombardier CRJ-200            4446  Bombardier        50\n",
       "6   Cessna 208 Caravan            4557      Cessna        14\n",
       "7  Sukhoi SuperJet-100            4185      Sukhoi        98"
      ]
     },
     "execution_count": 18,
     "metadata": {},
     "output_type": "execute_result"
    }
   ],
   "source": [
    "vals = [156, 220, 149, 328, 550, 50, 14, 98] #так как таблица маленькая здесь я добавила даннные вручную \n",
    "models['capacity'] = vals\n",
    "models"
   ]
  },
  {
   "cell_type": "markdown",
   "metadata": {},
   "source": [
    "Теперь в таблице приведена максимальная вмесимость пассажиров. Предположим, что самолеты всегла летают полными или почти полными и посмотрим на корреляцию между колличеством рейсов и вместимостью самолета"
   ]
  },
  {
   "cell_type": "code",
   "execution_count": 19,
   "metadata": {},
   "outputs": [
    {
     "data": {
      "text/html": [
       "<div>\n",
       "<style scoped>\n",
       "    .dataframe tbody tr th:only-of-type {\n",
       "        vertical-align: middle;\n",
       "    }\n",
       "\n",
       "    .dataframe tbody tr th {\n",
       "        vertical-align: top;\n",
       "    }\n",
       "\n",
       "    .dataframe thead th {\n",
       "        text-align: right;\n",
       "    }\n",
       "</style>\n",
       "<table border=\"1\" class=\"dataframe\">\n",
       "  <thead>\n",
       "    <tr style=\"text-align: right;\">\n",
       "      <th></th>\n",
       "      <th>flights_amount</th>\n",
       "      <th>capacity</th>\n",
       "    </tr>\n",
       "  </thead>\n",
       "  <tbody>\n",
       "    <tr>\n",
       "      <th>flights_amount</th>\n",
       "      <td>1.000000</td>\n",
       "      <td>-0.723209</td>\n",
       "    </tr>\n",
       "    <tr>\n",
       "      <th>capacity</th>\n",
       "      <td>-0.723209</td>\n",
       "      <td>1.000000</td>\n",
       "    </tr>\n",
       "  </tbody>\n",
       "</table>\n",
       "</div>"
      ],
      "text/plain": [
       "                flights_amount  capacity\n",
       "flights_amount        1.000000 -0.723209\n",
       "capacity             -0.723209  1.000000"
      ]
     },
     "execution_count": 19,
     "metadata": {},
     "output_type": "execute_result"
    }
   ],
   "source": [
    "models.corr()"
   ]
  },
  {
   "cell_type": "markdown",
   "metadata": {},
   "source": [
    "Обнаружилась довольно сильная обратная корреляция между колличеством рейсов и вместимостью пассажиров. А имеенно, чем меньше самолет, тем чаще он летает - это логичая ситуация для такого распределения городов как в России. У нас один огромный город, несколько довольно больших городов и много маленьких, таким образом можно предположить, что боинг 777 в основном курсирует между Москвой и крупными городами, а во всех остальных городах летают самлеты поменьше"
   ]
  },
  {
   "cell_type": "markdown",
   "metadata": {},
   "source": [
    "Посмотрим на пассажиропоток, умножив вместимость самолета на коллиичесво рейсов"
   ]
  },
  {
   "cell_type": "code",
   "execution_count": 20,
   "metadata": {},
   "outputs": [
    {
     "data": {
      "text/html": [
       "<div>\n",
       "<style scoped>\n",
       "    .dataframe tbody tr th:only-of-type {\n",
       "        vertical-align: middle;\n",
       "    }\n",
       "\n",
       "    .dataframe tbody tr th {\n",
       "        vertical-align: top;\n",
       "    }\n",
       "\n",
       "    .dataframe thead th {\n",
       "        text-align: right;\n",
       "    }\n",
       "</style>\n",
       "<table border=\"1\" class=\"dataframe\">\n",
       "  <thead>\n",
       "    <tr style=\"text-align: right;\">\n",
       "      <th></th>\n",
       "      <th>model</th>\n",
       "      <th>flights_amount</th>\n",
       "      <th>company</th>\n",
       "      <th>capacity</th>\n",
       "      <th>traffic</th>\n",
       "    </tr>\n",
       "  </thead>\n",
       "  <tbody>\n",
       "    <tr>\n",
       "      <th>7</th>\n",
       "      <td>Sukhoi SuperJet-100</td>\n",
       "      <td>4185</td>\n",
       "      <td>Sukhoi</td>\n",
       "      <td>98</td>\n",
       "      <td>410130</td>\n",
       "    </tr>\n",
       "    <tr>\n",
       "      <th>5</th>\n",
       "      <td>Bombardier CRJ-200</td>\n",
       "      <td>4446</td>\n",
       "      <td>Bombardier</td>\n",
       "      <td>50</td>\n",
       "      <td>222300</td>\n",
       "    </tr>\n",
       "    <tr>\n",
       "      <th>1</th>\n",
       "      <td>Airbus A321-200</td>\n",
       "      <td>960</td>\n",
       "      <td>Airbus</td>\n",
       "      <td>220</td>\n",
       "      <td>211200</td>\n",
       "    </tr>\n",
       "    <tr>\n",
       "      <th>3</th>\n",
       "      <td>Boeing 767-300</td>\n",
       "      <td>600</td>\n",
       "      <td>Boeing</td>\n",
       "      <td>328</td>\n",
       "      <td>196800</td>\n",
       "    </tr>\n",
       "    <tr>\n",
       "      <th>4</th>\n",
       "      <td>Boeing 777-300</td>\n",
       "      <td>300</td>\n",
       "      <td>Boeing</td>\n",
       "      <td>550</td>\n",
       "      <td>165000</td>\n",
       "    </tr>\n",
       "    <tr>\n",
       "      <th>0</th>\n",
       "      <td>Airbus A319-100</td>\n",
       "      <td>607</td>\n",
       "      <td>Airbus</td>\n",
       "      <td>156</td>\n",
       "      <td>94692</td>\n",
       "    </tr>\n",
       "    <tr>\n",
       "      <th>2</th>\n",
       "      <td>Boeing 737-300</td>\n",
       "      <td>630</td>\n",
       "      <td>Boeing</td>\n",
       "      <td>149</td>\n",
       "      <td>93870</td>\n",
       "    </tr>\n",
       "    <tr>\n",
       "      <th>6</th>\n",
       "      <td>Cessna 208 Caravan</td>\n",
       "      <td>4557</td>\n",
       "      <td>Cessna</td>\n",
       "      <td>14</td>\n",
       "      <td>63798</td>\n",
       "    </tr>\n",
       "  </tbody>\n",
       "</table>\n",
       "</div>"
      ],
      "text/plain": [
       "                 model  flights_amount     company  capacity  traffic\n",
       "7  Sukhoi SuperJet-100            4185      Sukhoi        98   410130\n",
       "5   Bombardier CRJ-200            4446  Bombardier        50   222300\n",
       "1      Airbus A321-200             960      Airbus       220   211200\n",
       "3       Boeing 767-300             600      Boeing       328   196800\n",
       "4       Boeing 777-300             300      Boeing       550   165000\n",
       "0      Airbus A319-100             607      Airbus       156    94692\n",
       "2       Boeing 737-300             630      Boeing       149    93870\n",
       "6   Cessna 208 Caravan            4557      Cessna        14    63798"
      ]
     },
     "execution_count": 20,
     "metadata": {},
     "output_type": "execute_result"
    }
   ],
   "source": [
    "models['traffic'] = models['flights_amount'] * models['capacity']\n",
    "models.sort_values(by = 'traffic', ascending=0)"
   ]
  },
  {
   "cell_type": "markdown",
   "metadata": {},
   "source": [
    "Если предположить, что все самолеты летают с полной загрузкой, то несомненый лидер по перевозкам - это Сухой суперджет. Также любопытно, что Аэробус 321 и Боинг 767, которые занимают довольно скромную долю в общих рейсах по пассажиропотоку вполне сравнимы с почти лидером Бомбардье. Данные по пассажиропотоку актуальнее для пассажиров, таким образом получается, что чаще всего пассажиры F9 летаю на суперджете, однако вероятность попасть на бомбардье или Аэробус тоже довольно велика. Соотвесенно, Цессна, которая занимала лидирующие позиции по колличесву рейсов засчет очень малой вместимость остается довольно редким средсвом передвижения для пассажиров  "
   ]
  },
  {
   "cell_type": "markdown",
   "metadata": {},
   "source": [
    "Внесем дополнительные данные и в таблицу с городами, а именно население городов. Для этого воспользуемся данными из [Википедии](https://ru.wikipedia.org/wiki/%D0%A1%D0%BF%D0%B8%D1%81%D0%BE%D0%BA_%D0%B3%D0%BE%D1%80%D0%BE%D0%B4%D0%BE%D0%B2_%D0%A0%D0%BE%D1%81%D1%81%D0%B8%D0%B8_%D1%81_%D0%BD%D0%B0%D1%81%D0%B5%D0%BB%D0%B5%D0%BD%D0%B8%D0%B5%D0%BC_%D0%B1%D0%BE%D0%BB%D0%B5%D0%B5_100_%D1%82%D1%8B%D1%81%D1%8F%D1%87_%D0%B6%D0%B8%D1%82%D0%B5%D0%BB%D0%B5%D0%B9)"
   ]
  },
  {
   "cell_type": "code",
   "execution_count": 21,
   "metadata": {},
   "outputs": [],
   "source": [
    "URL='https://ru.wikipedia.org/wiki/%D0%A1%D0%BF%D0%B8%D1%81%D0%BE%D0%BA_%D0%B3%D0%BE%D1%80%D0%BE%D0%B4%D0%BE%D0%B2_%D0%A0%D0%BE%D1%81%D1%81%D0%B8%D0%B8_%D1%81_%D0%BD%D0%B0%D1%81%D0%B5%D0%BB%D0%B5%D0%BD%D0%B8%D0%B5%D0%BC_%D0%B1%D0%BE%D0%BB%D0%B5%D0%B5_100_%D1%82%D1%8B%D1%81%D1%8F%D1%87_%D0%B6%D0%B8%D1%82%D0%B5%D0%BB%D0%B5%D0%B9'\n",
    "req = requests.get(URL) # GET-запрос\n",
    "soup = BeautifulSoup(req.text,  \"html.parser\")\n",
    "#soup = BeautifulSoup(req.text, 'lxml')\n"
   ]
  },
  {
   "cell_type": "code",
   "execution_count": 22,
   "metadata": {},
   "outputs": [],
   "source": [
    "content = []\n",
    "for row in soup.find_all('tr'):\n",
    "    row_values = [] # сохраняем все значения из строки\n",
    "    for col in row.find_all('td'):\n",
    "        row_values.append(col.text)\n",
    "    content.append(row_values) # складываем строку в финальный массив данных\n",
    "#print(content)"
   ]
  },
  {
   "cell_type": "code",
   "execution_count": 23,
   "metadata": {},
   "outputs": [
    {
     "name": "stdout",
     "output_type": "stream",
     "text": [
      "['№', 'Город', 'Население, тыс. человек\\n', '', 'в1897[17]', '1897', '1926', '1939', '1959', '1970', '1979', '1989', '2002', '2010', '2011', '2012', '2013', '2014', '2015', '2016', '2017', '2018', '2019', '2020', '2021\\n', '\\n', 'Субъект РФ\\n', 'Кол-вогородов\\n', 'Города с населением более 100 тыс. человек\\n', 'Города России', 'Россия в темах', 'История', 'Хронология', 'По темам', 'Государственный строй', 'География', 'Экономика', 'Вооружённые силы', 'Население', 'Культура', 'Спорт']\n"
     ]
    }
   ],
   "source": [
    "headings = []\n",
    "for row in soup.find_all('th'):\n",
    "    headings.append(row.text)\n",
    "print(headings)"
   ]
  },
  {
   "cell_type": "markdown",
   "metadata": {},
   "source": [
    "Есть содержании таблицы и заголовки, но из-за особенностей таблицы они пока не складываются в датафрейм, поэтому вручную отрежем все лишнее - посмотрим под какими иднексами последний столбец и последняя строка, все остальное уберем "
   ]
  },
  {
   "cell_type": "code",
   "execution_count": 24,
   "metadata": {},
   "outputs": [
    {
     "data": {
      "text/plain": [
       "24"
      ]
     },
     "execution_count": 24,
     "metadata": {},
     "output_type": "execute_result"
    }
   ],
   "source": [
    "headings.index('2021\\n')"
   ]
  },
  {
   "cell_type": "code",
   "execution_count": 25,
   "metadata": {},
   "outputs": [],
   "source": [
    "#content.index(['173\\n', '', 'Зеленодольск', '—', '—', '30', '60', '77', '85',\n",
    "#    '94', '100', '98', '98', '98', '98', '98', '98', '99', '99', '99', '100', '100', '\\n'])"
   ]
  },
  {
   "cell_type": "code",
   "execution_count": 26,
   "metadata": {},
   "outputs": [],
   "source": [
    "content1 = content[:173]\n",
    "headings1 = headings[:23]"
   ]
  },
  {
   "cell_type": "code",
   "execution_count": 27,
   "metadata": {},
   "outputs": [
    {
     "data": {
      "text/html": [
       "<div>\n",
       "<style scoped>\n",
       "    .dataframe tbody tr th:only-of-type {\n",
       "        vertical-align: middle;\n",
       "    }\n",
       "\n",
       "    .dataframe tbody tr th {\n",
       "        vertical-align: top;\n",
       "    }\n",
       "\n",
       "    .dataframe thead th {\n",
       "        text-align: right;\n",
       "    }\n",
       "</style>\n",
       "<table border=\"1\" class=\"dataframe\">\n",
       "  <thead>\n",
       "    <tr style=\"text-align: right;\">\n",
       "      <th></th>\n",
       "      <th>№</th>\n",
       "      <th>Город</th>\n",
       "      <th>Население, тыс. человек\\n</th>\n",
       "      <th></th>\n",
       "      <th>в1897[17]</th>\n",
       "      <th>1897</th>\n",
       "      <th>1926</th>\n",
       "      <th>1939</th>\n",
       "      <th>1959</th>\n",
       "      <th>1970</th>\n",
       "      <th>...</th>\n",
       "      <th>2010</th>\n",
       "      <th>2011</th>\n",
       "      <th>2012</th>\n",
       "      <th>2013</th>\n",
       "      <th>2014</th>\n",
       "      <th>2015</th>\n",
       "      <th>2016</th>\n",
       "      <th>2017</th>\n",
       "      <th>2018</th>\n",
       "      <th>2019</th>\n",
       "    </tr>\n",
       "  </thead>\n",
       "  <tbody>\n",
       "    <tr>\n",
       "      <th>0</th>\n",
       "      <td>None</td>\n",
       "      <td>None</td>\n",
       "      <td>None</td>\n",
       "      <td>None</td>\n",
       "      <td>None</td>\n",
       "      <td>None</td>\n",
       "      <td>None</td>\n",
       "      <td>None</td>\n",
       "      <td>None</td>\n",
       "      <td>None</td>\n",
       "      <td>...</td>\n",
       "      <td>None</td>\n",
       "      <td>None</td>\n",
       "      <td>None</td>\n",
       "      <td>None</td>\n",
       "      <td>None</td>\n",
       "      <td>None</td>\n",
       "      <td>None</td>\n",
       "      <td>None</td>\n",
       "      <td>None</td>\n",
       "      <td>None</td>\n",
       "    </tr>\n",
       "    <tr>\n",
       "      <th>1</th>\n",
       "      <td>None</td>\n",
       "      <td>None</td>\n",
       "      <td>None</td>\n",
       "      <td>None</td>\n",
       "      <td>None</td>\n",
       "      <td>None</td>\n",
       "      <td>None</td>\n",
       "      <td>None</td>\n",
       "      <td>None</td>\n",
       "      <td>None</td>\n",
       "      <td>...</td>\n",
       "      <td>None</td>\n",
       "      <td>None</td>\n",
       "      <td>None</td>\n",
       "      <td>None</td>\n",
       "      <td>None</td>\n",
       "      <td>None</td>\n",
       "      <td>None</td>\n",
       "      <td>None</td>\n",
       "      <td>None</td>\n",
       "      <td>None</td>\n",
       "    </tr>\n",
       "    <tr>\n",
       "      <th>2</th>\n",
       "      <td>1\\n</td>\n",
       "      <td>2</td>\n",
       "      <td>Москва[18]</td>\n",
       "      <td>1039</td>\n",
       "      <td>2080</td>\n",
       "      <td>4609</td>\n",
       "      <td>6133</td>\n",
       "      <td>7194</td>\n",
       "      <td>8057</td>\n",
       "      <td>8878</td>\n",
       "      <td>...</td>\n",
       "      <td>11613</td>\n",
       "      <td>11980</td>\n",
       "      <td>12108</td>\n",
       "      <td>12198</td>\n",
       "      <td>12330</td>\n",
       "      <td>12381</td>\n",
       "      <td>12506</td>\n",
       "      <td>12615</td>\n",
       "      <td>12678</td>\n",
       "      <td>12655\\n</td>\n",
       "    </tr>\n",
       "    <tr>\n",
       "      <th>3</th>\n",
       "      <td>2\\n</td>\n",
       "      <td>1</td>\n",
       "      <td>Санкт-Петербург</td>\n",
       "      <td>1265</td>\n",
       "      <td>1737</td>\n",
       "      <td>3431</td>\n",
       "      <td>3390</td>\n",
       "      <td>4033</td>\n",
       "      <td>4569</td>\n",
       "      <td>4989</td>\n",
       "      <td>...</td>\n",
       "      <td>4953</td>\n",
       "      <td>5028</td>\n",
       "      <td>5132</td>\n",
       "      <td>5192</td>\n",
       "      <td>5226</td>\n",
       "      <td>5282</td>\n",
       "      <td>5352</td>\n",
       "      <td>5384</td>\n",
       "      <td>5398</td>\n",
       "      <td>5384\\n</td>\n",
       "    </tr>\n",
       "    <tr>\n",
       "      <th>4</th>\n",
       "      <td>3\\n</td>\n",
       "      <td></td>\n",
       "      <td>Новосибирск</td>\n",
       "      <td>8</td>\n",
       "      <td>120</td>\n",
       "      <td>404</td>\n",
       "      <td>885</td>\n",
       "      <td>1161</td>\n",
       "      <td>1309</td>\n",
       "      <td>1420</td>\n",
       "      <td>...</td>\n",
       "      <td>1499</td>\n",
       "      <td>1524</td>\n",
       "      <td>1548</td>\n",
       "      <td>1567</td>\n",
       "      <td>1584</td>\n",
       "      <td>1603</td>\n",
       "      <td>1613</td>\n",
       "      <td>1618</td>\n",
       "      <td>1626</td>\n",
       "      <td>1620\\n</td>\n",
       "    </tr>\n",
       "  </tbody>\n",
       "</table>\n",
       "<p>5 rows × 23 columns</p>\n",
       "</div>"
      ],
      "text/plain": [
       "      № Город Население, тыс. человек\\n       в1897[17]  1897  1926  1939  \\\n",
       "0  None  None                      None  None      None  None  None  None   \n",
       "1  None  None                      None  None      None  None  None  None   \n",
       "2   1\\n     2                Москва[18]  1039      2080  4609  6133  7194   \n",
       "3   2\\n     1           Санкт-Петербург  1265      1737  3431  3390  4033   \n",
       "4   3\\n                     Новосибирск     8       120   404   885  1161   \n",
       "\n",
       "   1959  1970  ...   2010   2011   2012   2013   2014   2015   2016   2017  \\\n",
       "0  None  None  ...   None   None   None   None   None   None   None   None   \n",
       "1  None  None  ...   None   None   None   None   None   None   None   None   \n",
       "2  8057  8878  ...  11613  11980  12108  12198  12330  12381  12506  12615   \n",
       "3  4569  4989  ...   4953   5028   5132   5192   5226   5282   5352   5384   \n",
       "4  1309  1420  ...   1499   1524   1548   1567   1584   1603   1613   1618   \n",
       "\n",
       "    2018     2019  \n",
       "0   None     None  \n",
       "1   None     None  \n",
       "2  12678  12655\\n  \n",
       "3   5398   5384\\n  \n",
       "4   1626   1620\\n  \n",
       "\n",
       "[5 rows x 23 columns]"
      ]
     },
     "execution_count": 27,
     "metadata": {},
     "output_type": "execute_result"
    }
   ],
   "source": [
    "popul = pd.DataFrame(content1, columns=headings1)\n",
    "popul.head()\n"
   ]
  },
  {
   "cell_type": "markdown",
   "metadata": {},
   "source": [
    "Дата-фрейм получился, но из-за особенностей таблицы, строки поползли - первые две строки с пропусками мы просто удалим и сверимся с исходной таблицей: данные, которые нам нужны за 2018 год попали в колонку 2016. Так как эта таблица целиком нас мало интересует просто отрежем все лишнее и переименуем столбцы"
   ]
  },
  {
   "cell_type": "code",
   "execution_count": 28,
   "metadata": {},
   "outputs": [
    {
     "data": {
      "text/html": [
       "<div>\n",
       "<style scoped>\n",
       "    .dataframe tbody tr th:only-of-type {\n",
       "        vertical-align: middle;\n",
       "    }\n",
       "\n",
       "    .dataframe tbody tr th {\n",
       "        vertical-align: top;\n",
       "    }\n",
       "\n",
       "    .dataframe thead th {\n",
       "        text-align: right;\n",
       "    }\n",
       "</style>\n",
       "<table border=\"1\" class=\"dataframe\">\n",
       "  <thead>\n",
       "    <tr style=\"text-align: right;\">\n",
       "      <th></th>\n",
       "      <th>city</th>\n",
       "      <th>2018</th>\n",
       "    </tr>\n",
       "  </thead>\n",
       "  <tbody>\n",
       "    <tr>\n",
       "      <th>2</th>\n",
       "      <td>Москва[18]</td>\n",
       "      <td>12506</td>\n",
       "    </tr>\n",
       "    <tr>\n",
       "      <th>3</th>\n",
       "      <td>Санкт-Петербург</td>\n",
       "      <td>5352</td>\n",
       "    </tr>\n",
       "    <tr>\n",
       "      <th>4</th>\n",
       "      <td>Новосибирск</td>\n",
       "      <td>1613</td>\n",
       "    </tr>\n",
       "    <tr>\n",
       "      <th>5</th>\n",
       "      <td>Екатеринбург</td>\n",
       "      <td>1469</td>\n",
       "    </tr>\n",
       "    <tr>\n",
       "      <th>6</th>\n",
       "      <td>Казань</td>\n",
       "      <td>1244</td>\n",
       "    </tr>\n",
       "    <tr>\n",
       "      <th>7</th>\n",
       "      <td>Нижний Новгород</td>\n",
       "      <td>1259</td>\n",
       "    </tr>\n",
       "    <tr>\n",
       "      <th>8</th>\n",
       "      <td>Челябинск</td>\n",
       "      <td>1202</td>\n",
       "    </tr>\n",
       "    <tr>\n",
       "      <th>9</th>\n",
       "      <td>Самара</td>\n",
       "      <td>1163</td>\n",
       "    </tr>\n",
       "    <tr>\n",
       "      <th>10</th>\n",
       "      <td>Омск</td>\n",
       "      <td>1172</td>\n",
       "    </tr>\n",
       "    <tr>\n",
       "      <th>11</th>\n",
       "      <td>Ростов-на-Дону</td>\n",
       "      <td>1130</td>\n",
       "    </tr>\n",
       "  </tbody>\n",
       "</table>\n",
       "</div>"
      ],
      "text/plain": [
       "               city   2018\n",
       "2        Москва[18]  12506\n",
       "3   Санкт-Петербург   5352\n",
       "4       Новосибирск   1613\n",
       "5      Екатеринбург   1469\n",
       "6            Казань   1244\n",
       "7   Нижний Новгород   1259\n",
       "8         Челябинск   1202\n",
       "9            Самара   1163\n",
       "10             Омск   1172\n",
       "11   Ростов-на-Дону   1130"
      ]
     },
     "execution_count": 28,
     "metadata": {},
     "output_type": "execute_result"
    }
   ],
   "source": [
    "popul_good = popul.loc[:,[\"Население, тыс. человек\\n\", '2016']].dropna()\n",
    "popul_good.columns = ['city', '2018'] \n",
    "popul_good.head(10)"
   ]
  },
  {
   "cell_type": "markdown",
   "metadata": {},
   "source": [
    "Теперь мы получили данные, которыенам нужны, но их нужно немного обработать - убрать цифры (и кое-где иностранные буквы) из названий и певести колличесвто тысяч людей в целочисленный тип "
   ]
  },
  {
   "cell_type": "code",
   "execution_count": 29,
   "metadata": {},
   "outputs": [
    {
     "data": {
      "text/html": [
       "<div>\n",
       "<style scoped>\n",
       "    .dataframe tbody tr th:only-of-type {\n",
       "        vertical-align: middle;\n",
       "    }\n",
       "\n",
       "    .dataframe tbody tr th {\n",
       "        vertical-align: top;\n",
       "    }\n",
       "\n",
       "    .dataframe thead th {\n",
       "        text-align: right;\n",
       "    }\n",
       "</style>\n",
       "<table border=\"1\" class=\"dataframe\">\n",
       "  <thead>\n",
       "    <tr style=\"text-align: right;\">\n",
       "      <th></th>\n",
       "      <th>city</th>\n",
       "      <th>2018</th>\n",
       "    </tr>\n",
       "  </thead>\n",
       "  <tbody>\n",
       "    <tr>\n",
       "      <th>2</th>\n",
       "      <td>Москва</td>\n",
       "      <td>12506</td>\n",
       "    </tr>\n",
       "    <tr>\n",
       "      <th>3</th>\n",
       "      <td>СанктПетербург</td>\n",
       "      <td>5352</td>\n",
       "    </tr>\n",
       "    <tr>\n",
       "      <th>4</th>\n",
       "      <td>Новосибирск</td>\n",
       "      <td>1613</td>\n",
       "    </tr>\n",
       "    <tr>\n",
       "      <th>5</th>\n",
       "      <td>Екатеринбург</td>\n",
       "      <td>1469</td>\n",
       "    </tr>\n",
       "    <tr>\n",
       "      <th>6</th>\n",
       "      <td>Казань</td>\n",
       "      <td>1244</td>\n",
       "    </tr>\n",
       "    <tr>\n",
       "      <th>...</th>\n",
       "      <td>...</td>\n",
       "      <td>...</td>\n",
       "    </tr>\n",
       "    <tr>\n",
       "      <th>168</th>\n",
       "      <td>ХантыМансийск</td>\n",
       "      <td>98</td>\n",
       "    </tr>\n",
       "    <tr>\n",
       "      <th>169</th>\n",
       "      <td>Ногинск</td>\n",
       "      <td>103</td>\n",
       "    </tr>\n",
       "    <tr>\n",
       "      <th>170</th>\n",
       "      <td>Елец</td>\n",
       "      <td>104</td>\n",
       "    </tr>\n",
       "    <tr>\n",
       "      <th>171</th>\n",
       "      <td>Железногорск</td>\n",
       "      <td>101</td>\n",
       "    </tr>\n",
       "    <tr>\n",
       "      <th>172</th>\n",
       "      <td>Зеленодольск</td>\n",
       "      <td>99</td>\n",
       "    </tr>\n",
       "  </tbody>\n",
       "</table>\n",
       "<p>171 rows × 2 columns</p>\n",
       "</div>"
      ],
      "text/plain": [
       "               city   2018\n",
       "2            Москва  12506\n",
       "3    СанктПетербург   5352\n",
       "4       Новосибирск   1613\n",
       "5      Екатеринбург   1469\n",
       "6            Казань   1244\n",
       "..              ...    ...\n",
       "168   ХантыМансийск     98\n",
       "169         Ногинск    103\n",
       "170            Елец    104\n",
       "171    Железногорск    101\n",
       "172    Зеленодольск     99\n",
       "\n",
       "[171 rows x 2 columns]"
      ]
     },
     "execution_count": 29,
     "metadata": {},
     "output_type": "execute_result"
    }
   ],
   "source": [
    "popul_good['city'] = popul_good['city'].apply(lambda x: ''.join(re.findall('[А-я]', x)))\n",
    "popul_good['2018'] = popul_good['2018'].apply(lambda x: int(x))\n",
    "popul_good"
   ]
  },
  {
   "cell_type": "markdown",
   "metadata": {},
   "source": [
    "Теперь объеденим нашу исходную таблицу с таблицей с населением по столбцу с названием грода"
   ]
  },
  {
   "cell_type": "code",
   "execution_count": 30,
   "metadata": {},
   "outputs": [
    {
     "data": {
      "text/html": [
       "<div>\n",
       "<style scoped>\n",
       "    .dataframe tbody tr th:only-of-type {\n",
       "        vertical-align: middle;\n",
       "    }\n",
       "\n",
       "    .dataframe tbody tr th {\n",
       "        vertical-align: top;\n",
       "    }\n",
       "\n",
       "    .dataframe thead th {\n",
       "        text-align: right;\n",
       "    }\n",
       "</style>\n",
       "<table border=\"1\" class=\"dataframe\">\n",
       "  <thead>\n",
       "    <tr style=\"text-align: right;\">\n",
       "      <th></th>\n",
       "      <th>city</th>\n",
       "      <th>average_flights</th>\n",
       "      <th>2018</th>\n",
       "    </tr>\n",
       "  </thead>\n",
       "  <tbody>\n",
       "    <tr>\n",
       "      <th>0</th>\n",
       "      <td>Абакан</td>\n",
       "      <td>3.900391</td>\n",
       "      <td>184.0</td>\n",
       "    </tr>\n",
       "    <tr>\n",
       "      <th>1</th>\n",
       "      <td>Анадырь</td>\n",
       "      <td>1.000000</td>\n",
       "      <td>NaN</td>\n",
       "    </tr>\n",
       "    <tr>\n",
       "      <th>2</th>\n",
       "      <td>Анапа</td>\n",
       "      <td>2.199219</td>\n",
       "      <td>NaN</td>\n",
       "    </tr>\n",
       "    <tr>\n",
       "      <th>3</th>\n",
       "      <td>Архангельск</td>\n",
       "      <td>5.398438</td>\n",
       "      <td>350.0</td>\n",
       "    </tr>\n",
       "    <tr>\n",
       "      <th>4</th>\n",
       "      <td>Астрахань</td>\n",
       "      <td>2.500000</td>\n",
       "      <td>534.0</td>\n",
       "    </tr>\n",
       "    <tr>\n",
       "      <th>...</th>\n",
       "      <td>...</td>\n",
       "      <td>...</td>\n",
       "      <td>...</td>\n",
       "    </tr>\n",
       "    <tr>\n",
       "      <th>96</th>\n",
       "      <td>Чита</td>\n",
       "      <td>1.599609</td>\n",
       "      <td>349.0</td>\n",
       "    </tr>\n",
       "    <tr>\n",
       "      <th>97</th>\n",
       "      <td>Элиста</td>\n",
       "      <td>4.898438</td>\n",
       "      <td>103.0</td>\n",
       "    </tr>\n",
       "    <tr>\n",
       "      <th>98</th>\n",
       "      <td>Южно-Сахалинск</td>\n",
       "      <td>4.300781</td>\n",
       "      <td>NaN</td>\n",
       "    </tr>\n",
       "    <tr>\n",
       "      <th>99</th>\n",
       "      <td>Якутск</td>\n",
       "      <td>2.699219</td>\n",
       "      <td>312.0</td>\n",
       "    </tr>\n",
       "    <tr>\n",
       "      <th>100</th>\n",
       "      <td>Ярославль</td>\n",
       "      <td>1.299805</td>\n",
       "      <td>609.0</td>\n",
       "    </tr>\n",
       "  </tbody>\n",
       "</table>\n",
       "<p>101 rows × 3 columns</p>\n",
       "</div>"
      ],
      "text/plain": [
       "               city  average_flights   2018\n",
       "0            Абакан         3.900391  184.0\n",
       "1           Анадырь         1.000000    NaN\n",
       "2             Анапа         2.199219    NaN\n",
       "3       Архангельск         5.398438  350.0\n",
       "4         Астрахань         2.500000  534.0\n",
       "..              ...              ...    ...\n",
       "96             Чита         1.599609  349.0\n",
       "97           Элиста         4.898438  103.0\n",
       "98   Южно-Сахалинск         4.300781    NaN\n",
       "99           Якутск         2.699219  312.0\n",
       "100       Ярославль         1.299805  609.0\n",
       "\n",
       "[101 rows x 3 columns]"
      ]
     },
     "metadata": {},
     "output_type": "display_data"
    },
    {
     "name": "stdout",
     "output_type": "stream",
     "text": [
      "<class 'pandas.core.frame.DataFrame'>\n",
      "Int64Index: 101 entries, 0 to 100\n",
      "Data columns (total 3 columns):\n",
      " #   Column           Non-Null Count  Dtype  \n",
      "---  ------           --------------  -----  \n",
      " 0   city             101 non-null    object \n",
      " 1   average_flights  101 non-null    float16\n",
      " 2   2018             67 non-null     float64\n",
      "dtypes: float16(1), float64(1), object(1)\n",
      "memory usage: 2.6+ KB\n"
     ]
    }
   ],
   "source": [
    "cities_enriched = cities.merge(popul_good, on='city', how='left')\n",
    "display(cities_enriched)\n",
    "cities_enriched.info()"
   ]
  },
  {
   "cell_type": "markdown",
   "metadata": {},
   "source": [
    "В таблице оказалось довольно много пропусков, так как данные о населении у нас были изначально по городам больше 100 населения, а аэропорты могут быть и в более маленьких городах. Но для того, чтобы увидеть есть корреляция или нет, нам хватит и 67 "
   ]
  },
  {
   "cell_type": "code",
   "execution_count": 31,
   "metadata": {},
   "outputs": [
    {
     "data": {
      "text/html": [
       "<div>\n",
       "<style scoped>\n",
       "    .dataframe tbody tr th:only-of-type {\n",
       "        vertical-align: middle;\n",
       "    }\n",
       "\n",
       "    .dataframe tbody tr th {\n",
       "        vertical-align: top;\n",
       "    }\n",
       "\n",
       "    .dataframe thead th {\n",
       "        text-align: right;\n",
       "    }\n",
       "</style>\n",
       "<table border=\"1\" class=\"dataframe\">\n",
       "  <thead>\n",
       "    <tr style=\"text-align: right;\">\n",
       "      <th></th>\n",
       "      <th>average_flights</th>\n",
       "      <th>2018</th>\n",
       "    </tr>\n",
       "  </thead>\n",
       "  <tbody>\n",
       "    <tr>\n",
       "      <th>average_flights</th>\n",
       "      <td>1.00000</td>\n",
       "      <td>0.98006</td>\n",
       "    </tr>\n",
       "    <tr>\n",
       "      <th>2018</th>\n",
       "      <td>0.98006</td>\n",
       "      <td>1.00000</td>\n",
       "    </tr>\n",
       "  </tbody>\n",
       "</table>\n",
       "</div>"
      ],
      "text/plain": [
       "                 average_flights     2018\n",
       "average_flights          1.00000  0.98006\n",
       "2018                     0.98006  1.00000"
      ]
     },
     "execution_count": 31,
     "metadata": {},
     "output_type": "execute_result"
    }
   ],
   "source": [
    "cities_enriched.corr()"
   ]
  },
  {
   "cell_type": "markdown",
   "metadata": {},
   "source": [
    "Получилась прямая зависимость между населением города и колличесвом рейсов туда. То есть в большие города часта летаютсамолеты, а в маленькие реже. Это подтверждает утрверждение выдвинутое в блоке про исследование городов - туда, где много людей живет, часто летают и наоборот: в маленьком городе не так много людей вообще, поэтому потенциальных пассажиров тоже в разы меньше. "
   ]
  },
  {
   "cell_type": "markdown",
   "metadata": {},
   "source": [
    "#### Вывод <a id='Вывод'></a>"
   ]
  },
  {
   "cell_type": "markdown",
   "metadata": {},
   "source": [
    "В работе были проанализирваны резултаты двух запросов - о городах, куда летают самолеты F9 и о моделях этой компании. Москва несомненный лидер по среднему колличесву прибывающих рейсов в день - почти каждый четвертый самолет кажды день прилетает в Москву. Что касается моделей, по данным на сентябрь 2018 года - большинтсво рейсов за крошечным однодвигательным самолетом Цессна 208 Караван, хотя по пассажиропотоку лидерсво за Сухим Суперджетом"
   ]
  }
 ],
 "metadata": {
  "kernelspec": {
   "display_name": "Python 3",
   "language": "python",
   "name": "python3"
  },
  "language_info": {
   "codemirror_mode": {
    "name": "ipython",
    "version": 3
   },
   "file_extension": ".py",
   "mimetype": "text/x-python",
   "name": "python",
   "nbconvert_exporter": "python",
   "pygments_lexer": "ipython3",
   "version": "3.8.3"
  },
  "toc": {
   "base_numbering": 1,
   "nav_menu": {},
   "number_sections": true,
   "sideBar": true,
   "skip_h1_title": false,
   "title_cell": "Table of Contents",
   "title_sidebar": "Contents",
   "toc_cell": false,
   "toc_position": {},
   "toc_section_display": true,
   "toc_window_display": false
  }
 },
 "nbformat": 4,
 "nbformat_minor": 2
}
